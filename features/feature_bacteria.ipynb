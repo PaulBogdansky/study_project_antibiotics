{
 "cells": [
  {
   "cell_type": "code",
   "execution_count": 2,
   "metadata": {},
   "outputs": [],
   "source": [
    "import pandas as pd"
   ]
  },
  {
   "cell_type": "code",
   "execution_count": 3,
   "metadata": {},
   "outputs": [],
   "source": [
    "def generate_bacteria_features(bacteria_str: str) -> dict:\n",
    "    \"\"\"\n",
    "    Генерирует фичи на основе штамма S. aureus.\n",
    "    \n",
    "    Параметры:\n",
    "    bacteria_str: str - строка с описанием штамма\n",
    "    \n",
    "    Возвращает:\n",
    "    dict - словарь с бинарными и категориальными фичами. None заменены на подходящие значения.\n",
    "    \"\"\"\n",
    "    features = {}\n",
    "    \n",
    "    # Бинарные признаки: MRSA, MSSA\n",
    "    features['is_mrsa'] = 1 if 'MRSA' in bacteria_str else 0\n",
    "    features['is_mssa'] = 1 if 'MSSA' in bacteria_str else 0\n",
    "    \n",
    "    # Бинарные признаки: ATCC, MTCC, CIP коллекции\n",
    "    features['is_atcc'] = 1 if 'ATCC' in bacteria_str else 0\n",
    "    features['is_mtcc'] = 1 if 'MTCC' in bacteria_str else 0\n",
    "    features['is_cip'] = 1 if 'CIP' in bacteria_str else 0\n",
    "    \n",
    "    return features\n",
    "\n",
    "def add_bacteria_features_to_dataset(df: pd.DataFrame, bacteria_column: str) -> pd.DataFrame:\n",
    "    \"\"\"\n",
    "    Добавляет фичи на основе штаммов бактерий к каждому элементу в датасете.\n",
    "    \n",
    "    Параметры:\n",
    "    df: pd.DataFrame - исходный DataFrame.\n",
    "    bacteria_column: str - название столбца с информацией о штаммах бактерий.\n",
    "    \n",
    "    Возвращает:\n",
    "    pd.DataFrame - исходный DataFrame с добавленными фичами.\n",
    "    \"\"\"\n",
    "    bacteria_features_list = []\n",
    "\n",
    "    # Проходим по каждому штамму бактерий в датасете\n",
    "    for bacteria_info in df[bacteria_column]:\n",
    "        features = generate_bacteria_features(bacteria_info)  # Генерация фичей для каждого штамма\n",
    "        bacteria_features_list.append(features)\n",
    "\n",
    "    # Преобразуем список фичей в DataFrame\n",
    "    features_df = pd.DataFrame(bacteria_features_list)\n",
    "\n",
    "    # Объединяем с исходным DataFrame\n",
    "    df_with_features = pd.concat([df, features_df], axis=1)\n",
    "    \n",
    "    return df_with_features\n",
    "    "
   ]
  },
  {
   "cell_type": "code",
   "execution_count": null,
   "metadata": {},
   "outputs": [],
   "source": [
    "df_with_features_rdkit_and_graph = pd.read_csv('../data/df_with_features_rdkit_and_graph.csv')\n",
    "\n",
    "df_with_features_rdkit_and_graph.head()"
   ]
  },
  {
   "cell_type": "code",
   "execution_count": 7,
   "metadata": {},
   "outputs": [],
   "source": [
    "df_with_features_descriptors_and_bacteria = add_bacteria_features_to_dataset(df_with_features_rdkit_and_graph, 'bacteria')"
   ]
  },
  {
   "cell_type": "code",
   "execution_count": 9,
   "metadata": {},
   "outputs": [],
   "source": [
    "df_with_features_descriptors_and_bacteria.to_csv('../data/df_with_features_descriptors_and_bacteria.csv', index=False)"
   ]
  }
 ],
 "metadata": {
  "kernelspec": {
   "display_name": "Python 3",
   "language": "python",
   "name": "python3"
  },
  "language_info": {
   "codemirror_mode": {
    "name": "ipython",
    "version": 3
   },
   "file_extension": ".py",
   "mimetype": "text/x-python",
   "name": "python",
   "nbconvert_exporter": "python",
   "pygments_lexer": "ipython3",
   "version": "3.12.5"
  }
 },
 "nbformat": 4,
 "nbformat_minor": 2
}
