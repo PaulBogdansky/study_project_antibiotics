{
 "cells": [
  {
   "cell_type": "code",
   "execution_count": 94,
   "metadata": {},
   "outputs": [
    {
     "name": "stdout",
     "output_type": "stream",
     "text": [
      "Requirement already satisfied: plotly in /Library/Frameworks/Python.framework/Versions/3.12/lib/python3.12/site-packages (5.24.1)\n",
      "Requirement already satisfied: tenacity>=6.2.0 in /Library/Frameworks/Python.framework/Versions/3.12/lib/python3.12/site-packages (from plotly) (9.0.0)\n",
      "Requirement already satisfied: packaging in /Users/strateford/Library/Python/3.12/lib/python/site-packages (from plotly) (24.1)\n",
      "Note: you may need to restart the kernel to use updated packages.\n",
      "Requirement already satisfied: nbformat in /Library/Frameworks/Python.framework/Versions/3.12/lib/python3.12/site-packages (5.10.4)\n",
      "Requirement already satisfied: fastjsonschema>=2.15 in /Library/Frameworks/Python.framework/Versions/3.12/lib/python3.12/site-packages (from nbformat) (2.20.0)\n",
      "Requirement already satisfied: jsonschema>=2.6 in /Library/Frameworks/Python.framework/Versions/3.12/lib/python3.12/site-packages (from nbformat) (4.23.0)\n",
      "Requirement already satisfied: jupyter-core!=5.0.*,>=4.12 in /Users/strateford/Library/Python/3.12/lib/python/site-packages (from nbformat) (5.7.2)\n",
      "Requirement already satisfied: traitlets>=5.1 in /Users/strateford/Library/Python/3.12/lib/python/site-packages (from nbformat) (5.14.3)\n",
      "Requirement already satisfied: attrs>=22.2.0 in /Library/Frameworks/Python.framework/Versions/3.12/lib/python3.12/site-packages (from jsonschema>=2.6->nbformat) (24.2.0)\n",
      "Requirement already satisfied: jsonschema-specifications>=2023.03.6 in /Library/Frameworks/Python.framework/Versions/3.12/lib/python3.12/site-packages (from jsonschema>=2.6->nbformat) (2023.12.1)\n",
      "Requirement already satisfied: referencing>=0.28.4 in /Library/Frameworks/Python.framework/Versions/3.12/lib/python3.12/site-packages (from jsonschema>=2.6->nbformat) (0.35.1)\n",
      "Requirement already satisfied: rpds-py>=0.7.1 in /Library/Frameworks/Python.framework/Versions/3.12/lib/python3.12/site-packages (from jsonschema>=2.6->nbformat) (0.20.0)\n",
      "Requirement already satisfied: platformdirs>=2.5 in /Users/strateford/Library/Python/3.12/lib/python/site-packages (from jupyter-core!=5.0.*,>=4.12->nbformat) (4.3.2)\n",
      "Note: you may need to restart the kernel to use updated packages.\n",
      "Requirement already satisfied: seaborn in /Library/Frameworks/Python.framework/Versions/3.12/lib/python3.12/site-packages (0.13.2)\n",
      "Requirement already satisfied: numpy!=1.24.0,>=1.20 in /Library/Frameworks/Python.framework/Versions/3.12/lib/python3.12/site-packages (from seaborn) (2.1.1)\n",
      "Requirement already satisfied: pandas>=1.2 in /Library/Frameworks/Python.framework/Versions/3.12/lib/python3.12/site-packages (from seaborn) (2.2.2)\n",
      "Requirement already satisfied: matplotlib!=3.6.1,>=3.4 in /Library/Frameworks/Python.framework/Versions/3.12/lib/python3.12/site-packages (from seaborn) (3.9.2)\n",
      "Requirement already satisfied: contourpy>=1.0.1 in /Library/Frameworks/Python.framework/Versions/3.12/lib/python3.12/site-packages (from matplotlib!=3.6.1,>=3.4->seaborn) (1.3.0)\n",
      "Requirement already satisfied: cycler>=0.10 in /Library/Frameworks/Python.framework/Versions/3.12/lib/python3.12/site-packages (from matplotlib!=3.6.1,>=3.4->seaborn) (0.12.1)\n",
      "Requirement already satisfied: fonttools>=4.22.0 in /Library/Frameworks/Python.framework/Versions/3.12/lib/python3.12/site-packages (from matplotlib!=3.6.1,>=3.4->seaborn) (4.53.1)\n",
      "Requirement already satisfied: kiwisolver>=1.3.1 in /Library/Frameworks/Python.framework/Versions/3.12/lib/python3.12/site-packages (from matplotlib!=3.6.1,>=3.4->seaborn) (1.4.7)\n",
      "Requirement already satisfied: packaging>=20.0 in /Users/strateford/Library/Python/3.12/lib/python/site-packages (from matplotlib!=3.6.1,>=3.4->seaborn) (24.1)\n",
      "Requirement already satisfied: pillow>=8 in /Library/Frameworks/Python.framework/Versions/3.12/lib/python3.12/site-packages (from matplotlib!=3.6.1,>=3.4->seaborn) (10.4.0)\n",
      "Requirement already satisfied: pyparsing>=2.3.1 in /Library/Frameworks/Python.framework/Versions/3.12/lib/python3.12/site-packages (from matplotlib!=3.6.1,>=3.4->seaborn) (3.1.4)\n",
      "Requirement already satisfied: python-dateutil>=2.7 in /Users/strateford/Library/Python/3.12/lib/python/site-packages (from matplotlib!=3.6.1,>=3.4->seaborn) (2.9.0.post0)\n",
      "Requirement already satisfied: pytz>=2020.1 in /Library/Frameworks/Python.framework/Versions/3.12/lib/python3.12/site-packages (from pandas>=1.2->seaborn) (2024.2)\n",
      "Requirement already satisfied: tzdata>=2022.7 in /Library/Frameworks/Python.framework/Versions/3.12/lib/python3.12/site-packages (from pandas>=1.2->seaborn) (2024.1)\n",
      "Requirement already satisfied: six>=1.5 in /Users/strateford/Library/Python/3.12/lib/python/site-packages (from python-dateutil>=2.7->matplotlib!=3.6.1,>=3.4->seaborn) (1.16.0)\n",
      "Note: you may need to restart the kernel to use updated packages.\n"
     ]
    }
   ],
   "source": [
    "import pandas as pd\n",
    "import numpy as np\n",
    "%pip install plotly\n",
    "%pip install nbformat --upgrade\n",
    "%pip install seaborn\n"
   ]
  },
  {
   "cell_type": "code",
   "execution_count": 95,
   "metadata": {},
   "outputs": [],
   "source": [
    "import plotly.express as px\n",
    "import nbformat\n",
    "import plotly.graph_objs as go\n",
    "import scipy.stats as stats\n",
    "from scipy.stats import norm\n",
    "import matplotlib.pyplot as plt\n",
    "import seaborn as sns\n",
    "\n"
   ]
  },
  {
   "cell_type": "code",
   "execution_count": 3,
   "metadata": {},
   "outputs": [],
   "source": [
    "ds_cleaned = pd.read_csv('/Users/strateford/Desktop/ITMO/1st_term/prog_for_chemists/study_project_antibiotics/data/df_cleaned_antibody.csv')"
   ]
  },
  {
   "cell_type": "code",
   "execution_count": 36,
   "metadata": {},
   "outputs": [
    {
     "data": {
      "text/html": [
       "<div>\n",
       "<style scoped>\n",
       "    .dataframe tbody tr th:only-of-type {\n",
       "        vertical-align: middle;\n",
       "    }\n",
       "\n",
       "    .dataframe tbody tr th {\n",
       "        vertical-align: top;\n",
       "    }\n",
       "\n",
       "    .dataframe thead th {\n",
       "        text-align: right;\n",
       "    }\n",
       "</style>\n",
       "<table border=\"1\" class=\"dataframe\">\n",
       "  <thead>\n",
       "    <tr style=\"text-align: right;\">\n",
       "      <th></th>\n",
       "      <th>SMILES</th>\n",
       "      <th>bacteria</th>\n",
       "      <th>MIC (µg/mL)</th>\n",
       "      <th>MIC (µmol/mL)</th>\n",
       "      <th>log MIC</th>\n",
       "      <th>S. aureus</th>\n",
       "      <th>molar_mass</th>\n",
       "    </tr>\n",
       "  </thead>\n",
       "  <tbody>\n",
       "    <tr>\n",
       "      <th>0</th>\n",
       "      <td>N#CC=1C(=O)N(N=C(C2=NC=3C=CC=CC3N2)C)C(N=CC=4C...</td>\n",
       "      <td>Methicillin-resistant S. aureus (ATCC 43300)</td>\n",
       "      <td>50.00</td>\n",
       "      <td>0.089133</td>\n",
       "      <td>1.950037</td>\n",
       "      <td>+</td>\n",
       "      <td>560.961</td>\n",
       "    </tr>\n",
       "    <tr>\n",
       "      <th>1</th>\n",
       "      <td>N#CC=1C(=O)N(N=C(C2=NC=3C=CC=CC3N2)C)C(N=CC=4C...</td>\n",
       "      <td>Methicillin-resistant S. aureus (ATCC 43300)</td>\n",
       "      <td>12.50</td>\n",
       "      <td>0.020647</td>\n",
       "      <td>1.314859</td>\n",
       "      <td>+</td>\n",
       "      <td>605.412</td>\n",
       "    </tr>\n",
       "    <tr>\n",
       "      <th>2</th>\n",
       "      <td>N#CC=1C(=O)N(N=C(C2=NC=3C=CC=CC3N2)C)C(N=CC4=C...</td>\n",
       "      <td>Methicillin-resistant S. aureus (ATCC 43300)</td>\n",
       "      <td>6.25</td>\n",
       "      <td>0.010324</td>\n",
       "      <td>1.013829</td>\n",
       "      <td>+</td>\n",
       "      <td>605.412</td>\n",
       "    </tr>\n",
       "    <tr>\n",
       "      <th>3</th>\n",
       "      <td>ClC1=CC=2N=C(Cl)N(C2C=C1Cl)C3CCCC3</td>\n",
       "      <td>methicillin-resistant S. aureus (MRSA)</td>\n",
       "      <td>6.25</td>\n",
       "      <td>0.021582</td>\n",
       "      <td>1.334092</td>\n",
       "      <td>+</td>\n",
       "      <td>289.593</td>\n",
       "    </tr>\n",
       "    <tr>\n",
       "      <th>4</th>\n",
       "      <td>ClC1=CC=2N=C(Br)N(C2C=C1Cl)C3CCCC3</td>\n",
       "      <td>methicillin-resistant S. aureus (MRSA)</td>\n",
       "      <td>6.25</td>\n",
       "      <td>0.018710</td>\n",
       "      <td>1.272076</td>\n",
       "      <td>+</td>\n",
       "      <td>334.044</td>\n",
       "    </tr>\n",
       "    <tr>\n",
       "      <th>...</th>\n",
       "      <td>...</td>\n",
       "      <td>...</td>\n",
       "      <td>...</td>\n",
       "      <td>...</td>\n",
       "      <td>...</td>\n",
       "      <td>...</td>\n",
       "      <td>...</td>\n",
       "    </tr>\n",
       "    <tr>\n",
       "      <th>927</th>\n",
       "      <td>N(=N/C1C(=O)N(N=C1C)C2=CC(Cl)=CC=C2)\\C3=CC=C(C...</td>\n",
       "      <td>Staphylococcus aureus ATCC 9144</td>\n",
       "      <td>125.00</td>\n",
       "      <td>0.291455</td>\n",
       "      <td>2.464571</td>\n",
       "      <td>+</td>\n",
       "      <td>428.883</td>\n",
       "    </tr>\n",
       "    <tr>\n",
       "      <th>928</th>\n",
       "      <td>N(=N/C1C(=O)N(N=C1C)C2=CC(F)=CC=C2)\\C3=CC=C(C=...</td>\n",
       "      <td>Staphylococcus aureus ATCC 9144</td>\n",
       "      <td>15.62</td>\n",
       "      <td>0.037873</td>\n",
       "      <td>1.578333</td>\n",
       "      <td>+</td>\n",
       "      <td>412.428</td>\n",
       "    </tr>\n",
       "    <tr>\n",
       "      <th>929</th>\n",
       "      <td>FC1=CC=C(C=C1)C2N(N=C(C=3C=CC(=CC3)NCN4C=NC=5C...</td>\n",
       "      <td>Staphylococcus aureus ATCC 9144</td>\n",
       "      <td>15.62</td>\n",
       "      <td>0.033843</td>\n",
       "      <td>1.529468</td>\n",
       "      <td>+</td>\n",
       "      <td>461.544</td>\n",
       "    </tr>\n",
       "    <tr>\n",
       "      <th>930</th>\n",
       "      <td>FC(F)(F)C1=CC=C(C=C1)C2N(N=C(C=3C=CC(=CC3)NCN4...</td>\n",
       "      <td>Staphylococcus aureus ATCC 9144</td>\n",
       "      <td>15.62</td>\n",
       "      <td>0.030535</td>\n",
       "      <td>1.484792</td>\n",
       "      <td>+</td>\n",
       "      <td>511.551</td>\n",
       "    </tr>\n",
       "    <tr>\n",
       "      <th>931</th>\n",
       "      <td>O=C(N1N=C(C=C1C)C)CN2C=3C=CC=CC3N=C2C4CC(=O)N(...</td>\n",
       "      <td>Staphylococcus aureus ATCC 9144</td>\n",
       "      <td>250.00</td>\n",
       "      <td>0.579413</td>\n",
       "      <td>2.762988</td>\n",
       "      <td>+</td>\n",
       "      <td>431.471</td>\n",
       "    </tr>\n",
       "  </tbody>\n",
       "</table>\n",
       "<p>932 rows × 7 columns</p>\n",
       "</div>"
      ],
      "text/plain": [
       "                                                SMILES  \\\n",
       "0    N#CC=1C(=O)N(N=C(C2=NC=3C=CC=CC3N2)C)C(N=CC=4C...   \n",
       "1    N#CC=1C(=O)N(N=C(C2=NC=3C=CC=CC3N2)C)C(N=CC=4C...   \n",
       "2    N#CC=1C(=O)N(N=C(C2=NC=3C=CC=CC3N2)C)C(N=CC4=C...   \n",
       "3                   ClC1=CC=2N=C(Cl)N(C2C=C1Cl)C3CCCC3   \n",
       "4                   ClC1=CC=2N=C(Br)N(C2C=C1Cl)C3CCCC3   \n",
       "..                                                 ...   \n",
       "927  N(=N/C1C(=O)N(N=C1C)C2=CC(Cl)=CC=C2)\\C3=CC=C(C...   \n",
       "928  N(=N/C1C(=O)N(N=C1C)C2=CC(F)=CC=C2)\\C3=CC=C(C=...   \n",
       "929  FC1=CC=C(C=C1)C2N(N=C(C=3C=CC(=CC3)NCN4C=NC=5C...   \n",
       "930  FC(F)(F)C1=CC=C(C=C1)C2N(N=C(C=3C=CC(=CC3)NCN4...   \n",
       "931  O=C(N1N=C(C=C1C)C)CN2C=3C=CC=CC3N=C2C4CC(=O)N(...   \n",
       "\n",
       "                                         bacteria  MIC (µg/mL)  MIC (µmol/mL)  \\\n",
       "0    Methicillin-resistant S. aureus (ATCC 43300)        50.00       0.089133   \n",
       "1    Methicillin-resistant S. aureus (ATCC 43300)        12.50       0.020647   \n",
       "2    Methicillin-resistant S. aureus (ATCC 43300)         6.25       0.010324   \n",
       "3          methicillin-resistant S. aureus (MRSA)         6.25       0.021582   \n",
       "4          methicillin-resistant S. aureus (MRSA)         6.25       0.018710   \n",
       "..                                            ...          ...            ...   \n",
       "927               Staphylococcus aureus ATCC 9144       125.00       0.291455   \n",
       "928               Staphylococcus aureus ATCC 9144        15.62       0.037873   \n",
       "929               Staphylococcus aureus ATCC 9144        15.62       0.033843   \n",
       "930               Staphylococcus aureus ATCC 9144        15.62       0.030535   \n",
       "931               Staphylococcus aureus ATCC 9144       250.00       0.579413   \n",
       "\n",
       "      log MIC S. aureus  molar_mass  \n",
       "0    1.950037         +     560.961  \n",
       "1    1.314859         +     605.412  \n",
       "2    1.013829         +     605.412  \n",
       "3    1.334092         +     289.593  \n",
       "4    1.272076         +     334.044  \n",
       "..        ...       ...         ...  \n",
       "927  2.464571         +     428.883  \n",
       "928  1.578333         +     412.428  \n",
       "929  1.529468         +     461.544  \n",
       "930  1.484792         +     511.551  \n",
       "931  2.762988         +     431.471  \n",
       "\n",
       "[932 rows x 7 columns]"
      ]
     },
     "execution_count": 36,
     "metadata": {},
     "output_type": "execute_result"
    }
   ],
   "source": [
    "ds_cleaned"
   ]
  },
  {
   "cell_type": "code",
   "execution_count": 5,
   "metadata": {},
   "outputs": [
    {
     "data": {
      "text/plain": [
       "array([[<Axes: title={'center': 'MIC (µg/mL)'}>,\n",
       "        <Axes: title={'center': 'MIC (µmol/mL)'}>],\n",
       "       [<Axes: title={'center': 'log MIC'}>,\n",
       "        <Axes: title={'center': 'molar_mass'}>]], dtype=object)"
      ]
     },
     "execution_count": 5,
     "metadata": {},
     "output_type": "execute_result"
    },
    {
     "data": {
      "image/png": "[encoded data removed]",
      "text/plain": [
       "<Figure size 640x480 with 4 Axes>"
      ]
     },
     "metadata": {},
     "output_type": "display_data"
    }
   ],
   "source": [
    "ds_cleaned.hist()"
   ]
  },
  {
   "cell_type": "code",
   "execution_count": 129,
   "metadata": {},
   "outputs": [
    {
     "data": {
      "application/vnd.plotly.v1+json": {
       "config": {
        "plotlyServerURL": "https://plot.ly"
       },
       "data": [
        {
         "marker": {
          "color": "skyblue",
          "line": {
           "color": "black",
           "width": 1.5
          }
         },
         "name": "Histogram",
         "nbinsx": 40,
         "type": "histogram",
         "x": [
          0.0891327561096047,
          0.0206470965226985,
          0.0103235482613492,
          0.0215820133773951,
          0.0187101100453832,
          0.0155115716324377,
          0.0034923944380126,
          0.0008522243054371,
          0.0016646496661545,
          2.494871382558316,
          0.7326887961579627,
          0.6782319341267231,
          1.4088188759716578,
          0.61332790282586,
          0.6268026697876212,
          0.6540038576008784,
          0.7044094379858288,
          1.3078607026175084,
          0.02116,
          0.0404099999999999,
          0.1482,
          0.03705,
          0.0798,
          0.0381899999999999,
          0.00915,
          0.0321749999999999,
          0.0593,
          0.0757999999999999,
          0.0363599999999999,
          0.0698,
          0.13447,
          0.03361,
          0.01833,
          0.01696,
          0.04412,
          0.03269,
          0.0326,
          0.07684,
          0.07367,
          0.03537,
          0.03402,
          0.03408,
          0.04218,
          0.01007,
          0.03854,
          0.03694,
          0.00923,
          0.04688,
          0.0376,
          0.009102,
          0.01732,
          0.06949,
          0.00415,
          0.0469799999999999,
          0.01698,
          0.01758,
          0.06731,
          0.0382999999999999,
          0.00912,
          0.000068,
          0.000031,
          0.000247,
          0.000033,
          0.000254,
          0.000016,
          0.000121,
          0.000059,
          0.000115,
          0.0002179999999999,
          0.000208,
          0.000242,
          0.000225,
          0.000249,
          0.00025,
          0.000247,
          0.00047,
          0.0002179999999999,
          0.000014,
          0.000107,
          0.000214,
          0.000006,
          0.000101,
          0.000219,
          0.000213,
          0.0002179999999999,
          0.000208,
          0.0002179999999999,
          0.6987338178979574,
          0.1673443240204473,
          0.1614237575415161,
          0.034681504570372,
          0.1497279163020947,
          0.0767588572525126,
          0.3118156195264786,
          0.0336581343296141,
          0.0362426353832318,
          0.0742602403711155,
          0.1507563729901112,
          0.0381376435226787,
          1.1439116864430814,
          0.5382210532733714,
          1.0164881525526346,
          0.9146074601243644,
          1.3637477492834988,
          1.3711102779711846,
          0.6016507793257747,
          0.5772448284726008,
          1.1544896569452017,
          1.1131862564981154,
          0.5565931282490577,
          1.1131862564981154,
          2.519077584637564,
          0.1532710190846365,
          2.7058164484045206,
          0.1585987797806379,
          0.0091857097912777,
          0.0011173933448052,
          0.0022247633964127,
          0.0342263560054419,
          0.0020664102940295,
          0.0605622447396012,
          0.0161785137203907,
          0.0002708576653802,
          0.0041711245560359,
          0.0010081824084267,
          0.0074020203814631,
          0.0039487141012529,
          0.0167525233488294,
          0.0325489709439404,
          0.1231666926471408,
          0.0599646208736844,
          0.0035606068698348,
          0.013564931937954,
          0.4143668765478061,
          0.1823434552945133,
          0.2614640762658026,
          0.0039715793779712,
          0.1203840250398771,
          0.2345787387360969,
          0.0017430317946429,
          0.1063534557395137,
          0.1016161734842121,
          0.08963798857956,
          0.0002177487910587,
          0.0034839806569393,
          0.4591096500902975,
          0.0573887062612871,
          0.0286943531306435,
          0.0002054228341448,
          0.0136843833816848,
          0.0068251582156988,
          0.0008531447769623,
          0.0004388952479933,
          0.0140446479357878,
          0.0070223239678939,
          0.0002014465473673,
          0.0033522231105613,
          0.0345189886799291,
          0.0084117731176554,
          0.0010764239474188,
          0.0005246457591833,
          0.2686186287019003,
          0.1310071378420258,
          0.0050325859943131,
          0.0777761844462213,
          0.0024246832757471,
          0.550056187380078,
          0.0194440461115553,
          0.0047007502397382,
          0.0023395315322059,
          0.1540683678382282,
          0.2687348049363224,
          0.0390795782336519,
          0.151140163609227,
          0.1340544344788005,
          0.6045606544369081,
          0.2925881478941652,
          0.0728187927099285,
          0.0023396683754044,
          0.2994775520517721,
          0.5597292309845112,
          0.5597292309845112,
          0.9729142201294434,
          0.2432285550323608,
          0.5189076992929882,
          1.0067285647432649,
          2.1486424105082045,
          1.06550349202121,
          2.412511131948338,
          1.2176791795886523,
          0.4427043703222058,
          0.6088395897943262,
          1.06550349202121,
          2.283033759469908,
          0.1331496977085769,
          0.2675205029385455,
          1.070082011754182,
          0.5393879632204832,
          0.2174230611128663,
          1.074519614180301,
          1.3113074657446535,
          1.3113074657446535,
          1.0547610513001169,
          2.1095221026002333,
          0.4618371013948923,
          0.115459275348723,
          0.2454938453925791,
          0.9540988983139284,
          1.014596717621088,
          0.238524724578482,
          0.5657358543937344,
          1.141516879734954,
          0.4222206828759826,
          0.2853792199337385,
          0.5033642823716323,
          1.0743212052541022,
          0.1258069335346244,
          0.2527037325130991,
          1.0108149300523963,
          0.5092844950722747,
          0.4150669295423886,
          2.0295473554443006,
          2.5829234455795183,
          0.6117026360560472,
          0.6117026360560472,
          0.4762843864303601,
          0.2110873637826855,
          0.4348505540947294,
          0.2291451097211232,
          0.8029936607414518,
          0.0452934449061859,
          0.0232278594946779,
          0.1948753863252287,
          0.8142804432739164,
          0.0121448024799686,
          0.0452934449061859,
          0.1131645766583915,
          0.2181872728636397,
          0.0240360059368934,
          0.087127224807299,
          0.2022890267685276,
          0.7431426224225868,
          0.0465947941966183,
          0.1742544496145981,
          0.1742544496145981,
          0.0211734876174797,
          0.4439049765909484,
          0.2798646154922556,
          0.2798646154922556,
          0.4864571100647217,
          0.1216142775161804,
          0.2594538496464941,
          0.5033642823716323,
          1.0743212052541022,
          0.532751746010605,
          1.206255565974169,
          1.2176791795886523,
          0.2213521851611029,
          0.3044197948971631,
          0.532751746010605,
          1.141516879734954,
          0.0665748488542884,
          0.2675205029385455,
          0.535041005877091,
          0.2696939816102416,
          0.1087115305564331,
          0.5372598070901505,
          0.6556537328723268,
          0.6556537328723268,
          0.2636902628250291,
          1.0547610513001169,
          0.2309185506974461,
          0.0577296376743615,
          0.2454938453925791,
          0.4770494491569642,
          0.507298358810544,
          0.119262362289241,
          0.2828679271968672,
          0.570758439867477,
          0.2111103414379913,
          0.1426896099668692,
          0.2516821411858161,
          0.5371606026270511,
          0.0629034667673122,
          0.2527037325130991,
          0.5054074650261983,
          0.2546422475361373,
          0.2075334647711943,
          1.0147736777221503,
          1.2914617227897591,
          0.3058513180280236,
          0.3058513180280236,
          0.23814219321518,
          0.2110873637826855,
          0.4348505540947294,
          0.1145725548605616,
          0.2007484151853629,
          0.0226467224530929,
          0.0116139297473389,
          0.1948753863252287,
          0.8142804432739164,
          0.0121448024799686,
          0.0226467224530929,
          0.1131645766583915,
          0.1090936364318198,
          0.0120180029684467,
          0.087127224807299,
          0.2022890267685276,
          0.3715713112112934,
          0.0232973970983091,
          0.1742544496145981,
          0.087127224807299,
          0.0211734876174797,
          0.4439049765909484,
          0.1746834544744893,
          0.1673443240204473,
          0.1614237575415161,
          0.034681504570372,
          0.0374319790755236,
          0.0767588572525126,
          0.0779539048816196,
          0.016829067164807,
          0.0724852707664637,
          0.0742602403711155,
          0.3015127459802225,
          0.0201303439772527,
          0.0097220230557776,
          0.0012123416378735,
          0.550056187380078,
          0.1555523688924427,
          0.0047007502397382,
          0.0748650090305916,
          0.038517091959557,
          0.1343674024681612,
          0.1563183129346076,
          0.0094462602255766,
          0.268108868957601,
          0.0047231301127883,
          0.0182867592433853,
          0.0182046981774821,
          0.0187173470032357,
          0.0374346940064715,
          0.1746834544744893,
          0.1673443240204473,
          0.080711878770758,
          0.034681504570372,
          0.0748639581510473,
          0.3070354290100504,
          0.6236312390529573,
          0.0084145335824035,
          0.0362426353832318,
          0.0371301201855577,
          0.0753781864950556,
          0.0805213759090108,
          0.0388880922231106,
          0.0012123416378735,
          0.275028093690039,
          0.0097220230557776,
          0.1504240076716243,
          0.0187162522576479,
          0.038517091959557,
          0.1343674024681612,
          0.0781591564673038,
          0.0755700818046135,
          0.1340544344788005,
          0.151140163609227,
          0.1462940739470826,
          0.0045511745443705,
          0.074869388012943,
          0.0187173470032357,
          0.3493669089489787,
          0.3346886480408946,
          0.3228475150830322,
          0.008670376142593,
          0.0374319790755236,
          0.0383794286262563,
          0.1559078097632393,
          0.0084145335824035,
          0.1449705415329275,
          0.0185650600927788,
          0.3015127459802225,
          0.1610427518180216,
          0.0097220230557776,
          0.0024246832757471,
          0.550056187380078,
          0.0097220230557776,
          0.018803000958953,
          0.0046790630644119,
          0.0096292729898892,
          0.0167959253085201,
          0.0097698945584129,
          0.6045606544369081,
          0.268108868957601,
          0.302280327218454,
          0.0022858449054231,
          0.5825503416794287,
          0.0187173470032357,
          0.0374346940064715,
          0.018,
          0.000028,
          0.000031,
          0.000029,
          0.000059999999999999995,
          0.000029,
          0.000026,
          0.000031,
          0.000035000000000000004,
          0.00006500000000000001,
          0.000067,
          0.000062,
          0.000029,
          0.000029,
          0.000034,
          0.000031,
          0.00006500000000000001,
          0.000059999999999999995,
          0.000056,
          0.000028,
          0.000031,
          0.000029,
          0.000059999999999999995,
          0.000029,
          0.000026,
          0.000013,
          0.1938753986078195,
          1.7836058088473985,
          2.954733483039829,
          2.954733483039829,
          3.3738305459869973,
          3.285658429520984,
          0.2115696436490178,
          0.2229507261059247,
          0.8434576364967493,
          0.000135,
          0.000252,
          0.000247,
          0.000131,
          0.000254,
          0.000127,
          0.000121,
          0.000059,
          0.000007,
          0.0002179999999999,
          0.000104,
          0.000015,
          0.000028,
          0.000031,
          0.000031,
          0.000247,
          0.00047,
          0.0002179999999999,
          0.000027,
          0.000053,
          0.000003,
          0.000013,
          0.000025,
          0.000219,
          0.000213,
          0.0002179999999999,
          0.000208,
          0.0002179999999999,
          0.0592031259250488,
          0.0569116980857181,
          0.1064375562788578,
          0.0592031259250488,
          0.0274284009022846,
          0.0266093890697144,
          0.0616036666502389,
          0.028455849042859,
          0.0129419950137081,
          0.0071139622607147,
          0.006470997506854,
          0.0137142004511423,
          0.012515544306028,
          0.0036423486774859,
          0.0035296401531863,
          0.0137142004511423,
          0.0074003907406311,
          0.0068571002255711,
          0.0133046945348572,
          0.0486944055971297,
          0.000684,
          0.00915,
          0.1768609307129617,
          1.247435691279158,
          0.7326887961579627,
          0.6782319341267231,
          0.7044094379858288,
          0.0766659878532325,
          0.0391751668617263,
          0.0817504822001098,
          0.7044094379858288,
          0.6539303513087542,
          0.0095344108806696,
          1.1439116864430814,
          0.5382210532733714,
          0.0317652547672698,
          0.1143259325155455,
          0.6818738746417494,
          0.3427775694927961,
          1.2033015586515494,
          0.5772448284726008,
          0.5772448284726008,
          0.5772448284726008,
          0.5565931282490577,
          1.1131862564981154,
          1.1131862564981154,
          0.1574423490398477,
          0.0383177547711591,
          0.3382270560505651,
          0.0792993898903189,
          0.1499,
          0.0678,
          0.0196,
          0.0779,
          0.0678,
          0.0807,
          0.0772,
          0.020809841334671,
          0.1863246640193658,
          0.1627994206945413,
          0.3438884150870724,
          0.3438884150870724,
          0.0365468864391754,
          0.0077433765589129,
          0.0338526900193806,
          0.1278236034272703,
          0.0105009491242477,
          0.0147095164687746,
          0.0073547582343873,
          0.0297282127874123,
          0.0071765335390989,
          0.0272659653133295,
          0.0166752933517606,
          0.0141176576885893,
          0.0183628559088732,
          0.0153087593046639,
          0.0154968619350639,
          0.0154968619350639,
          0.0089299866719948,
          0.009673893064786,
          0.0076331944728038,
          0.0073798423296686,
          0.0016,
          0.0891942901383224,
          0.0926835597901644,
          0.0722090480825609,
          0.070073352785696,
          0.0722090480825609,
          0.1853671195803288,
          0.178388580276645,
          0.2675828704149675,
          0.179624154419293,
          0.2539428865518618,
          0.140146705571392,
          0.1401467055713921,
          0.140908181410829,
          0.1344722234175308,
          0.0034027031073484,
          0.003046001939694,
          0.017842868562293,
          0.0169408830943539,
          0.0037926023016544,
          0.0237823439878234,
          0.0021451567508941,
          0.0160113232077725,
          0.0065055375135315,
          0.008862074221644,
          0.007897746299116,
          0.1333873996926753,
          0.1333873996926753,
          0.1333873996926753,
          0.1278176114262808,
          0.1363152568397543,
          0.1322686937990319,
          0.1322686937990319,
          0.1322686937990319,
          0.126790021523874,
          0.1229097960090697,
          0.1196103573000592,
          0.1196103573000592,
          0.1196103573000592,
          0.1151123127813344,
          0.0686027647463014,
          0.133106732432041,
          0.133106732432041,
          0.0021328272584029,
          0.1319927097786534,
          0.1319927097786534,
          0.1226714505261132,
          0.1193846247884504,
          0.1193846247884504,
          0.1372055294926029,
          0.1360221465818178,
          0.1226714505261132,
          0.001303947570876,
          0.0000417167484923306,
          0.01103,
          0.00319,
          0.00115,
          0.00032,
          0.00056,
          0.00439,
          0.00007000000000000001,
          0.00806,
          0.00063,
          0.00246,
          0.00447,
          0.00243,
          0.0022299999999999,
          0.00103,
          0.01011,
          0.00014,
          0.04233,
          0.0202049999999999,
          0.1482,
          0.03705,
          0.0798,
          0.0381899999999999,
          0.00457,
          0.07035,
          0.03517,
          0.0757999999999999,
          0.0363599999999999,
          0.0349,
          0.06723,
          0.03361,
          0.0091799999999999,
          0.01696,
          0.0339,
          0.03269,
          0.0326,
          0.03842,
          0.07367,
          0.03537,
          0.06804,
          0.06804,
          0.04218,
          0.02014,
          0.03854,
          0.03694,
          0.00461,
          0.03842,
          0.0733,
          0.009102,
          0.03478,
          0.03474,
          0.00415,
          0.03375,
          0.008087,
          0.01758,
          0.06731,
          0.0191499999999999,
          0.00455,
          0.000068,
          0.000504,
          0.000247,
          0.000016,
          0.000127,
          0.000008,
          0.000015,
          0.000029,
          0.000229,
          0.000055,
          0.000208,
          0.000029999999999999997,
          0.000056,
          0.000498,
          0.00025,
          0.000124,
          0.000235,
          0.0004359999999999,
          0.000055,
          0.000007,
          0.000214,
          0.000006,
          0.000025,
          0.000219,
          0.000213,
          0.0002179999999999,
          0.000208,
          0.0002179999999999,
          0.0035143841942823,
          2.494871382558316,
          0.7326887961579627,
          0.6782319341267231,
          0.0880511797482286,
          0.153331975706465,
          0.3134013348938106,
          0.1635009644002196,
          0.7044094379858288,
          0.6539303513087542,
          0.152550574090715,
          1.1439116864430814,
          0.5382210532733714,
          1.0164881525526346,
          0.4573037300621821,
          0.6818738746417494,
          0.3427775694927961,
          1.2033015586515494,
          0.2886224142363004,
          0.5772448284726008,
          0.0721556035590751,
          0.2782965641245288,
          0.1391482820622644,
          0.2782965641245288,
          2.519077584637564,
          0.1532710190846365,
          2.7058164484045206,
          0.1585987797806379,
          2.494871382558316,
          0.7326887961579627,
          0.3391159670633615,
          0.3522047189929144,
          0.30666395141293,
          0.1567006674469053,
          0.3270019288004392,
          0.7044094379858288,
          0.3269651756543771,
          1.22040459272572,
          0.5719558432215407,
          0.5382210532733714,
          1.0164881525526346,
          0.4573037300621821,
          0.3409369373208747,
          0.6855551389855923,
          0.6016507793257747,
          0.0360778017795375,
          0.0721556035590751,
          0.1443112071181502,
          0.2782965641245288,
          0.5565931282490577,
          0.5565931282490577,
          2.519077584637564,
          1.226168152677093,
          2.7058164484045206,
          1.2687902382451033,
          0.6112119186324132,
          0.5740502383653918,
          0.6140384541581915,
          0.6081843558828768,
          0.5781025590071088,
          0.5677168689527617,
          0.6111477163128693,
          0.5322743291991974,
          0.6402545011642127,
          0.6112119186324132,
          0.7186566869208075,
          0.339284841838978,
          0.2990385909301594,
          0.2774363769028667,
          0.1950820593174312,
          0.6503286761129072,
          0.1607344923361793,
          0.2685392805832672,
          0.6503286761129072,
          0.56434204771512,
          0.3264229592852642,
          0.4615835547011129,
          0.2362474455744946,
          0.2485577436922258,
          0.1584918674652966,
          1.7316557052860514e-8,
          5.071774055846e-7,
          0.0000158066391396973,
          0.0000155097539119045,
          0.0045928548956388,
          0.0022347866896104,
          0.0044495267928255,
          0.0342263560054419,
          0.004132820588059,
          0.1211244894792025,
          0.0323570274407815,
          0.0005417153307605,
          0.0083422491120718,
          0.0010081824084267,
          0.1184323261034099,
          0.0315897128100233,
          0.2680403735812705,
          0.5207835351030476,
          0.9853335411771263,
          0.4797169669894758,
          0.0569697099173582,
          0.054259727751816,
          0.207183438273903,
          0.3646869105890266,
          0.5229281525316052,
          0.0635452700475397,
          0.2407680500797543,
          0.4691574774721939,
          0.0278885087142874,
          0.1063534557395137,
          0.050808086742106,
          0.08963798857956,
          0.0139359226277575,
          0.1114873810220606,
          0.918219300180595,
          0.2295548250451487,
          0.0143471765653217,
          0.0065735306926364,
          0.0068421916908424,
          0.0273006328627955,
          0.0136503164313977,
          0.0280892958715757,
          0.4494287339452119,
          0.0280892958715757,
          0.0128925790315094,
          0.0067044462211226,
          0.1380759547197165,
          0.0084117731176554,
          0.0043056957896753,
          0.0020985830367335,
          0.1343093143509501,
          0.0655035689210129,
          0.0277429477982946,
          0.0000234,
          0.0000229,
          0.000022,
          0.0000191,
          0.000021,
          0.000021,
          0.000021,
          0.00001288,
          0.0000199526,
          0.000017378000000000002,
          0.0000251189,
          0.00006456539999999999,
          0.0000707946,
          0.000040738,
          0.000040738,
          0.0000691831,
          0.0000691831,
          0.000074131,
          0.0000812831,
          0.0000436516,
          0.0000707946,
          0.0000707946,
          0.0000660693,
          0.0000691831,
          0.0000660693,
          0.0000676083,
          0.0000691831,
          0.000040738,
          0.000042658,
          0.0000676083,
          0.0089299866719948,
          0.0085851832614681,
          0.0178599733439897,
          0.0193477861295721,
          0.0092705470086262,
          0.0314972410385427,
          0.0610097882579036,
          0.1016691210227913,
          0.1555618212400221,
          0.1395913898285861,
          0.1299809090539826,
          0.1234251243411701,
          0.1326771343397446,
          0.1035431160006471,
          0.1098397540962504,
          1.1948574455721424,
          0.2761310587037371,
          0.2725857527093532,
          0.2755437684054626,
          0.1299254958484743,
          0.2658011516665524,
          0.0383245466325897,
          0.0821707456738386,
          0.0823797448802275,
          0.0811206822249375,
          0.0787285341731043,
          0.3621958121109224,
          0.0505019252611428,
          0.0127125916101132,
          0.0090508590396586,
          0.0062973349678416,
          0.0085379233209106,
          0.0329030863094958,
          0.0085017928155599,
          0.0065509907281644,
          0.0156982350698571,
          0.0102777458025686,
          0.0084044913601828,
          0.0067881442797439,
          0.010495558279736,
          0.0057241967520907,
          0.0076066644522821,
          0.0234473307819163,
          0.0109334725528838,
          0.0219060183134313,
          0.0074944915487116,
          0.0144746707736132,
          0.0263243795343743,
          0.0194223784644667,
          0.0327872883682996,
          0.0445663780548023,
          0.0891327561096047,
          0.1114159451370059,
          0.0206470965226985,
          0.0412941930453971,
          0.9496387574166784,
          0.9216335032211088,
          0.1843267006442217,
          0.9216335032211088,
          0.183652705388003,
          0.4591317634700075,
          0.2312489478172873,
          0.1849991582538298,
          0.4624978956345746,
          0.1796809584901048,
          0.4492023962252622,
          0.4374353689242412,
          0.6112119186324132,
          0.5740502383653918,
          0.6140384541581915,
          0.6081843558828768,
          0.5781025590071088,
          0.2838584344763808,
          0.6111477163128693,
          0.5322743291991974,
          0.6402545011642127,
          0.6112119186324132,
          0.1963309668907457,
          0.0792266465198586,
          0.018210094594563,
          0.0189366386375318,
          0.1472445248595876,
          0.2914547790423028,
          0.0378732772750637,
          0.0338429272182067,
          0.0305345899040369,
          0.5794132166472368
         ]
        }
       ],
       "layout": {
        "bargap": 0.2,
        "template": {
         "data": {
          "bar": [
           {
            "error_x": {
             "color": "#2a3f5f"
            },
            "error_y": {
             "color": "#2a3f5f"
            },
            "marker": {
             "line": {
              "color": "#E5ECF6",
              "width": 0.5
             },
             "pattern": {
              "fillmode": "overlay",
              "size": 10,
              "solidity": 0.2
             }
            },
            "type": "bar"
           }
          ],
          "barpolar": [
           {
            "marker": {
             "line": {
              "color": "#E5ECF6",
              "width": 0.5
             },
             "pattern": {
              "fillmode": "overlay",
              "size": 10,
              "solidity": 0.2
             }
            },
            "type": "barpolar"
           }
          ],
          "carpet": [
           {
            "aaxis": {
             "endlinecolor": "#2a3f5f",
             "gridcolor": "white",
             "linecolor": "white",
             "minorgridcolor": "white",
             "startlinecolor": "#2a3f5f"
            },
            "baxis": {
             "endlinecolor": "#2a3f5f",
             "gridcolor": "white",
             "linecolor": "white",
             "minorgridcolor": "white",
             "startlinecolor": "#2a3f5f"
            },
            "type": "carpet"
           }
          ],
          "choropleth": [
           {
            "colorbar": {
             "outlinewidth": 0,
             "ticks": ""
            },
            "type": "choropleth"
           }
          ],
          "contour": [
           {
            "colorbar": {
             "outlinewidth": 0,
             "ticks": ""
            },
            "colorscale": [
             [
              0,
              "#0d0887"
             ],
             [
              0.1111111111111111,
              "#46039f"
             ],
             [
              0.2222222222222222,
              "#7201a8"
             ],
             [
              0.3333333333333333,
              "#9c179e"
             ],
             [
              0.4444444444444444,
              "#bd3786"
             ],
             [
              0.5555555555555556,
              "#d8576b"
             ],
             [
              0.6666666666666666,
              "#ed7953"
             ],
             [
              0.7777777777777778,
              "#fb9f3a"
             ],
             [
              0.8888888888888888,
              "#fdca26"
             ],
             [
              1,
              "#f0f921"
             ]
            ],
            "type": "contour"
           }
          ],
          "contourcarpet": [
           {
            "colorbar": {
             "outlinewidth": 0,
             "ticks": ""
            },
            "type": "contourcarpet"
           }
          ],
          "heatmap": [
           {
            "colorbar": {
             "outlinewidth": 0,
             "ticks": ""
            },
            "colorscale": [
             [
              0,
              "#0d0887"
             ],
             [
              0.1111111111111111,
              "#46039f"
             ],
             [
              0.2222222222222222,
              "#7201a8"
             ],
             [
              0.3333333333333333,
              "#9c179e"
             ],
             [
              0.4444444444444444,
              "#bd3786"
             ],
             [
              0.5555555555555556,
              "#d8576b"
             ],
             [
              0.6666666666666666,
              "#ed7953"
             ],
             [
              0.7777777777777778,
              "#fb9f3a"
             ],
             [
              0.8888888888888888,
              "#fdca26"
             ],
             [
              1,
              "#f0f921"
             ]
            ],
            "type": "heatmap"
           }
          ],
          "heatmapgl": [
           {
            "colorbar": {
             "outlinewidth": 0,
             "ticks": ""
            },
            "colorscale": [
             [
              0,
              "#0d0887"
             ],
             [
              0.1111111111111111,
              "#46039f"
             ],
             [
              0.2222222222222222,
              "#7201a8"
             ],
             [
              0.3333333333333333,
              "#9c179e"
             ],
             [
              0.4444444444444444,
              "#bd3786"
             ],
             [
              0.5555555555555556,
              "#d8576b"
             ],
             [
              0.6666666666666666,
              "#ed7953"
             ],
             [
              0.7777777777777778,
              "#fb9f3a"
             ],
             [
              0.8888888888888888,
              "#fdca26"
             ],
             [
              1,
              "#f0f921"
             ]
            ],
            "type": "heatmapgl"
           }
          ],
          "histogram": [
           {
            "marker": {
             "pattern": {
              "fillmode": "overlay",
              "size": 10,
              "solidity": 0.2
             }
            },
            "type": "histogram"
           }
          ],
          "histogram2d": [
           {
            "colorbar": {
             "outlinewidth": 0,
             "ticks": ""
            },
            "colorscale": [
             [
              0,
              "#0d0887"
             ],
             [
              0.1111111111111111,
              "#46039f"
             ],
             [
              0.2222222222222222,
              "#7201a8"
             ],
             [
              0.3333333333333333,
              "#9c179e"
             ],
             [
              0.4444444444444444,
              "#bd3786"
             ],
             [
              0.5555555555555556,
              "#d8576b"
             ],
             [
              0.6666666666666666,
              "#ed7953"
             ],
             [
              0.7777777777777778,
              "#fb9f3a"
             ],
             [
              0.8888888888888888,
              "#fdca26"
             ],
             [
              1,
              "#f0f921"
             ]
            ],
            "type": "histogram2d"
           }
          ],
          "histogram2dcontour": [
           {
            "colorbar": {
             "outlinewidth": 0,
             "ticks": ""
            },
            "colorscale": [
             [
              0,
              "#0d0887"
             ],
             [
              0.1111111111111111,
              "#46039f"
             ],
             [
              0.2222222222222222,
              "#7201a8"
             ],
             [
              0.3333333333333333,
              "#9c179e"
             ],
             [
              0.4444444444444444,
              "#bd3786"
             ],
             [
              0.5555555555555556,
              "#d8576b"
             ],
             [
              0.6666666666666666,
              "#ed7953"
             ],
             [
              0.7777777777777778,
              "#fb9f3a"
             ],
             [
              0.8888888888888888,
              "#fdca26"
             ],
             [
              1,
              "#f0f921"
             ]
            ],
            "type": "histogram2dcontour"
           }
          ],
          "mesh3d": [
           {
            "colorbar": {
             "outlinewidth": 0,
             "ticks": ""
            },
            "type": "mesh3d"
           }
          ],
          "parcoords": [
           {
            "line": {
             "colorbar": {
              "outlinewidth": 0,
              "ticks": ""
             }
            },
            "type": "parcoords"
           }
          ],
          "pie": [
           {
            "automargin": true,
            "type": "pie"
           }
          ],
          "scatter": [
           {
            "fillpattern": {
             "fillmode": "overlay",
             "size": 10,
             "solidity": 0.2
            },
            "type": "scatter"
           }
          ],
          "scatter3d": [
           {
            "line": {
             "colorbar": {
              "outlinewidth": 0,
              "ticks": ""
             }
            },
            "marker": {
             "colorbar": {
              "outlinewidth": 0,
              "ticks": ""
             }
            },
            "type": "scatter3d"
           }
          ],
          "scattercarpet": [
           {
            "marker": {
             "colorbar": {
              "outlinewidth": 0,
              "ticks": ""
             }
            },
            "type": "scattercarpet"
           }
          ],
          "scattergeo": [
           {
            "marker": {
             "colorbar": {
              "outlinewidth": 0,
              "ticks": ""
             }
            },
            "type": "scattergeo"
           }
          ],
          "scattergl": [
           {
            "marker": {
             "colorbar": {
              "outlinewidth": 0,
              "ticks": ""
             }
            },
            "type": "scattergl"
           }
          ],
          "scattermapbox": [
           {
            "marker": {
             "colorbar": {
              "outlinewidth": 0,
              "ticks": ""
             }
            },
            "type": "scattermapbox"
           }
          ],
          "scatterpolar": [
           {
            "marker": {
             "colorbar": {
              "outlinewidth": 0,
              "ticks": ""
             }
            },
            "type": "scatterpolar"
           }
          ],
          "scatterpolargl": [
           {
            "marker": {
             "colorbar": {
              "outlinewidth": 0,
              "ticks": ""
             }
            },
            "type": "scatterpolargl"
           }
          ],
          "scatterternary": [
           {
            "marker": {
             "colorbar": {
              "outlinewidth": 0,
              "ticks": ""
             }
            },
            "type": "scatterternary"
           }
          ],
          "surface": [
           {
            "colorbar": {
             "outlinewidth": 0,
             "ticks": ""
            },
            "colorscale": [
             [
              0,
              "#0d0887"
             ],
             [
              0.1111111111111111,
              "#46039f"
             ],
             [
              0.2222222222222222,
              "#7201a8"
             ],
             [
              0.3333333333333333,
              "#9c179e"
             ],
             [
              0.4444444444444444,
              "#bd3786"
             ],
             [
              0.5555555555555556,
              "#d8576b"
             ],
             [
              0.6666666666666666,
              "#ed7953"
             ],
             [
              0.7777777777777778,
              "#fb9f3a"
             ],
             [
              0.8888888888888888,
              "#fdca26"
             ],
             [
              1,
              "#f0f921"
             ]
            ],
            "type": "surface"
           }
          ],
          "table": [
           {
            "cells": {
             "fill": {
              "color": "#EBF0F8"
             },
             "line": {
              "color": "white"
             }
            },
            "header": {
             "fill": {
              "color": "#C8D4E3"
             },
             "line": {
              "color": "white"
             }
            },
            "type": "table"
           }
          ]
         },
         "layout": {
          "annotationdefaults": {
           "arrowcolor": "#2a3f5f",
           "arrowhead": 0,
           "arrowwidth": 1
          },
          "autotypenumbers": "strict",
          "coloraxis": {
           "colorbar": {
            "outlinewidth": 0,
            "ticks": ""
           }
          },
          "colorscale": {
           "diverging": [
            [
             0,
             "#8e0152"
            ],
            [
             0.1,
             "#c51b7d"
            ],
            [
             0.2,
             "#de77ae"
            ],
            [
             0.3,
             "#f1b6da"
            ],
            [
             0.4,
             "#fde0ef"
            ],
            [
             0.5,
             "#f7f7f7"
            ],
            [
             0.6,
             "#e6f5d0"
            ],
            [
             0.7,
             "#b8e186"
            ],
            [
             0.8,
             "#7fbc41"
            ],
            [
             0.9,
             "#4d9221"
            ],
            [
             1,
             "#276419"
            ]
           ],
           "sequential": [
            [
             0,
             "#0d0887"
            ],
            [
             0.1111111111111111,
             "#46039f"
            ],
            [
             0.2222222222222222,
             "#7201a8"
            ],
            [
             0.3333333333333333,
             "#9c179e"
            ],
            [
             0.4444444444444444,
             "#bd3786"
            ],
            [
             0.5555555555555556,
             "#d8576b"
            ],
            [
             0.6666666666666666,
             "#ed7953"
            ],
            [
             0.7777777777777778,
             "#fb9f3a"
            ],
            [
             0.8888888888888888,
             "#fdca26"
            ],
            [
             1,
             "#f0f921"
            ]
           ],
           "sequentialminus": [
            [
             0,
             "#0d0887"
            ],
            [
             0.1111111111111111,
             "#46039f"
            ],
            [
             0.2222222222222222,
             "#7201a8"
            ],
            [
             0.3333333333333333,
             "#9c179e"
            ],
            [
             0.4444444444444444,
             "#bd3786"
            ],
            [
             0.5555555555555556,
             "#d8576b"
            ],
            [
             0.6666666666666666,
             "#ed7953"
            ],
            [
             0.7777777777777778,
             "#fb9f3a"
            ],
            [
             0.8888888888888888,
             "#fdca26"
            ],
            [
             1,
             "#f0f921"
            ]
           ]
          },
          "colorway": [
           "#636efa",
           "#EF553B",
           "#00cc96",
           "#ab63fa",
           "#FFA15A",
           "#19d3f3",
           "#FF6692",
           "#B6E880",
           "#FF97FF",
           "#FECB52"
          ],
          "font": {
           "color": "#2a3f5f"
          },
          "geo": {
           "bgcolor": "white",
           "lakecolor": "white",
           "landcolor": "#E5ECF6",
           "showlakes": true,
           "showland": true,
           "subunitcolor": "white"
          },
          "hoverlabel": {
           "align": "left"
          },
          "hovermode": "closest",
          "mapbox": {
           "style": "light"
          },
          "paper_bgcolor": "white",
          "plot_bgcolor": "#E5ECF6",
          "polar": {
           "angularaxis": {
            "gridcolor": "white",
            "linecolor": "white",
            "ticks": ""
           },
           "bgcolor": "#E5ECF6",
           "radialaxis": {
            "gridcolor": "white",
            "linecolor": "white",
            "ticks": ""
           }
          },
          "scene": {
           "xaxis": {
            "backgroundcolor": "#E5ECF6",
            "gridcolor": "white",
            "gridwidth": 2,
            "linecolor": "white",
            "showbackground": true,
            "ticks": "",
            "zerolinecolor": "white"
           },
           "yaxis": {
            "backgroundcolor": "#E5ECF6",
            "gridcolor": "white",
            "gridwidth": 2,
            "linecolor": "white",
            "showbackground": true,
            "ticks": "",
            "zerolinecolor": "white"
           },
           "zaxis": {
            "backgroundcolor": "#E5ECF6",
            "gridcolor": "white",
            "gridwidth": 2,
            "linecolor": "white",
            "showbackground": true,
            "ticks": "",
            "zerolinecolor": "white"
           }
          },
          "shapedefaults": {
           "line": {
            "color": "#2a3f5f"
           }
          },
          "ternary": {
           "aaxis": {
            "gridcolor": "white",
            "linecolor": "white",
            "ticks": ""
           },
           "baxis": {
            "gridcolor": "white",
            "linecolor": "white",
            "ticks": ""
           },
           "bgcolor": "#E5ECF6",
           "caxis": {
            "gridcolor": "white",
            "linecolor": "white",
            "ticks": ""
           }
          },
          "title": {
           "x": 0.05
          },
          "xaxis": {
           "automargin": true,
           "gridcolor": "white",
           "linecolor": "white",
           "ticks": "",
           "title": {
            "standoff": 15
           },
           "zerolinecolor": "white",
           "zerolinewidth": 2
          },
          "yaxis": {
           "automargin": true,
           "gridcolor": "white",
           "linecolor": "white",
           "ticks": "",
           "title": {
            "standoff": 15
           },
           "zerolinecolor": "white",
           "zerolinewidth": 2
          }
         }
        },
        "title": {
         "text": "Гистограмма распределения значений MIC (µmol/mL)"
        }
       }
      }
     },
     "metadata": {},
     "output_type": "display_data"
    }
   ],
   "source": [
    "MIC_µmol_mL = \"MIC (µmol/mL)\"\n",
    "\n",
    "data = ds_cleaned[MIC_µmol_mL]\n",
    "hist = go.Histogram(x=data, nbinsx=40, name='Histogram', marker=dict(color='skyblue', line = dict(color='black', width = 1.5)))\n",
    "layout = go.Layout(bargap=0.2, title='Гистограмма распределения значений MIC (µmol/mL)')\n",
    "fig = go.Figure(data=[hist], layout=layout)\n",
    "\n",
    "fig.show()\n"
   ]
  },
  {
   "cell_type": "code",
   "execution_count": 128,
   "metadata": {},
   "outputs": [
    {
     "data": {
      "application/vnd.plotly.v1+json": {
       "config": {
        "plotlyServerURL": "https://plot.ly"
       },
       "data": [
        {
         "marker": {
          "color": "skyblue",
          "line": {
           "color": "black",
           "width": 1.5
          }
         },
         "name": "Histogram",
         "nbinsx": 40,
         "type": "histogram",
         "x": [
          50,
          12.5,
          6.25,
          6.25,
          6.25,
          6.25,
          2,
          0.5,
          1,
          512,
          256,
          256,
          512,
          256,
          256,
          256,
          256,
          512,
          6.25,
          12.5,
          50,
          12.5,
          25,
          12.5,
          3.12,
          11.43,
          21.07,
          24.99,
          12.5,
          24.97,
          50,
          12.5,
          6.24,
          6.01,
          16.25,
          12.5,
          12.47,
          25,
          25,
          12.5,
          12.5,
          12.52,
          12.5,
          3.12,
          12.5,
          12.5,
          3.12,
          15.25,
          12.84,
          3.12,
          6.22,
          25,
          1.56,
          17.4,
          6.56,
          6.25,
          25,
          12.5,
          3.12,
          0.03,
          0.02,
          0.14,
          0.02,
          0.13,
          0.01,
          0.06,
          0.03,
          0.06,
          0.13,
          0.13,
          0.13,
          0.13,
          0.13,
          0.13,
          0.13,
          0.26,
          0.13,
          0.01,
          0.06,
          0.13,
          0,
          0.06,
          0.13,
          0.13,
          0.13,
          0.13,
          0.13,
          256,
          64,
          64,
          16,
          64,
          32,
          128,
          16,
          16,
          32,
          64,
          16,
          512,
          256,
          512,
          512,
          512,
          512,
          256,
          256,
          512,
          512,
          256,
          512,
          512,
          64,
          512,
          64,
          4,
          0.5,
          1,
          16,
          1,
          32,
          8,
          0.12,
          2,
          0.5,
          4,
          2,
          8,
          16,
          64,
          32,
          2,
          8,
          256,
          128,
          128,
          2,
          64,
          128,
          1,
          64,
          64,
          64,
          0.12,
          2,
          256,
          32,
          16,
          0.12,
          8,
          4,
          0.5,
          0.25,
          8,
          4,
          0.12,
          2,
          16,
          4,
          0.5,
          0.25,
          128,
          64,
          2,
          32,
          1,
          256,
          8,
          2,
          1,
          64,
          128,
          16,
          64,
          64,
          256,
          128,
          32,
          1,
          128,
          128,
          128,
          256,
          64,
          128,
          256,
          512,
          256,
          512,
          256,
          128,
          128,
          256,
          512,
          32,
          64,
          256,
          128,
          64,
          256,
          256,
          256,
          256,
          512,
          128,
          32,
          64,
          256,
          256,
          64,
          128,
          256,
          128,
          64,
          128,
          256,
          32,
          64,
          256,
          128,
          128,
          512,
          512,
          128,
          128,
          128,
          64,
          128,
          64,
          256,
          16,
          8,
          64,
          256,
          4,
          16,
          32,
          64,
          8,
          32,
          64,
          256,
          16,
          64,
          64,
          8,
          128,
          64,
          64,
          128,
          32,
          64,
          128,
          256,
          128,
          256,
          256,
          64,
          64,
          128,
          256,
          16,
          64,
          128,
          64,
          32,
          128,
          128,
          128,
          64,
          256,
          64,
          16,
          64,
          128,
          128,
          32,
          64,
          128,
          64,
          32,
          64,
          128,
          16,
          64,
          128,
          64,
          64,
          256,
          256,
          64,
          64,
          64,
          64,
          128,
          32,
          64,
          8,
          4,
          64,
          256,
          4,
          8,
          32,
          32,
          4,
          32,
          64,
          128,
          8,
          64,
          32,
          8,
          128,
          64,
          64,
          64,
          16,
          16,
          32,
          32,
          8,
          32,
          32,
          128,
          8,
          4,
          0.5,
          256,
          64,
          2,
          32,
          16,
          64,
          64,
          4,
          128,
          2,
          8,
          8,
          8,
          16,
          64,
          64,
          32,
          16,
          32,
          128,
          256,
          4,
          16,
          16,
          32,
          32,
          16,
          0.5,
          128,
          4,
          64,
          8,
          16,
          64,
          32,
          32,
          64,
          64,
          64,
          2,
          32,
          8,
          128,
          128,
          128,
          4,
          16,
          16,
          64,
          4,
          64,
          8,
          128,
          64,
          4,
          1,
          256,
          4,
          8,
          2,
          4,
          8,
          4,
          256,
          128,
          128,
          1,
          256,
          8,
          16,
          8.72,
          0.01,
          0.01,
          0.01,
          0.03,
          0.01,
          0.01,
          0.01,
          0.01,
          0.03,
          0.02,
          0.03,
          0.01,
          0.01,
          0.01,
          0.01,
          0.03,
          0.03,
          0.03,
          0.01,
          0.01,
          0.01,
          0.03,
          0.01,
          0.01,
          0.01,
          62.5,
          500,
          1000,
          1000,
          1000,
          1000,
          62.5,
          62.5,
          250,
          0.06,
          0.13,
          0.14,
          0.06,
          0.13,
          0.06,
          0.06,
          0.03,
          0,
          0.13,
          0.06,
          0.01,
          0.02,
          0.02,
          0.02,
          0.13,
          0.26,
          0.13,
          0.02,
          0.03,
          0,
          0.01,
          0.02,
          0.13,
          0.13,
          0.13,
          0.13,
          0.13,
          25,
          25,
          50,
          25,
          12.5,
          12.5,
          25,
          12.5,
          6.25,
          3.12,
          3.12,
          6.25,
          6.25,
          1.6,
          1.6,
          6.25,
          3.12,
          3.12,
          6.25,
          25,
          0.16,
          2.5,
          62.5,
          256,
          256,
          256,
          256,
          32,
          16,
          32,
          256,
          256,
          4,
          512,
          256,
          16,
          64,
          256,
          128,
          512,
          256,
          256,
          256,
          256,
          512,
          512,
          32,
          16,
          64,
          32,
          63.85,
          31.89,
          7.95,
          31.9,
          31.89,
          31.95,
          31.95,
          9.38,
          62.5,
          62.5,
          125,
          125,
          15.62,
          3.12,
          8,
          32,
          3.9,
          6.25,
          3.12,
          12.5,
          3.12,
          12.5,
          6.25,
          6.25,
          6.25,
          6.25,
          7.81,
          7.81,
          4,
          4,
          4,
          4,
          0.67,
          25,
          25,
          25,
          25,
          25,
          50,
          50,
          75,
          50,
          75,
          50,
          50,
          50,
          50,
          1.25,
          1.25,
          5,
          5,
          1.25,
          5,
          0.62,
          5,
          2.5,
          2.5,
          2.5,
          62.5,
          62.5,
          62.5,
          62.5,
          62.5,
          62.5,
          62.5,
          62.5,
          62.5,
          62.5,
          62.5,
          62.5,
          62.5,
          62.5,
          31.25,
          62.5,
          62.5,
          0.98,
          62.5,
          62.5,
          62.5,
          62.5,
          62.5,
          62.5,
          62.5,
          62.5,
          0.5,
          0.02,
          5,
          1.25,
          0.62,
          0.15,
          0.31,
          2.5,
          0.04,
          4.99,
          0.32,
          1.25,
          2.5,
          1.25,
          1.25,
          0.63,
          5,
          0.08,
          12.5,
          6.25,
          50,
          12.5,
          25,
          12.5,
          1.56,
          25,
          12.5,
          24.99,
          12.5,
          12.49,
          25,
          12.5,
          3.12,
          6.01,
          12.49,
          12.5,
          12.47,
          12.5,
          25,
          12.5,
          25,
          25,
          12.5,
          6.25,
          12.5,
          12.5,
          1.56,
          12.5,
          25.02,
          3.12,
          12.5,
          12.5,
          1.56,
          12.5,
          3.12,
          6.25,
          25,
          6.25,
          1.56,
          0.03,
          0.26,
          0.14,
          0.01,
          0.06,
          0,
          0.01,
          0.02,
          0.13,
          0.03,
          0.13,
          0.02,
          0.03,
          0.26,
          0.13,
          0.06,
          0.13,
          0.26,
          0.03,
          0,
          0.13,
          0,
          0.02,
          0.13,
          0.13,
          0.13,
          0.13,
          0.13,
          1.56,
          512,
          256,
          256,
          32,
          64,
          128,
          64,
          256,
          256,
          64,
          512,
          256,
          512,
          256,
          256,
          128,
          512,
          128,
          256,
          32,
          128,
          64,
          128,
          512,
          64,
          512,
          64,
          512,
          256,
          128,
          128,
          128,
          64,
          128,
          256,
          128,
          512,
          256,
          256,
          512,
          256,
          128,
          256,
          256,
          16,
          32,
          64,
          128,
          256,
          256,
          512,
          512,
          512,
          512,
          256,
          256,
          256,
          256,
          256,
          256,
          256,
          256,
          256,
          256,
          200,
          125,
          100,
          100,
          62.5,
          250,
          62.5,
          100,
          250,
          200,
          100,
          200,
          100,
          100,
          62.5,
          0,
          0,
          0.01,
          0.01,
          2,
          1,
          2,
          16,
          2,
          64,
          16,
          0.25,
          4,
          0.5,
          64,
          16,
          128,
          256,
          512,
          256,
          32,
          32,
          128,
          256,
          256,
          32,
          128,
          256,
          16,
          64,
          32,
          64,
          8,
          64,
          512,
          128,
          8,
          4,
          4,
          16,
          8,
          16,
          256,
          16,
          8,
          4,
          64,
          4,
          2,
          1,
          64,
          32,
          11.97,
          0.01,
          0.01,
          0.01,
          0,
          0.01,
          0.01,
          0.01,
          0,
          0.01,
          0,
          0.01,
          0.01,
          0.03,
          0.02,
          0.01,
          0.03,
          0.03,
          0.03,
          0.04,
          0.02,
          0.03,
          0.03,
          0.03,
          0.03,
          0.03,
          0.03,
          0.03,
          0.02,
          0.02,
          0.03,
          4,
          4,
          8,
          8,
          4,
          16,
          32,
          64,
          64,
          64,
          64,
          64,
          64,
          64,
          64,
          512,
          128,
          128,
          128,
          64,
          128,
          32,
          64,
          64,
          64,
          64,
          256,
          25.3,
          6,
          4,
          3,
          4,
          14,
          4,
          3,
          7,
          5,
          4,
          3,
          5,
          2,
          3,
          9,
          4,
          9,
          3,
          5,
          10,
          8,
          16,
          25,
          50,
          62.5,
          12.5,
          25,
          500,
          500,
          100,
          500,
          100,
          250,
          125,
          100,
          250,
          100,
          250,
          250,
          256,
          256,
          256,
          256,
          256,
          128,
          256,
          256,
          256,
          256,
          62.5,
          31.25,
          7.81,
          7.81,
          62.5,
          125,
          15.62,
          15.62,
          15.62,
          250
         ]
        }
       ],
       "layout": {
        "bargap": 0.2,
        "template": {
         "data": {
          "bar": [
           {
            "error_x": {
             "color": "#2a3f5f"
            },
            "error_y": {
             "color": "#2a3f5f"
            },
            "marker": {
             "line": {
              "color": "#E5ECF6",
              "width": 0.5
             },
             "pattern": {
              "fillmode": "overlay",
              "size": 10,
              "solidity": 0.2
             }
            },
            "type": "bar"
           }
          ],
          "barpolar": [
           {
            "marker": {
             "line": {
              "color": "#E5ECF6",
              "width": 0.5
             },
             "pattern": {
              "fillmode": "overlay",
              "size": 10,
              "solidity": 0.2
             }
            },
            "type": "barpolar"
           }
          ],
          "carpet": [
           {
            "aaxis": {
             "endlinecolor": "#2a3f5f",
             "gridcolor": "white",
             "linecolor": "white",
             "minorgridcolor": "white",
             "startlinecolor": "#2a3f5f"
            },
            "baxis": {
             "endlinecolor": "#2a3f5f",
             "gridcolor": "white",
             "linecolor": "white",
             "minorgridcolor": "white",
             "startlinecolor": "#2a3f5f"
            },
            "type": "carpet"
           }
          ],
          "choropleth": [
           {
            "colorbar": {
             "outlinewidth": 0,
             "ticks": ""
            },
            "type": "choropleth"
           }
          ],
          "contour": [
           {
            "colorbar": {
             "outlinewidth": 0,
             "ticks": ""
            },
            "colorscale": [
             [
              0,
              "#0d0887"
             ],
             [
              0.1111111111111111,
              "#46039f"
             ],
             [
              0.2222222222222222,
              "#7201a8"
             ],
             [
              0.3333333333333333,
              "#9c179e"
             ],
             [
              0.4444444444444444,
              "#bd3786"
             ],
             [
              0.5555555555555556,
              "#d8576b"
             ],
             [
              0.6666666666666666,
              "#ed7953"
             ],
             [
              0.7777777777777778,
              "#fb9f3a"
             ],
             [
              0.8888888888888888,
              "#fdca26"
             ],
             [
              1,
              "#f0f921"
             ]
            ],
            "type": "contour"
           }
          ],
          "contourcarpet": [
           {
            "colorbar": {
             "outlinewidth": 0,
             "ticks": ""
            },
            "type": "contourcarpet"
           }
          ],
          "heatmap": [
           {
            "colorbar": {
             "outlinewidth": 0,
             "ticks": ""
            },
            "colorscale": [
             [
              0,
              "#0d0887"
             ],
             [
              0.1111111111111111,
              "#46039f"
             ],
             [
              0.2222222222222222,
              "#7201a8"
             ],
             [
              0.3333333333333333,
              "#9c179e"
             ],
             [
              0.4444444444444444,
              "#bd3786"
             ],
             [
              0.5555555555555556,
              "#d8576b"
             ],
             [
              0.6666666666666666,
              "#ed7953"
             ],
             [
              0.7777777777777778,
              "#fb9f3a"
             ],
             [
              0.8888888888888888,
              "#fdca26"
             ],
             [
              1,
              "#f0f921"
             ]
            ],
            "type": "heatmap"
           }
          ],
          "heatmapgl": [
           {
            "colorbar": {
             "outlinewidth": 0,
             "ticks": ""
            },
            "colorscale": [
             [
              0,
              "#0d0887"
             ],
             [
              0.1111111111111111,
              "#46039f"
             ],
             [
              0.2222222222222222,
              "#7201a8"
             ],
             [
              0.3333333333333333,
              "#9c179e"
             ],
             [
              0.4444444444444444,
              "#bd3786"
             ],
             [
              0.5555555555555556,
              "#d8576b"
             ],
             [
              0.6666666666666666,
              "#ed7953"
             ],
             [
              0.7777777777777778,
              "#fb9f3a"
             ],
             [
              0.8888888888888888,
              "#fdca26"
             ],
             [
              1,
              "#f0f921"
             ]
            ],
            "type": "heatmapgl"
           }
          ],
          "histogram": [
           {
            "marker": {
             "pattern": {
              "fillmode": "overlay",
              "size": 10,
              "solidity": 0.2
             }
            },
            "type": "histogram"
           }
          ],
          "histogram2d": [
           {
            "colorbar": {
             "outlinewidth": 0,
             "ticks": ""
            },
            "colorscale": [
             [
              0,
              "#0d0887"
             ],
             [
              0.1111111111111111,
              "#46039f"
             ],
             [
              0.2222222222222222,
              "#7201a8"
             ],
             [
              0.3333333333333333,
              "#9c179e"
             ],
             [
              0.4444444444444444,
              "#bd3786"
             ],
             [
              0.5555555555555556,
              "#d8576b"
             ],
             [
              0.6666666666666666,
              "#ed7953"
             ],
             [
              0.7777777777777778,
              "#fb9f3a"
             ],
             [
              0.8888888888888888,
              "#fdca26"
             ],
             [
              1,
              "#f0f921"
             ]
            ],
            "type": "histogram2d"
           }
          ],
          "histogram2dcontour": [
           {
            "colorbar": {
             "outlinewidth": 0,
             "ticks": ""
            },
            "colorscale": [
             [
              0,
              "#0d0887"
             ],
             [
              0.1111111111111111,
              "#46039f"
             ],
             [
              0.2222222222222222,
              "#7201a8"
             ],
             [
              0.3333333333333333,
              "#9c179e"
             ],
             [
              0.4444444444444444,
              "#bd3786"
             ],
             [
              0.5555555555555556,
              "#d8576b"
             ],
             [
              0.6666666666666666,
              "#ed7953"
             ],
             [
              0.7777777777777778,
              "#fb9f3a"
             ],
             [
              0.8888888888888888,
              "#fdca26"
             ],
             [
              1,
              "#f0f921"
             ]
            ],
            "type": "histogram2dcontour"
           }
          ],
          "mesh3d": [
           {
            "colorbar": {
             "outlinewidth": 0,
             "ticks": ""
            },
            "type": "mesh3d"
           }
          ],
          "parcoords": [
           {
            "line": {
             "colorbar": {
              "outlinewidth": 0,
              "ticks": ""
             }
            },
            "type": "parcoords"
           }
          ],
          "pie": [
           {
            "automargin": true,
            "type": "pie"
           }
          ],
          "scatter": [
           {
            "fillpattern": {
             "fillmode": "overlay",
             "size": 10,
             "solidity": 0.2
            },
            "type": "scatter"
           }
          ],
          "scatter3d": [
           {
            "line": {
             "colorbar": {
              "outlinewidth": 0,
              "ticks": ""
             }
            },
            "marker": {
             "colorbar": {
              "outlinewidth": 0,
              "ticks": ""
             }
            },
            "type": "scatter3d"
           }
          ],
          "scattercarpet": [
           {
            "marker": {
             "colorbar": {
              "outlinewidth": 0,
              "ticks": ""
             }
            },
            "type": "scattercarpet"
           }
          ],
          "scattergeo": [
           {
            "marker": {
             "colorbar": {
              "outlinewidth": 0,
              "ticks": ""
             }
            },
            "type": "scattergeo"
           }
          ],
          "scattergl": [
           {
            "marker": {
             "colorbar": {
              "outlinewidth": 0,
              "ticks": ""
             }
            },
            "type": "scattergl"
           }
          ],
          "scattermapbox": [
           {
            "marker": {
             "colorbar": {
              "outlinewidth": 0,
              "ticks": ""
             }
            },
            "type": "scattermapbox"
           }
          ],
          "scatterpolar": [
           {
            "marker": {
             "colorbar": {
              "outlinewidth": 0,
              "ticks": ""
             }
            },
            "type": "scatterpolar"
           }
          ],
          "scatterpolargl": [
           {
            "marker": {
             "colorbar": {
              "outlinewidth": 0,
              "ticks": ""
             }
            },
            "type": "scatterpolargl"
           }
          ],
          "scatterternary": [
           {
            "marker": {
             "colorbar": {
              "outlinewidth": 0,
              "ticks": ""
             }
            },
            "type": "scatterternary"
           }
          ],
          "surface": [
           {
            "colorbar": {
             "outlinewidth": 0,
             "ticks": ""
            },
            "colorscale": [
             [
              0,
              "#0d0887"
             ],
             [
              0.1111111111111111,
              "#46039f"
             ],
             [
              0.2222222222222222,
              "#7201a8"
             ],
             [
              0.3333333333333333,
              "#9c179e"
             ],
             [
              0.4444444444444444,
              "#bd3786"
             ],
             [
              0.5555555555555556,
              "#d8576b"
             ],
             [
              0.6666666666666666,
              "#ed7953"
             ],
             [
              0.7777777777777778,
              "#fb9f3a"
             ],
             [
              0.8888888888888888,
              "#fdca26"
             ],
             [
              1,
              "#f0f921"
             ]
            ],
            "type": "surface"
           }
          ],
          "table": [
           {
            "cells": {
             "fill": {
              "color": "#EBF0F8"
             },
             "line": {
              "color": "white"
             }
            },
            "header": {
             "fill": {
              "color": "#C8D4E3"
             },
             "line": {
              "color": "white"
             }
            },
            "type": "table"
           }
          ]
         },
         "layout": {
          "annotationdefaults": {
           "arrowcolor": "#2a3f5f",
           "arrowhead": 0,
           "arrowwidth": 1
          },
          "autotypenumbers": "strict",
          "coloraxis": {
           "colorbar": {
            "outlinewidth": 0,
            "ticks": ""
           }
          },
          "colorscale": {
           "diverging": [
            [
             0,
             "#8e0152"
            ],
            [
             0.1,
             "#c51b7d"
            ],
            [
             0.2,
             "#de77ae"
            ],
            [
             0.3,
             "#f1b6da"
            ],
            [
             0.4,
             "#fde0ef"
            ],
            [
             0.5,
             "#f7f7f7"
            ],
            [
             0.6,
             "#e6f5d0"
            ],
            [
             0.7,
             "#b8e186"
            ],
            [
             0.8,
             "#7fbc41"
            ],
            [
             0.9,
             "#4d9221"
            ],
            [
             1,
             "#276419"
            ]
           ],
           "sequential": [
            [
             0,
             "#0d0887"
            ],
            [
             0.1111111111111111,
             "#46039f"
            ],
            [
             0.2222222222222222,
             "#7201a8"
            ],
            [
             0.3333333333333333,
             "#9c179e"
            ],
            [
             0.4444444444444444,
             "#bd3786"
            ],
            [
             0.5555555555555556,
             "#d8576b"
            ],
            [
             0.6666666666666666,
             "#ed7953"
            ],
            [
             0.7777777777777778,
             "#fb9f3a"
            ],
            [
             0.8888888888888888,
             "#fdca26"
            ],
            [
             1,
             "#f0f921"
            ]
           ],
           "sequentialminus": [
            [
             0,
             "#0d0887"
            ],
            [
             0.1111111111111111,
             "#46039f"
            ],
            [
             0.2222222222222222,
             "#7201a8"
            ],
            [
             0.3333333333333333,
             "#9c179e"
            ],
            [
             0.4444444444444444,
             "#bd3786"
            ],
            [
             0.5555555555555556,
             "#d8576b"
            ],
            [
             0.6666666666666666,
             "#ed7953"
            ],
            [
             0.7777777777777778,
             "#fb9f3a"
            ],
            [
             0.8888888888888888,
             "#fdca26"
            ],
            [
             1,
             "#f0f921"
            ]
           ]
          },
          "colorway": [
           "#636efa",
           "#EF553B",
           "#00cc96",
           "#ab63fa",
           "#FFA15A",
           "#19d3f3",
           "#FF6692",
           "#B6E880",
           "#FF97FF",
           "#FECB52"
          ],
          "font": {
           "color": "#2a3f5f"
          },
          "geo": {
           "bgcolor": "white",
           "lakecolor": "white",
           "landcolor": "#E5ECF6",
           "showlakes": true,
           "showland": true,
           "subunitcolor": "white"
          },
          "hoverlabel": {
           "align": "left"
          },
          "hovermode": "closest",
          "mapbox": {
           "style": "light"
          },
          "paper_bgcolor": "white",
          "plot_bgcolor": "#E5ECF6",
          "polar": {
           "angularaxis": {
            "gridcolor": "white",
            "linecolor": "white",
            "ticks": ""
           },
           "bgcolor": "#E5ECF6",
           "radialaxis": {
            "gridcolor": "white",
            "linecolor": "white",
            "ticks": ""
           }
          },
          "scene": {
           "xaxis": {
            "backgroundcolor": "#E5ECF6",
            "gridcolor": "white",
            "gridwidth": 2,
            "linecolor": "white",
            "showbackground": true,
            "ticks": "",
            "zerolinecolor": "white"
           },
           "yaxis": {
            "backgroundcolor": "#E5ECF6",
            "gridcolor": "white",
            "gridwidth": 2,
            "linecolor": "white",
            "showbackground": true,
            "ticks": "",
            "zerolinecolor": "white"
           },
           "zaxis": {
            "backgroundcolor": "#E5ECF6",
            "gridcolor": "white",
            "gridwidth": 2,
            "linecolor": "white",
            "showbackground": true,
            "ticks": "",
            "zerolinecolor": "white"
           }
          },
          "shapedefaults": {
           "line": {
            "color": "#2a3f5f"
           }
          },
          "ternary": {
           "aaxis": {
            "gridcolor": "white",
            "linecolor": "white",
            "ticks": ""
           },
           "baxis": {
            "gridcolor": "white",
            "linecolor": "white",
            "ticks": ""
           },
           "bgcolor": "#E5ECF6",
           "caxis": {
            "gridcolor": "white",
            "linecolor": "white",
            "ticks": ""
           }
          },
          "title": {
           "x": 0.05
          },
          "xaxis": {
           "automargin": true,
           "gridcolor": "white",
           "linecolor": "white",
           "ticks": "",
           "title": {
            "standoff": 15
           },
           "zerolinecolor": "white",
           "zerolinewidth": 2
          },
          "yaxis": {
           "automargin": true,
           "gridcolor": "white",
           "linecolor": "white",
           "ticks": "",
           "title": {
            "standoff": 15
           },
           "zerolinecolor": "white",
           "zerolinewidth": 2
          }
         }
        },
        "title": {
         "text": "Гистограмма распределения значений MIC (µg/mL)"
        }
       }
      }
     },
     "metadata": {},
     "output_type": "display_data"
    }
   ],
   "source": [
    "MIC_µg_mL = \"MIC (µg/mL)\"\n",
    "\n",
    "data = ds_cleaned[MIC_µg_mL]\n",
    "hist = go.Histogram(x=data, nbinsx=40, name='Histogram', marker=dict(color='skyblue', line = dict(color='black', width = 1.5)))\n",
    "layout = go.Layout(bargap=0.2, title='Гистограмма распределения значений MIC (µg/mL)')\n",
    "fig = go.Figure(data=[hist], layout=layout)\n",
    "\n",
    "fig.show()"
   ]
  },
  {
   "cell_type": "code",
   "execution_count": 130,
   "metadata": {},
   "outputs": [
    {
     "data": {
      "application/vnd.plotly.v1+json": {
       "config": {
        "plotlyServerURL": "https://plot.ly"
       },
       "data": [
        {
         "marker": {
          "color": "skyblue",
          "line": {
           "color": "black",
           "width": 1.5
          }
         },
         "name": "Histogram",
         "nbinsx": 40,
         "type": "histogram",
         "x": [
          560.9610000000002,
          605.4120000000001,
          605.4120000000001,
          289.59300000000013,
          334.0440000000002,
          402.9250000000002,
          572.6730000000002,
          586.7000000000002,
          600.7270000000002,
          205.22099999999992,
          349.3980000000002,
          377.45200000000017,
          363.42500000000024,
          417.39500000000027,
          408.42200000000025,
          391.43500000000023,
          363.42500000000024,
          391.4790000000003,
          295.298,
          309.32500000000005,
          337.3790000000001,
          337.3790000000001,
          313.288,
          327.31500000000005,
          341.34200000000004,
          355.3690000000001,
          355.3690000000001,
          329.743,
          343.77000000000004,
          357.7970000000001,
          371.8240000000001,
          371.8240000000001,
          340.2950000000001,
          354.3220000000001,
          368.3490000000001,
          382.37600000000015,
          382.37600000000015,
          325.32400000000007,
          339.3510000000001,
          353.3780000000001,
          367.40500000000014,
          367.40500000000014,
          296.286,
          310.31300000000005,
          324.34000000000003,
          338.3670000000001,
          338.3670000000001,
          325.324,
          341.39200000000005,
          343.314,
          359.38200000000006,
          359.76900000000006,
          375.8370000000001,
          370.3210000000001,
          386.3890000000001,
          355.3500000000001,
          371.4180000000001,
          326.312,
          342.38000000000005,
          473.9160000000004,
          508.3610000000004,
          552.8120000000002,
          487.9430000000004,
          503.94200000000035,
          501.9700000000004,
          530.0240000000005,
          544.0510000000005,
          558.0780000000004,
          586.1320000000003,
          614.1860000000004,
          528.0080000000005,
          570.0890000000003,
          513.9810000000004,
          511.9650000000004,
          517.9690000000004,
          545.0390000000004,
          587.0760000000002,
          582.0310000000002,
          600.0210000000001,
          598.4860000000001,
          632.931,
          632.931,
          585.0600000000002,
          601.0590000000001,
          587.0760000000001,
          615.13,
          588.0600000000002,
          366.37700000000007,
          382.44500000000016,
          396.47200000000015,
          461.3410000000002,
          427.44200000000023,
          416.8900000000002,
          410.49900000000025,
          475.36800000000017,
          441.4690000000002,
          430.91700000000014,
          424.52600000000024,
          419.5330000000004,
          447.5870000000005,
          475.6410000000006,
          503.6950000000007,
          559.8030000000006,
          375.43600000000026,
          373.4200000000002,
          425.49600000000027,
          443.4860000000003,
          443.4860000000003,
          459.94100000000026,
          459.94100000000026,
          459.94100000000026,
          203.2489999999999,
          417.5610000000004,
          189.22199999999992,
          403.5340000000004,
          435.4590000000002,
          447.4700000000002,
          449.4860000000002,
          467.4760000000002,
          483.93100000000027,
          528.3820000000002,
          494.4830000000003,
          461.49700000000024,
          479.48700000000025,
          495.9420000000003,
          540.393,
          506.4940000000003,
          477.5400000000003,
          491.56700000000035,
          519.6210000000004,
          533.6480000000004,
          561.7020000000002,
          589.7560000000001,
          617.81,
          701.9719999999995,
          489.55100000000033,
          503.5780000000004,
          531.6320000000003,
          545.6590000000003,
          573.7130000000002,
          601.767,
          629.8209999999999,
          713.9829999999995,
          574.0559999999999,
          574.0559999999999,
          557.601,
          557.601,
          557.601,
          608.5009999999999,
          584.608,
          586.0669999999999,
          586.0669999999999,
          569.612,
          569.612,
          569.612,
          620.5119999999998,
          596.6189999999999,
          463.51300000000026,
          475.5240000000003,
          464.5010000000002,
          476.5120000000002,
          476.5120000000002,
          488.52300000000025,
          397.41000000000014,
          411.4370000000002,
          412.42500000000007,
          465.407,
          411.4370000000002,
          425.4640000000002,
          427.4360000000002,
          415.4,
          476.306,
          409.42100000000016,
          423.4480000000002,
          477.41800000000006,
          423.4480000000002,
          437.47500000000025,
          439.44700000000023,
          427.41100000000006,
          427.41100000000006,
          228.682,
          228.682,
          263.12699999999995,
          263.12699999999995,
          246.67200000000005,
          254.289,
          238.29,
          240.262,
          212.22700000000003,
          210.236,
          289.132,
          210.236,
          240.262,
          224.263,
          240.331,
          239.234,
          239.234,
          237.306,
          294.357,
          238.246,
          195.225,
          195.225,
          242.70899999999995,
          242.70899999999995,
          277.154,
          277.154,
          260.699,
          268.316,
          252.317,
          268.31600000000003,
          226.254,
          224.263,
          303.159,
          224.263,
          254.289,
          238.29,
          254.358,
          253.261,
          253.261,
          251.333,
          308.38400000000007,
          252.27299999999997,
          198.225,
          209.252,
          209.252,
          268.747,
          303.19200000000006,
          294.35400000000004,
          279.29900000000004,
          318.80699999999996,
          353.25200000000007,
          344.41400000000004,
          328.415,
          314.388,
          329.35900000000004,
          353.25199999999995,
          282.774,
          293.326,
          332.834,
          367.2790000000001,
          316.379,
          344.48300000000006,
          343.386,
          367.27900000000005,
          367.27900000000005,
          377.8310000000001,
          288.35,
          228.682,
          228.682,
          263.12699999999995,
          263.12699999999995,
          246.67200000000005,
          254.289,
          238.29,
          240.262,
          212.22700000000003,
          210.236,
          289.132,
          210.236,
          240.262,
          224.263,
          240.331,
          239.234,
          239.234,
          237.306,
          294.357,
          238.246,
          195.225,
          195.225,
          242.70899999999995,
          242.70899999999995,
          277.154,
          277.154,
          260.699,
          268.316,
          252.317,
          268.31600000000003,
          226.254,
          224.263,
          303.159,
          224.263,
          254.289,
          238.29,
          254.358,
          253.261,
          253.261,
          251.333,
          308.38400000000007,
          252.27299999999997,
          198.225,
          209.252,
          209.252,
          268.747,
          303.19200000000006,
          294.35400000000004,
          279.29900000000004,
          318.80699999999996,
          353.25200000000007,
          344.41400000000004,
          328.415,
          314.388,
          329.35900000000004,
          353.25199999999995,
          282.774,
          293.326,
          332.834,
          367.2790000000001,
          316.379,
          344.48300000000006,
          343.386,
          367.27900000000005,
          367.27900000000005,
          377.8310000000001,
          288.35,
          366.37700000000007,
          382.44500000000016,
          396.47200000000015,
          461.3410000000002,
          427.44200000000023,
          416.8900000000002,
          410.49900000000025,
          475.36800000000017,
          441.4690000000002,
          430.91700000000014,
          424.52600000000024,
          397.41000000000014,
          411.4370000000002,
          412.42500000000007,
          465.407,
          411.4370000000002,
          425.4640000000002,
          427.4360000000002,
          415.4,
          476.306,
          409.42100000000016,
          423.4480000000002,
          477.41800000000006,
          423.4480000000002,
          437.47500000000025,
          439.44700000000023,
          427.41100000000006,
          427.41100000000006,
          366.37700000000007,
          382.44500000000016,
          396.47200000000015,
          461.3410000000002,
          427.44200000000023,
          416.8900000000002,
          410.49900000000025,
          475.36800000000017,
          441.4690000000002,
          430.91700000000014,
          424.52600000000024,
          397.41000000000014,
          411.4370000000002,
          412.42500000000007,
          465.407,
          411.4370000000002,
          425.4640000000002,
          427.4360000000002,
          415.4,
          476.306,
          409.42100000000016,
          423.4480000000002,
          477.41800000000006,
          423.4480000000002,
          437.47500000000025,
          439.44700000000023,
          427.41100000000006,
          427.41100000000006,
          366.37700000000007,
          382.44500000000016,
          396.47200000000015,
          461.3410000000002,
          427.44200000000023,
          416.8900000000002,
          410.49900000000025,
          475.36800000000017,
          441.4690000000002,
          430.91700000000014,
          424.52600000000024,
          397.41000000000014,
          411.4370000000002,
          412.42500000000007,
          465.407,
          411.4370000000002,
          425.4640000000002,
          427.4360000000002,
          415.4,
          476.306,
          409.42100000000016,
          423.4480000000002,
          477.41800000000006,
          423.4480000000002,
          437.47500000000025,
          439.44700000000023,
          427.41100000000006,
          427.41100000000006,
          484.3830000000001,
          449.5180000000001,
          403.4020000000001,
          431.4560000000002,
          417.42900000000014,
          449.49600000000015,
          479.50000000000017,
          480.48800000000017,
          358.405,
          386.45900000000006,
          372.432,
          404.499,
          434.503,
          435.491,
          372.432,
          400.4860000000001,
          386.45900000000006,
          418.52600000000007,
          448.5300000000001,
          449.5180000000001,
          403.4020000000001,
          431.4560000000002,
          417.42900000000014,
          449.49600000000015,
          479.50000000000017,
          479.50000000000017,
          322.37200000000007,
          280.33099999999996,
          338.4400000000001,
          338.4400000000001,
          296.399,
          304.353,
          295.411,
          280.331,
          296.399,
          473.9160000000004,
          508.3610000000004,
          552.8120000000002,
          487.9430000000004,
          503.94200000000035,
          501.9700000000004,
          530.0240000000005,
          544.0510000000005,
          558.0780000000004,
          586.1320000000003,
          614.1860000000004,
          528.0080000000005,
          570.0890000000003,
          513.9810000000004,
          511.9650000000004,
          517.9690000000004,
          545.0390000000004,
          587.0760000000002,
          582.0310000000002,
          600.0210000000001,
          598.4860000000001,
          632.931,
          632.931,
          585.0600000000002,
          601.0590000000001,
          587.0760000000001,
          615.13,
          588.0600000000002,
          422.27500000000015,
          439.27700000000016,
          469.75900000000024,
          422.27500000000015,
          455.7320000000001,
          469.7590000000001,
          405.82000000000016,
          439.27700000000016,
          482.92400000000015,
          439.27700000000016,
          482.92400000000015,
          455.7320000000001,
          499.3790000000002,
          439.27700000000016,
          453.3040000000002,
          455.7320000000001,
          422.27500000000015,
          455.7320000000002,
          469.7590000000001,
          513.4060000000002,
          228.25500000000005,
          273.25200000000007,
          353.38500000000005,
          205.22099999999992,
          349.3980000000002,
          377.45200000000017,
          363.42500000000024,
          417.39500000000027,
          408.42200000000025,
          391.43500000000023,
          363.42500000000024,
          391.4790000000003,
          419.5330000000004,
          447.5870000000005,
          475.6410000000006,
          503.6950000000007,
          559.8030000000006,
          375.43600000000026,
          373.4200000000002,
          425.49600000000027,
          443.4860000000003,
          443.4860000000003,
          443.4860000000003,
          459.94100000000026,
          459.94100000000026,
          459.94100000000026,
          203.2489999999999,
          417.5610000000004,
          189.22199999999992,
          403.5340000000004,
          425.9210000000003,
          470.37200000000024,
          405.5030000000002,
          409.46600000000024,
          470.37200000000024,
          395.8950000000002,
          413.8850000000002,
          450.5080000000002,
          335.4360000000001,
          383.9080000000002,
          363.4900000000001,
          363.4900000000001,
          427.5330000000002,
          402.9250000000002,
          236.318,
          250.345,
          371.395,
          424.8950000000001,
          424.8950000000001,
          420.47600000000017,
          435.44700000000006,
          458.4470000000002,
          374.8060000000001,
          442.70800000000014,
          340.36100000000005,
          408.2630000000001,
          503.97300000000024,
          503.97300000000024,
          447.92900000000014,
          413.4840000000001,
          524.0270000000002,
          542.0170000000002,
          419.5330000000003,
          280.28700000000003,
          269.735,
          346.217,
          356.769,
          346.217,
          269.735,
          280.287,
          280.287,
          278.35900000000004,
          295.34200000000004,
          356.7690000000001,
          356.769,
          354.841,
          371.82400000000007,
          367.35500000000013,
          410.37400000000014,
          280.22400000000005,
          295.14400000000006,
          329.58900000000006,
          210.24,
          291.3540000000001,
          312.27900000000005,
          384.2880000000001,
          282.10100000000006,
          316.54600000000005,
          468.5600000000002,
          468.5600000000002,
          468.5600000000002,
          488.97800000000024,
          458.49600000000015,
          472.52300000000014,
          472.52300000000014,
          472.52300000000014,
          492.9410000000002,
          508.50300000000016,
          522.5300000000002,
          522.5300000000002,
          522.5300000000002,
          542.9480000000002,
          455.5210000000002,
          469.5480000000002,
          469.5480000000002,
          459.48400000000015,
          473.51100000000014,
          473.51100000000014,
          509.49100000000016,
          523.5180000000001,
          523.5180000000001,
          455.5210000000002,
          459.48400000000015,
          509.49100000000016,
          383.45100000000014,
          383.53900000000016,
          453.29600000000016,
          392.39000000000016,
          540.4010000000003,
          479.49500000000023,
          554.4280000000003,
          568.4550000000003,
          574.8460000000003,
          619.2970000000004,
          507.5490000000003,
          507.5490000000003,
          558.3910000000003,
          513.9400000000003,
          559.3990000000001,
          609.4060000000003,
          494.53000000000026,
          548.5000000000002,
          295.298,
          309.32500000000005,
          337.3790000000001,
          337.3790000000001,
          313.288,
          327.31500000000005,
          341.34200000000004,
          355.3690000000001,
          355.3690000000001,
          329.743,
          343.77000000000004,
          357.7970000000001,
          371.8240000000001,
          371.8240000000001,
          340.2950000000001,
          354.3220000000001,
          368.3490000000001,
          382.37600000000015,
          382.37600000000015,
          325.32400000000007,
          339.3510000000001,
          353.3780000000001,
          367.40500000000014,
          367.40500000000014,
          296.286,
          310.31300000000005,
          324.34000000000003,
          338.3670000000001,
          338.3670000000001,
          325.324,
          341.39200000000005,
          343.314,
          359.38200000000006,
          359.76900000000006,
          375.8370000000001,
          370.3210000000001,
          386.3890000000001,
          355.3500000000001,
          371.4180000000001,
          326.312,
          342.38000000000005,
          473.9160000000004,
          508.3610000000004,
          552.8120000000002,
          487.9430000000004,
          503.94200000000035,
          501.9700000000004,
          530.0240000000005,
          544.0510000000005,
          558.0780000000004,
          586.1320000000003,
          614.1860000000004,
          528.0080000000005,
          570.0890000000003,
          513.9810000000004,
          511.9650000000004,
          517.9690000000004,
          545.0390000000004,
          587.0760000000002,
          582.0310000000002,
          600.0210000000001,
          598.4860000000001,
          632.931,
          632.931,
          585.0600000000002,
          601.0590000000001,
          587.0760000000001,
          615.13,
          588.0600000000002,
          443.8900000000001,
          205.22099999999992,
          349.3980000000002,
          377.45200000000017,
          363.42500000000024,
          417.39500000000027,
          408.42200000000025,
          391.43500000000023,
          363.42500000000024,
          391.4790000000003,
          419.5330000000004,
          447.5870000000005,
          475.6410000000006,
          503.6950000000007,
          559.8030000000006,
          375.43600000000026,
          373.4200000000002,
          425.49600000000027,
          443.4860000000003,
          443.4860000000003,
          443.4860000000003,
          459.94100000000026,
          459.94100000000026,
          459.94100000000026,
          203.2489999999999,
          417.5610000000004,
          189.22199999999992,
          403.5340000000004,
          205.22099999999992,
          349.3980000000002,
          377.45200000000017,
          363.42500000000024,
          417.39500000000027,
          408.42200000000025,
          391.43500000000023,
          363.42500000000024,
          391.4790000000003,
          419.5330000000004,
          447.5870000000005,
          475.6410000000006,
          503.6950000000007,
          559.8030000000006,
          375.43600000000026,
          373.4200000000002,
          425.49600000000027,
          443.4860000000003,
          443.4860000000003,
          443.4860000000003,
          459.94100000000026,
          459.94100000000026,
          459.94100000000026,
          203.2489999999999,
          417.5610000000004,
          189.22199999999992,
          403.5340000000004,
          418.8400000000001,
          445.9540000000001,
          416.9120000000001,
          420.9250000000001,
          442.828,
          450.92900000000014,
          418.88400000000007,
          480.9550000000001,
          399.84100000000007,
          418.8400000000001,
          278.297,
          368.42200000000014,
          334.4050000000001,
          360.443,
          320.37800000000004,
          384.42100000000016,
          388.84000000000015,
          372.3850000000001,
          384.4210000000001,
          354.3950000000001,
          306.35100000000006,
          433.29100000000017,
          423.2850000000002,
          402.3210000000001,
          394.342,
          577.4820000000003,
          591.5090000000004,
          569.3810000000004,
          580.2800000000003,
          435.4590000000002,
          447.4700000000002,
          449.4860000000002,
          467.4760000000002,
          483.93100000000027,
          528.3820000000002,
          494.4830000000003,
          461.49700000000024,
          479.48700000000025,
          495.9420000000003,
          540.393,
          506.4940000000003,
          477.5400000000003,
          491.56700000000035,
          519.6210000000004,
          533.6480000000004,
          561.7020000000002,
          589.7560000000001,
          617.81,
          701.9719999999995,
          489.55100000000033,
          503.5780000000004,
          531.6320000000003,
          545.6590000000003,
          573.7130000000002,
          601.767,
          629.8209999999999,
          713.9829999999995,
          574.0559999999999,
          574.0559999999999,
          557.601,
          557.601,
          557.601,
          608.5009999999999,
          584.608,
          586.0669999999999,
          586.0669999999999,
          569.612,
          569.612,
          569.612,
          620.5119999999998,
          596.6189999999999,
          463.51300000000026,
          475.5240000000003,
          464.5010000000002,
          476.5120000000002,
          476.5120000000002,
          488.52300000000025,
          431.4610000000001,
          290.37,
          287.322,
          281.315,
          237.262,
          266.26000000000005,
          264.33200000000005,
          266.26000000000005,
          159.192,
          251.289,
          215.256,
          311.341,
          201.22900000000004,
          445.3910000000002,
          409.3580000000001,
          257.293,
          431.3640000000002,
          435.4830000000001,
          465.5090000000001,
          505.4430000000002,
          549.7560000000003,
          447.4540000000002,
          439.47500000000014,
          413.4370000000001,
          436.42700000000013,
          415.3650000000001,
          420.4280000000001,
          430.4200000000002,
          504.6750000000001,
          502.7470000000001,
          418.5000000000001,
          447.92900000000014,
          465.9190000000002,
          447.92900000000014,
          413.4840000000001,
          431.47400000000016,
          507.9810000000003,
          524.5060000000002,
          629.4930000000002,
          411.41200000000015,
          458.48100000000017,
          492.38000000000017,
          518.5330000000004,
          482.3740000000002,
          618.1000000000001,
          582.6670000000003,
          428.50300000000016,
          463.5480000000002,
          469.57700000000017,
          464.5360000000002,
          492.5900000000002,
          481.56300000000016,
          834.9739999999998,
          778.8660000000001,
          776.8900000000001,
          788.9480000000001,
          812.92,
          706.8000000000002,
          500.97100000000023,
          471.9730000000002,
          441.9470000000001,
          476.3920000000001,
          468.49800000000016,
          425.49200000000013,
          470.48900000000015,
          457.9460000000001,
          445.9100000000001,
          486.48800000000017,
          475.9360000000001,
          441.9470000000001,
          476.39200000000017,
          349.39400000000006,
          394.3910000000001,
          383.83900000000006,
          365.8490000000001,
          410.8460000000001,
          400.2940000000001,
          345.4310000000001,
          379.8760000000001,
          411.8960000000002,
          487.9940000000002,
          560.9610000000002,
          560.9610000000002,
          560.9610000000002,
          605.4120000000001,
          605.4120000000001,
          526.5160000000002,
          542.5150000000002,
          542.5150000000002,
          542.5150000000002,
          544.5060000000002,
          544.5060000000002,
          540.5430000000002,
          540.5430000000002,
          540.5430000000002,
          556.5420000000003,
          556.5420000000003,
          571.5130000000003,
          418.8400000000001,
          445.9540000000001,
          416.9120000000001,
          420.9250000000001,
          442.828,
          450.92900000000014,
          418.88400000000007,
          480.9550000000001,
          399.84100000000007,
          418.8400000000001,
          318.34000000000003,
          394.4380000000001,
          428.88300000000015,
          412.4280000000001,
          424.4640000000001,
          428.88300000000015,
          412.4280000000001,
          461.54400000000015,
          511.5510000000002,
          431.4710000000002
         ]
        }
       ],
       "layout": {
        "bargap": 0.2,
        "template": {
         "data": {
          "bar": [
           {
            "error_x": {
             "color": "#2a3f5f"
            },
            "error_y": {
             "color": "#2a3f5f"
            },
            "marker": {
             "line": {
              "color": "#E5ECF6",
              "width": 0.5
             },
             "pattern": {
              "fillmode": "overlay",
              "size": 10,
              "solidity": 0.2
             }
            },
            "type": "bar"
           }
          ],
          "barpolar": [
           {
            "marker": {
             "line": {
              "color": "#E5ECF6",
              "width": 0.5
             },
             "pattern": {
              "fillmode": "overlay",
              "size": 10,
              "solidity": 0.2
             }
            },
            "type": "barpolar"
           }
          ],
          "carpet": [
           {
            "aaxis": {
             "endlinecolor": "#2a3f5f",
             "gridcolor": "white",
             "linecolor": "white",
             "minorgridcolor": "white",
             "startlinecolor": "#2a3f5f"
            },
            "baxis": {
             "endlinecolor": "#2a3f5f",
             "gridcolor": "white",
             "linecolor": "white",
             "minorgridcolor": "white",
             "startlinecolor": "#2a3f5f"
            },
            "type": "carpet"
           }
          ],
          "choropleth": [
           {
            "colorbar": {
             "outlinewidth": 0,
             "ticks": ""
            },
            "type": "choropleth"
           }
          ],
          "contour": [
           {
            "colorbar": {
             "outlinewidth": 0,
             "ticks": ""
            },
            "colorscale": [
             [
              0,
              "#0d0887"
             ],
             [
              0.1111111111111111,
              "#46039f"
             ],
             [
              0.2222222222222222,
              "#7201a8"
             ],
             [
              0.3333333333333333,
              "#9c179e"
             ],
             [
              0.4444444444444444,
              "#bd3786"
             ],
             [
              0.5555555555555556,
              "#d8576b"
             ],
             [
              0.6666666666666666,
              "#ed7953"
             ],
             [
              0.7777777777777778,
              "#fb9f3a"
             ],
             [
              0.8888888888888888,
              "#fdca26"
             ],
             [
              1,
              "#f0f921"
             ]
            ],
            "type": "contour"
           }
          ],
          "contourcarpet": [
           {
            "colorbar": {
             "outlinewidth": 0,
             "ticks": ""
            },
            "type": "contourcarpet"
           }
          ],
          "heatmap": [
           {
            "colorbar": {
             "outlinewidth": 0,
             "ticks": ""
            },
            "colorscale": [
             [
              0,
              "#0d0887"
             ],
             [
              0.1111111111111111,
              "#46039f"
             ],
             [
              0.2222222222222222,
              "#7201a8"
             ],
             [
              0.3333333333333333,
              "#9c179e"
             ],
             [
              0.4444444444444444,
              "#bd3786"
             ],
             [
              0.5555555555555556,
              "#d8576b"
             ],
             [
              0.6666666666666666,
              "#ed7953"
             ],
             [
              0.7777777777777778,
              "#fb9f3a"
             ],
             [
              0.8888888888888888,
              "#fdca26"
             ],
             [
              1,
              "#f0f921"
             ]
            ],
            "type": "heatmap"
           }
          ],
          "heatmapgl": [
           {
            "colorbar": {
             "outlinewidth": 0,
             "ticks": ""
            },
            "colorscale": [
             [
              0,
              "#0d0887"
             ],
             [
              0.1111111111111111,
              "#46039f"
             ],
             [
              0.2222222222222222,
              "#7201a8"
             ],
             [
              0.3333333333333333,
              "#9c179e"
             ],
             [
              0.4444444444444444,
              "#bd3786"
             ],
             [
              0.5555555555555556,
              "#d8576b"
             ],
             [
              0.6666666666666666,
              "#ed7953"
             ],
             [
              0.7777777777777778,
              "#fb9f3a"
             ],
             [
              0.8888888888888888,
              "#fdca26"
             ],
             [
              1,
              "#f0f921"
             ]
            ],
            "type": "heatmapgl"
           }
          ],
          "histogram": [
           {
            "marker": {
             "pattern": {
              "fillmode": "overlay",
              "size": 10,
              "solidity": 0.2
             }
            },
            "type": "histogram"
           }
          ],
          "histogram2d": [
           {
            "colorbar": {
             "outlinewidth": 0,
             "ticks": ""
            },
            "colorscale": [
             [
              0,
              "#0d0887"
             ],
             [
              0.1111111111111111,
              "#46039f"
             ],
             [
              0.2222222222222222,
              "#7201a8"
             ],
             [
              0.3333333333333333,
              "#9c179e"
             ],
             [
              0.4444444444444444,
              "#bd3786"
             ],
             [
              0.5555555555555556,
              "#d8576b"
             ],
             [
              0.6666666666666666,
              "#ed7953"
             ],
             [
              0.7777777777777778,
              "#fb9f3a"
             ],
             [
              0.8888888888888888,
              "#fdca26"
             ],
             [
              1,
              "#f0f921"
             ]
            ],
            "type": "histogram2d"
           }
          ],
          "histogram2dcontour": [
           {
            "colorbar": {
             "outlinewidth": 0,
             "ticks": ""
            },
            "colorscale": [
             [
              0,
              "#0d0887"
             ],
             [
              0.1111111111111111,
              "#46039f"
             ],
             [
              0.2222222222222222,
              "#7201a8"
             ],
             [
              0.3333333333333333,
              "#9c179e"
             ],
             [
              0.4444444444444444,
              "#bd3786"
             ],
             [
              0.5555555555555556,
              "#d8576b"
             ],
             [
              0.6666666666666666,
              "#ed7953"
             ],
             [
              0.7777777777777778,
              "#fb9f3a"
             ],
             [
              0.8888888888888888,
              "#fdca26"
             ],
             [
              1,
              "#f0f921"
             ]
            ],
            "type": "histogram2dcontour"
           }
          ],
          "mesh3d": [
           {
            "colorbar": {
             "outlinewidth": 0,
             "ticks": ""
            },
            "type": "mesh3d"
           }
          ],
          "parcoords": [
           {
            "line": {
             "colorbar": {
              "outlinewidth": 0,
              "ticks": ""
             }
            },
            "type": "parcoords"
           }
          ],
          "pie": [
           {
            "automargin": true,
            "type": "pie"
           }
          ],
          "scatter": [
           {
            "fillpattern": {
             "fillmode": "overlay",
             "size": 10,
             "solidity": 0.2
            },
            "type": "scatter"
           }
          ],
          "scatter3d": [
           {
            "line": {
             "colorbar": {
              "outlinewidth": 0,
              "ticks": ""
             }
            },
            "marker": {
             "colorbar": {
              "outlinewidth": 0,
              "ticks": ""
             }
            },
            "type": "scatter3d"
           }
          ],
          "scattercarpet": [
           {
            "marker": {
             "colorbar": {
              "outlinewidth": 0,
              "ticks": ""
             }
            },
            "type": "scattercarpet"
           }
          ],
          "scattergeo": [
           {
            "marker": {
             "colorbar": {
              "outlinewidth": 0,
              "ticks": ""
             }
            },
            "type": "scattergeo"
           }
          ],
          "scattergl": [
           {
            "marker": {
             "colorbar": {
              "outlinewidth": 0,
              "ticks": ""
             }
            },
            "type": "scattergl"
           }
          ],
          "scattermapbox": [
           {
            "marker": {
             "colorbar": {
              "outlinewidth": 0,
              "ticks": ""
             }
            },
            "type": "scattermapbox"
           }
          ],
          "scatterpolar": [
           {
            "marker": {
             "colorbar": {
              "outlinewidth": 0,
              "ticks": ""
             }
            },
            "type": "scatterpolar"
           }
          ],
          "scatterpolargl": [
           {
            "marker": {
             "colorbar": {
              "outlinewidth": 0,
              "ticks": ""
             }
            },
            "type": "scatterpolargl"
           }
          ],
          "scatterternary": [
           {
            "marker": {
             "colorbar": {
              "outlinewidth": 0,
              "ticks": ""
             }
            },
            "type": "scatterternary"
           }
          ],
          "surface": [
           {
            "colorbar": {
             "outlinewidth": 0,
             "ticks": ""
            },
            "colorscale": [
             [
              0,
              "#0d0887"
             ],
             [
              0.1111111111111111,
              "#46039f"
             ],
             [
              0.2222222222222222,
              "#7201a8"
             ],
             [
              0.3333333333333333,
              "#9c179e"
             ],
             [
              0.4444444444444444,
              "#bd3786"
             ],
             [
              0.5555555555555556,
              "#d8576b"
             ],
             [
              0.6666666666666666,
              "#ed7953"
             ],
             [
              0.7777777777777778,
              "#fb9f3a"
             ],
             [
              0.8888888888888888,
              "#fdca26"
             ],
             [
              1,
              "#f0f921"
             ]
            ],
            "type": "surface"
           }
          ],
          "table": [
           {
            "cells": {
             "fill": {
              "color": "#EBF0F8"
             },
             "line": {
              "color": "white"
             }
            },
            "header": {
             "fill": {
              "color": "#C8D4E3"
             },
             "line": {
              "color": "white"
             }
            },
            "type": "table"
           }
          ]
         },
         "layout": {
          "annotationdefaults": {
           "arrowcolor": "#2a3f5f",
           "arrowhead": 0,
           "arrowwidth": 1
          },
          "autotypenumbers": "strict",
          "coloraxis": {
           "colorbar": {
            "outlinewidth": 0,
            "ticks": ""
           }
          },
          "colorscale": {
           "diverging": [
            [
             0,
             "#8e0152"
            ],
            [
             0.1,
             "#c51b7d"
            ],
            [
             0.2,
             "#de77ae"
            ],
            [
             0.3,
             "#f1b6da"
            ],
            [
             0.4,
             "#fde0ef"
            ],
            [
             0.5,
             "#f7f7f7"
            ],
            [
             0.6,
             "#e6f5d0"
            ],
            [
             0.7,
             "#b8e186"
            ],
            [
             0.8,
             "#7fbc41"
            ],
            [
             0.9,
             "#4d9221"
            ],
            [
             1,
             "#276419"
            ]
           ],
           "sequential": [
            [
             0,
             "#0d0887"
            ],
            [
             0.1111111111111111,
             "#46039f"
            ],
            [
             0.2222222222222222,
             "#7201a8"
            ],
            [
             0.3333333333333333,
             "#9c179e"
            ],
            [
             0.4444444444444444,
             "#bd3786"
            ],
            [
             0.5555555555555556,
             "#d8576b"
            ],
            [
             0.6666666666666666,
             "#ed7953"
            ],
            [
             0.7777777777777778,
             "#fb9f3a"
            ],
            [
             0.8888888888888888,
             "#fdca26"
            ],
            [
             1,
             "#f0f921"
            ]
           ],
           "sequentialminus": [
            [
             0,
             "#0d0887"
            ],
            [
             0.1111111111111111,
             "#46039f"
            ],
            [
             0.2222222222222222,
             "#7201a8"
            ],
            [
             0.3333333333333333,
             "#9c179e"
            ],
            [
             0.4444444444444444,
             "#bd3786"
            ],
            [
             0.5555555555555556,
             "#d8576b"
            ],
            [
             0.6666666666666666,
             "#ed7953"
            ],
            [
             0.7777777777777778,
             "#fb9f3a"
            ],
            [
             0.8888888888888888,
             "#fdca26"
            ],
            [
             1,
             "#f0f921"
            ]
           ]
          },
          "colorway": [
           "#636efa",
           "#EF553B",
           "#00cc96",
           "#ab63fa",
           "#FFA15A",
           "#19d3f3",
           "#FF6692",
           "#B6E880",
           "#FF97FF",
           "#FECB52"
          ],
          "font": {
           "color": "#2a3f5f"
          },
          "geo": {
           "bgcolor": "white",
           "lakecolor": "white",
           "landcolor": "#E5ECF6",
           "showlakes": true,
           "showland": true,
           "subunitcolor": "white"
          },
          "hoverlabel": {
           "align": "left"
          },
          "hovermode": "closest",
          "mapbox": {
           "style": "light"
          },
          "paper_bgcolor": "white",
          "plot_bgcolor": "#E5ECF6",
          "polar": {
           "angularaxis": {
            "gridcolor": "white",
            "linecolor": "white",
            "ticks": ""
           },
           "bgcolor": "#E5ECF6",
           "radialaxis": {
            "gridcolor": "white",
            "linecolor": "white",
            "ticks": ""
           }
          },
          "scene": {
           "xaxis": {
            "backgroundcolor": "#E5ECF6",
            "gridcolor": "white",
            "gridwidth": 2,
            "linecolor": "white",
            "showbackground": true,
            "ticks": "",
            "zerolinecolor": "white"
           },
           "yaxis": {
            "backgroundcolor": "#E5ECF6",
            "gridcolor": "white",
            "gridwidth": 2,
            "linecolor": "white",
            "showbackground": true,
            "ticks": "",
            "zerolinecolor": "white"
           },
           "zaxis": {
            "backgroundcolor": "#E5ECF6",
            "gridcolor": "white",
            "gridwidth": 2,
            "linecolor": "white",
            "showbackground": true,
            "ticks": "",
            "zerolinecolor": "white"
           }
          },
          "shapedefaults": {
           "line": {
            "color": "#2a3f5f"
           }
          },
          "ternary": {
           "aaxis": {
            "gridcolor": "white",
            "linecolor": "white",
            "ticks": ""
           },
           "baxis": {
            "gridcolor": "white",
            "linecolor": "white",
            "ticks": ""
           },
           "bgcolor": "#E5ECF6",
           "caxis": {
            "gridcolor": "white",
            "linecolor": "white",
            "ticks": ""
           }
          },
          "title": {
           "x": 0.05
          },
          "xaxis": {
           "automargin": true,
           "gridcolor": "white",
           "linecolor": "white",
           "ticks": "",
           "title": {
            "standoff": 15
           },
           "zerolinecolor": "white",
           "zerolinewidth": 2
          },
          "yaxis": {
           "automargin": true,
           "gridcolor": "white",
           "linecolor": "white",
           "ticks": "",
           "title": {
            "standoff": 15
           },
           "zerolinecolor": "white",
           "zerolinewidth": 2
          }
         }
        },
        "title": {
         "text": "Гистограмма распределения значений molar_mass"
        }
       }
      }
     },
     "metadata": {},
     "output_type": "display_data"
    }
   ],
   "source": [
    "molar_mass = \"molar_mass\"\n",
    "\n",
    "data = ds_cleaned[molar_mass]\n",
    "hist = go.Histogram(x=data, nbinsx=40, name='Histogram', marker=dict(color='skyblue', line = dict(color='black', width = 1.5)))\n",
    "layout = go.Layout(bargap=0.2, title='Гистограмма распределения значений molar_mass')\n",
    "fig = go.Figure(data=[hist], layout=layout)\n",
    "\n",
    "fig.show()"
   ]
  },
  {
   "cell_type": "code",
   "execution_count": 52,
   "metadata": {},
   "outputs": [
    {
     "data": {
      "application/vnd.plotly.v1+json": {
       "config": {
        "plotlyServerURL": "https://plot.ly"
       },
       "data": [
        {
         "marker": {
          "color": [
           560.9610000000002,
           605.4120000000001,
           605.4120000000001,
           289.59300000000013,
           334.0440000000002,
           402.9250000000002,
           572.6730000000002,
           586.7000000000002,
           600.7270000000002,
           205.22099999999992,
           349.3980000000002,
           377.45200000000017,
           363.42500000000024,
           417.39500000000027,
           408.42200000000025,
           391.43500000000023,
           363.42500000000024,
           391.4790000000003,
           295.298,
           309.32500000000005,
           337.3790000000001,
           337.3790000000001,
           313.288,
           327.31500000000005,
           341.34200000000004,
           355.3690000000001,
           355.3690000000001,
           329.743,
           343.77000000000004,
           357.7970000000001,
           371.8240000000001,
           371.8240000000001,
           340.2950000000001,
           354.3220000000001,
           368.3490000000001,
           382.37600000000015,
           382.37600000000015,
           325.32400000000007,
           339.3510000000001,
           353.3780000000001,
           367.40500000000014,
           367.40500000000014,
           296.286,
           310.31300000000005,
           324.34000000000003,
           338.3670000000001,
           338.3670000000001,
           325.324,
           341.39200000000005,
           343.314,
           359.38200000000006,
           359.76900000000006,
           375.8370000000001,
           370.3210000000001,
           386.3890000000001,
           355.3500000000001,
           371.4180000000001,
           326.312,
           342.38000000000005,
           473.9160000000004,
           508.3610000000004,
           552.8120000000002,
           487.9430000000004,
           503.94200000000035,
           501.9700000000004,
           530.0240000000005,
           544.0510000000005,
           558.0780000000004,
           586.1320000000003,
           614.1860000000004,
           528.0080000000005,
           570.0890000000003,
           513.9810000000004,
           511.9650000000004,
           517.9690000000004,
           545.0390000000004,
           587.0760000000002,
           582.0310000000002,
           600.0210000000001,
           598.4860000000001,
           632.931,
           632.931,
           585.0600000000002,
           601.0590000000001,
           587.0760000000001,
           615.13,
           588.0600000000002,
           366.37700000000007,
           382.44500000000016,
           396.47200000000015,
           461.3410000000002,
           427.44200000000023,
           416.8900000000002,
           410.49900000000025,
           475.36800000000017,
           441.4690000000002,
           430.91700000000014,
           424.52600000000024,
           419.5330000000004,
           447.5870000000005,
           475.6410000000006,
           503.6950000000007,
           559.8030000000006,
           375.43600000000026,
           373.4200000000002,
           425.49600000000027,
           443.4860000000003,
           443.4860000000003,
           459.94100000000026,
           459.94100000000026,
           459.94100000000026,
           203.2489999999999,
           417.5610000000004,
           189.22199999999992,
           403.5340000000004,
           435.4590000000002,
           447.4700000000002,
           449.4860000000002,
           467.4760000000002,
           483.93100000000027,
           528.3820000000002,
           494.4830000000003,
           461.49700000000024,
           479.48700000000025,
           495.9420000000003,
           540.393,
           506.4940000000003,
           477.5400000000003,
           491.56700000000035,
           519.6210000000004,
           533.6480000000004,
           561.7020000000002,
           589.7560000000001,
           617.81,
           701.9719999999995,
           489.55100000000033,
           503.5780000000004,
           531.6320000000003,
           545.6590000000003,
           573.7130000000002,
           601.767,
           629.8209999999999,
           713.9829999999995,
           574.0559999999999,
           574.0559999999999,
           557.601,
           557.601,
           557.601,
           608.5009999999999,
           584.608,
           586.0669999999999,
           586.0669999999999,
           569.612,
           569.612,
           569.612,
           620.5119999999998,
           596.6189999999999,
           463.51300000000026,
           475.5240000000003,
           464.5010000000002,
           476.5120000000002,
           476.5120000000002,
           488.52300000000025,
           397.41000000000014,
           411.4370000000002,
           412.42500000000007,
           465.407,
           411.4370000000002,
           425.4640000000002,
           427.4360000000002,
           415.4,
           476.306,
           409.42100000000016,
           423.4480000000002,
           477.41800000000006,
           423.4480000000002,
           437.47500000000025,
           439.44700000000023,
           427.41100000000006,
           427.41100000000006,
           228.682,
           228.682,
           263.12699999999995,
           263.12699999999995,
           246.67200000000005,
           254.289,
           238.29,
           240.262,
           212.22700000000003,
           210.236,
           289.132,
           210.236,
           240.262,
           224.263,
           240.331,
           239.234,
           239.234,
           237.306,
           294.357,
           238.246,
           195.225,
           195.225,
           242.70899999999995,
           242.70899999999995,
           277.154,
           277.154,
           260.699,
           268.316,
           252.317,
           268.31600000000003,
           226.254,
           224.263,
           303.159,
           224.263,
           254.289,
           238.29,
           254.358,
           253.261,
           253.261,
           251.333,
           308.38400000000007,
           252.27299999999997,
           198.225,
           209.252,
           209.252,
           268.747,
           303.19200000000006,
           294.35400000000004,
           279.29900000000004,
           318.80699999999996,
           353.25200000000007,
           344.41400000000004,
           328.415,
           314.388,
           329.35900000000004,
           353.25199999999995,
           282.774,
           293.326,
           332.834,
           367.2790000000001,
           316.379,
           344.48300000000006,
           343.386,
           367.27900000000005,
           367.27900000000005,
           377.8310000000001,
           288.35,
           228.682,
           228.682,
           263.12699999999995,
           263.12699999999995,
           246.67200000000005,
           254.289,
           238.29,
           240.262,
           212.22700000000003,
           210.236,
           289.132,
           210.236,
           240.262,
           224.263,
           240.331,
           239.234,
           239.234,
           237.306,
           294.357,
           238.246,
           195.225,
           195.225,
           242.70899999999995,
           242.70899999999995,
           277.154,
           277.154,
           260.699,
           268.316,
           252.317,
           268.31600000000003,
           226.254,
           224.263,
           303.159,
           224.263,
           254.289,
           238.29,
           254.358,
           253.261,
           253.261,
           251.333,
           308.38400000000007,
           252.27299999999997,
           198.225,
           209.252,
           209.252,
           268.747,
           303.19200000000006,
           294.35400000000004,
           279.29900000000004,
           318.80699999999996,
           353.25200000000007,
           344.41400000000004,
           328.415,
           314.388,
           329.35900000000004,
           353.25199999999995,
           282.774,
           293.326,
           332.834,
           367.2790000000001,
           316.379,
           344.48300000000006,
           343.386,
           367.27900000000005,
           367.27900000000005,
           377.8310000000001,
           288.35,
           366.37700000000007,
           382.44500000000016,
           396.47200000000015,
           461.3410000000002,
           427.44200000000023,
           416.8900000000002,
           410.49900000000025,
           475.36800000000017,
           441.4690000000002,
           430.91700000000014,
           424.52600000000024,
           397.41000000000014,
           411.4370000000002,
           412.42500000000007,
           465.407,
           411.4370000000002,
           425.4640000000002,
           427.4360000000002,
           415.4,
           476.306,
           409.42100000000016,
           423.4480000000002,
           477.41800000000006,
           423.4480000000002,
           437.47500000000025,
           439.44700000000023,
           427.41100000000006,
           427.41100000000006,
           366.37700000000007,
           382.44500000000016,
           396.47200000000015,
           461.3410000000002,
           427.44200000000023,
           416.8900000000002,
           410.49900000000025,
           475.36800000000017,
           441.4690000000002,
           430.91700000000014,
           424.52600000000024,
           397.41000000000014,
           411.4370000000002,
           412.42500000000007,
           465.407,
           411.4370000000002,
           425.4640000000002,
           427.4360000000002,
           415.4,
           476.306,
           409.42100000000016,
           423.4480000000002,
           477.41800000000006,
           423.4480000000002,
           437.47500000000025,
           439.44700000000023,
           427.41100000000006,
           427.41100000000006,
           366.37700000000007,
           382.44500000000016,
           396.47200000000015,
           461.3410000000002,
           427.44200000000023,
           416.8900000000002,
           410.49900000000025,
           475.36800000000017,
           441.4690000000002,
           430.91700000000014,
           424.52600000000024,
           397.41000000000014,
           411.4370000000002,
           412.42500000000007,
           465.407,
           411.4370000000002,
           425.4640000000002,
           427.4360000000002,
           415.4,
           476.306,
           409.42100000000016,
           423.4480000000002,
           477.41800000000006,
           423.4480000000002,
           437.47500000000025,
           439.44700000000023,
           427.41100000000006,
           427.41100000000006,
           484.3830000000001,
           449.5180000000001,
           403.4020000000001,
           431.4560000000002,
           417.42900000000014,
           449.49600000000015,
           479.50000000000017,
           480.48800000000017,
           358.405,
           386.45900000000006,
           372.432,
           404.499,
           434.503,
           435.491,
           372.432,
           400.4860000000001,
           386.45900000000006,
           418.52600000000007,
           448.5300000000001,
           449.5180000000001,
           403.4020000000001,
           431.4560000000002,
           417.42900000000014,
           449.49600000000015,
           479.50000000000017,
           479.50000000000017,
           322.37200000000007,
           280.33099999999996,
           338.4400000000001,
           338.4400000000001,
           296.399,
           304.353,
           295.411,
           280.331,
           296.399,
           473.9160000000004,
           508.3610000000004,
           552.8120000000002,
           487.9430000000004,
           503.94200000000035,
           501.9700000000004,
           530.0240000000005,
           544.0510000000005,
           558.0780000000004,
           586.1320000000003,
           614.1860000000004,
           528.0080000000005,
           570.0890000000003,
           513.9810000000004,
           511.9650000000004,
           517.9690000000004,
           545.0390000000004,
           587.0760000000002,
           582.0310000000002,
           600.0210000000001,
           598.4860000000001,
           632.931,
           632.931,
           585.0600000000002,
           601.0590000000001,
           587.0760000000001,
           615.13,
           588.0600000000002,
           422.27500000000015,
           439.27700000000016,
           469.75900000000024,
           422.27500000000015,
           455.7320000000001,
           469.7590000000001,
           405.82000000000016,
           439.27700000000016,
           482.92400000000015,
           439.27700000000016,
           482.92400000000015,
           455.7320000000001,
           499.3790000000002,
           439.27700000000016,
           453.3040000000002,
           455.7320000000001,
           422.27500000000015,
           455.7320000000002,
           469.7590000000001,
           513.4060000000002,
           228.25500000000005,
           273.25200000000007,
           353.38500000000005,
           205.22099999999992,
           349.3980000000002,
           377.45200000000017,
           363.42500000000024,
           417.39500000000027,
           408.42200000000025,
           391.43500000000023,
           363.42500000000024,
           391.4790000000003,
           419.5330000000004,
           447.5870000000005,
           475.6410000000006,
           503.6950000000007,
           559.8030000000006,
           375.43600000000026,
           373.4200000000002,
           425.49600000000027,
           443.4860000000003,
           443.4860000000003,
           443.4860000000003,
           459.94100000000026,
           459.94100000000026,
           459.94100000000026,
           203.2489999999999,
           417.5610000000004,
           189.22199999999992,
           403.5340000000004,
           425.9210000000003,
           470.37200000000024,
           405.5030000000002,
           409.46600000000024,
           470.37200000000024,
           395.8950000000002,
           413.8850000000002,
           450.5080000000002,
           335.4360000000001,
           383.9080000000002,
           363.4900000000001,
           363.4900000000001,
           427.5330000000002,
           402.9250000000002,
           236.318,
           250.345,
           371.395,
           424.8950000000001,
           424.8950000000001,
           420.47600000000017,
           435.44700000000006,
           458.4470000000002,
           374.8060000000001,
           442.70800000000014,
           340.36100000000005,
           408.2630000000001,
           503.97300000000024,
           503.97300000000024,
           447.92900000000014,
           413.4840000000001,
           524.0270000000002,
           542.0170000000002,
           419.5330000000003,
           280.28700000000003,
           269.735,
           346.217,
           356.769,
           346.217,
           269.735,
           280.287,
           280.287,
           278.35900000000004,
           295.34200000000004,
           356.7690000000001,
           356.769,
           354.841,
           371.82400000000007,
           367.35500000000013,
           410.37400000000014,
           280.22400000000005,
           295.14400000000006,
           329.58900000000006,
           210.24,
           291.3540000000001,
           312.27900000000005,
           384.2880000000001,
           282.10100000000006,
           316.54600000000005,
           468.5600000000002,
           468.5600000000002,
           468.5600000000002,
           488.97800000000024,
           458.49600000000015,
           472.52300000000014,
           472.52300000000014,
           472.52300000000014,
           492.9410000000002,
           508.50300000000016,
           522.5300000000002,
           522.5300000000002,
           522.5300000000002,
           542.9480000000002,
           455.5210000000002,
           469.5480000000002,
           469.5480000000002,
           459.48400000000015,
           473.51100000000014,
           473.51100000000014,
           509.49100000000016,
           523.5180000000001,
           523.5180000000001,
           455.5210000000002,
           459.48400000000015,
           509.49100000000016,
           383.45100000000014,
           383.53900000000016,
           453.29600000000016,
           392.39000000000016,
           540.4010000000003,
           479.49500000000023,
           554.4280000000003,
           568.4550000000003,
           574.8460000000003,
           619.2970000000004,
           507.5490000000003,
           507.5490000000003,
           558.3910000000003,
           513.9400000000003,
           559.3990000000001,
           609.4060000000003,
           494.53000000000026,
           548.5000000000002,
           295.298,
           309.32500000000005,
           337.3790000000001,
           337.3790000000001,
           313.288,
           327.31500000000005,
           341.34200000000004,
           355.3690000000001,
           355.3690000000001,
           329.743,
           343.77000000000004,
           357.7970000000001,
           371.8240000000001,
           371.8240000000001,
           340.2950000000001,
           354.3220000000001,
           368.3490000000001,
           382.37600000000015,
           382.37600000000015,
           325.32400000000007,
           339.3510000000001,
           353.3780000000001,
           367.40500000000014,
           367.40500000000014,
           296.286,
           310.31300000000005,
           324.34000000000003,
           338.3670000000001,
           338.3670000000001,
           325.324,
           341.39200000000005,
           343.314,
           359.38200000000006,
           359.76900000000006,
           375.8370000000001,
           370.3210000000001,
           386.3890000000001,
           355.3500000000001,
           371.4180000000001,
           326.312,
           342.38000000000005,
           473.9160000000004,
           508.3610000000004,
           552.8120000000002,
           487.9430000000004,
           503.94200000000035,
           501.9700000000004,
           530.0240000000005,
           544.0510000000005,
           558.0780000000004,
           586.1320000000003,
           614.1860000000004,
           528.0080000000005,
           570.0890000000003,
           513.9810000000004,
           511.9650000000004,
           517.9690000000004,
           545.0390000000004,
           587.0760000000002,
           582.0310000000002,
           600.0210000000001,
           598.4860000000001,
           632.931,
           632.931,
           585.0600000000002,
           601.0590000000001,
           587.0760000000001,
           615.13,
           588.0600000000002,
           443.8900000000001,
           205.22099999999992,
           349.3980000000002,
           377.45200000000017,
           363.42500000000024,
           417.39500000000027,
           408.42200000000025,
           391.43500000000023,
           363.42500000000024,
           391.4790000000003,
           419.5330000000004,
           447.5870000000005,
           475.6410000000006,
           503.6950000000007,
           559.8030000000006,
           375.43600000000026,
           373.4200000000002,
           425.49600000000027,
           443.4860000000003,
           443.4860000000003,
           443.4860000000003,
           459.94100000000026,
           459.94100000000026,
           459.94100000000026,
           203.2489999999999,
           417.5610000000004,
           189.22199999999992,
           403.5340000000004,
           205.22099999999992,
           349.3980000000002,
           377.45200000000017,
           363.42500000000024,
           417.39500000000027,
           408.42200000000025,
           391.43500000000023,
           363.42500000000024,
           391.4790000000003,
           419.5330000000004,
           447.5870000000005,
           475.6410000000006,
           503.6950000000007,
           559.8030000000006,
           375.43600000000026,
           373.4200000000002,
           425.49600000000027,
           443.4860000000003,
           443.4860000000003,
           443.4860000000003,
           459.94100000000026,
           459.94100000000026,
           459.94100000000026,
           203.2489999999999,
           417.5610000000004,
           189.22199999999992,
           403.5340000000004,
           418.8400000000001,
           445.9540000000001,
           416.9120000000001,
           420.9250000000001,
           442.828,
           450.92900000000014,
           418.88400000000007,
           480.9550000000001,
           399.84100000000007,
           418.8400000000001,
           278.297,
           368.42200000000014,
           334.4050000000001,
           360.443,
           320.37800000000004,
           384.42100000000016,
           388.84000000000015,
           372.3850000000001,
           384.4210000000001,
           354.3950000000001,
           306.35100000000006,
           433.29100000000017,
           423.2850000000002,
           402.3210000000001,
           394.342,
           577.4820000000003,
           591.5090000000004,
           569.3810000000004,
           580.2800000000003,
           435.4590000000002,
           447.4700000000002,
           449.4860000000002,
           467.4760000000002,
           483.93100000000027,
           528.3820000000002,
           494.4830000000003,
           461.49700000000024,
           479.48700000000025,
           495.9420000000003,
           540.393,
           506.4940000000003,
           477.5400000000003,
           491.56700000000035,
           519.6210000000004,
           533.6480000000004,
           561.7020000000002,
           589.7560000000001,
           617.81,
           701.9719999999995,
           489.55100000000033,
           503.5780000000004,
           531.6320000000003,
           545.6590000000003,
           573.7130000000002,
           601.767,
           629.8209999999999,
           713.9829999999995,
           574.0559999999999,
           574.0559999999999,
           557.601,
           557.601,
           557.601,
           608.5009999999999,
           584.608,
           586.0669999999999,
           586.0669999999999,
           569.612,
           569.612,
           569.612,
           620.5119999999998,
           596.6189999999999,
           463.51300000000026,
           475.5240000000003,
           464.5010000000002,
           476.5120000000002,
           476.5120000000002,
           488.52300000000025,
           431.4610000000001,
           290.37,
           287.322,
           281.315,
           237.262,
           266.26000000000005,
           264.33200000000005,
           266.26000000000005,
           159.192,
           251.289,
           215.256,
           311.341,
           201.22900000000004,
           445.3910000000002,
           409.3580000000001,
           257.293,
           431.3640000000002,
           435.4830000000001,
           465.5090000000001,
           505.4430000000002,
           549.7560000000003,
           447.4540000000002,
           439.47500000000014,
           413.4370000000001,
           436.42700000000013,
           415.3650000000001,
           420.4280000000001,
           430.4200000000002,
           504.6750000000001,
           502.7470000000001,
           418.5000000000001,
           447.92900000000014,
           465.9190000000002,
           447.92900000000014,
           413.4840000000001,
           431.47400000000016,
           507.9810000000003,
           524.5060000000002,
           629.4930000000002,
           411.41200000000015,
           458.48100000000017,
           492.38000000000017,
           518.5330000000004,
           482.3740000000002,
           618.1000000000001,
           582.6670000000003,
           428.50300000000016,
           463.5480000000002,
           469.57700000000017,
           464.5360000000002,
           492.5900000000002,
           481.56300000000016,
           834.9739999999998,
           778.8660000000001,
           776.8900000000001,
           788.9480000000001,
           812.92,
           706.8000000000002,
           500.97100000000023,
           471.9730000000002,
           441.9470000000001,
           476.3920000000001,
           468.49800000000016,
           425.49200000000013,
           470.48900000000015,
           457.9460000000001,
           445.9100000000001,
           486.48800000000017,
           475.9360000000001,
           441.9470000000001,
           476.39200000000017,
           349.39400000000006,
           394.3910000000001,
           383.83900000000006,
           365.8490000000001,
           410.8460000000001,
           400.2940000000001,
           345.4310000000001,
           379.8760000000001,
           411.8960000000002,
           487.9940000000002,
           560.9610000000002,
           560.9610000000002,
           560.9610000000002,
           605.4120000000001,
           605.4120000000001,
           526.5160000000002,
           542.5150000000002,
           542.5150000000002,
           542.5150000000002,
           544.5060000000002,
           544.5060000000002,
           540.5430000000002,
           540.5430000000002,
           540.5430000000002,
           556.5420000000003,
           556.5420000000003,
           571.5130000000003,
           418.8400000000001,
           445.9540000000001,
           416.9120000000001,
           420.9250000000001,
           442.828,
           450.92900000000014,
           418.88400000000007,
           480.9550000000001,
           399.84100000000007,
           418.8400000000001,
           318.34000000000003,
           394.4380000000001,
           428.88300000000015,
           412.4280000000001,
           424.4640000000001,
           428.88300000000015,
           412.4280000000001,
           461.54400000000015,
           511.5510000000002,
           431.4710000000002
          ],
          "colorscale": [
           [
            0,
            "#440154"
           ],
           [
            0.1111111111111111,
            "#482878"
           ],
           [
            0.2222222222222222,
            "#3e4989"
           ],
           [
            0.3333333333333333,
            "#31688e"
           ],
           [
            0.4444444444444444,
            "#26828e"
           ],
           [
            0.5555555555555556,
            "#1f9e89"
           ],
           [
            0.6666666666666666,
            "#35b779"
           ],
           [
            0.7777777777777778,
            "#6ece58"
           ],
           [
            0.8888888888888888,
            "#b5de2b"
           ],
           [
            1,
            "#fde725"
           ]
          ],
          "opacity": 0.8,
          "size": 5
         },
         "mode": "markers",
         "type": "scatter3d",
         "x": [
          560.9610000000002,
          605.4120000000001,
          605.4120000000001,
          289.59300000000013,
          334.0440000000002,
          402.9250000000002,
          572.6730000000002,
          586.7000000000002,
          600.7270000000002,
          205.22099999999992,
          349.3980000000002,
          377.45200000000017,
          363.42500000000024,
          417.39500000000027,
          408.42200000000025,
          391.43500000000023,
          363.42500000000024,
          391.4790000000003,
          295.298,
          309.32500000000005,
          337.3790000000001,
          337.3790000000001,
          313.288,
          327.31500000000005,
          341.34200000000004,
          355.3690000000001,
          355.3690000000001,
          329.743,
          343.77000000000004,
          357.7970000000001,
          371.8240000000001,
          371.8240000000001,
          340.2950000000001,
          354.3220000000001,
          368.3490000000001,
          382.37600000000015,
          382.37600000000015,
          325.32400000000007,
          339.3510000000001,
          353.3780000000001,
          367.40500000000014,
          367.40500000000014,
          296.286,
          310.31300000000005,
          324.34000000000003,
          338.3670000000001,
          338.3670000000001,
          325.324,
          341.39200000000005,
          343.314,
          359.38200000000006,
          359.76900000000006,
          375.8370000000001,
          370.3210000000001,
          386.3890000000001,
          355.3500000000001,
          371.4180000000001,
          326.312,
          342.38000000000005,
          473.9160000000004,
          508.3610000000004,
          552.8120000000002,
          487.9430000000004,
          503.94200000000035,
          501.9700000000004,
          530.0240000000005,
          544.0510000000005,
          558.0780000000004,
          586.1320000000003,
          614.1860000000004,
          528.0080000000005,
          570.0890000000003,
          513.9810000000004,
          511.9650000000004,
          517.9690000000004,
          545.0390000000004,
          587.0760000000002,
          582.0310000000002,
          600.0210000000001,
          598.4860000000001,
          632.931,
          632.931,
          585.0600000000002,
          601.0590000000001,
          587.0760000000001,
          615.13,
          588.0600000000002,
          366.37700000000007,
          382.44500000000016,
          396.47200000000015,
          461.3410000000002,
          427.44200000000023,
          416.8900000000002,
          410.49900000000025,
          475.36800000000017,
          441.4690000000002,
          430.91700000000014,
          424.52600000000024,
          419.5330000000004,
          447.5870000000005,
          475.6410000000006,
          503.6950000000007,
          559.8030000000006,
          375.43600000000026,
          373.4200000000002,
          425.49600000000027,
          443.4860000000003,
          443.4860000000003,
          459.94100000000026,
          459.94100000000026,
          459.94100000000026,
          203.2489999999999,
          417.5610000000004,
          189.22199999999992,
          403.5340000000004,
          435.4590000000002,
          447.4700000000002,
          449.4860000000002,
          467.4760000000002,
          483.93100000000027,
          528.3820000000002,
          494.4830000000003,
          461.49700000000024,
          479.48700000000025,
          495.9420000000003,
          540.393,
          506.4940000000003,
          477.5400000000003,
          491.56700000000035,
          519.6210000000004,
          533.6480000000004,
          561.7020000000002,
          589.7560000000001,
          617.81,
          701.9719999999995,
          489.55100000000033,
          503.5780000000004,
          531.6320000000003,
          545.6590000000003,
          573.7130000000002,
          601.767,
          629.8209999999999,
          713.9829999999995,
          574.0559999999999,
          574.0559999999999,
          557.601,
          557.601,
          557.601,
          608.5009999999999,
          584.608,
          586.0669999999999,
          586.0669999999999,
          569.612,
          569.612,
          569.612,
          620.5119999999998,
          596.6189999999999,
          463.51300000000026,
          475.5240000000003,
          464.5010000000002,
          476.5120000000002,
          476.5120000000002,
          488.52300000000025,
          397.41000000000014,
          411.4370000000002,
          412.42500000000007,
          465.407,
          411.4370000000002,
          425.4640000000002,
          427.4360000000002,
          415.4,
          476.306,
          409.42100000000016,
          423.4480000000002,
          477.41800000000006,
          423.4480000000002,
          437.47500000000025,
          439.44700000000023,
          427.41100000000006,
          427.41100000000006,
          228.682,
          228.682,
          263.12699999999995,
          263.12699999999995,
          246.67200000000005,
          254.289,
          238.29,
          240.262,
          212.22700000000003,
          210.236,
          289.132,
          210.236,
          240.262,
          224.263,
          240.331,
          239.234,
          239.234,
          237.306,
          294.357,
          238.246,
          195.225,
          195.225,
          242.70899999999995,
          242.70899999999995,
          277.154,
          277.154,
          260.699,
          268.316,
          252.317,
          268.31600000000003,
          226.254,
          224.263,
          303.159,
          224.263,
          254.289,
          238.29,
          254.358,
          253.261,
          253.261,
          251.333,
          308.38400000000007,
          252.27299999999997,
          198.225,
          209.252,
          209.252,
          268.747,
          303.19200000000006,
          294.35400000000004,
          279.29900000000004,
          318.80699999999996,
          353.25200000000007,
          344.41400000000004,
          328.415,
          314.388,
          329.35900000000004,
          353.25199999999995,
          282.774,
          293.326,
          332.834,
          367.2790000000001,
          316.379,
          344.48300000000006,
          343.386,
          367.27900000000005,
          367.27900000000005,
          377.8310000000001,
          288.35,
          228.682,
          228.682,
          263.12699999999995,
          263.12699999999995,
          246.67200000000005,
          254.289,
          238.29,
          240.262,
          212.22700000000003,
          210.236,
          289.132,
          210.236,
          240.262,
          224.263,
          240.331,
          239.234,
          239.234,
          237.306,
          294.357,
          238.246,
          195.225,
          195.225,
          242.70899999999995,
          242.70899999999995,
          277.154,
          277.154,
          260.699,
          268.316,
          252.317,
          268.31600000000003,
          226.254,
          224.263,
          303.159,
          224.263,
          254.289,
          238.29,
          254.358,
          253.261,
          253.261,
          251.333,
          308.38400000000007,
          252.27299999999997,
          198.225,
          209.252,
          209.252,
          268.747,
          303.19200000000006,
          294.35400000000004,
          279.29900000000004,
          318.80699999999996,
          353.25200000000007,
          344.41400000000004,
          328.415,
          314.388,
          329.35900000000004,
          353.25199999999995,
          282.774,
          293.326,
          332.834,
          367.2790000000001,
          316.379,
          344.48300000000006,
          343.386,
          367.27900000000005,
          367.27900000000005,
          377.8310000000001,
          288.35,
          366.37700000000007,
          382.44500000000016,
          396.47200000000015,
          461.3410000000002,
          427.44200000000023,
          416.8900000000002,
          410.49900000000025,
          475.36800000000017,
          441.4690000000002,
          430.91700000000014,
          424.52600000000024,
          397.41000000000014,
          411.4370000000002,
          412.42500000000007,
          465.407,
          411.4370000000002,
          425.4640000000002,
          427.4360000000002,
          415.4,
          476.306,
          409.42100000000016,
          423.4480000000002,
          477.41800000000006,
          423.4480000000002,
          437.47500000000025,
          439.44700000000023,
          427.41100000000006,
          427.41100000000006,
          366.37700000000007,
          382.44500000000016,
          396.47200000000015,
          461.3410000000002,
          427.44200000000023,
          416.8900000000002,
          410.49900000000025,
          475.36800000000017,
          441.4690000000002,
          430.91700000000014,
          424.52600000000024,
          397.41000000000014,
          411.4370000000002,
          412.42500000000007,
          465.407,
          411.4370000000002,
          425.4640000000002,
          427.4360000000002,
          415.4,
          476.306,
          409.42100000000016,
          423.4480000000002,
          477.41800000000006,
          423.4480000000002,
          437.47500000000025,
          439.44700000000023,
          427.41100000000006,
          427.41100000000006,
          366.37700000000007,
          382.44500000000016,
          396.47200000000015,
          461.3410000000002,
          427.44200000000023,
          416.8900000000002,
          410.49900000000025,
          475.36800000000017,
          441.4690000000002,
          430.91700000000014,
          424.52600000000024,
          397.41000000000014,
          411.4370000000002,
          412.42500000000007,
          465.407,
          411.4370000000002,
          425.4640000000002,
          427.4360000000002,
          415.4,
          476.306,
          409.42100000000016,
          423.4480000000002,
          477.41800000000006,
          423.4480000000002,
          437.47500000000025,
          439.44700000000023,
          427.41100000000006,
          427.41100000000006,
          484.3830000000001,
          449.5180000000001,
          403.4020000000001,
          431.4560000000002,
          417.42900000000014,
          449.49600000000015,
          479.50000000000017,
          480.48800000000017,
          358.405,
          386.45900000000006,
          372.432,
          404.499,
          434.503,
          435.491,
          372.432,
          400.4860000000001,
          386.45900000000006,
          418.52600000000007,
          448.5300000000001,
          449.5180000000001,
          403.4020000000001,
          431.4560000000002,
          417.42900000000014,
          449.49600000000015,
          479.50000000000017,
          479.50000000000017,
          322.37200000000007,
          280.33099999999996,
          338.4400000000001,
          338.4400000000001,
          296.399,
          304.353,
          295.411,
          280.331,
          296.399,
          473.9160000000004,
          508.3610000000004,
          552.8120000000002,
          487.9430000000004,
          503.94200000000035,
          501.9700000000004,
          530.0240000000005,
          544.0510000000005,
          558.0780000000004,
          586.1320000000003,
          614.1860000000004,
          528.0080000000005,
          570.0890000000003,
          513.9810000000004,
          511.9650000000004,
          517.9690000000004,
          545.0390000000004,
          587.0760000000002,
          582.0310000000002,
          600.0210000000001,
          598.4860000000001,
          632.931,
          632.931,
          585.0600000000002,
          601.0590000000001,
          587.0760000000001,
          615.13,
          588.0600000000002,
          422.27500000000015,
          439.27700000000016,
          469.75900000000024,
          422.27500000000015,
          455.7320000000001,
          469.7590000000001,
          405.82000000000016,
          439.27700000000016,
          482.92400000000015,
          439.27700000000016,
          482.92400000000015,
          455.7320000000001,
          499.3790000000002,
          439.27700000000016,
          453.3040000000002,
          455.7320000000001,
          422.27500000000015,
          455.7320000000002,
          469.7590000000001,
          513.4060000000002,
          228.25500000000005,
          273.25200000000007,
          353.38500000000005,
          205.22099999999992,
          349.3980000000002,
          377.45200000000017,
          363.42500000000024,
          417.39500000000027,
          408.42200000000025,
          391.43500000000023,
          363.42500000000024,
          391.4790000000003,
          419.5330000000004,
          447.5870000000005,
          475.6410000000006,
          503.6950000000007,
          559.8030000000006,
          375.43600000000026,
          373.4200000000002,
          425.49600000000027,
          443.4860000000003,
          443.4860000000003,
          443.4860000000003,
          459.94100000000026,
          459.94100000000026,
          459.94100000000026,
          203.2489999999999,
          417.5610000000004,
          189.22199999999992,
          403.5340000000004,
          425.9210000000003,
          470.37200000000024,
          405.5030000000002,
          409.46600000000024,
          470.37200000000024,
          395.8950000000002,
          413.8850000000002,
          450.5080000000002,
          335.4360000000001,
          383.9080000000002,
          363.4900000000001,
          363.4900000000001,
          427.5330000000002,
          402.9250000000002,
          236.318,
          250.345,
          371.395,
          424.8950000000001,
          424.8950000000001,
          420.47600000000017,
          435.44700000000006,
          458.4470000000002,
          374.8060000000001,
          442.70800000000014,
          340.36100000000005,
          408.2630000000001,
          503.97300000000024,
          503.97300000000024,
          447.92900000000014,
          413.4840000000001,
          524.0270000000002,
          542.0170000000002,
          419.5330000000003,
          280.28700000000003,
          269.735,
          346.217,
          356.769,
          346.217,
          269.735,
          280.287,
          280.287,
          278.35900000000004,
          295.34200000000004,
          356.7690000000001,
          356.769,
          354.841,
          371.82400000000007,
          367.35500000000013,
          410.37400000000014,
          280.22400000000005,
          295.14400000000006,
          329.58900000000006,
          210.24,
          291.3540000000001,
          312.27900000000005,
          384.2880000000001,
          282.10100000000006,
          316.54600000000005,
          468.5600000000002,
          468.5600000000002,
          468.5600000000002,
          488.97800000000024,
          458.49600000000015,
          472.52300000000014,
          472.52300000000014,
          472.52300000000014,
          492.9410000000002,
          508.50300000000016,
          522.5300000000002,
          522.5300000000002,
          522.5300000000002,
          542.9480000000002,
          455.5210000000002,
          469.5480000000002,
          469.5480000000002,
          459.48400000000015,
          473.51100000000014,
          473.51100000000014,
          509.49100000000016,
          523.5180000000001,
          523.5180000000001,
          455.5210000000002,
          459.48400000000015,
          509.49100000000016,
          383.45100000000014,
          383.53900000000016,
          453.29600000000016,
          392.39000000000016,
          540.4010000000003,
          479.49500000000023,
          554.4280000000003,
          568.4550000000003,
          574.8460000000003,
          619.2970000000004,
          507.5490000000003,
          507.5490000000003,
          558.3910000000003,
          513.9400000000003,
          559.3990000000001,
          609.4060000000003,
          494.53000000000026,
          548.5000000000002,
          295.298,
          309.32500000000005,
          337.3790000000001,
          337.3790000000001,
          313.288,
          327.31500000000005,
          341.34200000000004,
          355.3690000000001,
          355.3690000000001,
          329.743,
          343.77000000000004,
          357.7970000000001,
          371.8240000000001,
          371.8240000000001,
          340.2950000000001,
          354.3220000000001,
          368.3490000000001,
          382.37600000000015,
          382.37600000000015,
          325.32400000000007,
          339.3510000000001,
          353.3780000000001,
          367.40500000000014,
          367.40500000000014,
          296.286,
          310.31300000000005,
          324.34000000000003,
          338.3670000000001,
          338.3670000000001,
          325.324,
          341.39200000000005,
          343.314,
          359.38200000000006,
          359.76900000000006,
          375.8370000000001,
          370.3210000000001,
          386.3890000000001,
          355.3500000000001,
          371.4180000000001,
          326.312,
          342.38000000000005,
          473.9160000000004,
          508.3610000000004,
          552.8120000000002,
          487.9430000000004,
          503.94200000000035,
          501.9700000000004,
          530.0240000000005,
          544.0510000000005,
          558.0780000000004,
          586.1320000000003,
          614.1860000000004,
          528.0080000000005,
          570.0890000000003,
          513.9810000000004,
          511.9650000000004,
          517.9690000000004,
          545.0390000000004,
          587.0760000000002,
          582.0310000000002,
          600.0210000000001,
          598.4860000000001,
          632.931,
          632.931,
          585.0600000000002,
          601.0590000000001,
          587.0760000000001,
          615.13,
          588.0600000000002,
          443.8900000000001,
          205.22099999999992,
          349.3980000000002,
          377.45200000000017,
          363.42500000000024,
          417.39500000000027,
          408.42200000000025,
          391.43500000000023,
          363.42500000000024,
          391.4790000000003,
          419.5330000000004,
          447.5870000000005,
          475.6410000000006,
          503.6950000000007,
          559.8030000000006,
          375.43600000000026,
          373.4200000000002,
          425.49600000000027,
          443.4860000000003,
          443.4860000000003,
          443.4860000000003,
          459.94100000000026,
          459.94100000000026,
          459.94100000000026,
          203.2489999999999,
          417.5610000000004,
          189.22199999999992,
          403.5340000000004,
          205.22099999999992,
          349.3980000000002,
          377.45200000000017,
          363.42500000000024,
          417.39500000000027,
          408.42200000000025,
          391.43500000000023,
          363.42500000000024,
          391.4790000000003,
          419.5330000000004,
          447.5870000000005,
          475.6410000000006,
          503.6950000000007,
          559.8030000000006,
          375.43600000000026,
          373.4200000000002,
          425.49600000000027,
          443.4860000000003,
          443.4860000000003,
          443.4860000000003,
          459.94100000000026,
          459.94100000000026,
          459.94100000000026,
          203.2489999999999,
          417.5610000000004,
          189.22199999999992,
          403.5340000000004,
          418.8400000000001,
          445.9540000000001,
          416.9120000000001,
          420.9250000000001,
          442.828,
          450.92900000000014,
          418.88400000000007,
          480.9550000000001,
          399.84100000000007,
          418.8400000000001,
          278.297,
          368.42200000000014,
          334.4050000000001,
          360.443,
          320.37800000000004,
          384.42100000000016,
          388.84000000000015,
          372.3850000000001,
          384.4210000000001,
          354.3950000000001,
          306.35100000000006,
          433.29100000000017,
          423.2850000000002,
          402.3210000000001,
          394.342,
          577.4820000000003,
          591.5090000000004,
          569.3810000000004,
          580.2800000000003,
          435.4590000000002,
          447.4700000000002,
          449.4860000000002,
          467.4760000000002,
          483.93100000000027,
          528.3820000000002,
          494.4830000000003,
          461.49700000000024,
          479.48700000000025,
          495.9420000000003,
          540.393,
          506.4940000000003,
          477.5400000000003,
          491.56700000000035,
          519.6210000000004,
          533.6480000000004,
          561.7020000000002,
          589.7560000000001,
          617.81,
          701.9719999999995,
          489.55100000000033,
          503.5780000000004,
          531.6320000000003,
          545.6590000000003,
          573.7130000000002,
          601.767,
          629.8209999999999,
          713.9829999999995,
          574.0559999999999,
          574.0559999999999,
          557.601,
          557.601,
          557.601,
          608.5009999999999,
          584.608,
          586.0669999999999,
          586.0669999999999,
          569.612,
          569.612,
          569.612,
          620.5119999999998,
          596.6189999999999,
          463.51300000000026,
          475.5240000000003,
          464.5010000000002,
          476.5120000000002,
          476.5120000000002,
          488.52300000000025,
          431.4610000000001,
          290.37,
          287.322,
          281.315,
          237.262,
          266.26000000000005,
          264.33200000000005,
          266.26000000000005,
          159.192,
          251.289,
          215.256,
          311.341,
          201.22900000000004,
          445.3910000000002,
          409.3580000000001,
          257.293,
          431.3640000000002,
          435.4830000000001,
          465.5090000000001,
          505.4430000000002,
          549.7560000000003,
          447.4540000000002,
          439.47500000000014,
          413.4370000000001,
          436.42700000000013,
          415.3650000000001,
          420.4280000000001,
          430.4200000000002,
          504.6750000000001,
          502.7470000000001,
          418.5000000000001,
          447.92900000000014,
          465.9190000000002,
          447.92900000000014,
          413.4840000000001,
          431.47400000000016,
          507.9810000000003,
          524.5060000000002,
          629.4930000000002,
          411.41200000000015,
          458.48100000000017,
          492.38000000000017,
          518.5330000000004,
          482.3740000000002,
          618.1000000000001,
          582.6670000000003,
          428.50300000000016,
          463.5480000000002,
          469.57700000000017,
          464.5360000000002,
          492.5900000000002,
          481.56300000000016,
          834.9739999999998,
          778.8660000000001,
          776.8900000000001,
          788.9480000000001,
          812.92,
          706.8000000000002,
          500.97100000000023,
          471.9730000000002,
          441.9470000000001,
          476.3920000000001,
          468.49800000000016,
          425.49200000000013,
          470.48900000000015,
          457.9460000000001,
          445.9100000000001,
          486.48800000000017,
          475.9360000000001,
          441.9470000000001,
          476.39200000000017,
          349.39400000000006,
          394.3910000000001,
          383.83900000000006,
          365.8490000000001,
          410.8460000000001,
          400.2940000000001,
          345.4310000000001,
          379.8760000000001,
          411.8960000000002,
          487.9940000000002,
          560.9610000000002,
          560.9610000000002,
          560.9610000000002,
          605.4120000000001,
          605.4120000000001,
          526.5160000000002,
          542.5150000000002,
          542.5150000000002,
          542.5150000000002,
          544.5060000000002,
          544.5060000000002,
          540.5430000000002,
          540.5430000000002,
          540.5430000000002,
          556.5420000000003,
          556.5420000000003,
          571.5130000000003,
          418.8400000000001,
          445.9540000000001,
          416.9120000000001,
          420.9250000000001,
          442.828,
          450.92900000000014,
          418.88400000000007,
          480.9550000000001,
          399.84100000000007,
          418.8400000000001,
          318.34000000000003,
          394.4380000000001,
          428.88300000000015,
          412.4280000000001,
          424.4640000000001,
          428.88300000000015,
          412.4280000000001,
          461.54400000000015,
          511.5510000000002,
          431.4710000000002
         ],
         "y": [
          50,
          12.5,
          6.25,
          6.25,
          6.25,
          6.25,
          2,
          0.5,
          1,
          512,
          256,
          256,
          512,
          256,
          256,
          256,
          256,
          512,
          6.25,
          12.5,
          50,
          12.5,
          25,
          12.5,
          3.12,
          11.43,
          21.07,
          24.99,
          12.5,
          24.97,
          50,
          12.5,
          6.24,
          6.01,
          16.25,
          12.5,
          12.47,
          25,
          25,
          12.5,
          12.5,
          12.52,
          12.5,
          3.12,
          12.5,
          12.5,
          3.12,
          15.25,
          12.84,
          3.12,
          6.22,
          25,
          1.56,
          17.4,
          6.56,
          6.25,
          25,
          12.5,
          3.12,
          0.03,
          0.02,
          0.14,
          0.02,
          0.13,
          0.01,
          0.06,
          0.03,
          0.06,
          0.13,
          0.13,
          0.13,
          0.13,
          0.13,
          0.13,
          0.13,
          0.26,
          0.13,
          0.01,
          0.06,
          0.13,
          0,
          0.06,
          0.13,
          0.13,
          0.13,
          0.13,
          0.13,
          256,
          64,
          64,
          16,
          64,
          32,
          128,
          16,
          16,
          32,
          64,
          16,
          512,
          256,
          512,
          512,
          512,
          512,
          256,
          256,
          512,
          512,
          256,
          512,
          512,
          64,
          512,
          64,
          4,
          0.5,
          1,
          16,
          1,
          32,
          8,
          0.12,
          2,
          0.5,
          4,
          2,
          8,
          16,
          64,
          32,
          2,
          8,
          256,
          128,
          128,
          2,
          64,
          128,
          1,
          64,
          64,
          64,
          0.12,
          2,
          256,
          32,
          16,
          0.12,
          8,
          4,
          0.5,
          0.25,
          8,
          4,
          0.12,
          2,
          16,
          4,
          0.5,
          0.25,
          128,
          64,
          2,
          32,
          1,
          256,
          8,
          2,
          1,
          64,
          128,
          16,
          64,
          64,
          256,
          128,
          32,
          1,
          128,
          128,
          128,
          256,
          64,
          128,
          256,
          512,
          256,
          512,
          256,
          128,
          128,
          256,
          512,
          32,
          64,
          256,
          128,
          64,
          256,
          256,
          256,
          256,
          512,
          128,
          32,
          64,
          256,
          256,
          64,
          128,
          256,
          128,
          64,
          128,
          256,
          32,
          64,
          256,
          128,
          128,
          512,
          512,
          128,
          128,
          128,
          64,
          128,
          64,
          256,
          16,
          8,
          64,
          256,
          4,
          16,
          32,
          64,
          8,
          32,
          64,
          256,
          16,
          64,
          64,
          8,
          128,
          64,
          64,
          128,
          32,
          64,
          128,
          256,
          128,
          256,
          256,
          64,
          64,
          128,
          256,
          16,
          64,
          128,
          64,
          32,
          128,
          128,
          128,
          64,
          256,
          64,
          16,
          64,
          128,
          128,
          32,
          64,
          128,
          64,
          32,
          64,
          128,
          16,
          64,
          128,
          64,
          64,
          256,
          256,
          64,
          64,
          64,
          64,
          128,
          32,
          64,
          8,
          4,
          64,
          256,
          4,
          8,
          32,
          32,
          4,
          32,
          64,
          128,
          8,
          64,
          32,
          8,
          128,
          64,
          64,
          64,
          16,
          16,
          32,
          32,
          8,
          32,
          32,
          128,
          8,
          4,
          0.5,
          256,
          64,
          2,
          32,
          16,
          64,
          64,
          4,
          128,
          2,
          8,
          8,
          8,
          16,
          64,
          64,
          32,
          16,
          32,
          128,
          256,
          4,
          16,
          16,
          32,
          32,
          16,
          0.5,
          128,
          4,
          64,
          8,
          16,
          64,
          32,
          32,
          64,
          64,
          64,
          2,
          32,
          8,
          128,
          128,
          128,
          4,
          16,
          16,
          64,
          4,
          64,
          8,
          128,
          64,
          4,
          1,
          256,
          4,
          8,
          2,
          4,
          8,
          4,
          256,
          128,
          128,
          1,
          256,
          8,
          16,
          8.72,
          0.01,
          0.01,
          0.01,
          0.03,
          0.01,
          0.01,
          0.01,
          0.01,
          0.03,
          0.02,
          0.03,
          0.01,
          0.01,
          0.01,
          0.01,
          0.03,
          0.03,
          0.03,
          0.01,
          0.01,
          0.01,
          0.03,
          0.01,
          0.01,
          0.01,
          62.5,
          500,
          1000,
          1000,
          1000,
          1000,
          62.5,
          62.5,
          250,
          0.06,
          0.13,
          0.14,
          0.06,
          0.13,
          0.06,
          0.06,
          0.03,
          0,
          0.13,
          0.06,
          0.01,
          0.02,
          0.02,
          0.02,
          0.13,
          0.26,
          0.13,
          0.02,
          0.03,
          0,
          0.01,
          0.02,
          0.13,
          0.13,
          0.13,
          0.13,
          0.13,
          25,
          25,
          50,
          25,
          12.5,
          12.5,
          25,
          12.5,
          6.25,
          3.12,
          3.12,
          6.25,
          6.25,
          1.6,
          1.6,
          6.25,
          3.12,
          3.12,
          6.25,
          25,
          0.16,
          2.5,
          62.5,
          256,
          256,
          256,
          256,
          32,
          16,
          32,
          256,
          256,
          4,
          512,
          256,
          16,
          64,
          256,
          128,
          512,
          256,
          256,
          256,
          256,
          512,
          512,
          32,
          16,
          64,
          32,
          63.85,
          31.89,
          7.95,
          31.9,
          31.89,
          31.95,
          31.95,
          9.38,
          62.5,
          62.5,
          125,
          125,
          15.62,
          3.12,
          8,
          32,
          3.9,
          6.25,
          3.12,
          12.5,
          3.12,
          12.5,
          6.25,
          6.25,
          6.25,
          6.25,
          7.81,
          7.81,
          4,
          4,
          4,
          4,
          0.67,
          25,
          25,
          25,
          25,
          25,
          50,
          50,
          75,
          50,
          75,
          50,
          50,
          50,
          50,
          1.25,
          1.25,
          5,
          5,
          1.25,
          5,
          0.62,
          5,
          2.5,
          2.5,
          2.5,
          62.5,
          62.5,
          62.5,
          62.5,
          62.5,
          62.5,
          62.5,
          62.5,
          62.5,
          62.5,
          62.5,
          62.5,
          62.5,
          62.5,
          31.25,
          62.5,
          62.5,
          0.98,
          62.5,
          62.5,
          62.5,
          62.5,
          62.5,
          62.5,
          62.5,
          62.5,
          0.5,
          0.02,
          5,
          1.25,
          0.62,
          0.15,
          0.31,
          2.5,
          0.04,
          4.99,
          0.32,
          1.25,
          2.5,
          1.25,
          1.25,
          0.63,
          5,
          0.08,
          12.5,
          6.25,
          50,
          12.5,
          25,
          12.5,
          1.56,
          25,
          12.5,
          24.99,
          12.5,
          12.49,
          25,
          12.5,
          3.12,
          6.01,
          12.49,
          12.5,
          12.47,
          12.5,
          25,
          12.5,
          25,
          25,
          12.5,
          6.25,
          12.5,
          12.5,
          1.56,
          12.5,
          25.02,
          3.12,
          12.5,
          12.5,
          1.56,
          12.5,
          3.12,
          6.25,
          25,
          6.25,
          1.56,
          0.03,
          0.26,
          0.14,
          0.01,
          0.06,
          0,
          0.01,
          0.02,
          0.13,
          0.03,
          0.13,
          0.02,
          0.03,
          0.26,
          0.13,
          0.06,
          0.13,
          0.26,
          0.03,
          0,
          0.13,
          0,
          0.02,
          0.13,
          0.13,
          0.13,
          0.13,
          0.13,
          1.56,
          512,
          256,
          256,
          32,
          64,
          128,
          64,
          256,
          256,
          64,
          512,
          256,
          512,
          256,
          256,
          128,
          512,
          128,
          256,
          32,
          128,
          64,
          128,
          512,
          64,
          512,
          64,
          512,
          256,
          128,
          128,
          128,
          64,
          128,
          256,
          128,
          512,
          256,
          256,
          512,
          256,
          128,
          256,
          256,
          16,
          32,
          64,
          128,
          256,
          256,
          512,
          512,
          512,
          512,
          256,
          256,
          256,
          256,
          256,
          256,
          256,
          256,
          256,
          256,
          200,
          125,
          100,
          100,
          62.5,
          250,
          62.5,
          100,
          250,
          200,
          100,
          200,
          100,
          100,
          62.5,
          0,
          0,
          0.01,
          0.01,
          2,
          1,
          2,
          16,
          2,
          64,
          16,
          0.25,
          4,
          0.5,
          64,
          16,
          128,
          256,
          512,
          256,
          32,
          32,
          128,
          256,
          256,
          32,
          128,
          256,
          16,
          64,
          32,
          64,
          8,
          64,
          512,
          128,
          8,
          4,
          4,
          16,
          8,
          16,
          256,
          16,
          8,
          4,
          64,
          4,
          2,
          1,
          64,
          32,
          11.97,
          0.01,
          0.01,
          0.01,
          0,
          0.01,
          0.01,
          0.01,
          0,
          0.01,
          0,
          0.01,
          0.01,
          0.03,
          0.02,
          0.01,
          0.03,
          0.03,
          0.03,
          0.04,
          0.02,
          0.03,
          0.03,
          0.03,
          0.03,
          0.03,
          0.03,
          0.03,
          0.02,
          0.02,
          0.03,
          4,
          4,
          8,
          8,
          4,
          16,
          32,
          64,
          64,
          64,
          64,
          64,
          64,
          64,
          64,
          512,
          128,
          128,
          128,
          64,
          128,
          32,
          64,
          64,
          64,
          64,
          256,
          25.3,
          6,
          4,
          3,
          4,
          14,
          4,
          3,
          7,
          5,
          4,
          3,
          5,
          2,
          3,
          9,
          4,
          9,
          3,
          5,
          10,
          8,
          16,
          25,
          50,
          62.5,
          12.5,
          25,
          500,
          500,
          100,
          500,
          100,
          250,
          125,
          100,
          250,
          100,
          250,
          250,
          256,
          256,
          256,
          256,
          256,
          128,
          256,
          256,
          256,
          256,
          62.5,
          31.25,
          7.81,
          7.81,
          62.5,
          125,
          15.62,
          15.62,
          15.62,
          250
         ],
         "z": [
          1.950037335724345,
          1.3148589880589046,
          1.0138289923949233,
          1.3340919573953296,
          1.2720763418539462,
          1.1906558027598393,
          0.543123287891023,
          -0.069446083880313,
          0.2213228480135355,
          3.397048161468432,
          2.864919550616425,
          2.831378234407731,
          3.148855161865675,
          2.787692722991172,
          2.79713083762355,
          2.81558030999068,
          2.8478251662016936,
          3.1165614906961245,
          1.3255156633631482,
          1.606488850442648,
          2.170848203643309,
          1.568788212315347,
          1.9020028913507296,
          1.581949658373318,
          0.9614210940664484,
          1.5075185555764243,
          1.7730546933642626,
          1.8796692056320536,
          1.56062387454993,
          1.8438554226231612,
          2.1286254048759505,
          1.5264685124694777,
          1.2631624649622166,
          1.229425847920695,
          1.644635503768153,
          1.514414920580369,
          1.513217600067939,
          1.885587356189656,
          1.867290669854884,
          1.5486350598147516,
          1.5317343092765503,
          1.5324995860946624,
          1.6251065754034677,
          1.003029470553618,
          1.5859117103194342,
          1.5674968911042226,
          0.965201701025912,
          1.670987603010034,
          1.575187844927661,
          0.9591368311703742,
          1.2385478876813278,
          1.8419223116794508,
          0.6180480967120927,
          1.6719130124415869,
          1.2299376859079338,
          1.245018870737753,
          1.828079590556746,
          1.5831987739686226,
          0.959994838328416,
          -1.1674910872937636,
          -1.5086383061657274,
          -0.6073030467403343,
          -1.4814860601221125,
          -0.595166283380062,
          -1.7958800173440752,
          -0.91721462968355,
          -1.2291479883578558,
          -0.9393021596463884,
          -0.6615435063953952,
          -0.6819366650372385,
          -0.6161846340195687,
          -0.6478174818886375,
          -0.6038006529042637,
          -0.6020599913279624,
          -0.6073030467403343,
          -0.3279021420642826,
          -0.6615435063953952,
          -1.853871964321762,
          -0.9706162223147904,
          -0.6695862266508091,
          -2.221848749616356,
          -0.9956786262173574,
          -0.6595558851598816,
          -0.6716203965612623,
          -0.6615435063953952,
          -0.6819366650372385,
          -0.6615435063953952,
          2.8443117631070005,
          2.223610986556937,
          2.2079674523804007,
          1.5400979299932256,
          2.1753027807415384,
          1.8851285005524616,
          2.4938978661583304,
          1.52709003936383,
          1.5592197698762422,
          1.8707563506493663,
          2.1782756803208887,
          1.581353855025819,
          3.0583924968600327,
          2.7309606817993854,
          3.007102321182616,
          2.961234739443124,
          3.134734046841448,
          3.1370723863637617,
          2.7793444835847634,
          2.761360050769165,
          3.0623900464331464,
          3.0465678358547152,
          2.745537840190734,
          3.0465678358547152,
          3.4012415434652,
          2.1854600449948203,
          3.432298332487478,
          2.200299841641268,
          0.9631127204159312,
          0.0482060803739143,
          0.3472838305546309,
          1.534360663351385,
          0.3152165566520404,
          1.7822019639153153,
          1.2089386215604687,
          -0.5672588691953038,
          0.6202531587241386,
          0.0035391152506877,
          0.8693502765905952,
          0.5964556906514438,
          1.2240802319063082,
          1.5125372626297755,
          2.090493279620184,
          1.7778950921985563,
          0.5515240254331699,
          1.1324176190305186,
          2.6173850317095275,
          2.2608901801505588,
          2.417412027615296,
          0.5989632469988149,
          2.0805688598675274,
          2.370288646875721,
          0.2413053091478905,
          2.026751605985044,
          2.0069628368448864,
          1.9524921026756217,
          -0.6620442475165691,
          0.5420757351393556,
          2.6619164213587467,
          1.758826434366803,
          1.4577964387028215,
          -0.6873512832706403,
          1.1362252328776712,
          0.8341127233184427,
          -0.0689772636735009,
          -0.3576391213227855,
          1.1475108569971204,
          0.8464808613331393,
          -0.6958401716718008,
          0.5253329158237166,
          1.5380580634869714,
          0.9248875503814868,
          0.0319833510353905,
          -0.2801338332764134,
          2.4291361276994174,
          2.1172949585638117,
          0.7017912046310555,
          1.890846633661052,
          0.3846550169264208,
          2.7404070542629193,
          1.2887866423330894,
          0.6721671768668268,
          0.3691289029886725,
          2.1877134817848067,
          2.42932391731856,
          1.591949867948832,
          2.1793798880057875,
          2.1272811848822646,
          2.78143987933375,
          2.466256729826153,
          1.8622434743265368,
          0.3691543048724031,
          2.4763642745202716,
          2.7479779878497057,
          2.7479779878497057,
          2.9880745510939577,
          2.3860145597659956,
          2.715090114587108,
          3.002912391383195,
          3.3321641437067773,
          3.0275548773848593,
          3.382469325967159,
          3.085532880343376,
          2.6461138093008483,
          2.784502884679395,
          3.0275548773848593,
          3.3585123334977216,
          2.124340184791888,
          2.427357072233316,
          3.029417063561278,
          2.73190125067221,
          2.337305605908994,
          3.0312143474705753,
          3.1177045338109135,
          3.1177045338109135,
          3.0231540844151557,
          3.324184080079137,
          2.6644888187583864,
          2.062428827430424,
          2.390040608697088,
          2.9795933943748105,
          3.006293452973151,
          2.377533403046848,
          2.752613703704013,
          3.0574823378337403,
          2.625539503815073,
          2.4554223465057783,
          2.701882395719214,
          3.031134148042796,
          2.099704576823469,
          2.4026116566325033,
          3.004671647960466,
          2.7069604544855155,
          2.6181181323440743,
          3.3073991891680667,
          3.4121115344524204,
          2.786540352039618,
          2.786540352039618,
          2.677866344689668,
          2.3244622361323537,
          2.638340027797203,
          2.3601105932247344,
          2.904712116740855,
          1.6560353532917191,
          1.366009190321911,
          2.2897569891526324,
          2.9107740043860892,
          1.084390455941706,
          1.6560353532917194,
          2.0537105030947123,
          2.3388294140511476,
          1.3808623026119513,
          1.9401538810251115,
          2.305972324969862,
          2.871072170674482,
          1.6683373978493428,
          2.241183876689093,
          2.241183876689093,
          1.3257923992700318,
          2.6472900139009523,
          2.4469479921857245,
          2.4469479921857245,
          2.6870445554299764,
          2.0849845641020144,
          2.414060118923127,
          2.701882395719214,
          3.031134148042796,
          2.726524881720878,
          3.081439330303178,
          3.085532880343376,
          2.345083813636867,
          2.4834728890154136,
          2.726524881720878,
          3.0574823378337403,
          1.823310189127907,
          2.427357072233316,
          2.7283870678972972,
          2.4308712550082285,
          2.0362756102450126,
          2.730184351806594,
          2.8166745381469327,
          2.8166745381469327,
          2.421094093087193,
          3.0231540844151557,
          2.363458823094405,
          1.7613988317664426,
          2.390040608697088,
          2.6785633987108293,
          2.7052634573091696,
          2.0765034073828668,
          2.451583708040032,
          2.756452342169759,
          2.324509508151092,
          2.154392350841797,
          2.400852400055233,
          2.730104152378815,
          1.7986745811594873,
          2.4026116566325033,
          2.703641652296485,
          2.4059304588215342,
          2.317088136680093,
          3.0063691935040855,
          3.111081538788439,
          2.4855103563756367,
          2.4855103563756367,
          2.3768363490256865,
          2.3244622361323537,
          2.638340027797203,
          2.059080597560753,
          2.3026521254128927,
          1.355005357627738,
          1.0649791946579297,
          2.2897569891526324,
          2.9107740043860892,
          1.084390455941706,
          1.3550053576277383,
          2.0537105030947123,
          2.0377994183871664,
          1.07983230694797,
          1.9401538810251115,
          2.305972324969862,
          2.5700421750105007,
          1.3673074021853615,
          2.241183876689093,
          1.9401538810251115,
          1.3257923992700318,
          2.6472900139009523,
          2.242251771779038,
          2.223610986556937,
          2.2079674523804007,
          1.5400979299932256,
          1.573242789413576,
          1.8851285005524616,
          1.891837874830368,
          1.2260600436998488,
          1.8602497655402237,
          1.8707563506493663,
          2.4793056759848695,
          1.3038511959590178,
          0.9877566466691082,
          0.0836250212624395,
          2.7404070542629193,
          2.191876629325033,
          0.6721671768668268,
          1.8742788813085784,
          1.5856534904568444,
          2.128293921654578,
          2.1940098592767945,
          0.9752599053498628,
          2.428311180546246,
          0.6742299096858816,
          1.2621367471702278,
          1.2601834829985743,
          1.2722442918643466,
          1.573274287528328,
          2.242251771779038,
          2.223610986556937,
          1.9069374567164197,
          1.5400979299932256,
          1.8742727850775571,
          2.487188491880424,
          2.7949278618223117,
          0.9250300480358676,
          1.5592197698762422,
          1.569726354985385,
          1.8772456846569072,
          1.9059111872869805,
          1.5898166379970706,
          0.0836250212624395,
          2.4393770585989385,
          0.9877566466691082,
          2.1773171551867327,
          1.2722188899806162,
          1.5856534904568444,
          2.128293921654578,
          1.8929798636128132,
          1.8783498923418065,
          2.1272811848822646,
          2.1793798880057875,
          2.1652267341621716,
          0.6581234916706119,
          1.8743042831923091,
          1.2722442918643466,
          2.5432817674430193,
          2.524640982220918,
          2.508997448044382,
          0.9380379386652632,
          1.573242789413576,
          1.5840985048884808,
          2.192867870494349,
          0.9250300480358676,
          2.1612797612042045,
          1.2686963593214038,
          2.4793056759848695,
          2.2069411829509615,
          0.9877566466691082,
          0.3846550169264208,
          2.7404070542629193,
          0.9877566466691082,
          1.2742271681947892,
          0.6701588986526537,
          0.983593499128882,
          1.225203934662635,
          0.9898898766208696,
          2.78143987933375,
          2.428311180546246,
          2.480409883669769,
          0.3590467601782842,
          2.7653334613184803,
          1.2722442918643466,
          1.573274287528328,
          1.255272505103306,
          -1.5528419686577808,
          -1.5086383061657274,
          -1.537602002101044,
          -1.2218487496163564,
          -1.537602002101044,
          -1.585026652029182,
          -1.5086383061657274,
          -1.4559319556497243,
          -1.1870866433571443,
          -1.1739251972991736,
          -1.207608310501746,
          -1.537602002101044,
          -1.537602002101044,
          -1.4685210829577449,
          -1.5086383061657274,
          -1.1870866433571443,
          -1.2218487496163564,
          -1.2518119729937995,
          -1.5528419686577808,
          -1.5086383061657274,
          -1.537602002101044,
          -1.2218487496163564,
          -1.537602002101044,
          -1.585026652029182,
          -1.8860566476931633,
          2.287522703732034,
          3.2512988780901417,
          3.4705183136216187,
          3.4705183136216187,
          3.5281232659262267,
          3.516622413059898,
          2.3254533545659895,
          2.348208891098198,
          2.926063274598264,
          -0.8696662315049939,
          -0.5985994592184558,
          -0.6073030467403343,
          -0.8827287043442358,
          -0.595166283380062,
          -0.8961962790440432,
          -0.91721462968355,
          -1.2291479883578558,
          -2.154901959985743,
          -0.6615435063953952,
          -0.9829666607012196,
          -1.8239087409443189,
          -1.5528419686577808,
          -1.5086383061657274,
          -1.5086383061657274,
          -0.6073030467403343,
          -0.3279021420642826,
          -0.6615435063953952,
          -1.5686362358410126,
          -1.275724130399211,
          -2.5228787452803374,
          -1.8860566476931633,
          -1.6020599913279625,
          -0.6595558851598816,
          -0.6716203965612623,
          -0.6615435063953952,
          -0.6819366650372385,
          -0.6615435063953952,
          1.7723446380769572,
          1.7552015439329611,
          2.027094894939944,
          1.7723446380769572,
          1.43820048862685,
          1.4250349036119818,
          1.789606562141291,
          1.45417154826898,
          1.1120012281612428,
          0.8521115569410177,
          0.8109712324972616,
          1.1371704929628688,
          1.097449741995705,
          0.5613815179168485,
          0.5477304313222244,
          1.1371704929628688,
          0.8692546510850137,
          0.8361404972988875,
          1.1240049079480006,
          1.687479068856159,
          -0.1649438982798837,
          0.9614210940664484,
          2.2476319061164087,
          3.0960181658044506,
          2.864919550616425,
          2.831378234407731,
          2.8478251662016936,
          1.8846027359992283,
          1.5930108549676258,
          1.9124903229987364,
          2.8478251662016936,
          2.8155314950321433,
          0.9792938636978566,
          3.0583924968600327,
          2.7309606817993854,
          1.50195234286271,
          2.0581447524511804,
          2.8337040511774667,
          2.5350123950357992,
          3.080374479248744,
          2.761360050769165,
          2.761360050769165,
          2.761360050769165,
          2.745537840190734,
          3.0465678358547152,
          3.0465678358547152,
          2.1971215608092756,
          1.5834000536668578,
          2.529208345495534,
          1.899269845977287,
          2.175801632848279,
          1.8312296938670631,
          1.292256071356476,
          1.8915374576725643,
          1.8312296938670631,
          1.9068735347220704,
          1.887617300335736,
          1.3182687689314965,
          2.2702703467831844,
          2.2116528551624475,
          2.536417545555938,
          2.536417545555938,
          1.5628503837594598,
          0.8889303794342069,
          1.5295931845176345,
          2.1066110564179885,
          1.0212285543837134,
          1.167598396833958,
          0.866568401169977,
          1.4731688009003436,
          0.8559147188421908,
          1.4356208778831414,
          1.2220734827643154,
          1.1497626473316531,
          1.2639402263755362,
          1.1849399948150363,
          1.1902437638308037,
          1.1902437638308037,
          0.9508508107045156,
          0.9856012823877666,
          0.8827063271516367,
          0.8680470832205538,
          0.2041199826559248,
          1.9503370534704112,
          1.967002705820737,
          1.858591619815133,
          1.8455528975919269,
          1.858591619815133,
          2.268032701484718,
          2.2513670491343927,
          2.427458308190074,
          2.2543647367058206,
          2.4047360518779755,
          2.146582893255908,
          2.146582893255908,
          2.148936209847639,
          2.128632585733998,
          0.5318240576867008,
          0.4837301755588378,
          1.251464676308436,
          1.2289360454875216,
          0.5789373042761214,
          1.376254656456332,
          0.3314590324466424,
          1.2044272243670051,
          0.8132831855273639,
          0.9475353830139696,
          0.8975031786960936,
          2.1251148063241714,
          2.1251148063241714,
          2.1251148063241714,
          2.106590697471038,
          2.134544466183194,
          2.1214570647528066,
          2.1214570647528066,
          2.1214570647528066,
          2.103085075567452,
          2.0895864978835372,
          2.0777687877084707,
          2.0777687877084707,
          2.0777687877084707,
          2.0611217796419044,
          1.8363416184744976,
          2.124200022297671,
          2.124200022297671,
          0.3289556825659945,
          2.1205499449154246,
          2.1205499449154246,
          2.088743500610775,
          2.0769483988243764,
          2.0769483988243764,
          2.137371614138479,
          2.133609624217575,
          2.088743500610775,
          0.1152601296344217,
          -1.3796895489240546,
          1.0425755124401903,
          0.5037906830571811,
          0.0606978403536116,
          -0.494850021680094,
          -0.2518119729937995,
          0.6424645202421213,
          -1.154901959985743,
          0.9063350418050908,
          -0.2006594505464183,
          0.3909351071033791,
          0.6503075231319364,
          0.3856062735983122,
          0.3483048630481606,
          0.0128372247051722,
          1.0047511555910011,
          -0.8538719643217619,
          1.6266482684740102,
          1.3054588547786667,
          2.170848203643309,
          1.568788212315347,
          1.9020028913507296,
          1.581949658373318,
          0.6599162000698503,
          1.8472641017707645,
          1.5461723683169426,
          1.8796692056320536,
          1.56062387454993,
          1.54282542695918,
          1.8275631112547237,
          1.5264685124694777,
          0.9628426812012424,
          1.229425847920695,
          1.530199698203082,
          1.514414920580369,
          1.513217600067939,
          1.5845573605256749,
          1.867290669854884,
          1.5486350598147516,
          1.8327643049405316,
          1.8327643049405316,
          1.6251065754034677,
          1.3040594662175993,
          1.5859117103194342,
          1.5674968911042226,
          0.6637009253896482,
          1.5845573605256749,
          1.865103974641128,
          0.9591368311703742,
          1.5413295776666938,
          1.54082981411108,
          0.6180480967120927,
          1.5282737771670438,
          0.9077874431106162,
          1.245018870737753,
          1.828079590556746,
          1.2821687783046416,
          0.6580113966571124,
          -1.1674910872937636,
          -0.2975694635544746,
          -0.6073030467403343,
          -1.7958800173440752,
          -0.8961962790440432,
          -2.096910013008056,
          -1.8239087409443189,
          -1.537602002101044,
          -0.640164517660112,
          -1.259637310505756,
          -0.6819366650372385,
          -1.5228787452803376,
          -1.2518119729937995,
          -0.3027706572402824,
          -0.6020599913279624,
          -0.906578314837765,
          -0.6289321377282637,
          -0.3605135107314139,
          -1.259637310505756,
          -2.154901959985743,
          -0.6695862266508091,
          -2.221848749616356,
          -1.6020599913279625,
          -0.6595558851598816,
          -0.6716203965612623,
          -0.6615435063953952,
          -0.6819366650372385,
          -0.6615435063953952,
          0.5458492370500632,
          3.397048161468432,
          2.864919550616425,
          2.831378234407731,
          1.94473517920975,
          2.1856327316632096,
          2.4961008419595694,
          2.2135203186627175,
          2.8478251662016936,
          2.8155314950321433,
          2.1834138463537816,
          3.0583924968600327,
          2.7309606817993854,
          3.007102321182616,
          2.660204743779143,
          2.8337040511774667,
          2.5350123950357992,
          3.080374479248744,
          2.460330055105184,
          2.761360050769165,
          1.8582700637772216,
          2.4445078445267527,
          2.1434778488627715,
          2.4445078445267527,
          3.4012415434652,
          2.1854600449948203,
          3.432298332487478,
          2.200299841641268,
          3.397048161468432,
          2.864919550616425,
          2.5303482387437497,
          2.5467951705377123,
          2.486662727327191,
          2.195070846295588,
          2.5145503143266987,
          2.8478251662016936,
          2.514501499368162,
          3.086503833345725,
          2.7573625011960514,
          2.7309606817993854,
          3.007102321182616,
          2.660204743779143,
          2.532674055513486,
          2.8360423906997805,
          2.7793444835847634,
          1.5572400681132403,
          1.8582700637772216,
          2.159300059441202,
          2.4445078445267527,
          2.745537840190734,
          2.745537840190734,
          3.4012415434652,
          3.0885500319867636,
          3.432298332487478,
          3.103389828633212,
          2.786191814392602,
          2.7589499016142156,
          2.78819556968476,
          2.784035244744118,
          2.762004891811038,
          2.7541317989008687,
          2.786146193263874,
          2.7261355212996143,
          2.80635264036016,
          2.786191814392602,
          2.8565214709342075,
          2.5305644571908252,
          2.475727237643979,
          2.443163404294651,
          2.2902173314257643,
          2.813132904558442,
          2.2061090828858068,
          2.4290078211075317,
          2.813132904558442,
          2.751542409671676,
          2.5137806976928134,
          2.664250327379504,
          2.3733671213976013,
          2.3954272979132223,
          2.200006982607027,
          -4.761538451901836,
          -3.294840102225016,
          -1.8011604613926326,
          -1.8093950929375084,
          0.6620827247519501,
          0.3492360760378955,
          0.6483138262186122,
          1.534360663351385,
          0.6162465523160217,
          2.0832319595792965,
          1.50996861722445,
          -0.2662288735313226,
          0.9212831543881198,
          0.0035391152506877,
          2.07347025924652,
          1.4995456776433873,
          2.428200214562233,
          2.7166572452857003,
          2.993583266612127,
          2.6809850791905,
          1.7556440080890947,
          1.7344776103584811,
          2.3163550360455463,
          2.56192017581454,
          2.718442023279277,
          1.8030832296547397,
          2.3815988555315086,
          2.671318642539702,
          1.4454252918038153,
          2.026751605985044,
          1.7059328411809052,
          1.9524921026756217,
          1.144135726467318,
          2.0472257134592615,
          2.9629464170227275,
          2.3608864256947655,
          1.1567664430388405,
          0.8177986950492657,
          0.83519523721369,
          1.436172714646405,
          1.135142718982424,
          1.4485408526611017,
          2.6526608353170262,
          1.4485408526611017,
          1.1103398023120865,
          0.8263629114876978,
          2.1401180548149337,
          0.9248875503814868,
          0.6340433423633529,
          0.321926158051549,
          2.128106132035436,
          1.8162649628998304,
          1.4431526047011043,
          -1.630784142589857,
          -1.640164517660112,
          -1.6575773191777938,
          -1.7189666327522726,
          -1.6777807052660807,
          -1.6777807052660807,
          -1.6777807052660807,
          -1.8900841369762067,
          -1.7000005038830162,
          -1.7600002071131289,
          -1.59999938302362,
          -1.190000154058473,
          -1.149999867728904,
          -1.390000296157769,
          -1.390000296157769,
          -1.159999981744464,
          -1.159999981744464,
          -1.1300001413654746,
          -1.0899997414870688,
          -1.3599998330938976,
          -1.149999867728904,
          -1.149999867728904,
          -1.1800002944895145,
          -1.159999981744464,
          -1.1800002944895145,
          -1.169999984192582,
          -1.159999981744464,
          -1.390000296157769,
          -1.3699995100990885,
          -1.169999984192582,
          0.9508508107045156,
          0.9337495701544666,
          1.251880806368497,
          1.2866312780517477,
          0.967105360446449,
          1.4982725139733268,
          1.7853995177217166,
          2.0071890688938994,
          2.191903019007833,
          2.1448586312867497,
          2.1138795699887063,
          2.09140357340955,
          2.1227960827308023,
          2.0151212303920616,
          2.0407595519530153,
          3.0773160941591224,
          2.4411152580156923,
          2.4355031527407336,
          2.440190593631409,
          2.113694382942235,
          2.4245568583273496,
          1.5834770259887967,
          1.914717228078212,
          1.9158204426667576,
          1.909131594421212,
          1.8961321654969097,
          2.558943424477123,
          1.7033079348385158,
          1.1042340955766876,
          0.956689801136486,
          0.79915679490856,
          0.9313522500867004,
          1.5172366366830532,
          0.9295105172206828,
          0.816306984760918,
          1.1958508280456293,
          1.011897872163421,
          0.9245114350687516,
          0.8317510645281861,
          1.0210055445249162,
          0.7577145529142217,
          0.8811942589346025,
          1.3700934102636926,
          1.0387581190436277,
          1.3405634464037095,
          0.8747421741984198,
          1.160608694483819,
          1.4203581436572188,
          1.2883024125309437,
          1.5157055003722932,
          1.6490073400603638,
          1.950037335724345,
          2.0469473487324015,
          1.3148589880589046,
          1.6158889837228856,
          2.977558431082074,
          2.964558253839103,
          2.265588249503084,
          2.964558253839103,
          2.2639973303204473,
          2.6619373389924847,
          2.364079765375673,
          2.2671697523676166,
          2.665109761039654,
          2.254502055624046,
          2.6524420642960833,
          2.6409138950885014,
          2.786191814392602,
          2.7589499016142156,
          2.78819556968476,
          2.784035244744118,
          2.762004891811038,
          2.453101803236887,
          2.786146193263874,
          2.7261355212996143,
          2.80635264036016,
          2.786191814392602,
          2.2929888054028313,
          1.898871273637768,
          1.2603122017965709,
          1.2773028917355096,
          2.1680391549533553,
          2.4645711809273267,
          1.5783328873994908,
          1.5294679199619607,
          1.4847920915626094,
          2.762988397411579
         ]
        }
       ],
       "layout": {
        "scene": {
         "xaxis": {
          "title": {
           "text": "molar_mass"
          }
         },
         "yaxis": {
          "title": {
           "text": "MIC (µg/mL)"
          }
         },
         "zaxis": {
          "title": {
           "text": "log MIC"
          }
         }
        },
        "template": {
         "data": {
          "bar": [
           {
            "error_x": {
             "color": "#2a3f5f"
            },
            "error_y": {
             "color": "#2a3f5f"
            },
            "marker": {
             "line": {
              "color": "#E5ECF6",
              "width": 0.5
             },
             "pattern": {
              "fillmode": "overlay",
              "size": 10,
              "solidity": 0.2
             }
            },
            "type": "bar"
           }
          ],
          "barpolar": [
           {
            "marker": {
             "line": {
              "color": "#E5ECF6",
              "width": 0.5
             },
             "pattern": {
              "fillmode": "overlay",
              "size": 10,
              "solidity": 0.2
             }
            },
            "type": "barpolar"
           }
          ],
          "carpet": [
           {
            "aaxis": {
             "endlinecolor": "#2a3f5f",
             "gridcolor": "white",
             "linecolor": "white",
             "minorgridcolor": "white",
             "startlinecolor": "#2a3f5f"
            },
            "baxis": {
             "endlinecolor": "#2a3f5f",
             "gridcolor": "white",
             "linecolor": "white",
             "minorgridcolor": "white",
             "startlinecolor": "#2a3f5f"
            },
            "type": "carpet"
           }
          ],
          "choropleth": [
           {
            "colorbar": {
             "outlinewidth": 0,
             "ticks": ""
            },
            "type": "choropleth"
           }
          ],
          "contour": [
           {
            "colorbar": {
             "outlinewidth": 0,
             "ticks": ""
            },
            "colorscale": [
             [
              0,
              "#0d0887"
             ],
             [
              0.1111111111111111,
              "#46039f"
             ],
             [
              0.2222222222222222,
              "#7201a8"
             ],
             [
              0.3333333333333333,
              "#9c179e"
             ],
             [
              0.4444444444444444,
              "#bd3786"
             ],
             [
              0.5555555555555556,
              "#d8576b"
             ],
             [
              0.6666666666666666,
              "#ed7953"
             ],
             [
              0.7777777777777778,
              "#fb9f3a"
             ],
             [
              0.8888888888888888,
              "#fdca26"
             ],
             [
              1,
              "#f0f921"
             ]
            ],
            "type": "contour"
           }
          ],
          "contourcarpet": [
           {
            "colorbar": {
             "outlinewidth": 0,
             "ticks": ""
            },
            "type": "contourcarpet"
           }
          ],
          "heatmap": [
           {
            "colorbar": {
             "outlinewidth": 0,
             "ticks": ""
            },
            "colorscale": [
             [
              0,
              "#0d0887"
             ],
             [
              0.1111111111111111,
              "#46039f"
             ],
             [
              0.2222222222222222,
              "#7201a8"
             ],
             [
              0.3333333333333333,
              "#9c179e"
             ],
             [
              0.4444444444444444,
              "#bd3786"
             ],
             [
              0.5555555555555556,
              "#d8576b"
             ],
             [
              0.6666666666666666,
              "#ed7953"
             ],
             [
              0.7777777777777778,
              "#fb9f3a"
             ],
             [
              0.8888888888888888,
              "#fdca26"
             ],
             [
              1,
              "#f0f921"
             ]
            ],
            "type": "heatmap"
           }
          ],
          "heatmapgl": [
           {
            "colorbar": {
             "outlinewidth": 0,
             "ticks": ""
            },
            "colorscale": [
             [
              0,
              "#0d0887"
             ],
             [
              0.1111111111111111,
              "#46039f"
             ],
             [
              0.2222222222222222,
              "#7201a8"
             ],
             [
              0.3333333333333333,
              "#9c179e"
             ],
             [
              0.4444444444444444,
              "#bd3786"
             ],
             [
              0.5555555555555556,
              "#d8576b"
             ],
             [
              0.6666666666666666,
              "#ed7953"
             ],
             [
              0.7777777777777778,
              "#fb9f3a"
             ],
             [
              0.8888888888888888,
              "#fdca26"
             ],
             [
              1,
              "#f0f921"
             ]
            ],
            "type": "heatmapgl"
           }
          ],
          "histogram": [
           {
            "marker": {
             "pattern": {
              "fillmode": "overlay",
              "size": 10,
              "solidity": 0.2
             }
            },
            "type": "histogram"
           }
          ],
          "histogram2d": [
           {
            "colorbar": {
             "outlinewidth": 0,
             "ticks": ""
            },
            "colorscale": [
             [
              0,
              "#0d0887"
             ],
             [
              0.1111111111111111,
              "#46039f"
             ],
             [
              0.2222222222222222,
              "#7201a8"
             ],
             [
              0.3333333333333333,
              "#9c179e"
             ],
             [
              0.4444444444444444,
              "#bd3786"
             ],
             [
              0.5555555555555556,
              "#d8576b"
             ],
             [
              0.6666666666666666,
              "#ed7953"
             ],
             [
              0.7777777777777778,
              "#fb9f3a"
             ],
             [
              0.8888888888888888,
              "#fdca26"
             ],
             [
              1,
              "#f0f921"
             ]
            ],
            "type": "histogram2d"
           }
          ],
          "histogram2dcontour": [
           {
            "colorbar": {
             "outlinewidth": 0,
             "ticks": ""
            },
            "colorscale": [
             [
              0,
              "#0d0887"
             ],
             [
              0.1111111111111111,
              "#46039f"
             ],
             [
              0.2222222222222222,
              "#7201a8"
             ],
             [
              0.3333333333333333,
              "#9c179e"
             ],
             [
              0.4444444444444444,
              "#bd3786"
             ],
             [
              0.5555555555555556,
              "#d8576b"
             ],
             [
              0.6666666666666666,
              "#ed7953"
             ],
             [
              0.7777777777777778,
              "#fb9f3a"
             ],
             [
              0.8888888888888888,
              "#fdca26"
             ],
             [
              1,
              "#f0f921"
             ]
            ],
            "type": "histogram2dcontour"
           }
          ],
          "mesh3d": [
           {
            "colorbar": {
             "outlinewidth": 0,
             "ticks": ""
            },
            "type": "mesh3d"
           }
          ],
          "parcoords": [
           {
            "line": {
             "colorbar": {
              "outlinewidth": 0,
              "ticks": ""
             }
            },
            "type": "parcoords"
           }
          ],
          "pie": [
           {
            "automargin": true,
            "type": "pie"
           }
          ],
          "scatter": [
           {
            "fillpattern": {
             "fillmode": "overlay",
             "size": 10,
             "solidity": 0.2
            },
            "type": "scatter"
           }
          ],
          "scatter3d": [
           {
            "line": {
             "colorbar": {
              "outlinewidth": 0,
              "ticks": ""
             }
            },
            "marker": {
             "colorbar": {
              "outlinewidth": 0,
              "ticks": ""
             }
            },
            "type": "scatter3d"
           }
          ],
          "scattercarpet": [
           {
            "marker": {
             "colorbar": {
              "outlinewidth": 0,
              "ticks": ""
             }
            },
            "type": "scattercarpet"
           }
          ],
          "scattergeo": [
           {
            "marker": {
             "colorbar": {
              "outlinewidth": 0,
              "ticks": ""
             }
            },
            "type": "scattergeo"
           }
          ],
          "scattergl": [
           {
            "marker": {
             "colorbar": {
              "outlinewidth": 0,
              "ticks": ""
             }
            },
            "type": "scattergl"
           }
          ],
          "scattermapbox": [
           {
            "marker": {
             "colorbar": {
              "outlinewidth": 0,
              "ticks": ""
             }
            },
            "type": "scattermapbox"
           }
          ],
          "scatterpolar": [
           {
            "marker": {
             "colorbar": {
              "outlinewidth": 0,
              "ticks": ""
             }
            },
            "type": "scatterpolar"
           }
          ],
          "scatterpolargl": [
           {
            "marker": {
             "colorbar": {
              "outlinewidth": 0,
              "ticks": ""
             }
            },
            "type": "scatterpolargl"
           }
          ],
          "scatterternary": [
           {
            "marker": {
             "colorbar": {
              "outlinewidth": 0,
              "ticks": ""
             }
            },
            "type": "scatterternary"
           }
          ],
          "surface": [
           {
            "colorbar": {
             "outlinewidth": 0,
             "ticks": ""
            },
            "colorscale": [
             [
              0,
              "#0d0887"
             ],
             [
              0.1111111111111111,
              "#46039f"
             ],
             [
              0.2222222222222222,
              "#7201a8"
             ],
             [
              0.3333333333333333,
              "#9c179e"
             ],
             [
              0.4444444444444444,
              "#bd3786"
             ],
             [
              0.5555555555555556,
              "#d8576b"
             ],
             [
              0.6666666666666666,
              "#ed7953"
             ],
             [
              0.7777777777777778,
              "#fb9f3a"
             ],
             [
              0.8888888888888888,
              "#fdca26"
             ],
             [
              1,
              "#f0f921"
             ]
            ],
            "type": "surface"
           }
          ],
          "table": [
           {
            "cells": {
             "fill": {
              "color": "#EBF0F8"
             },
             "line": {
              "color": "white"
             }
            },
            "header": {
             "fill": {
              "color": "#C8D4E3"
             },
             "line": {
              "color": "white"
             }
            },
            "type": "table"
           }
          ]
         },
         "layout": {
          "annotationdefaults": {
           "arrowcolor": "#2a3f5f",
           "arrowhead": 0,
           "arrowwidth": 1
          },
          "autotypenumbers": "strict",
          "coloraxis": {
           "colorbar": {
            "outlinewidth": 0,
            "ticks": ""
           }
          },
          "colorscale": {
           "diverging": [
            [
             0,
             "#8e0152"
            ],
            [
             0.1,
             "#c51b7d"
            ],
            [
             0.2,
             "#de77ae"
            ],
            [
             0.3,
             "#f1b6da"
            ],
            [
             0.4,
             "#fde0ef"
            ],
            [
             0.5,
             "#f7f7f7"
            ],
            [
             0.6,
             "#e6f5d0"
            ],
            [
             0.7,
             "#b8e186"
            ],
            [
             0.8,
             "#7fbc41"
            ],
            [
             0.9,
             "#4d9221"
            ],
            [
             1,
             "#276419"
            ]
           ],
           "sequential": [
            [
             0,
             "#0d0887"
            ],
            [
             0.1111111111111111,
             "#46039f"
            ],
            [
             0.2222222222222222,
             "#7201a8"
            ],
            [
             0.3333333333333333,
             "#9c179e"
            ],
            [
             0.4444444444444444,
             "#bd3786"
            ],
            [
             0.5555555555555556,
             "#d8576b"
            ],
            [
             0.6666666666666666,
             "#ed7953"
            ],
            [
             0.7777777777777778,
             "#fb9f3a"
            ],
            [
             0.8888888888888888,
             "#fdca26"
            ],
            [
             1,
             "#f0f921"
            ]
           ],
           "sequentialminus": [
            [
             0,
             "#0d0887"
            ],
            [
             0.1111111111111111,
             "#46039f"
            ],
            [
             0.2222222222222222,
             "#7201a8"
            ],
            [
             0.3333333333333333,
             "#9c179e"
            ],
            [
             0.4444444444444444,
             "#bd3786"
            ],
            [
             0.5555555555555556,
             "#d8576b"
            ],
            [
             0.6666666666666666,
             "#ed7953"
            ],
            [
             0.7777777777777778,
             "#fb9f3a"
            ],
            [
             0.8888888888888888,
             "#fdca26"
            ],
            [
             1,
             "#f0f921"
            ]
           ]
          },
          "colorway": [
           "#636efa",
           "#EF553B",
           "#00cc96",
           "#ab63fa",
           "#FFA15A",
           "#19d3f3",
           "#FF6692",
           "#B6E880",
           "#FF97FF",
           "#FECB52"
          ],
          "font": {
           "color": "#2a3f5f"
          },
          "geo": {
           "bgcolor": "white",
           "lakecolor": "white",
           "landcolor": "#E5ECF6",
           "showlakes": true,
           "showland": true,
           "subunitcolor": "white"
          },
          "hoverlabel": {
           "align": "left"
          },
          "hovermode": "closest",
          "mapbox": {
           "style": "light"
          },
          "paper_bgcolor": "white",
          "plot_bgcolor": "#E5ECF6",
          "polar": {
           "angularaxis": {
            "gridcolor": "white",
            "linecolor": "white",
            "ticks": ""
           },
           "bgcolor": "#E5ECF6",
           "radialaxis": {
            "gridcolor": "white",
            "linecolor": "white",
            "ticks": ""
           }
          },
          "scene": {
           "xaxis": {
            "backgroundcolor": "#E5ECF6",
            "gridcolor": "white",
            "gridwidth": 2,
            "linecolor": "white",
            "showbackground": true,
            "ticks": "",
            "zerolinecolor": "white"
           },
           "yaxis": {
            "backgroundcolor": "#E5ECF6",
            "gridcolor": "white",
            "gridwidth": 2,
            "linecolor": "white",
            "showbackground": true,
            "ticks": "",
            "zerolinecolor": "white"
           },
           "zaxis": {
            "backgroundcolor": "#E5ECF6",
            "gridcolor": "white",
            "gridwidth": 2,
            "linecolor": "white",
            "showbackground": true,
            "ticks": "",
            "zerolinecolor": "white"
           }
          },
          "shapedefaults": {
           "line": {
            "color": "#2a3f5f"
           }
          },
          "ternary": {
           "aaxis": {
            "gridcolor": "white",
            "linecolor": "white",
            "ticks": ""
           },
           "baxis": {
            "gridcolor": "white",
            "linecolor": "white",
            "ticks": ""
           },
           "bgcolor": "#E5ECF6",
           "caxis": {
            "gridcolor": "white",
            "linecolor": "white",
            "ticks": ""
           }
          },
          "title": {
           "x": 0.05
          },
          "xaxis": {
           "automargin": true,
           "gridcolor": "white",
           "linecolor": "white",
           "ticks": "",
           "title": {
            "standoff": 15
           },
           "zerolinecolor": "white",
           "zerolinewidth": 2
          },
          "yaxis": {
           "automargin": true,
           "gridcolor": "white",
           "linecolor": "white",
           "ticks": "",
           "title": {
            "standoff": 15
           },
           "zerolinecolor": "white",
           "zerolinewidth": 2
          }
         }
        },
        "title": {
         "text": "3D Scatter Plot: molar_mass vs MIC (µg/mL) vs log MIC"
        }
       }
      }
     },
     "metadata": {},
     "output_type": "display_data"
    }
   ],
   "source": [
    "scatter_3d = go.Scatter3d(\n",
    "    x=ds_cleaned['molar_mass'],  # Ось X\n",
    "    y=ds_cleaned['MIC (µg/mL)'],   # Ось Y\n",
    "    z=ds_cleaned['log MIC'],           # Ось Z\n",
    "    mode='markers',\n",
    "    marker=dict(\n",
    "        size=5,\n",
    "        color=ds_cleaned['molar_mass'],  # Цвет точек основан на весе молекул\n",
    "        colorscale='Viridis',  # Цветовая схема\n",
    "        opacity=0.8\n",
    "    )\n",
    ")\n",
    "\n",
    "# Определение макета графика\n",
    "layout = go.Layout(\n",
    "    title='3D Scatter Plot: molar_mass vs MIC (µg/mL) vs log MIC',\n",
    "    scene=dict(\n",
    "        xaxis=dict(title='molar_mass'),\n",
    "        yaxis=dict(title='MIC (µg/mL)'),\n",
    "        zaxis=dict(title='log MIC')\n",
    "    )\n",
    ")\n",
    "\n",
    "# Создание и отображение графика\n",
    "fig = go.Figure(data=[scatter_3d], layout=layout)\n",
    "fig.show()"
   ]
  },
  {
   "cell_type": "code",
   "execution_count": null,
   "metadata": {},
   "outputs": [],
   "source": []
  },
  {
   "cell_type": "code",
   "execution_count": 76,
   "metadata": {},
   "outputs": [
    {
     "data": {
      "application/vnd.plotly.v1+json": {
       "config": {
        "plotlyServerURL": "https://plot.ly"
       },
       "data": [
        {
         "histnorm": "probability density",
         "marker": {
          "color": "skyblue",
          "line": {
           "color": "black",
           "width": 1.5
          }
         },
         "name": "Histogram",
         "nbinsx": 30,
         "opacity": 0.7,
         "type": "histogram",
         "x": [
          560.9610000000002,
          605.4120000000001,
          605.4120000000001,
          289.59300000000013,
          334.0440000000002,
          402.9250000000002,
          572.6730000000002,
          586.7000000000002,
          600.7270000000002,
          205.22099999999992,
          349.3980000000002,
          377.45200000000017,
          363.42500000000024,
          417.39500000000027,
          408.42200000000025,
          391.43500000000023,
          363.42500000000024,
          391.4790000000003,
          295.298,
          309.32500000000005,
          337.3790000000001,
          337.3790000000001,
          313.288,
          327.31500000000005,
          341.34200000000004,
          355.3690000000001,
          355.3690000000001,
          329.743,
          343.77000000000004,
          357.7970000000001,
          371.8240000000001,
          371.8240000000001,
          340.2950000000001,
          354.3220000000001,
          368.3490000000001,
          382.37600000000015,
          382.37600000000015,
          325.32400000000007,
          339.3510000000001,
          353.3780000000001,
          367.40500000000014,
          367.40500000000014,
          296.286,
          310.31300000000005,
          324.34000000000003,
          338.3670000000001,
          338.3670000000001,
          325.324,
          341.39200000000005,
          343.314,
          359.38200000000006,
          359.76900000000006,
          375.8370000000001,
          370.3210000000001,
          386.3890000000001,
          355.3500000000001,
          371.4180000000001,
          326.312,
          342.38000000000005,
          473.9160000000004,
          508.3610000000004,
          552.8120000000002,
          487.9430000000004,
          503.94200000000035,
          501.9700000000004,
          530.0240000000005,
          544.0510000000005,
          558.0780000000004,
          586.1320000000003,
          614.1860000000004,
          528.0080000000005,
          570.0890000000003,
          513.9810000000004,
          511.9650000000004,
          517.9690000000004,
          545.0390000000004,
          587.0760000000002,
          582.0310000000002,
          600.0210000000001,
          598.4860000000001,
          632.931,
          632.931,
          585.0600000000002,
          601.0590000000001,
          587.0760000000001,
          615.13,
          588.0600000000002,
          366.37700000000007,
          382.44500000000016,
          396.47200000000015,
          461.3410000000002,
          427.44200000000023,
          416.8900000000002,
          410.49900000000025,
          475.36800000000017,
          441.4690000000002,
          430.91700000000014,
          424.52600000000024,
          419.5330000000004,
          447.5870000000005,
          475.6410000000006,
          503.6950000000007,
          559.8030000000006,
          375.43600000000026,
          373.4200000000002,
          425.49600000000027,
          443.4860000000003,
          443.4860000000003,
          459.94100000000026,
          459.94100000000026,
          459.94100000000026,
          203.2489999999999,
          417.5610000000004,
          189.22199999999992,
          403.5340000000004,
          435.4590000000002,
          447.4700000000002,
          449.4860000000002,
          467.4760000000002,
          483.93100000000027,
          528.3820000000002,
          494.4830000000003,
          461.49700000000024,
          479.48700000000025,
          495.9420000000003,
          540.393,
          506.4940000000003,
          477.5400000000003,
          491.56700000000035,
          519.6210000000004,
          533.6480000000004,
          561.7020000000002,
          589.7560000000001,
          617.81,
          701.9719999999995,
          489.55100000000033,
          503.5780000000004,
          531.6320000000003,
          545.6590000000003,
          573.7130000000002,
          601.767,
          629.8209999999999,
          713.9829999999995,
          574.0559999999999,
          574.0559999999999,
          557.601,
          557.601,
          557.601,
          608.5009999999999,
          584.608,
          586.0669999999999,
          586.0669999999999,
          569.612,
          569.612,
          569.612,
          620.5119999999998,
          596.6189999999999,
          463.51300000000026,
          475.5240000000003,
          464.5010000000002,
          476.5120000000002,
          476.5120000000002,
          488.52300000000025,
          397.41000000000014,
          411.4370000000002,
          412.42500000000007,
          465.407,
          411.4370000000002,
          425.4640000000002,
          427.4360000000002,
          415.4,
          476.306,
          409.42100000000016,
          423.4480000000002,
          477.41800000000006,
          423.4480000000002,
          437.47500000000025,
          439.44700000000023,
          427.41100000000006,
          427.41100000000006,
          228.682,
          228.682,
          263.12699999999995,
          263.12699999999995,
          246.67200000000005,
          254.289,
          238.29,
          240.262,
          212.22700000000003,
          210.236,
          289.132,
          210.236,
          240.262,
          224.263,
          240.331,
          239.234,
          239.234,
          237.306,
          294.357,
          238.246,
          195.225,
          195.225,
          242.70899999999995,
          242.70899999999995,
          277.154,
          277.154,
          260.699,
          268.316,
          252.317,
          268.31600000000003,
          226.254,
          224.263,
          303.159,
          224.263,
          254.289,
          238.29,
          254.358,
          253.261,
          253.261,
          251.333,
          308.38400000000007,
          252.27299999999997,
          198.225,
          209.252,
          209.252,
          268.747,
          303.19200000000006,
          294.35400000000004,
          279.29900000000004,
          318.80699999999996,
          353.25200000000007,
          344.41400000000004,
          328.415,
          314.388,
          329.35900000000004,
          353.25199999999995,
          282.774,
          293.326,
          332.834,
          367.2790000000001,
          316.379,
          344.48300000000006,
          343.386,
          367.27900000000005,
          367.27900000000005,
          377.8310000000001,
          288.35,
          228.682,
          228.682,
          263.12699999999995,
          263.12699999999995,
          246.67200000000005,
          254.289,
          238.29,
          240.262,
          212.22700000000003,
          210.236,
          289.132,
          210.236,
          240.262,
          224.263,
          240.331,
          239.234,
          239.234,
          237.306,
          294.357,
          238.246,
          195.225,
          195.225,
          242.70899999999995,
          242.70899999999995,
          277.154,
          277.154,
          260.699,
          268.316,
          252.317,
          268.31600000000003,
          226.254,
          224.263,
          303.159,
          224.263,
          254.289,
          238.29,
          254.358,
          253.261,
          253.261,
          251.333,
          308.38400000000007,
          252.27299999999997,
          198.225,
          209.252,
          209.252,
          268.747,
          303.19200000000006,
          294.35400000000004,
          279.29900000000004,
          318.80699999999996,
          353.25200000000007,
          344.41400000000004,
          328.415,
          314.388,
          329.35900000000004,
          353.25199999999995,
          282.774,
          293.326,
          332.834,
          367.2790000000001,
          316.379,
          344.48300000000006,
          343.386,
          367.27900000000005,
          367.27900000000005,
          377.8310000000001,
          288.35,
          366.37700000000007,
          382.44500000000016,
          396.47200000000015,
          461.3410000000002,
          427.44200000000023,
          416.8900000000002,
          410.49900000000025,
          475.36800000000017,
          441.4690000000002,
          430.91700000000014,
          424.52600000000024,
          397.41000000000014,
          411.4370000000002,
          412.42500000000007,
          465.407,
          411.4370000000002,
          425.4640000000002,
          427.4360000000002,
          415.4,
          476.306,
          409.42100000000016,
          423.4480000000002,
          477.41800000000006,
          423.4480000000002,
          437.47500000000025,
          439.44700000000023,
          427.41100000000006,
          427.41100000000006,
          366.37700000000007,
          382.44500000000016,
          396.47200000000015,
          461.3410000000002,
          427.44200000000023,
          416.8900000000002,
          410.49900000000025,
          475.36800000000017,
          441.4690000000002,
          430.91700000000014,
          424.52600000000024,
          397.41000000000014,
          411.4370000000002,
          412.42500000000007,
          465.407,
          411.4370000000002,
          425.4640000000002,
          427.4360000000002,
          415.4,
          476.306,
          409.42100000000016,
          423.4480000000002,
          477.41800000000006,
          423.4480000000002,
          437.47500000000025,
          439.44700000000023,
          427.41100000000006,
          427.41100000000006,
          366.37700000000007,
          382.44500000000016,
          396.47200000000015,
          461.3410000000002,
          427.44200000000023,
          416.8900000000002,
          410.49900000000025,
          475.36800000000017,
          441.4690000000002,
          430.91700000000014,
          424.52600000000024,
          397.41000000000014,
          411.4370000000002,
          412.42500000000007,
          465.407,
          411.4370000000002,
          425.4640000000002,
          427.4360000000002,
          415.4,
          476.306,
          409.42100000000016,
          423.4480000000002,
          477.41800000000006,
          423.4480000000002,
          437.47500000000025,
          439.44700000000023,
          427.41100000000006,
          427.41100000000006,
          484.3830000000001,
          449.5180000000001,
          403.4020000000001,
          431.4560000000002,
          417.42900000000014,
          449.49600000000015,
          479.50000000000017,
          480.48800000000017,
          358.405,
          386.45900000000006,
          372.432,
          404.499,
          434.503,
          435.491,
          372.432,
          400.4860000000001,
          386.45900000000006,
          418.52600000000007,
          448.5300000000001,
          449.5180000000001,
          403.4020000000001,
          431.4560000000002,
          417.42900000000014,
          449.49600000000015,
          479.50000000000017,
          479.50000000000017,
          322.37200000000007,
          280.33099999999996,
          338.4400000000001,
          338.4400000000001,
          296.399,
          304.353,
          295.411,
          280.331,
          296.399,
          473.9160000000004,
          508.3610000000004,
          552.8120000000002,
          487.9430000000004,
          503.94200000000035,
          501.9700000000004,
          530.0240000000005,
          544.0510000000005,
          558.0780000000004,
          586.1320000000003,
          614.1860000000004,
          528.0080000000005,
          570.0890000000003,
          513.9810000000004,
          511.9650000000004,
          517.9690000000004,
          545.0390000000004,
          587.0760000000002,
          582.0310000000002,
          600.0210000000001,
          598.4860000000001,
          632.931,
          632.931,
          585.0600000000002,
          601.0590000000001,
          587.0760000000001,
          615.13,
          588.0600000000002,
          422.27500000000015,
          439.27700000000016,
          469.75900000000024,
          422.27500000000015,
          455.7320000000001,
          469.7590000000001,
          405.82000000000016,
          439.27700000000016,
          482.92400000000015,
          439.27700000000016,
          482.92400000000015,
          455.7320000000001,
          499.3790000000002,
          439.27700000000016,
          453.3040000000002,
          455.7320000000001,
          422.27500000000015,
          455.7320000000002,
          469.7590000000001,
          513.4060000000002,
          228.25500000000005,
          273.25200000000007,
          353.38500000000005,
          205.22099999999992,
          349.3980000000002,
          377.45200000000017,
          363.42500000000024,
          417.39500000000027,
          408.42200000000025,
          391.43500000000023,
          363.42500000000024,
          391.4790000000003,
          419.5330000000004,
          447.5870000000005,
          475.6410000000006,
          503.6950000000007,
          559.8030000000006,
          375.43600000000026,
          373.4200000000002,
          425.49600000000027,
          443.4860000000003,
          443.4860000000003,
          443.4860000000003,
          459.94100000000026,
          459.94100000000026,
          459.94100000000026,
          203.2489999999999,
          417.5610000000004,
          189.22199999999992,
          403.5340000000004,
          425.9210000000003,
          470.37200000000024,
          405.5030000000002,
          409.46600000000024,
          470.37200000000024,
          395.8950000000002,
          413.8850000000002,
          450.5080000000002,
          335.4360000000001,
          383.9080000000002,
          363.4900000000001,
          363.4900000000001,
          427.5330000000002,
          402.9250000000002,
          236.318,
          250.345,
          371.395,
          424.8950000000001,
          424.8950000000001,
          420.47600000000017,
          435.44700000000006,
          458.4470000000002,
          374.8060000000001,
          442.70800000000014,
          340.36100000000005,
          408.2630000000001,
          503.97300000000024,
          503.97300000000024,
          447.92900000000014,
          413.4840000000001,
          524.0270000000002,
          542.0170000000002,
          419.5330000000003,
          280.28700000000003,
          269.735,
          346.217,
          356.769,
          346.217,
          269.735,
          280.287,
          280.287,
          278.35900000000004,
          295.34200000000004,
          356.7690000000001,
          356.769,
          354.841,
          371.82400000000007,
          367.35500000000013,
          410.37400000000014,
          280.22400000000005,
          295.14400000000006,
          329.58900000000006,
          210.24,
          291.3540000000001,
          312.27900000000005,
          384.2880000000001,
          282.10100000000006,
          316.54600000000005,
          468.5600000000002,
          468.5600000000002,
          468.5600000000002,
          488.97800000000024,
          458.49600000000015,
          472.52300000000014,
          472.52300000000014,
          472.52300000000014,
          492.9410000000002,
          508.50300000000016,
          522.5300000000002,
          522.5300000000002,
          522.5300000000002,
          542.9480000000002,
          455.5210000000002,
          469.5480000000002,
          469.5480000000002,
          459.48400000000015,
          473.51100000000014,
          473.51100000000014,
          509.49100000000016,
          523.5180000000001,
          523.5180000000001,
          455.5210000000002,
          459.48400000000015,
          509.49100000000016,
          383.45100000000014,
          383.53900000000016,
          453.29600000000016,
          392.39000000000016,
          540.4010000000003,
          479.49500000000023,
          554.4280000000003,
          568.4550000000003,
          574.8460000000003,
          619.2970000000004,
          507.5490000000003,
          507.5490000000003,
          558.3910000000003,
          513.9400000000003,
          559.3990000000001,
          609.4060000000003,
          494.53000000000026,
          548.5000000000002,
          295.298,
          309.32500000000005,
          337.3790000000001,
          337.3790000000001,
          313.288,
          327.31500000000005,
          341.34200000000004,
          355.3690000000001,
          355.3690000000001,
          329.743,
          343.77000000000004,
          357.7970000000001,
          371.8240000000001,
          371.8240000000001,
          340.2950000000001,
          354.3220000000001,
          368.3490000000001,
          382.37600000000015,
          382.37600000000015,
          325.32400000000007,
          339.3510000000001,
          353.3780000000001,
          367.40500000000014,
          367.40500000000014,
          296.286,
          310.31300000000005,
          324.34000000000003,
          338.3670000000001,
          338.3670000000001,
          325.324,
          341.39200000000005,
          343.314,
          359.38200000000006,
          359.76900000000006,
          375.8370000000001,
          370.3210000000001,
          386.3890000000001,
          355.3500000000001,
          371.4180000000001,
          326.312,
          342.38000000000005,
          473.9160000000004,
          508.3610000000004,
          552.8120000000002,
          487.9430000000004,
          503.94200000000035,
          501.9700000000004,
          530.0240000000005,
          544.0510000000005,
          558.0780000000004,
          586.1320000000003,
          614.1860000000004,
          528.0080000000005,
          570.0890000000003,
          513.9810000000004,
          511.9650000000004,
          517.9690000000004,
          545.0390000000004,
          587.0760000000002,
          582.0310000000002,
          600.0210000000001,
          598.4860000000001,
          632.931,
          632.931,
          585.0600000000002,
          601.0590000000001,
          587.0760000000001,
          615.13,
          588.0600000000002,
          443.8900000000001,
          205.22099999999992,
          349.3980000000002,
          377.45200000000017,
          363.42500000000024,
          417.39500000000027,
          408.42200000000025,
          391.43500000000023,
          363.42500000000024,
          391.4790000000003,
          419.5330000000004,
          447.5870000000005,
          475.6410000000006,
          503.6950000000007,
          559.8030000000006,
          375.43600000000026,
          373.4200000000002,
          425.49600000000027,
          443.4860000000003,
          443.4860000000003,
          443.4860000000003,
          459.94100000000026,
          459.94100000000026,
          459.94100000000026,
          203.2489999999999,
          417.5610000000004,
          189.22199999999992,
          403.5340000000004,
          205.22099999999992,
          349.3980000000002,
          377.45200000000017,
          363.42500000000024,
          417.39500000000027,
          408.42200000000025,
          391.43500000000023,
          363.42500000000024,
          391.4790000000003,
          419.5330000000004,
          447.5870000000005,
          475.6410000000006,
          503.6950000000007,
          559.8030000000006,
          375.43600000000026,
          373.4200000000002,
          425.49600000000027,
          443.4860000000003,
          443.4860000000003,
          443.4860000000003,
          459.94100000000026,
          459.94100000000026,
          459.94100000000026,
          203.2489999999999,
          417.5610000000004,
          189.22199999999992,
          403.5340000000004,
          418.8400000000001,
          445.9540000000001,
          416.9120000000001,
          420.9250000000001,
          442.828,
          450.92900000000014,
          418.88400000000007,
          480.9550000000001,
          399.84100000000007,
          418.8400000000001,
          278.297,
          368.42200000000014,
          334.4050000000001,
          360.443,
          320.37800000000004,
          384.42100000000016,
          388.84000000000015,
          372.3850000000001,
          384.4210000000001,
          354.3950000000001,
          306.35100000000006,
          433.29100000000017,
          423.2850000000002,
          402.3210000000001,
          394.342,
          577.4820000000003,
          591.5090000000004,
          569.3810000000004,
          580.2800000000003,
          435.4590000000002,
          447.4700000000002,
          449.4860000000002,
          467.4760000000002,
          483.93100000000027,
          528.3820000000002,
          494.4830000000003,
          461.49700000000024,
          479.48700000000025,
          495.9420000000003,
          540.393,
          506.4940000000003,
          477.5400000000003,
          491.56700000000035,
          519.6210000000004,
          533.6480000000004,
          561.7020000000002,
          589.7560000000001,
          617.81,
          701.9719999999995,
          489.55100000000033,
          503.5780000000004,
          531.6320000000003,
          545.6590000000003,
          573.7130000000002,
          601.767,
          629.8209999999999,
          713.9829999999995,
          574.0559999999999,
          574.0559999999999,
          557.601,
          557.601,
          557.601,
          608.5009999999999,
          584.608,
          586.0669999999999,
          586.0669999999999,
          569.612,
          569.612,
          569.612,
          620.5119999999998,
          596.6189999999999,
          463.51300000000026,
          475.5240000000003,
          464.5010000000002,
          476.5120000000002,
          476.5120000000002,
          488.52300000000025,
          431.4610000000001,
          290.37,
          287.322,
          281.315,
          237.262,
          266.26000000000005,
          264.33200000000005,
          266.26000000000005,
          159.192,
          251.289,
          215.256,
          311.341,
          201.22900000000004,
          445.3910000000002,
          409.3580000000001,
          257.293,
          431.3640000000002,
          435.4830000000001,
          465.5090000000001,
          505.4430000000002,
          549.7560000000003,
          447.4540000000002,
          439.47500000000014,
          413.4370000000001,
          436.42700000000013,
          415.3650000000001,
          420.4280000000001,
          430.4200000000002,
          504.6750000000001,
          502.7470000000001,
          418.5000000000001,
          447.92900000000014,
          465.9190000000002,
          447.92900000000014,
          413.4840000000001,
          431.47400000000016,
          507.9810000000003,
          524.5060000000002,
          629.4930000000002,
          411.41200000000015,
          458.48100000000017,
          492.38000000000017,
          518.5330000000004,
          482.3740000000002,
          618.1000000000001,
          582.6670000000003,
          428.50300000000016,
          463.5480000000002,
          469.57700000000017,
          464.5360000000002,
          492.5900000000002,
          481.56300000000016,
          834.9739999999998,
          778.8660000000001,
          776.8900000000001,
          788.9480000000001,
          812.92,
          706.8000000000002,
          500.97100000000023,
          471.9730000000002,
          441.9470000000001,
          476.3920000000001,
          468.49800000000016,
          425.49200000000013,
          470.48900000000015,
          457.9460000000001,
          445.9100000000001,
          486.48800000000017,
          475.9360000000001,
          441.9470000000001,
          476.39200000000017,
          349.39400000000006,
          394.3910000000001,
          383.83900000000006,
          365.8490000000001,
          410.8460000000001,
          400.2940000000001,
          345.4310000000001,
          379.8760000000001,
          411.8960000000002,
          487.9940000000002,
          560.9610000000002,
          560.9610000000002,
          560.9610000000002,
          605.4120000000001,
          605.4120000000001,
          526.5160000000002,
          542.5150000000002,
          542.5150000000002,
          542.5150000000002,
          544.5060000000002,
          544.5060000000002,
          540.5430000000002,
          540.5430000000002,
          540.5430000000002,
          556.5420000000003,
          556.5420000000003,
          571.5130000000003,
          418.8400000000001,
          445.9540000000001,
          416.9120000000001,
          420.9250000000001,
          442.828,
          450.92900000000014,
          418.88400000000007,
          480.9550000000001,
          399.84100000000007,
          418.8400000000001,
          318.34000000000003,
          394.4380000000001,
          428.88300000000015,
          412.4280000000001,
          424.4640000000001,
          428.88300000000015,
          412.4280000000001,
          461.54400000000015,
          511.5510000000002,
          431.4710000000002
         ]
        },
        {
         "line": {
          "color": "red"
         },
         "mode": "lines",
         "name": "Gaussian Fit",
         "type": "scatter",
         "x": [
          159.192,
          166.0180808080808,
          172.8441616161616,
          179.67024242424242,
          186.49632323232322,
          193.32240404040402,
          200.14848484848483,
          206.97456565656566,
          213.80064646464646,
          220.62672727272727,
          227.45280808080807,
          234.27888888888887,
          241.10496969696968,
          247.93105050505048,
          254.7571313131313,
          261.5832121212121,
          268.4092929292929,
          275.2353737373737,
          282.0614545454545,
          288.8875353535353,
          295.71361616161613,
          302.53969696969693,
          309.36577777777774,
          316.19185858585854,
          323.01793939393934,
          329.84402020202015,
          336.67010101010095,
          343.49618181818175,
          350.3222626262626,
          357.14834343434336,
          363.9744242424242,
          370.80050505050497,
          377.6265858585858,
          384.4526666666666,
          391.27874747474743,
          398.1048282828282,
          404.93090909090904,
          411.7569898989898,
          418.58307070707065,
          425.40915151515145,
          432.23523232323225,
          439.06131313131306,
          445.88739393939386,
          452.71347474747466,
          459.53955555555547,
          466.36563636363627,
          473.1917171717171,
          480.0177979797979,
          486.8438787878787,
          493.6699595959595,
          500.4960404040403,
          507.3221212121211,
          514.1482020202019,
          520.9742828282826,
          527.8003636363635,
          534.6264444444444,
          541.4525252525252,
          548.278606060606,
          555.1046868686867,
          561.9307676767676,
          568.7568484848484,
          575.5829292929292,
          582.4090101010099,
          589.2350909090908,
          596.0611717171716,
          602.8872525252524,
          609.7133333333331,
          616.539414141414,
          623.3654949494949,
          630.1915757575756,
          637.0176565656564,
          643.8437373737372,
          650.6698181818181,
          657.4958989898988,
          664.3219797979796,
          671.1480606060604,
          677.9741414141413,
          684.800222222222,
          691.6263030303029,
          698.4523838383836,
          705.2784646464645,
          712.1045454545452,
          718.9306262626261,
          725.7567070707069,
          732.5827878787877,
          739.4088686868685,
          746.2349494949493,
          753.0610303030302,
          759.8871111111109,
          766.7131919191918,
          773.5392727272725,
          780.3653535353534,
          787.1914343434341,
          794.017515151515,
          800.8435959595957,
          807.6696767676766,
          814.4957575757574,
          821.3218383838382,
          828.147919191919,
          834.9739999999998
         ],
         "y": [
          0.00022097709245938587,
          0.00025508514778609033,
          0.00029334383769213457,
          0.0003360645049719968,
          0.00038355018730084505,
          0.0004360895023209793,
          0.0004939499483397057,
          0.0005573707004269008,
          0.0006265550070058309,
          0.0007016623174115838,
          0.0007828002954405854,
          0.0008700168966384005,
          0.00096329270692349,
          0.0010625337560590574,
          0.0011675650304307243,
          0.0012781249146104191,
          0.0013938607894614626,
          0.001514326005420856,
          0.0016389784326625593,
          0.0017671807649478277,
          0.001898202721252405,
          0.0020312252491935224,
          0.0021653467876588373,
          0.002299591593983459,
          0.002432920084948744,
          0.0025642410824675585,
          0.002692425795963955,
          0.002816323316180772,
          0.002934777341550864,
          0.003046643810419509,
          0.003150809072269134,
          0.00324620820043517,
          0.003331843029092339,
          0.0034067994896528047,
          0.0034702638268508564,
          0.0035215372929260982,
          0.0035600489492026576,
          0.0035853662472458982,
          0.003597203115437872,
          0.003595425339592657,
          0.003580053096107675,
          0.0035512605708004634,
          0.003509372673499276,
          0.003454858935033218,
          0.0033883247469106872,
          0.003310500172212214,
          0.0032222266168063615,
          0.003124441700989351,
          0.0030181627115026598,
          0.002904469041495562,
          0.002784484040749603,
          0.0026593567002419797,
          0.0025302435842529517,
          0.002398291400532219,
          0.002264620565750287,
          0.0021303100811333924,
          0.0019963839836373647,
          0.0018637995832568382,
          0.0017334376391782284,
          0.001606094568553703,
          0.001482476723699163,
          0.001363196718342203,
          0.0012487717327826296,
          0.0011396236828217436,
          0.0010360810991035675,
          0.0009383825328024685,
          0.0008466812807700451,
          0.0007610512083861,
          0.0006814934412184215,
          0.0006079436967012447,
          0.0005402800336954904,
          0.0004783308101316207,
          0.00042188265597867215,
          0.000370688289485558,
          0.0003244740279400566,
          0.00028294686904975995,
          0.00024580104449364404,
          0.00021272397234277376,
          0.00018340155914068997,
          0.00015752282483725994,
          0.00013478384399303933,
          0.0001148910143643842,
          0.00009756367892803424,
          0.00008253613951883446,
          0.00006955910955811361,
          0.000058400659960442066,
          0.00004884671641679389,
          0.000040701168114170895,
          0.000033785647856334134,
          0.000027939041810521518,
          0.000023016784040687244,
          0.00001888998691219281,
          0.000015444453662058264,
          0.000012579614193285594,
          0.000010207419710458087,
          0.000008251226370878911,
          0.000006644692848612611,
          0.0000053307117294297804,
          0.000004260390069881401,
          0.000003392090328924941
         ]
        }
       ],
       "layout": {
        "template": {
         "data": {
          "bar": [
           {
            "error_x": {
             "color": "#2a3f5f"
            },
            "error_y": {
             "color": "#2a3f5f"
            },
            "marker": {
             "line": {
              "color": "#E5ECF6",
              "width": 0.5
             },
             "pattern": {
              "fillmode": "overlay",
              "size": 10,
              "solidity": 0.2
             }
            },
            "type": "bar"
           }
          ],
          "barpolar": [
           {
            "marker": {
             "line": {
              "color": "#E5ECF6",
              "width": 0.5
             },
             "pattern": {
              "fillmode": "overlay",
              "size": 10,
              "solidity": 0.2
             }
            },
            "type": "barpolar"
           }
          ],
          "carpet": [
           {
            "aaxis": {
             "endlinecolor": "#2a3f5f",
             "gridcolor": "white",
             "linecolor": "white",
             "minorgridcolor": "white",
             "startlinecolor": "#2a3f5f"
            },
            "baxis": {
             "endlinecolor": "#2a3f5f",
             "gridcolor": "white",
             "linecolor": "white",
             "minorgridcolor": "white",
             "startlinecolor": "#2a3f5f"
            },
            "type": "carpet"
           }
          ],
          "choropleth": [
           {
            "colorbar": {
             "outlinewidth": 0,
             "ticks": ""
            },
            "type": "choropleth"
           }
          ],
          "contour": [
           {
            "colorbar": {
             "outlinewidth": 0,
             "ticks": ""
            },
            "colorscale": [
             [
              0,
              "#0d0887"
             ],
             [
              0.1111111111111111,
              "#46039f"
             ],
             [
              0.2222222222222222,
              "#7201a8"
             ],
             [
              0.3333333333333333,
              "#9c179e"
             ],
             [
              0.4444444444444444,
              "#bd3786"
             ],
             [
              0.5555555555555556,
              "#d8576b"
             ],
             [
              0.6666666666666666,
              "#ed7953"
             ],
             [
              0.7777777777777778,
              "#fb9f3a"
             ],
             [
              0.8888888888888888,
              "#fdca26"
             ],
             [
              1,
              "#f0f921"
             ]
            ],
            "type": "contour"
           }
          ],
          "contourcarpet": [
           {
            "colorbar": {
             "outlinewidth": 0,
             "ticks": ""
            },
            "type": "contourcarpet"
           }
          ],
          "heatmap": [
           {
            "colorbar": {
             "outlinewidth": 0,
             "ticks": ""
            },
            "colorscale": [
             [
              0,
              "#0d0887"
             ],
             [
              0.1111111111111111,
              "#46039f"
             ],
             [
              0.2222222222222222,
              "#7201a8"
             ],
             [
              0.3333333333333333,
              "#9c179e"
             ],
             [
              0.4444444444444444,
              "#bd3786"
             ],
             [
              0.5555555555555556,
              "#d8576b"
             ],
             [
              0.6666666666666666,
              "#ed7953"
             ],
             [
              0.7777777777777778,
              "#fb9f3a"
             ],
             [
              0.8888888888888888,
              "#fdca26"
             ],
             [
              1,
              "#f0f921"
             ]
            ],
            "type": "heatmap"
           }
          ],
          "heatmapgl": [
           {
            "colorbar": {
             "outlinewidth": 0,
             "ticks": ""
            },
            "colorscale": [
             [
              0,
              "#0d0887"
             ],
             [
              0.1111111111111111,
              "#46039f"
             ],
             [
              0.2222222222222222,
              "#7201a8"
             ],
             [
              0.3333333333333333,
              "#9c179e"
             ],
             [
              0.4444444444444444,
              "#bd3786"
             ],
             [
              0.5555555555555556,
              "#d8576b"
             ],
             [
              0.6666666666666666,
              "#ed7953"
             ],
             [
              0.7777777777777778,
              "#fb9f3a"
             ],
             [
              0.8888888888888888,
              "#fdca26"
             ],
             [
              1,
              "#f0f921"
             ]
            ],
            "type": "heatmapgl"
           }
          ],
          "histogram": [
           {
            "marker": {
             "pattern": {
              "fillmode": "overlay",
              "size": 10,
              "solidity": 0.2
             }
            },
            "type": "histogram"
           }
          ],
          "histogram2d": [
           {
            "colorbar": {
             "outlinewidth": 0,
             "ticks": ""
            },
            "colorscale": [
             [
              0,
              "#0d0887"
             ],
             [
              0.1111111111111111,
              "#46039f"
             ],
             [
              0.2222222222222222,
              "#7201a8"
             ],
             [
              0.3333333333333333,
              "#9c179e"
             ],
             [
              0.4444444444444444,
              "#bd3786"
             ],
             [
              0.5555555555555556,
              "#d8576b"
             ],
             [
              0.6666666666666666,
              "#ed7953"
             ],
             [
              0.7777777777777778,
              "#fb9f3a"
             ],
             [
              0.8888888888888888,
              "#fdca26"
             ],
             [
              1,
              "#f0f921"
             ]
            ],
            "type": "histogram2d"
           }
          ],
          "histogram2dcontour": [
           {
            "colorbar": {
             "outlinewidth": 0,
             "ticks": ""
            },
            "colorscale": [
             [
              0,
              "#0d0887"
             ],
             [
              0.1111111111111111,
              "#46039f"
             ],
             [
              0.2222222222222222,
              "#7201a8"
             ],
             [
              0.3333333333333333,
              "#9c179e"
             ],
             [
              0.4444444444444444,
              "#bd3786"
             ],
             [
              0.5555555555555556,
              "#d8576b"
             ],
             [
              0.6666666666666666,
              "#ed7953"
             ],
             [
              0.7777777777777778,
              "#fb9f3a"
             ],
             [
              0.8888888888888888,
              "#fdca26"
             ],
             [
              1,
              "#f0f921"
             ]
            ],
            "type": "histogram2dcontour"
           }
          ],
          "mesh3d": [
           {
            "colorbar": {
             "outlinewidth": 0,
             "ticks": ""
            },
            "type": "mesh3d"
           }
          ],
          "parcoords": [
           {
            "line": {
             "colorbar": {
              "outlinewidth": 0,
              "ticks": ""
             }
            },
            "type": "parcoords"
           }
          ],
          "pie": [
           {
            "automargin": true,
            "type": "pie"
           }
          ],
          "scatter": [
           {
            "fillpattern": {
             "fillmode": "overlay",
             "size": 10,
             "solidity": 0.2
            },
            "type": "scatter"
           }
          ],
          "scatter3d": [
           {
            "line": {
             "colorbar": {
              "outlinewidth": 0,
              "ticks": ""
             }
            },
            "marker": {
             "colorbar": {
              "outlinewidth": 0,
              "ticks": ""
             }
            },
            "type": "scatter3d"
           }
          ],
          "scattercarpet": [
           {
            "marker": {
             "colorbar": {
              "outlinewidth": 0,
              "ticks": ""
             }
            },
            "type": "scattercarpet"
           }
          ],
          "scattergeo": [
           {
            "marker": {
             "colorbar": {
              "outlinewidth": 0,
              "ticks": ""
             }
            },
            "type": "scattergeo"
           }
          ],
          "scattergl": [
           {
            "marker": {
             "colorbar": {
              "outlinewidth": 0,
              "ticks": ""
             }
            },
            "type": "scattergl"
           }
          ],
          "scattermapbox": [
           {
            "marker": {
             "colorbar": {
              "outlinewidth": 0,
              "ticks": ""
             }
            },
            "type": "scattermapbox"
           }
          ],
          "scatterpolar": [
           {
            "marker": {
             "colorbar": {
              "outlinewidth": 0,
              "ticks": ""
             }
            },
            "type": "scatterpolar"
           }
          ],
          "scatterpolargl": [
           {
            "marker": {
             "colorbar": {
              "outlinewidth": 0,
              "ticks": ""
             }
            },
            "type": "scatterpolargl"
           }
          ],
          "scatterternary": [
           {
            "marker": {
             "colorbar": {
              "outlinewidth": 0,
              "ticks": ""
             }
            },
            "type": "scatterternary"
           }
          ],
          "surface": [
           {
            "colorbar": {
             "outlinewidth": 0,
             "ticks": ""
            },
            "colorscale": [
             [
              0,
              "#0d0887"
             ],
             [
              0.1111111111111111,
              "#46039f"
             ],
             [
              0.2222222222222222,
              "#7201a8"
             ],
             [
              0.3333333333333333,
              "#9c179e"
             ],
             [
              0.4444444444444444,
              "#bd3786"
             ],
             [
              0.5555555555555556,
              "#d8576b"
             ],
             [
              0.6666666666666666,
              "#ed7953"
             ],
             [
              0.7777777777777778,
              "#fb9f3a"
             ],
             [
              0.8888888888888888,
              "#fdca26"
             ],
             [
              1,
              "#f0f921"
             ]
            ],
            "type": "surface"
           }
          ],
          "table": [
           {
            "cells": {
             "fill": {
              "color": "#EBF0F8"
             },
             "line": {
              "color": "white"
             }
            },
            "header": {
             "fill": {
              "color": "#C8D4E3"
             },
             "line": {
              "color": "white"
             }
            },
            "type": "table"
           }
          ]
         },
         "layout": {
          "annotationdefaults": {
           "arrowcolor": "#2a3f5f",
           "arrowhead": 0,
           "arrowwidth": 1
          },
          "autotypenumbers": "strict",
          "coloraxis": {
           "colorbar": {
            "outlinewidth": 0,
            "ticks": ""
           }
          },
          "colorscale": {
           "diverging": [
            [
             0,
             "#8e0152"
            ],
            [
             0.1,
             "#c51b7d"
            ],
            [
             0.2,
             "#de77ae"
            ],
            [
             0.3,
             "#f1b6da"
            ],
            [
             0.4,
             "#fde0ef"
            ],
            [
             0.5,
             "#f7f7f7"
            ],
            [
             0.6,
             "#e6f5d0"
            ],
            [
             0.7,
             "#b8e186"
            ],
            [
             0.8,
             "#7fbc41"
            ],
            [
             0.9,
             "#4d9221"
            ],
            [
             1,
             "#276419"
            ]
           ],
           "sequential": [
            [
             0,
             "#0d0887"
            ],
            [
             0.1111111111111111,
             "#46039f"
            ],
            [
             0.2222222222222222,
             "#7201a8"
            ],
            [
             0.3333333333333333,
             "#9c179e"
            ],
            [
             0.4444444444444444,
             "#bd3786"
            ],
            [
             0.5555555555555556,
             "#d8576b"
            ],
            [
             0.6666666666666666,
             "#ed7953"
            ],
            [
             0.7777777777777778,
             "#fb9f3a"
            ],
            [
             0.8888888888888888,
             "#fdca26"
            ],
            [
             1,
             "#f0f921"
            ]
           ],
           "sequentialminus": [
            [
             0,
             "#0d0887"
            ],
            [
             0.1111111111111111,
             "#46039f"
            ],
            [
             0.2222222222222222,
             "#7201a8"
            ],
            [
             0.3333333333333333,
             "#9c179e"
            ],
            [
             0.4444444444444444,
             "#bd3786"
            ],
            [
             0.5555555555555556,
             "#d8576b"
            ],
            [
             0.6666666666666666,
             "#ed7953"
            ],
            [
             0.7777777777777778,
             "#fb9f3a"
            ],
            [
             0.8888888888888888,
             "#fdca26"
            ],
            [
             1,
             "#f0f921"
            ]
           ]
          },
          "colorway": [
           "#636efa",
           "#EF553B",
           "#00cc96",
           "#ab63fa",
           "#FFA15A",
           "#19d3f3",
           "#FF6692",
           "#B6E880",
           "#FF97FF",
           "#FECB52"
          ],
          "font": {
           "color": "#2a3f5f"
          },
          "geo": {
           "bgcolor": "white",
           "lakecolor": "white",
           "landcolor": "#E5ECF6",
           "showlakes": true,
           "showland": true,
           "subunitcolor": "white"
          },
          "hoverlabel": {
           "align": "left"
          },
          "hovermode": "closest",
          "mapbox": {
           "style": "light"
          },
          "paper_bgcolor": "white",
          "plot_bgcolor": "#E5ECF6",
          "polar": {
           "angularaxis": {
            "gridcolor": "white",
            "linecolor": "white",
            "ticks": ""
           },
           "bgcolor": "#E5ECF6",
           "radialaxis": {
            "gridcolor": "white",
            "linecolor": "white",
            "ticks": ""
           }
          },
          "scene": {
           "xaxis": {
            "backgroundcolor": "#E5ECF6",
            "gridcolor": "white",
            "gridwidth": 2,
            "linecolor": "white",
            "showbackground": true,
            "ticks": "",
            "zerolinecolor": "white"
           },
           "yaxis": {
            "backgroundcolor": "#E5ECF6",
            "gridcolor": "white",
            "gridwidth": 2,
            "linecolor": "white",
            "showbackground": true,
            "ticks": "",
            "zerolinecolor": "white"
           },
           "zaxis": {
            "backgroundcolor": "#E5ECF6",
            "gridcolor": "white",
            "gridwidth": 2,
            "linecolor": "white",
            "showbackground": true,
            "ticks": "",
            "zerolinecolor": "white"
           }
          },
          "shapedefaults": {
           "line": {
            "color": "#2a3f5f"
           }
          },
          "ternary": {
           "aaxis": {
            "gridcolor": "white",
            "linecolor": "white",
            "ticks": ""
           },
           "baxis": {
            "gridcolor": "white",
            "linecolor": "white",
            "ticks": ""
           },
           "bgcolor": "#E5ECF6",
           "caxis": {
            "gridcolor": "white",
            "linecolor": "white",
            "ticks": ""
           }
          },
          "title": {
           "x": 0.05
          },
          "xaxis": {
           "automargin": true,
           "gridcolor": "white",
           "linecolor": "white",
           "ticks": "",
           "title": {
            "standoff": 15
           },
           "zerolinecolor": "white",
           "zerolinewidth": 2
          },
          "yaxis": {
           "automargin": true,
           "gridcolor": "white",
           "linecolor": "white",
           "ticks": "",
           "title": {
            "standoff": 15
           },
           "zerolinecolor": "white",
           "zerolinewidth": 2
          }
         }
        },
        "title": {
         "text": "Histogram of molar_mass with Gaussian Fit"
        },
        "xaxis": {
         "title": {
          "text": "molar_mass"
         }
        },
        "yaxis": {
         "title": {
          "text": "Density"
         }
        }
       }
      }
     },
     "metadata": {},
     "output_type": "display_data"
    }
   ],
   "source": [
    "molar_mass = 'molar_mass'  \n",
    "\n",
    "# Извлечение данных столбца\n",
    "data = ds_cleaned[molar_mass]\n",
    "\n",
    "mu, std = norm.fit(data)\n",
    "x = np.linspace(min(data), max(data), 100)\n",
    "y = norm.pdf(x, mu, std)\n",
    "\n",
    "   # Гистограмма\n",
    "hist = go.Histogram(x=data, nbinsx=30, name='Histogram', marker=dict(color='skyblue', line = dict(color='black', width = 1.5)), histnorm='probability density', opacity=0.7)\n",
    "\n",
    "   # Кривая гауссианы\n",
    "gaussian_curve = go.Scatter(x=x, y=y, mode='lines', name='Gaussian Fit', line=dict(color='red'))\n",
    "\n",
    "   # Создаем фигуру и визуализируем\n",
    "layout = go.Layout(bargap=0.2)\n",
    "fig = go.Figure(data=[hist, gaussian_curve])\n",
    "fig.update_layout(title='Histogram of molar_mass with Gaussian Fit', xaxis_title='molar_mass', yaxis_title='Density')\n",
    "fig.show()"
   ]
  },
  {
   "cell_type": "code",
   "execution_count": 80,
   "metadata": {},
   "outputs": [
    {
     "data": {
      "application/vnd.plotly.v1+json": {
       "config": {
        "plotlyServerURL": "https://plot.ly"
       },
       "data": [
        {
         "histnorm": "probability density",
         "marker": {
          "color": "skyblue",
          "line": {
           "color": "black",
           "width": 1.5
          }
         },
         "name": "Histogram",
         "nbinsx": 30,
         "opacity": 0.7,
         "type": "histogram",
         "x": [
          0.0891327561096047,
          0.0206470965226985,
          0.0103235482613492,
          0.0215820133773951,
          0.0187101100453832,
          0.0155115716324377,
          0.0034923944380126,
          0.0008522243054371,
          0.0016646496661545,
          2.494871382558316,
          0.7326887961579627,
          0.6782319341267231,
          1.4088188759716578,
          0.61332790282586,
          0.6268026697876212,
          0.6540038576008784,
          0.7044094379858288,
          1.3078607026175084,
          0.02116,
          0.0404099999999999,
          0.1482,
          0.03705,
          0.0798,
          0.0381899999999999,
          0.00915,
          0.0321749999999999,
          0.0593,
          0.0757999999999999,
          0.0363599999999999,
          0.0698,
          0.13447,
          0.03361,
          0.01833,
          0.01696,
          0.04412,
          0.03269,
          0.0326,
          0.07684,
          0.07367,
          0.03537,
          0.03402,
          0.03408,
          0.04218,
          0.01007,
          0.03854,
          0.03694,
          0.00923,
          0.04688,
          0.0376,
          0.009102,
          0.01732,
          0.06949,
          0.00415,
          0.0469799999999999,
          0.01698,
          0.01758,
          0.06731,
          0.0382999999999999,
          0.00912,
          0.000068,
          0.000031,
          0.000247,
          0.000033,
          0.000254,
          0.000016,
          0.000121,
          0.000059,
          0.000115,
          0.0002179999999999,
          0.000208,
          0.000242,
          0.000225,
          0.000249,
          0.00025,
          0.000247,
          0.00047,
          0.0002179999999999,
          0.000014,
          0.000107,
          0.000214,
          0.000006,
          0.000101,
          0.000219,
          0.000213,
          0.0002179999999999,
          0.000208,
          0.0002179999999999,
          0.6987338178979574,
          0.1673443240204473,
          0.1614237575415161,
          0.034681504570372,
          0.1497279163020947,
          0.0767588572525126,
          0.3118156195264786,
          0.0336581343296141,
          0.0362426353832318,
          0.0742602403711155,
          0.1507563729901112,
          0.0381376435226787,
          1.1439116864430814,
          0.5382210532733714,
          1.0164881525526346,
          0.9146074601243644,
          1.3637477492834988,
          1.3711102779711846,
          0.6016507793257747,
          0.5772448284726008,
          1.1544896569452017,
          1.1131862564981154,
          0.5565931282490577,
          1.1131862564981154,
          2.519077584637564,
          0.1532710190846365,
          2.7058164484045206,
          0.1585987797806379,
          0.0091857097912777,
          0.0011173933448052,
          0.0022247633964127,
          0.0342263560054419,
          0.0020664102940295,
          0.0605622447396012,
          0.0161785137203907,
          0.0002708576653802,
          0.0041711245560359,
          0.0010081824084267,
          0.0074020203814631,
          0.0039487141012529,
          0.0167525233488294,
          0.0325489709439404,
          0.1231666926471408,
          0.0599646208736844,
          0.0035606068698348,
          0.013564931937954,
          0.4143668765478061,
          0.1823434552945133,
          0.2614640762658026,
          0.0039715793779712,
          0.1203840250398771,
          0.2345787387360969,
          0.0017430317946429,
          0.1063534557395137,
          0.1016161734842121,
          0.08963798857956,
          0.0002177487910587,
          0.0034839806569393,
          0.4591096500902975,
          0.0573887062612871,
          0.0286943531306435,
          0.0002054228341448,
          0.0136843833816848,
          0.0068251582156988,
          0.0008531447769623,
          0.0004388952479933,
          0.0140446479357878,
          0.0070223239678939,
          0.0002014465473673,
          0.0033522231105613,
          0.0345189886799291,
          0.0084117731176554,
          0.0010764239474188,
          0.0005246457591833,
          0.2686186287019003,
          0.1310071378420258,
          0.0050325859943131,
          0.0777761844462213,
          0.0024246832757471,
          0.550056187380078,
          0.0194440461115553,
          0.0047007502397382,
          0.0023395315322059,
          0.1540683678382282,
          0.2687348049363224,
          0.0390795782336519,
          0.151140163609227,
          0.1340544344788005,
          0.6045606544369081,
          0.2925881478941652,
          0.0728187927099285,
          0.0023396683754044,
          0.2994775520517721,
          0.5597292309845112,
          0.5597292309845112,
          0.9729142201294434,
          0.2432285550323608,
          0.5189076992929882,
          1.0067285647432649,
          2.1486424105082045,
          1.06550349202121,
          2.412511131948338,
          1.2176791795886523,
          0.4427043703222058,
          0.6088395897943262,
          1.06550349202121,
          2.283033759469908,
          0.1331496977085769,
          0.2675205029385455,
          1.070082011754182,
          0.5393879632204832,
          0.2174230611128663,
          1.074519614180301,
          1.3113074657446535,
          1.3113074657446535,
          1.0547610513001169,
          2.1095221026002333,
          0.4618371013948923,
          0.115459275348723,
          0.2454938453925791,
          0.9540988983139284,
          1.014596717621088,
          0.238524724578482,
          0.5657358543937344,
          1.141516879734954,
          0.4222206828759826,
          0.2853792199337385,
          0.5033642823716323,
          1.0743212052541022,
          0.1258069335346244,
          0.2527037325130991,
          1.0108149300523963,
          0.5092844950722747,
          0.4150669295423886,
          2.0295473554443006,
          2.5829234455795183,
          0.6117026360560472,
          0.6117026360560472,
          0.4762843864303601,
          0.2110873637826855,
          0.4348505540947294,
          0.2291451097211232,
          0.8029936607414518,
          0.0452934449061859,
          0.0232278594946779,
          0.1948753863252287,
          0.8142804432739164,
          0.0121448024799686,
          0.0452934449061859,
          0.1131645766583915,
          0.2181872728636397,
          0.0240360059368934,
          0.087127224807299,
          0.2022890267685276,
          0.7431426224225868,
          0.0465947941966183,
          0.1742544496145981,
          0.1742544496145981,
          0.0211734876174797,
          0.4439049765909484,
          0.2798646154922556,
          0.2798646154922556,
          0.4864571100647217,
          0.1216142775161804,
          0.2594538496464941,
          0.5033642823716323,
          1.0743212052541022,
          0.532751746010605,
          1.206255565974169,
          1.2176791795886523,
          0.2213521851611029,
          0.3044197948971631,
          0.532751746010605,
          1.141516879734954,
          0.0665748488542884,
          0.2675205029385455,
          0.535041005877091,
          0.2696939816102416,
          0.1087115305564331,
          0.5372598070901505,
          0.6556537328723268,
          0.6556537328723268,
          0.2636902628250291,
          1.0547610513001169,
          0.2309185506974461,
          0.0577296376743615,
          0.2454938453925791,
          0.4770494491569642,
          0.507298358810544,
          0.119262362289241,
          0.2828679271968672,
          0.570758439867477,
          0.2111103414379913,
          0.1426896099668692,
          0.2516821411858161,
          0.5371606026270511,
          0.0629034667673122,
          0.2527037325130991,
          0.5054074650261983,
          0.2546422475361373,
          0.2075334647711943,
          1.0147736777221503,
          1.2914617227897591,
          0.3058513180280236,
          0.3058513180280236,
          0.23814219321518,
          0.2110873637826855,
          0.4348505540947294,
          0.1145725548605616,
          0.2007484151853629,
          0.0226467224530929,
          0.0116139297473389,
          0.1948753863252287,
          0.8142804432739164,
          0.0121448024799686,
          0.0226467224530929,
          0.1131645766583915,
          0.1090936364318198,
          0.0120180029684467,
          0.087127224807299,
          0.2022890267685276,
          0.3715713112112934,
          0.0232973970983091,
          0.1742544496145981,
          0.087127224807299,
          0.0211734876174797,
          0.4439049765909484,
          0.1746834544744893,
          0.1673443240204473,
          0.1614237575415161,
          0.034681504570372,
          0.0374319790755236,
          0.0767588572525126,
          0.0779539048816196,
          0.016829067164807,
          0.0724852707664637,
          0.0742602403711155,
          0.3015127459802225,
          0.0201303439772527,
          0.0097220230557776,
          0.0012123416378735,
          0.550056187380078,
          0.1555523688924427,
          0.0047007502397382,
          0.0748650090305916,
          0.038517091959557,
          0.1343674024681612,
          0.1563183129346076,
          0.0094462602255766,
          0.268108868957601,
          0.0047231301127883,
          0.0182867592433853,
          0.0182046981774821,
          0.0187173470032357,
          0.0374346940064715,
          0.1746834544744893,
          0.1673443240204473,
          0.080711878770758,
          0.034681504570372,
          0.0748639581510473,
          0.3070354290100504,
          0.6236312390529573,
          0.0084145335824035,
          0.0362426353832318,
          0.0371301201855577,
          0.0753781864950556,
          0.0805213759090108,
          0.0388880922231106,
          0.0012123416378735,
          0.275028093690039,
          0.0097220230557776,
          0.1504240076716243,
          0.0187162522576479,
          0.038517091959557,
          0.1343674024681612,
          0.0781591564673038,
          0.0755700818046135,
          0.1340544344788005,
          0.151140163609227,
          0.1462940739470826,
          0.0045511745443705,
          0.074869388012943,
          0.0187173470032357,
          0.3493669089489787,
          0.3346886480408946,
          0.3228475150830322,
          0.008670376142593,
          0.0374319790755236,
          0.0383794286262563,
          0.1559078097632393,
          0.0084145335824035,
          0.1449705415329275,
          0.0185650600927788,
          0.3015127459802225,
          0.1610427518180216,
          0.0097220230557776,
          0.0024246832757471,
          0.550056187380078,
          0.0097220230557776,
          0.018803000958953,
          0.0046790630644119,
          0.0096292729898892,
          0.0167959253085201,
          0.0097698945584129,
          0.6045606544369081,
          0.268108868957601,
          0.302280327218454,
          0.0022858449054231,
          0.5825503416794287,
          0.0187173470032357,
          0.0374346940064715,
          0.018,
          0.000028,
          0.000031,
          0.000029,
          0.000059999999999999995,
          0.000029,
          0.000026,
          0.000031,
          0.000035000000000000004,
          0.00006500000000000001,
          0.000067,
          0.000062,
          0.000029,
          0.000029,
          0.000034,
          0.000031,
          0.00006500000000000001,
          0.000059999999999999995,
          0.000056,
          0.000028,
          0.000031,
          0.000029,
          0.000059999999999999995,
          0.000029,
          0.000026,
          0.000013,
          0.1938753986078195,
          1.7836058088473985,
          2.954733483039829,
          2.954733483039829,
          3.3738305459869973,
          3.285658429520984,
          0.2115696436490178,
          0.2229507261059247,
          0.8434576364967493,
          0.000135,
          0.000252,
          0.000247,
          0.000131,
          0.000254,
          0.000127,
          0.000121,
          0.000059,
          0.000007,
          0.0002179999999999,
          0.000104,
          0.000015,
          0.000028,
          0.000031,
          0.000031,
          0.000247,
          0.00047,
          0.0002179999999999,
          0.000027,
          0.000053,
          0.000003,
          0.000013,
          0.000025,
          0.000219,
          0.000213,
          0.0002179999999999,
          0.000208,
          0.0002179999999999,
          0.0592031259250488,
          0.0569116980857181,
          0.1064375562788578,
          0.0592031259250488,
          0.0274284009022846,
          0.0266093890697144,
          0.0616036666502389,
          0.028455849042859,
          0.0129419950137081,
          0.0071139622607147,
          0.006470997506854,
          0.0137142004511423,
          0.012515544306028,
          0.0036423486774859,
          0.0035296401531863,
          0.0137142004511423,
          0.0074003907406311,
          0.0068571002255711,
          0.0133046945348572,
          0.0486944055971297,
          0.000684,
          0.00915,
          0.1768609307129617,
          1.247435691279158,
          0.7326887961579627,
          0.6782319341267231,
          0.7044094379858288,
          0.0766659878532325,
          0.0391751668617263,
          0.0817504822001098,
          0.7044094379858288,
          0.6539303513087542,
          0.0095344108806696,
          1.1439116864430814,
          0.5382210532733714,
          0.0317652547672698,
          0.1143259325155455,
          0.6818738746417494,
          0.3427775694927961,
          1.2033015586515494,
          0.5772448284726008,
          0.5772448284726008,
          0.5772448284726008,
          0.5565931282490577,
          1.1131862564981154,
          1.1131862564981154,
          0.1574423490398477,
          0.0383177547711591,
          0.3382270560505651,
          0.0792993898903189,
          0.1499,
          0.0678,
          0.0196,
          0.0779,
          0.0678,
          0.0807,
          0.0772,
          0.020809841334671,
          0.1863246640193658,
          0.1627994206945413,
          0.3438884150870724,
          0.3438884150870724,
          0.0365468864391754,
          0.0077433765589129,
          0.0338526900193806,
          0.1278236034272703,
          0.0105009491242477,
          0.0147095164687746,
          0.0073547582343873,
          0.0297282127874123,
          0.0071765335390989,
          0.0272659653133295,
          0.0166752933517606,
          0.0141176576885893,
          0.0183628559088732,
          0.0153087593046639,
          0.0154968619350639,
          0.0154968619350639,
          0.0089299866719948,
          0.009673893064786,
          0.0076331944728038,
          0.0073798423296686,
          0.0016,
          0.0891942901383224,
          0.0926835597901644,
          0.0722090480825609,
          0.070073352785696,
          0.0722090480825609,
          0.1853671195803288,
          0.178388580276645,
          0.2675828704149675,
          0.179624154419293,
          0.2539428865518618,
          0.140146705571392,
          0.1401467055713921,
          0.140908181410829,
          0.1344722234175308,
          0.0034027031073484,
          0.003046001939694,
          0.017842868562293,
          0.0169408830943539,
          0.0037926023016544,
          0.0237823439878234,
          0.0021451567508941,
          0.0160113232077725,
          0.0065055375135315,
          0.008862074221644,
          0.007897746299116,
          0.1333873996926753,
          0.1333873996926753,
          0.1333873996926753,
          0.1278176114262808,
          0.1363152568397543,
          0.1322686937990319,
          0.1322686937990319,
          0.1322686937990319,
          0.126790021523874,
          0.1229097960090697,
          0.1196103573000592,
          0.1196103573000592,
          0.1196103573000592,
          0.1151123127813344,
          0.0686027647463014,
          0.133106732432041,
          0.133106732432041,
          0.0021328272584029,
          0.1319927097786534,
          0.1319927097786534,
          0.1226714505261132,
          0.1193846247884504,
          0.1193846247884504,
          0.1372055294926029,
          0.1360221465818178,
          0.1226714505261132,
          0.001303947570876,
          0.0000417167484923306,
          0.01103,
          0.00319,
          0.00115,
          0.00032,
          0.00056,
          0.00439,
          0.00007000000000000001,
          0.00806,
          0.00063,
          0.00246,
          0.00447,
          0.00243,
          0.0022299999999999,
          0.00103,
          0.01011,
          0.00014,
          0.04233,
          0.0202049999999999,
          0.1482,
          0.03705,
          0.0798,
          0.0381899999999999,
          0.00457,
          0.07035,
          0.03517,
          0.0757999999999999,
          0.0363599999999999,
          0.0349,
          0.06723,
          0.03361,
          0.0091799999999999,
          0.01696,
          0.0339,
          0.03269,
          0.0326,
          0.03842,
          0.07367,
          0.03537,
          0.06804,
          0.06804,
          0.04218,
          0.02014,
          0.03854,
          0.03694,
          0.00461,
          0.03842,
          0.0733,
          0.009102,
          0.03478,
          0.03474,
          0.00415,
          0.03375,
          0.008087,
          0.01758,
          0.06731,
          0.0191499999999999,
          0.00455,
          0.000068,
          0.000504,
          0.000247,
          0.000016,
          0.000127,
          0.000008,
          0.000015,
          0.000029,
          0.000229,
          0.000055,
          0.000208,
          0.000029999999999999997,
          0.000056,
          0.000498,
          0.00025,
          0.000124,
          0.000235,
          0.0004359999999999,
          0.000055,
          0.000007,
          0.000214,
          0.000006,
          0.000025,
          0.000219,
          0.000213,
          0.0002179999999999,
          0.000208,
          0.0002179999999999,
          0.0035143841942823,
          2.494871382558316,
          0.7326887961579627,
          0.6782319341267231,
          0.0880511797482286,
          0.153331975706465,
          0.3134013348938106,
          0.1635009644002196,
          0.7044094379858288,
          0.6539303513087542,
          0.152550574090715,
          1.1439116864430814,
          0.5382210532733714,
          1.0164881525526346,
          0.4573037300621821,
          0.6818738746417494,
          0.3427775694927961,
          1.2033015586515494,
          0.2886224142363004,
          0.5772448284726008,
          0.0721556035590751,
          0.2782965641245288,
          0.1391482820622644,
          0.2782965641245288,
          2.519077584637564,
          0.1532710190846365,
          2.7058164484045206,
          0.1585987797806379,
          2.494871382558316,
          0.7326887961579627,
          0.3391159670633615,
          0.3522047189929144,
          0.30666395141293,
          0.1567006674469053,
          0.3270019288004392,
          0.7044094379858288,
          0.3269651756543771,
          1.22040459272572,
          0.5719558432215407,
          0.5382210532733714,
          1.0164881525526346,
          0.4573037300621821,
          0.3409369373208747,
          0.6855551389855923,
          0.6016507793257747,
          0.0360778017795375,
          0.0721556035590751,
          0.1443112071181502,
          0.2782965641245288,
          0.5565931282490577,
          0.5565931282490577,
          2.519077584637564,
          1.226168152677093,
          2.7058164484045206,
          1.2687902382451033,
          0.6112119186324132,
          0.5740502383653918,
          0.6140384541581915,
          0.6081843558828768,
          0.5781025590071088,
          0.5677168689527617,
          0.6111477163128693,
          0.5322743291991974,
          0.6402545011642127,
          0.6112119186324132,
          0.7186566869208075,
          0.339284841838978,
          0.2990385909301594,
          0.2774363769028667,
          0.1950820593174312,
          0.6503286761129072,
          0.1607344923361793,
          0.2685392805832672,
          0.6503286761129072,
          0.56434204771512,
          0.3264229592852642,
          0.4615835547011129,
          0.2362474455744946,
          0.2485577436922258,
          0.1584918674652966,
          1.7316557052860514e-8,
          5.071774055846e-7,
          0.0000158066391396973,
          0.0000155097539119045,
          0.0045928548956388,
          0.0022347866896104,
          0.0044495267928255,
          0.0342263560054419,
          0.004132820588059,
          0.1211244894792025,
          0.0323570274407815,
          0.0005417153307605,
          0.0083422491120718,
          0.0010081824084267,
          0.1184323261034099,
          0.0315897128100233,
          0.2680403735812705,
          0.5207835351030476,
          0.9853335411771263,
          0.4797169669894758,
          0.0569697099173582,
          0.054259727751816,
          0.207183438273903,
          0.3646869105890266,
          0.5229281525316052,
          0.0635452700475397,
          0.2407680500797543,
          0.4691574774721939,
          0.0278885087142874,
          0.1063534557395137,
          0.050808086742106,
          0.08963798857956,
          0.0139359226277575,
          0.1114873810220606,
          0.918219300180595,
          0.2295548250451487,
          0.0143471765653217,
          0.0065735306926364,
          0.0068421916908424,
          0.0273006328627955,
          0.0136503164313977,
          0.0280892958715757,
          0.4494287339452119,
          0.0280892958715757,
          0.0128925790315094,
          0.0067044462211226,
          0.1380759547197165,
          0.0084117731176554,
          0.0043056957896753,
          0.0020985830367335,
          0.1343093143509501,
          0.0655035689210129,
          0.0277429477982946,
          0.0000234,
          0.0000229,
          0.000022,
          0.0000191,
          0.000021,
          0.000021,
          0.000021,
          0.00001288,
          0.0000199526,
          0.000017378000000000002,
          0.0000251189,
          0.00006456539999999999,
          0.0000707946,
          0.000040738,
          0.000040738,
          0.0000691831,
          0.0000691831,
          0.000074131,
          0.0000812831,
          0.0000436516,
          0.0000707946,
          0.0000707946,
          0.0000660693,
          0.0000691831,
          0.0000660693,
          0.0000676083,
          0.0000691831,
          0.000040738,
          0.000042658,
          0.0000676083,
          0.0089299866719948,
          0.0085851832614681,
          0.0178599733439897,
          0.0193477861295721,
          0.0092705470086262,
          0.0314972410385427,
          0.0610097882579036,
          0.1016691210227913,
          0.1555618212400221,
          0.1395913898285861,
          0.1299809090539826,
          0.1234251243411701,
          0.1326771343397446,
          0.1035431160006471,
          0.1098397540962504,
          1.1948574455721424,
          0.2761310587037371,
          0.2725857527093532,
          0.2755437684054626,
          0.1299254958484743,
          0.2658011516665524,
          0.0383245466325897,
          0.0821707456738386,
          0.0823797448802275,
          0.0811206822249375,
          0.0787285341731043,
          0.3621958121109224,
          0.0505019252611428,
          0.0127125916101132,
          0.0090508590396586,
          0.0062973349678416,
          0.0085379233209106,
          0.0329030863094958,
          0.0085017928155599,
          0.0065509907281644,
          0.0156982350698571,
          0.0102777458025686,
          0.0084044913601828,
          0.0067881442797439,
          0.010495558279736,
          0.0057241967520907,
          0.0076066644522821,
          0.0234473307819163,
          0.0109334725528838,
          0.0219060183134313,
          0.0074944915487116,
          0.0144746707736132,
          0.0263243795343743,
          0.0194223784644667,
          0.0327872883682996,
          0.0445663780548023,
          0.0891327561096047,
          0.1114159451370059,
          0.0206470965226985,
          0.0412941930453971,
          0.9496387574166784,
          0.9216335032211088,
          0.1843267006442217,
          0.9216335032211088,
          0.183652705388003,
          0.4591317634700075,
          0.2312489478172873,
          0.1849991582538298,
          0.4624978956345746,
          0.1796809584901048,
          0.4492023962252622,
          0.4374353689242412,
          0.6112119186324132,
          0.5740502383653918,
          0.6140384541581915,
          0.6081843558828768,
          0.5781025590071088,
          0.2838584344763808,
          0.6111477163128693,
          0.5322743291991974,
          0.6402545011642127,
          0.6112119186324132,
          0.1963309668907457,
          0.0792266465198586,
          0.018210094594563,
          0.0189366386375318,
          0.1472445248595876,
          0.2914547790423028,
          0.0378732772750637,
          0.0338429272182067,
          0.0305345899040369,
          0.5794132166472368
         ]
        },
        {
         "line": {
          "color": "red"
         },
         "mode": "lines",
         "name": "Gaussian Fit",
         "type": "scatter",
         "x": [
          1.7316557052860514e-8,
          0.03407911356575342,
          0.06815820981494979,
          0.10223730606414616,
          0.13631640231334252,
          0.17039549856253888,
          0.20447459481173527,
          0.23855369106093163,
          0.272632787310128,
          0.3067118835593244,
          0.34079097980852074,
          0.3748700760577171,
          0.4089491723069135,
          0.4430282685561099,
          0.47710736480530624,
          0.5111864610545026,
          0.545265557303699,
          0.5793446535528953,
          0.6134237498020917,
          0.647502846051288,
          0.6815819423004844,
          0.7156610385496808,
          0.7497401347988771,
          0.7838192310480735,
          0.81789832729727,
          0.8519774235464663,
          0.8860565197956627,
          0.920135616044859,
          0.9542147122940554,
          0.9882938085432518,
          1.0223729047924481,
          1.0564520010416445,
          1.0905310972908409,
          1.1246101935400372,
          1.1586892897892336,
          1.19276838603843,
          1.2268474822876263,
          1.2609265785368227,
          1.295005674786019,
          1.3290847710352154,
          1.3631638672844117,
          1.397242963533608,
          1.4313220597828045,
          1.4654011560320008,
          1.4994802522811972,
          1.5335593485303936,
          1.56763844477959,
          1.6017175410287863,
          1.6357966372779829,
          1.6698757335271792,
          1.7039548297763756,
          1.738033926025572,
          1.7721130222747683,
          1.8061921185239647,
          1.840271214773161,
          1.8743503110223574,
          1.9084294072715537,
          1.94250850352075,
          1.9765875997699465,
          2.010666696019143,
          2.044745792268339,
          2.0788248885175356,
          2.112903984766732,
          2.1469830810159283,
          2.1810621772651246,
          2.215141273514321,
          2.2492203697635174,
          2.2832994660127137,
          2.31737856226191,
          2.3514576585111064,
          2.385536754760303,
          2.419615851009499,
          2.4536949472586955,
          2.487774043507892,
          2.5218531397570882,
          2.5559322360062846,
          2.590011332255481,
          2.6240904285046773,
          2.6581695247538737,
          2.69224862100307,
          2.7263277172522664,
          2.7604068135014628,
          2.794485909750659,
          2.8285650059998555,
          2.862644102249052,
          2.896723198498248,
          2.9308022947474446,
          2.964881390996641,
          2.9989604872458373,
          3.0330395834950337,
          3.06711867974423,
          3.1011977759934264,
          3.1352768722426227,
          3.169355968491819,
          3.2034350647410155,
          3.237514160990212,
          3.2715932572394086,
          3.305672353488605,
          3.3397514497378014,
          3.3738305459869973
         ],
         "y": [
          0.7583707408530987,
          0.7878214882734439,
          0.8138082481551598,
          0.835919321723782,
          0.8537970539329918,
          0.8671474506594934,
          0.8757482193765149,
          0.8794549260851443,
          0.8782050302209131,
          0.8720196400250957,
          0.8610029195329282,
          0.8453391704590123,
          0.8252877032153657,
          0.8011756965138528,
          0.7733893202677167,
          0.7423634582082017,
          0.7085704119800164,
          0.672507995651179,
          0.6346874378004261,
          0.5956214979278944,
          0.5558131761807219,
          0.5157453524908426,
          0.47587163609741956,
          0.43660864248243153,
          0.39832984566501495,
          0.36136108329117367,
          0.3259777235436869,
          0.2924034397219159,
          0.2608104830037488,
          0.231321298357374,
          0.2040112940717495,
          0.17891255246531745,
          0.1560182578866188,
          0.1352876174197313,
          0.11665105854823642,
          0.10001550485013329,
          0.0852695538025801,
          0.07228840808407215,
          0.060938441512356625,
          0.05108131121698177,
          0.042577557292934165,
          0.03528965875901145,
          0.029084539191375623,
          0.023835536265005897,
          0.019423866253648586,
          0.01573962721893133,
          0.012682393295074122,
          0.010161457460862807,
          0.008095781929804414,
          0.0064137143094586966,
          0.005052524546297667,
          0.003957812946762682,
          0.003082833780389537,
          0.0023877726041930548,
          0.0018390089064717465,
          0.0014083892828843354,
          0.0010725303791896648,
          0.0008121654391286162,
          0.000611543590053731,
          0.0004578870319965433,
          0.00034090806913252594,
          0.0002523854007495087,
          0.00018579721065159182,
          0.00013600728194487988,
          0.00009899953275083068,
          0.00007165593047324602,
          0.00005157261421707747,
          0.00003690916026451771,
          0.000026266196819135997,
          0.00001858695448784489,
          0.000013078781623455539,
          0.00000915112216072436,
          0.0000063669205271499685,
          0.0000044048641267347634,
          0.0000030302859755011132,
          0.0000020729208828629223,
          0.0000014100348579126763,
          9.537289883885859e-7,
          6.414578565356671e-7,
          4.290019694092851e-7,
          2.8529782098264607e-7,
          1.8866252170407375e-7,
          1.2405687211306778e-7,
          8.111553379582103e-8,
          5.273940740162038e-8,
          3.4096866744481e-8,
          2.192005858778464e-8,
          1.4012543069526737e-8,
          8.907179859033097e-9,
          5.630040188910926e-9,
          3.5385943490170133e-9,
          2.211556687469453e-9,
          1.3744007505880784e-9,
          8.493304665738503e-10,
          5.219008859041942e-10,
          3.188947552603113e-10,
          1.9375580847206864e-10,
          1.1706042500162085e-10,
          7.032560449070192e-11,
          4.2011178329305236e-11
         ]
        }
       ],
       "layout": {
        "template": {
         "data": {
          "bar": [
           {
            "error_x": {
             "color": "#2a3f5f"
            },
            "error_y": {
             "color": "#2a3f5f"
            },
            "marker": {
             "line": {
              "color": "#E5ECF6",
              "width": 0.5
             },
             "pattern": {
              "fillmode": "overlay",
              "size": 10,
              "solidity": 0.2
             }
            },
            "type": "bar"
           }
          ],
          "barpolar": [
           {
            "marker": {
             "line": {
              "color": "#E5ECF6",
              "width": 0.5
             },
             "pattern": {
              "fillmode": "overlay",
              "size": 10,
              "solidity": 0.2
             }
            },
            "type": "barpolar"
           }
          ],
          "carpet": [
           {
            "aaxis": {
             "endlinecolor": "#2a3f5f",
             "gridcolor": "white",
             "linecolor": "white",
             "minorgridcolor": "white",
             "startlinecolor": "#2a3f5f"
            },
            "baxis": {
             "endlinecolor": "#2a3f5f",
             "gridcolor": "white",
             "linecolor": "white",
             "minorgridcolor": "white",
             "startlinecolor": "#2a3f5f"
            },
            "type": "carpet"
           }
          ],
          "choropleth": [
           {
            "colorbar": {
             "outlinewidth": 0,
             "ticks": ""
            },
            "type": "choropleth"
           }
          ],
          "contour": [
           {
            "colorbar": {
             "outlinewidth": 0,
             "ticks": ""
            },
            "colorscale": [
             [
              0,
              "#0d0887"
             ],
             [
              0.1111111111111111,
              "#46039f"
             ],
             [
              0.2222222222222222,
              "#7201a8"
             ],
             [
              0.3333333333333333,
              "#9c179e"
             ],
             [
              0.4444444444444444,
              "#bd3786"
             ],
             [
              0.5555555555555556,
              "#d8576b"
             ],
             [
              0.6666666666666666,
              "#ed7953"
             ],
             [
              0.7777777777777778,
              "#fb9f3a"
             ],
             [
              0.8888888888888888,
              "#fdca26"
             ],
             [
              1,
              "#f0f921"
             ]
            ],
            "type": "contour"
           }
          ],
          "contourcarpet": [
           {
            "colorbar": {
             "outlinewidth": 0,
             "ticks": ""
            },
            "type": "contourcarpet"
           }
          ],
          "heatmap": [
           {
            "colorbar": {
             "outlinewidth": 0,
             "ticks": ""
            },
            "colorscale": [
             [
              0,
              "#0d0887"
             ],
             [
              0.1111111111111111,
              "#46039f"
             ],
             [
              0.2222222222222222,
              "#7201a8"
             ],
             [
              0.3333333333333333,
              "#9c179e"
             ],
             [
              0.4444444444444444,
              "#bd3786"
             ],
             [
              0.5555555555555556,
              "#d8576b"
             ],
             [
              0.6666666666666666,
              "#ed7953"
             ],
             [
              0.7777777777777778,
              "#fb9f3a"
             ],
             [
              0.8888888888888888,
              "#fdca26"
             ],
             [
              1,
              "#f0f921"
             ]
            ],
            "type": "heatmap"
           }
          ],
          "heatmapgl": [
           {
            "colorbar": {
             "outlinewidth": 0,
             "ticks": ""
            },
            "colorscale": [
             [
              0,
              "#0d0887"
             ],
             [
              0.1111111111111111,
              "#46039f"
             ],
             [
              0.2222222222222222,
              "#7201a8"
             ],
             [
              0.3333333333333333,
              "#9c179e"
             ],
             [
              0.4444444444444444,
              "#bd3786"
             ],
             [
              0.5555555555555556,
              "#d8576b"
             ],
             [
              0.6666666666666666,
              "#ed7953"
             ],
             [
              0.7777777777777778,
              "#fb9f3a"
             ],
             [
              0.8888888888888888,
              "#fdca26"
             ],
             [
              1,
              "#f0f921"
             ]
            ],
            "type": "heatmapgl"
           }
          ],
          "histogram": [
           {
            "marker": {
             "pattern": {
              "fillmode": "overlay",
              "size": 10,
              "solidity": 0.2
             }
            },
            "type": "histogram"
           }
          ],
          "histogram2d": [
           {
            "colorbar": {
             "outlinewidth": 0,
             "ticks": ""
            },
            "colorscale": [
             [
              0,
              "#0d0887"
             ],
             [
              0.1111111111111111,
              "#46039f"
             ],
             [
              0.2222222222222222,
              "#7201a8"
             ],
             [
              0.3333333333333333,
              "#9c179e"
             ],
             [
              0.4444444444444444,
              "#bd3786"
             ],
             [
              0.5555555555555556,
              "#d8576b"
             ],
             [
              0.6666666666666666,
              "#ed7953"
             ],
             [
              0.7777777777777778,
              "#fb9f3a"
             ],
             [
              0.8888888888888888,
              "#fdca26"
             ],
             [
              1,
              "#f0f921"
             ]
            ],
            "type": "histogram2d"
           }
          ],
          "histogram2dcontour": [
           {
            "colorbar": {
             "outlinewidth": 0,
             "ticks": ""
            },
            "colorscale": [
             [
              0,
              "#0d0887"
             ],
             [
              0.1111111111111111,
              "#46039f"
             ],
             [
              0.2222222222222222,
              "#7201a8"
             ],
             [
              0.3333333333333333,
              "#9c179e"
             ],
             [
              0.4444444444444444,
              "#bd3786"
             ],
             [
              0.5555555555555556,
              "#d8576b"
             ],
             [
              0.6666666666666666,
              "#ed7953"
             ],
             [
              0.7777777777777778,
              "#fb9f3a"
             ],
             [
              0.8888888888888888,
              "#fdca26"
             ],
             [
              1,
              "#f0f921"
             ]
            ],
            "type": "histogram2dcontour"
           }
          ],
          "mesh3d": [
           {
            "colorbar": {
             "outlinewidth": 0,
             "ticks": ""
            },
            "type": "mesh3d"
           }
          ],
          "parcoords": [
           {
            "line": {
             "colorbar": {
              "outlinewidth": 0,
              "ticks": ""
             }
            },
            "type": "parcoords"
           }
          ],
          "pie": [
           {
            "automargin": true,
            "type": "pie"
           }
          ],
          "scatter": [
           {
            "fillpattern": {
             "fillmode": "overlay",
             "size": 10,
             "solidity": 0.2
            },
            "type": "scatter"
           }
          ],
          "scatter3d": [
           {
            "line": {
             "colorbar": {
              "outlinewidth": 0,
              "ticks": ""
             }
            },
            "marker": {
             "colorbar": {
              "outlinewidth": 0,
              "ticks": ""
             }
            },
            "type": "scatter3d"
           }
          ],
          "scattercarpet": [
           {
            "marker": {
             "colorbar": {
              "outlinewidth": 0,
              "ticks": ""
             }
            },
            "type": "scattercarpet"
           }
          ],
          "scattergeo": [
           {
            "marker": {
             "colorbar": {
              "outlinewidth": 0,
              "ticks": ""
             }
            },
            "type": "scattergeo"
           }
          ],
          "scattergl": [
           {
            "marker": {
             "colorbar": {
              "outlinewidth": 0,
              "ticks": ""
             }
            },
            "type": "scattergl"
           }
          ],
          "scattermapbox": [
           {
            "marker": {
             "colorbar": {
              "outlinewidth": 0,
              "ticks": ""
             }
            },
            "type": "scattermapbox"
           }
          ],
          "scatterpolar": [
           {
            "marker": {
             "colorbar": {
              "outlinewidth": 0,
              "ticks": ""
             }
            },
            "type": "scatterpolar"
           }
          ],
          "scatterpolargl": [
           {
            "marker": {
             "colorbar": {
              "outlinewidth": 0,
              "ticks": ""
             }
            },
            "type": "scatterpolargl"
           }
          ],
          "scatterternary": [
           {
            "marker": {
             "colorbar": {
              "outlinewidth": 0,
              "ticks": ""
             }
            },
            "type": "scatterternary"
           }
          ],
          "surface": [
           {
            "colorbar": {
             "outlinewidth": 0,
             "ticks": ""
            },
            "colorscale": [
             [
              0,
              "#0d0887"
             ],
             [
              0.1111111111111111,
              "#46039f"
             ],
             [
              0.2222222222222222,
              "#7201a8"
             ],
             [
              0.3333333333333333,
              "#9c179e"
             ],
             [
              0.4444444444444444,
              "#bd3786"
             ],
             [
              0.5555555555555556,
              "#d8576b"
             ],
             [
              0.6666666666666666,
              "#ed7953"
             ],
             [
              0.7777777777777778,
              "#fb9f3a"
             ],
             [
              0.8888888888888888,
              "#fdca26"
             ],
             [
              1,
              "#f0f921"
             ]
            ],
            "type": "surface"
           }
          ],
          "table": [
           {
            "cells": {
             "fill": {
              "color": "#EBF0F8"
             },
             "line": {
              "color": "white"
             }
            },
            "header": {
             "fill": {
              "color": "#C8D4E3"
             },
             "line": {
              "color": "white"
             }
            },
            "type": "table"
           }
          ]
         },
         "layout": {
          "annotationdefaults": {
           "arrowcolor": "#2a3f5f",
           "arrowhead": 0,
           "arrowwidth": 1
          },
          "autotypenumbers": "strict",
          "coloraxis": {
           "colorbar": {
            "outlinewidth": 0,
            "ticks": ""
           }
          },
          "colorscale": {
           "diverging": [
            [
             0,
             "#8e0152"
            ],
            [
             0.1,
             "#c51b7d"
            ],
            [
             0.2,
             "#de77ae"
            ],
            [
             0.3,
             "#f1b6da"
            ],
            [
             0.4,
             "#fde0ef"
            ],
            [
             0.5,
             "#f7f7f7"
            ],
            [
             0.6,
             "#e6f5d0"
            ],
            [
             0.7,
             "#b8e186"
            ],
            [
             0.8,
             "#7fbc41"
            ],
            [
             0.9,
             "#4d9221"
            ],
            [
             1,
             "#276419"
            ]
           ],
           "sequential": [
            [
             0,
             "#0d0887"
            ],
            [
             0.1111111111111111,
             "#46039f"
            ],
            [
             0.2222222222222222,
             "#7201a8"
            ],
            [
             0.3333333333333333,
             "#9c179e"
            ],
            [
             0.4444444444444444,
             "#bd3786"
            ],
            [
             0.5555555555555556,
             "#d8576b"
            ],
            [
             0.6666666666666666,
             "#ed7953"
            ],
            [
             0.7777777777777778,
             "#fb9f3a"
            ],
            [
             0.8888888888888888,
             "#fdca26"
            ],
            [
             1,
             "#f0f921"
            ]
           ],
           "sequentialminus": [
            [
             0,
             "#0d0887"
            ],
            [
             0.1111111111111111,
             "#46039f"
            ],
            [
             0.2222222222222222,
             "#7201a8"
            ],
            [
             0.3333333333333333,
             "#9c179e"
            ],
            [
             0.4444444444444444,
             "#bd3786"
            ],
            [
             0.5555555555555556,
             "#d8576b"
            ],
            [
             0.6666666666666666,
             "#ed7953"
            ],
            [
             0.7777777777777778,
             "#fb9f3a"
            ],
            [
             0.8888888888888888,
             "#fdca26"
            ],
            [
             1,
             "#f0f921"
            ]
           ]
          },
          "colorway": [
           "#636efa",
           "#EF553B",
           "#00cc96",
           "#ab63fa",
           "#FFA15A",
           "#19d3f3",
           "#FF6692",
           "#B6E880",
           "#FF97FF",
           "#FECB52"
          ],
          "font": {
           "color": "#2a3f5f"
          },
          "geo": {
           "bgcolor": "white",
           "lakecolor": "white",
           "landcolor": "#E5ECF6",
           "showlakes": true,
           "showland": true,
           "subunitcolor": "white"
          },
          "hoverlabel": {
           "align": "left"
          },
          "hovermode": "closest",
          "mapbox": {
           "style": "light"
          },
          "paper_bgcolor": "white",
          "plot_bgcolor": "#E5ECF6",
          "polar": {
           "angularaxis": {
            "gridcolor": "white",
            "linecolor": "white",
            "ticks": ""
           },
           "bgcolor": "#E5ECF6",
           "radialaxis": {
            "gridcolor": "white",
            "linecolor": "white",
            "ticks": ""
           }
          },
          "scene": {
           "xaxis": {
            "backgroundcolor": "#E5ECF6",
            "gridcolor": "white",
            "gridwidth": 2,
            "linecolor": "white",
            "showbackground": true,
            "ticks": "",
            "zerolinecolor": "white"
           },
           "yaxis": {
            "backgroundcolor": "#E5ECF6",
            "gridcolor": "white",
            "gridwidth": 2,
            "linecolor": "white",
            "showbackground": true,
            "ticks": "",
            "zerolinecolor": "white"
           },
           "zaxis": {
            "backgroundcolor": "#E5ECF6",
            "gridcolor": "white",
            "gridwidth": 2,
            "linecolor": "white",
            "showbackground": true,
            "ticks": "",
            "zerolinecolor": "white"
           }
          },
          "shapedefaults": {
           "line": {
            "color": "#2a3f5f"
           }
          },
          "ternary": {
           "aaxis": {
            "gridcolor": "white",
            "linecolor": "white",
            "ticks": ""
           },
           "baxis": {
            "gridcolor": "white",
            "linecolor": "white",
            "ticks": ""
           },
           "bgcolor": "#E5ECF6",
           "caxis": {
            "gridcolor": "white",
            "linecolor": "white",
            "ticks": ""
           }
          },
          "title": {
           "x": 0.05
          },
          "xaxis": {
           "automargin": true,
           "gridcolor": "white",
           "linecolor": "white",
           "ticks": "",
           "title": {
            "standoff": 15
           },
           "zerolinecolor": "white",
           "zerolinewidth": 2
          },
          "yaxis": {
           "automargin": true,
           "gridcolor": "white",
           "linecolor": "white",
           "ticks": "",
           "title": {
            "standoff": 15
           },
           "zerolinecolor": "white",
           "zerolinewidth": 2
          }
         }
        },
        "title": {
         "text": "Histogram of MIC_µmol/mL with Gaussian Fit"
        },
        "xaxis": {
         "title": {
          "text": "molar_mass"
         }
        },
        "yaxis": {
         "title": {
          "text": "Density"
         }
        }
       }
      }
     },
     "metadata": {},
     "output_type": "display_data"
    }
   ],
   "source": [
    "MIC_µmol_mL = 'MIC (µmol/mL)'  \n",
    "\n",
    "# Извлечение данных столбца\n",
    "data = ds_cleaned[MIC_µmol_mL]\n",
    "\n",
    "mu, std = norm.fit(data)\n",
    "x = np.linspace(min(data), max(data), 100)\n",
    "y = norm.pdf(x, mu, std)\n",
    "\n",
    "   # Гистограмма\n",
    "hist = go.Histogram(x=data, nbinsx=30, name='Histogram', marker=dict(color='skyblue', line = dict(color='black', width = 1.5)), histnorm='probability density', opacity=0.7)\n",
    "\n",
    "   # Кривая гауссианы\n",
    "gaussian_curve = go.Scatter(x=x, y=y, mode='lines', name='Gaussian Fit', line=dict(color='red'))\n",
    "\n",
    "   # Создаем фигуру и визуализируем\n",
    "layout = go.Layout(bargap=0.2)\n",
    "fig = go.Figure(data=[hist, gaussian_curve])\n",
    "fig.update_layout(title='Histogram of MIC_µmol/mL with Gaussian Fit', xaxis_title='molar_mass', yaxis_title='Density')\n",
    "fig.show()"
   ]
  },
  {
   "cell_type": "code",
   "execution_count": 124,
   "metadata": {},
   "outputs": [
    {
     "data": {
      "image/png": "[encoded data removed]",
      "text/plain": [
       "<Figure size 640x480 with 1 Axes>"
      ]
     },
     "metadata": {},
     "output_type": "display_data"
    }
   ],
   "source": [
    "\n",
    "sns.scatterplot(x='molar_mass', y='MIC (µg/mL)', data=ds_cleaned)\n",
    "\n",
    "plt.xlabel('molar_mass')\n",
    "plt.ylabel('MIC (µg/mL)')\n",
    "\n",
    "plt.title('График зависимости ММ от MIC(грамм)')\n",
    "plt.show()"
   ]
  },
  {
   "cell_type": "code",
   "execution_count": 112,
   "metadata": {},
   "outputs": [
    {
     "data": {
      "image/png": "[encoded data removed]",
      "text/plain": [
       "<Figure size 640x480 with 1 Axes>"
      ]
     },
     "metadata": {},
     "output_type": "display_data"
    }
   ],
   "source": [
    "\n",
    "sns.scatterplot(x='molar_mass', y='MIC (µmol/mL)', data=ds_cleaned)\n",
    "\n",
    "plt.xlabel('molar_mass')\n",
    "plt.ylabel('MIC (µmol/mL)')\n",
    "\n",
    "plt.title('График зависимости MM от MIC(моль)')\n",
    "plt.show()"
   ]
  },
  {
   "cell_type": "code",
   "execution_count": 113,
   "metadata": {},
   "outputs": [
    {
     "data": {
      "application/vnd.plotly.v1+json": {
       "config": {
        "plotlyServerURL": "https://plot.ly"
       },
       "data": [
        {
         "hovertemplate": "Molar Mass=%{x}<br>MIC (µmol/mL)=%{y}<extra></extra>",
         "legendgroup": "",
         "marker": {
          "color": "#636efa",
          "symbol": "circle"
         },
         "mode": "markers",
         "name": "",
         "orientation": "v",
         "showlegend": false,
         "type": "scatter",
         "x": [
          560.9610000000002,
          605.4120000000001,
          605.4120000000001,
          289.59300000000013,
          334.0440000000002,
          402.9250000000002,
          572.6730000000002,
          586.7000000000002,
          600.7270000000002,
          205.22099999999992,
          349.3980000000002,
          377.45200000000017,
          363.42500000000024,
          417.39500000000027,
          408.42200000000025,
          391.43500000000023,
          363.42500000000024,
          391.4790000000003,
          295.298,
          309.32500000000005,
          337.3790000000001,
          337.3790000000001,
          313.288,
          327.31500000000005,
          341.34200000000004,
          355.3690000000001,
          355.3690000000001,
          329.743,
          343.77000000000004,
          357.7970000000001,
          371.8240000000001,
          371.8240000000001,
          340.2950000000001,
          354.3220000000001,
          368.3490000000001,
          382.37600000000015,
          382.37600000000015,
          325.32400000000007,
          339.3510000000001,
          353.3780000000001,
          367.40500000000014,
          367.40500000000014,
          296.286,
          310.31300000000005,
          324.34000000000003,
          338.3670000000001,
          338.3670000000001,
          325.324,
          341.39200000000005,
          343.314,
          359.38200000000006,
          359.76900000000006,
          375.8370000000001,
          370.3210000000001,
          386.3890000000001,
          355.3500000000001,
          371.4180000000001,
          326.312,
          342.38000000000005,
          473.9160000000004,
          508.3610000000004,
          552.8120000000002,
          487.9430000000004,
          503.94200000000035,
          501.9700000000004,
          530.0240000000005,
          544.0510000000005,
          558.0780000000004,
          586.1320000000003,
          614.1860000000004,
          528.0080000000005,
          570.0890000000003,
          513.9810000000004,
          511.9650000000004,
          517.9690000000004,
          545.0390000000004,
          587.0760000000002,
          582.0310000000002,
          600.0210000000001,
          598.4860000000001,
          632.931,
          632.931,
          585.0600000000002,
          601.0590000000001,
          587.0760000000001,
          615.13,
          588.0600000000002,
          366.37700000000007,
          382.44500000000016,
          396.47200000000015,
          461.3410000000002,
          427.44200000000023,
          416.8900000000002,
          410.49900000000025,
          475.36800000000017,
          441.4690000000002,
          430.91700000000014,
          424.52600000000024,
          419.5330000000004,
          447.5870000000005,
          475.6410000000006,
          503.6950000000007,
          559.8030000000006,
          375.43600000000026,
          373.4200000000002,
          425.49600000000027,
          443.4860000000003,
          443.4860000000003,
          459.94100000000026,
          459.94100000000026,
          459.94100000000026,
          203.2489999999999,
          417.5610000000004,
          189.22199999999992,
          403.5340000000004,
          435.4590000000002,
          447.4700000000002,
          449.4860000000002,
          467.4760000000002,
          483.93100000000027,
          528.3820000000002,
          494.4830000000003,
          461.49700000000024,
          479.48700000000025,
          495.9420000000003,
          540.393,
          506.4940000000003,
          477.5400000000003,
          491.56700000000035,
          519.6210000000004,
          533.6480000000004,
          561.7020000000002,
          589.7560000000001,
          617.81,
          701.9719999999995,
          489.55100000000033,
          503.5780000000004,
          531.6320000000003,
          545.6590000000003,
          573.7130000000002,
          601.767,
          629.8209999999999,
          713.9829999999995,
          574.0559999999999,
          574.0559999999999,
          557.601,
          557.601,
          557.601,
          608.5009999999999,
          584.608,
          586.0669999999999,
          586.0669999999999,
          569.612,
          569.612,
          569.612,
          620.5119999999998,
          596.6189999999999,
          463.51300000000026,
          475.5240000000003,
          464.5010000000002,
          476.5120000000002,
          476.5120000000002,
          488.52300000000025,
          397.41000000000014,
          411.4370000000002,
          412.42500000000007,
          465.407,
          411.4370000000002,
          425.4640000000002,
          427.4360000000002,
          415.4,
          476.306,
          409.42100000000016,
          423.4480000000002,
          477.41800000000006,
          423.4480000000002,
          437.47500000000025,
          439.44700000000023,
          427.41100000000006,
          427.41100000000006,
          228.682,
          228.682,
          263.12699999999995,
          263.12699999999995,
          246.67200000000005,
          254.289,
          238.29,
          240.262,
          212.22700000000003,
          210.236,
          289.132,
          210.236,
          240.262,
          224.263,
          240.331,
          239.234,
          239.234,
          237.306,
          294.357,
          238.246,
          195.225,
          195.225,
          242.70899999999995,
          242.70899999999995,
          277.154,
          277.154,
          260.699,
          268.316,
          252.317,
          268.31600000000003,
          226.254,
          224.263,
          303.159,
          224.263,
          254.289,
          238.29,
          254.358,
          253.261,
          253.261,
          251.333,
          308.38400000000007,
          252.27299999999997,
          198.225,
          209.252,
          209.252,
          268.747,
          303.19200000000006,
          294.35400000000004,
          279.29900000000004,
          318.80699999999996,
          353.25200000000007,
          344.41400000000004,
          328.415,
          314.388,
          329.35900000000004,
          353.25199999999995,
          282.774,
          293.326,
          332.834,
          367.2790000000001,
          316.379,
          344.48300000000006,
          343.386,
          367.27900000000005,
          367.27900000000005,
          377.8310000000001,
          288.35,
          228.682,
          228.682,
          263.12699999999995,
          263.12699999999995,
          246.67200000000005,
          254.289,
          238.29,
          240.262,
          212.22700000000003,
          210.236,
          289.132,
          210.236,
          240.262,
          224.263,
          240.331,
          239.234,
          239.234,
          237.306,
          294.357,
          238.246,
          195.225,
          195.225,
          242.70899999999995,
          242.70899999999995,
          277.154,
          277.154,
          260.699,
          268.316,
          252.317,
          268.31600000000003,
          226.254,
          224.263,
          303.159,
          224.263,
          254.289,
          238.29,
          254.358,
          253.261,
          253.261,
          251.333,
          308.38400000000007,
          252.27299999999997,
          198.225,
          209.252,
          209.252,
          268.747,
          303.19200000000006,
          294.35400000000004,
          279.29900000000004,
          318.80699999999996,
          353.25200000000007,
          344.41400000000004,
          328.415,
          314.388,
          329.35900000000004,
          353.25199999999995,
          282.774,
          293.326,
          332.834,
          367.2790000000001,
          316.379,
          344.48300000000006,
          343.386,
          367.27900000000005,
          367.27900000000005,
          377.8310000000001,
          288.35,
          366.37700000000007,
          382.44500000000016,
          396.47200000000015,
          461.3410000000002,
          427.44200000000023,
          416.8900000000002,
          410.49900000000025,
          475.36800000000017,
          441.4690000000002,
          430.91700000000014,
          424.52600000000024,
          397.41000000000014,
          411.4370000000002,
          412.42500000000007,
          465.407,
          411.4370000000002,
          425.4640000000002,
          427.4360000000002,
          415.4,
          476.306,
          409.42100000000016,
          423.4480000000002,
          477.41800000000006,
          423.4480000000002,
          437.47500000000025,
          439.44700000000023,
          427.41100000000006,
          427.41100000000006,
          366.37700000000007,
          382.44500000000016,
          396.47200000000015,
          461.3410000000002,
          427.44200000000023,
          416.8900000000002,
          410.49900000000025,
          475.36800000000017,
          441.4690000000002,
          430.91700000000014,
          424.52600000000024,
          397.41000000000014,
          411.4370000000002,
          412.42500000000007,
          465.407,
          411.4370000000002,
          425.4640000000002,
          427.4360000000002,
          415.4,
          476.306,
          409.42100000000016,
          423.4480000000002,
          477.41800000000006,
          423.4480000000002,
          437.47500000000025,
          439.44700000000023,
          427.41100000000006,
          427.41100000000006,
          366.37700000000007,
          382.44500000000016,
          396.47200000000015,
          461.3410000000002,
          427.44200000000023,
          416.8900000000002,
          410.49900000000025,
          475.36800000000017,
          441.4690000000002,
          430.91700000000014,
          424.52600000000024,
          397.41000000000014,
          411.4370000000002,
          412.42500000000007,
          465.407,
          411.4370000000002,
          425.4640000000002,
          427.4360000000002,
          415.4,
          476.306,
          409.42100000000016,
          423.4480000000002,
          477.41800000000006,
          423.4480000000002,
          437.47500000000025,
          439.44700000000023,
          427.41100000000006,
          427.41100000000006,
          484.3830000000001,
          449.5180000000001,
          403.4020000000001,
          431.4560000000002,
          417.42900000000014,
          449.49600000000015,
          479.50000000000017,
          480.48800000000017,
          358.405,
          386.45900000000006,
          372.432,
          404.499,
          434.503,
          435.491,
          372.432,
          400.4860000000001,
          386.45900000000006,
          418.52600000000007,
          448.5300000000001,
          449.5180000000001,
          403.4020000000001,
          431.4560000000002,
          417.42900000000014,
          449.49600000000015,
          479.50000000000017,
          479.50000000000017,
          322.37200000000007,
          280.33099999999996,
          338.4400000000001,
          338.4400000000001,
          296.399,
          304.353,
          295.411,
          280.331,
          296.399,
          473.9160000000004,
          508.3610000000004,
          552.8120000000002,
          487.9430000000004,
          503.94200000000035,
          501.9700000000004,
          530.0240000000005,
          544.0510000000005,
          558.0780000000004,
          586.1320000000003,
          614.1860000000004,
          528.0080000000005,
          570.0890000000003,
          513.9810000000004,
          511.9650000000004,
          517.9690000000004,
          545.0390000000004,
          587.0760000000002,
          582.0310000000002,
          600.0210000000001,
          598.4860000000001,
          632.931,
          632.931,
          585.0600000000002,
          601.0590000000001,
          587.0760000000001,
          615.13,
          588.0600000000002,
          422.27500000000015,
          439.27700000000016,
          469.75900000000024,
          422.27500000000015,
          455.7320000000001,
          469.7590000000001,
          405.82000000000016,
          439.27700000000016,
          482.92400000000015,
          439.27700000000016,
          482.92400000000015,
          455.7320000000001,
          499.3790000000002,
          439.27700000000016,
          453.3040000000002,
          455.7320000000001,
          422.27500000000015,
          455.7320000000002,
          469.7590000000001,
          513.4060000000002,
          228.25500000000005,
          273.25200000000007,
          353.38500000000005,
          205.22099999999992,
          349.3980000000002,
          377.45200000000017,
          363.42500000000024,
          417.39500000000027,
          408.42200000000025,
          391.43500000000023,
          363.42500000000024,
          391.4790000000003,
          419.5330000000004,
          447.5870000000005,
          475.6410000000006,
          503.6950000000007,
          559.8030000000006,
          375.43600000000026,
          373.4200000000002,
          425.49600000000027,
          443.4860000000003,
          443.4860000000003,
          443.4860000000003,
          459.94100000000026,
          459.94100000000026,
          459.94100000000026,
          203.2489999999999,
          417.5610000000004,
          189.22199999999992,
          403.5340000000004,
          425.9210000000003,
          470.37200000000024,
          405.5030000000002,
          409.46600000000024,
          470.37200000000024,
          395.8950000000002,
          413.8850000000002,
          450.5080000000002,
          335.4360000000001,
          383.9080000000002,
          363.4900000000001,
          363.4900000000001,
          427.5330000000002,
          402.9250000000002,
          236.318,
          250.345,
          371.395,
          424.8950000000001,
          424.8950000000001,
          420.47600000000017,
          435.44700000000006,
          458.4470000000002,
          374.8060000000001,
          442.70800000000014,
          340.36100000000005,
          408.2630000000001,
          503.97300000000024,
          503.97300000000024,
          447.92900000000014,
          413.4840000000001,
          524.0270000000002,
          542.0170000000002,
          419.5330000000003,
          280.28700000000003,
          269.735,
          346.217,
          356.769,
          346.217,
          269.735,
          280.287,
          280.287,
          278.35900000000004,
          295.34200000000004,
          356.7690000000001,
          356.769,
          354.841,
          371.82400000000007,
          367.35500000000013,
          410.37400000000014,
          280.22400000000005,
          295.14400000000006,
          329.58900000000006,
          210.24,
          291.3540000000001,
          312.27900000000005,
          384.2880000000001,
          282.10100000000006,
          316.54600000000005,
          468.5600000000002,
          468.5600000000002,
          468.5600000000002,
          488.97800000000024,
          458.49600000000015,
          472.52300000000014,
          472.52300000000014,
          472.52300000000014,
          492.9410000000002,
          508.50300000000016,
          522.5300000000002,
          522.5300000000002,
          522.5300000000002,
          542.9480000000002,
          455.5210000000002,
          469.5480000000002,
          469.5480000000002,
          459.48400000000015,
          473.51100000000014,
          473.51100000000014,
          509.49100000000016,
          523.5180000000001,
          523.5180000000001,
          455.5210000000002,
          459.48400000000015,
          509.49100000000016,
          383.45100000000014,
          383.53900000000016,
          453.29600000000016,
          392.39000000000016,
          540.4010000000003,
          479.49500000000023,
          554.4280000000003,
          568.4550000000003,
          574.8460000000003,
          619.2970000000004,
          507.5490000000003,
          507.5490000000003,
          558.3910000000003,
          513.9400000000003,
          559.3990000000001,
          609.4060000000003,
          494.53000000000026,
          548.5000000000002,
          295.298,
          309.32500000000005,
          337.3790000000001,
          337.3790000000001,
          313.288,
          327.31500000000005,
          341.34200000000004,
          355.3690000000001,
          355.3690000000001,
          329.743,
          343.77000000000004,
          357.7970000000001,
          371.8240000000001,
          371.8240000000001,
          340.2950000000001,
          354.3220000000001,
          368.3490000000001,
          382.37600000000015,
          382.37600000000015,
          325.32400000000007,
          339.3510000000001,
          353.3780000000001,
          367.40500000000014,
          367.40500000000014,
          296.286,
          310.31300000000005,
          324.34000000000003,
          338.3670000000001,
          338.3670000000001,
          325.324,
          341.39200000000005,
          343.314,
          359.38200000000006,
          359.76900000000006,
          375.8370000000001,
          370.3210000000001,
          386.3890000000001,
          355.3500000000001,
          371.4180000000001,
          326.312,
          342.38000000000005,
          473.9160000000004,
          508.3610000000004,
          552.8120000000002,
          487.9430000000004,
          503.94200000000035,
          501.9700000000004,
          530.0240000000005,
          544.0510000000005,
          558.0780000000004,
          586.1320000000003,
          614.1860000000004,
          528.0080000000005,
          570.0890000000003,
          513.9810000000004,
          511.9650000000004,
          517.9690000000004,
          545.0390000000004,
          587.0760000000002,
          582.0310000000002,
          600.0210000000001,
          598.4860000000001,
          632.931,
          632.931,
          585.0600000000002,
          601.0590000000001,
          587.0760000000001,
          615.13,
          588.0600000000002,
          443.8900000000001,
          205.22099999999992,
          349.3980000000002,
          377.45200000000017,
          363.42500000000024,
          417.39500000000027,
          408.42200000000025,
          391.43500000000023,
          363.42500000000024,
          391.4790000000003,
          419.5330000000004,
          447.5870000000005,
          475.6410000000006,
          503.6950000000007,
          559.8030000000006,
          375.43600000000026,
          373.4200000000002,
          425.49600000000027,
          443.4860000000003,
          443.4860000000003,
          443.4860000000003,
          459.94100000000026,
          459.94100000000026,
          459.94100000000026,
          203.2489999999999,
          417.5610000000004,
          189.22199999999992,
          403.5340000000004,
          205.22099999999992,
          349.3980000000002,
          377.45200000000017,
          363.42500000000024,
          417.39500000000027,
          408.42200000000025,
          391.43500000000023,
          363.42500000000024,
          391.4790000000003,
          419.5330000000004,
          447.5870000000005,
          475.6410000000006,
          503.6950000000007,
          559.8030000000006,
          375.43600000000026,
          373.4200000000002,
          425.49600000000027,
          443.4860000000003,
          443.4860000000003,
          443.4860000000003,
          459.94100000000026,
          459.94100000000026,
          459.94100000000026,
          203.2489999999999,
          417.5610000000004,
          189.22199999999992,
          403.5340000000004,
          418.8400000000001,
          445.9540000000001,
          416.9120000000001,
          420.9250000000001,
          442.828,
          450.92900000000014,
          418.88400000000007,
          480.9550000000001,
          399.84100000000007,
          418.8400000000001,
          278.297,
          368.42200000000014,
          334.4050000000001,
          360.443,
          320.37800000000004,
          384.42100000000016,
          388.84000000000015,
          372.3850000000001,
          384.4210000000001,
          354.3950000000001,
          306.35100000000006,
          433.29100000000017,
          423.2850000000002,
          402.3210000000001,
          394.342,
          577.4820000000003,
          591.5090000000004,
          569.3810000000004,
          580.2800000000003,
          435.4590000000002,
          447.4700000000002,
          449.4860000000002,
          467.4760000000002,
          483.93100000000027,
          528.3820000000002,
          494.4830000000003,
          461.49700000000024,
          479.48700000000025,
          495.9420000000003,
          540.393,
          506.4940000000003,
          477.5400000000003,
          491.56700000000035,
          519.6210000000004,
          533.6480000000004,
          561.7020000000002,
          589.7560000000001,
          617.81,
          701.9719999999995,
          489.55100000000033,
          503.5780000000004,
          531.6320000000003,
          545.6590000000003,
          573.7130000000002,
          601.767,
          629.8209999999999,
          713.9829999999995,
          574.0559999999999,
          574.0559999999999,
          557.601,
          557.601,
          557.601,
          608.5009999999999,
          584.608,
          586.0669999999999,
          586.0669999999999,
          569.612,
          569.612,
          569.612,
          620.5119999999998,
          596.6189999999999,
          463.51300000000026,
          475.5240000000003,
          464.5010000000002,
          476.5120000000002,
          476.5120000000002,
          488.52300000000025,
          431.4610000000001,
          290.37,
          287.322,
          281.315,
          237.262,
          266.26000000000005,
          264.33200000000005,
          266.26000000000005,
          159.192,
          251.289,
          215.256,
          311.341,
          201.22900000000004,
          445.3910000000002,
          409.3580000000001,
          257.293,
          431.3640000000002,
          435.4830000000001,
          465.5090000000001,
          505.4430000000002,
          549.7560000000003,
          447.4540000000002,
          439.47500000000014,
          413.4370000000001,
          436.42700000000013,
          415.3650000000001,
          420.4280000000001,
          430.4200000000002,
          504.6750000000001,
          502.7470000000001,
          418.5000000000001,
          447.92900000000014,
          465.9190000000002,
          447.92900000000014,
          413.4840000000001,
          431.47400000000016,
          507.9810000000003,
          524.5060000000002,
          629.4930000000002,
          411.41200000000015,
          458.48100000000017,
          492.38000000000017,
          518.5330000000004,
          482.3740000000002,
          618.1000000000001,
          582.6670000000003,
          428.50300000000016,
          463.5480000000002,
          469.57700000000017,
          464.5360000000002,
          492.5900000000002,
          481.56300000000016,
          834.9739999999998,
          778.8660000000001,
          776.8900000000001,
          788.9480000000001,
          812.92,
          706.8000000000002,
          500.97100000000023,
          471.9730000000002,
          441.9470000000001,
          476.3920000000001,
          468.49800000000016,
          425.49200000000013,
          470.48900000000015,
          457.9460000000001,
          445.9100000000001,
          486.48800000000017,
          475.9360000000001,
          441.9470000000001,
          476.39200000000017,
          349.39400000000006,
          394.3910000000001,
          383.83900000000006,
          365.8490000000001,
          410.8460000000001,
          400.2940000000001,
          345.4310000000001,
          379.8760000000001,
          411.8960000000002,
          487.9940000000002,
          560.9610000000002,
          560.9610000000002,
          560.9610000000002,
          605.4120000000001,
          605.4120000000001,
          526.5160000000002,
          542.5150000000002,
          542.5150000000002,
          542.5150000000002,
          544.5060000000002,
          544.5060000000002,
          540.5430000000002,
          540.5430000000002,
          540.5430000000002,
          556.5420000000003,
          556.5420000000003,
          571.5130000000003,
          418.8400000000001,
          445.9540000000001,
          416.9120000000001,
          420.9250000000001,
          442.828,
          450.92900000000014,
          418.88400000000007,
          480.9550000000001,
          399.84100000000007,
          418.8400000000001,
          318.34000000000003,
          394.4380000000001,
          428.88300000000015,
          412.4280000000001,
          424.4640000000001,
          428.88300000000015,
          412.4280000000001,
          461.54400000000015,
          511.5510000000002,
          431.4710000000002
         ],
         "xaxis": "x",
         "y": [
          0.0891327561096047,
          0.0206470965226985,
          0.0103235482613492,
          0.0215820133773951,
          0.0187101100453832,
          0.0155115716324377,
          0.0034923944380126,
          0.0008522243054371,
          0.0016646496661545,
          2.494871382558316,
          0.7326887961579627,
          0.6782319341267231,
          1.4088188759716578,
          0.61332790282586,
          0.6268026697876212,
          0.6540038576008784,
          0.7044094379858288,
          1.3078607026175084,
          0.02116,
          0.0404099999999999,
          0.1482,
          0.03705,
          0.0798,
          0.0381899999999999,
          0.00915,
          0.0321749999999999,
          0.0593,
          0.0757999999999999,
          0.0363599999999999,
          0.0698,
          0.13447,
          0.03361,
          0.01833,
          0.01696,
          0.04412,
          0.03269,
          0.0326,
          0.07684,
          0.07367,
          0.03537,
          0.03402,
          0.03408,
          0.04218,
          0.01007,
          0.03854,
          0.03694,
          0.00923,
          0.04688,
          0.0376,
          0.009102,
          0.01732,
          0.06949,
          0.00415,
          0.0469799999999999,
          0.01698,
          0.01758,
          0.06731,
          0.0382999999999999,
          0.00912,
          0.000068,
          0.000031,
          0.000247,
          0.000033,
          0.000254,
          0.000016,
          0.000121,
          0.000059,
          0.000115,
          0.0002179999999999,
          0.000208,
          0.000242,
          0.000225,
          0.000249,
          0.00025,
          0.000247,
          0.00047,
          0.0002179999999999,
          0.000014,
          0.000107,
          0.000214,
          0.000006,
          0.000101,
          0.000219,
          0.000213,
          0.0002179999999999,
          0.000208,
          0.0002179999999999,
          0.6987338178979574,
          0.1673443240204473,
          0.1614237575415161,
          0.034681504570372,
          0.1497279163020947,
          0.0767588572525126,
          0.3118156195264786,
          0.0336581343296141,
          0.0362426353832318,
          0.0742602403711155,
          0.1507563729901112,
          0.0381376435226787,
          1.1439116864430814,
          0.5382210532733714,
          1.0164881525526346,
          0.9146074601243644,
          1.3637477492834988,
          1.3711102779711846,
          0.6016507793257747,
          0.5772448284726008,
          1.1544896569452017,
          1.1131862564981154,
          0.5565931282490577,
          1.1131862564981154,
          2.519077584637564,
          0.1532710190846365,
          2.7058164484045206,
          0.1585987797806379,
          0.0091857097912777,
          0.0011173933448052,
          0.0022247633964127,
          0.0342263560054419,
          0.0020664102940295,
          0.0605622447396012,
          0.0161785137203907,
          0.0002708576653802,
          0.0041711245560359,
          0.0010081824084267,
          0.0074020203814631,
          0.0039487141012529,
          0.0167525233488294,
          0.0325489709439404,
          0.1231666926471408,
          0.0599646208736844,
          0.0035606068698348,
          0.013564931937954,
          0.4143668765478061,
          0.1823434552945133,
          0.2614640762658026,
          0.0039715793779712,
          0.1203840250398771,
          0.2345787387360969,
          0.0017430317946429,
          0.1063534557395137,
          0.1016161734842121,
          0.08963798857956,
          0.0002177487910587,
          0.0034839806569393,
          0.4591096500902975,
          0.0573887062612871,
          0.0286943531306435,
          0.0002054228341448,
          0.0136843833816848,
          0.0068251582156988,
          0.0008531447769623,
          0.0004388952479933,
          0.0140446479357878,
          0.0070223239678939,
          0.0002014465473673,
          0.0033522231105613,
          0.0345189886799291,
          0.0084117731176554,
          0.0010764239474188,
          0.0005246457591833,
          0.2686186287019003,
          0.1310071378420258,
          0.0050325859943131,
          0.0777761844462213,
          0.0024246832757471,
          0.550056187380078,
          0.0194440461115553,
          0.0047007502397382,
          0.0023395315322059,
          0.1540683678382282,
          0.2687348049363224,
          0.0390795782336519,
          0.151140163609227,
          0.1340544344788005,
          0.6045606544369081,
          0.2925881478941652,
          0.0728187927099285,
          0.0023396683754044,
          0.2994775520517721,
          0.5597292309845112,
          0.5597292309845112,
          0.9729142201294434,
          0.2432285550323608,
          0.5189076992929882,
          1.0067285647432649,
          2.1486424105082045,
          1.06550349202121,
          2.412511131948338,
          1.2176791795886523,
          0.4427043703222058,
          0.6088395897943262,
          1.06550349202121,
          2.283033759469908,
          0.1331496977085769,
          0.2675205029385455,
          1.070082011754182,
          0.5393879632204832,
          0.2174230611128663,
          1.074519614180301,
          1.3113074657446535,
          1.3113074657446535,
          1.0547610513001169,
          2.1095221026002333,
          0.4618371013948923,
          0.115459275348723,
          0.2454938453925791,
          0.9540988983139284,
          1.014596717621088,
          0.238524724578482,
          0.5657358543937344,
          1.141516879734954,
          0.4222206828759826,
          0.2853792199337385,
          0.5033642823716323,
          1.0743212052541022,
          0.1258069335346244,
          0.2527037325130991,
          1.0108149300523963,
          0.5092844950722747,
          0.4150669295423886,
          2.0295473554443006,
          2.5829234455795183,
          0.6117026360560472,
          0.6117026360560472,
          0.4762843864303601,
          0.2110873637826855,
          0.4348505540947294,
          0.2291451097211232,
          0.8029936607414518,
          0.0452934449061859,
          0.0232278594946779,
          0.1948753863252287,
          0.8142804432739164,
          0.0121448024799686,
          0.0452934449061859,
          0.1131645766583915,
          0.2181872728636397,
          0.0240360059368934,
          0.087127224807299,
          0.2022890267685276,
          0.7431426224225868,
          0.0465947941966183,
          0.1742544496145981,
          0.1742544496145981,
          0.0211734876174797,
          0.4439049765909484,
          0.2798646154922556,
          0.2798646154922556,
          0.4864571100647217,
          0.1216142775161804,
          0.2594538496464941,
          0.5033642823716323,
          1.0743212052541022,
          0.532751746010605,
          1.206255565974169,
          1.2176791795886523,
          0.2213521851611029,
          0.3044197948971631,
          0.532751746010605,
          1.141516879734954,
          0.0665748488542884,
          0.2675205029385455,
          0.535041005877091,
          0.2696939816102416,
          0.1087115305564331,
          0.5372598070901505,
          0.6556537328723268,
          0.6556537328723268,
          0.2636902628250291,
          1.0547610513001169,
          0.2309185506974461,
          0.0577296376743615,
          0.2454938453925791,
          0.4770494491569642,
          0.507298358810544,
          0.119262362289241,
          0.2828679271968672,
          0.570758439867477,
          0.2111103414379913,
          0.1426896099668692,
          0.2516821411858161,
          0.5371606026270511,
          0.0629034667673122,
          0.2527037325130991,
          0.5054074650261983,
          0.2546422475361373,
          0.2075334647711943,
          1.0147736777221503,
          1.2914617227897591,
          0.3058513180280236,
          0.3058513180280236,
          0.23814219321518,
          0.2110873637826855,
          0.4348505540947294,
          0.1145725548605616,
          0.2007484151853629,
          0.0226467224530929,
          0.0116139297473389,
          0.1948753863252287,
          0.8142804432739164,
          0.0121448024799686,
          0.0226467224530929,
          0.1131645766583915,
          0.1090936364318198,
          0.0120180029684467,
          0.087127224807299,
          0.2022890267685276,
          0.3715713112112934,
          0.0232973970983091,
          0.1742544496145981,
          0.087127224807299,
          0.0211734876174797,
          0.4439049765909484,
          0.1746834544744893,
          0.1673443240204473,
          0.1614237575415161,
          0.034681504570372,
          0.0374319790755236,
          0.0767588572525126,
          0.0779539048816196,
          0.016829067164807,
          0.0724852707664637,
          0.0742602403711155,
          0.3015127459802225,
          0.0201303439772527,
          0.0097220230557776,
          0.0012123416378735,
          0.550056187380078,
          0.1555523688924427,
          0.0047007502397382,
          0.0748650090305916,
          0.038517091959557,
          0.1343674024681612,
          0.1563183129346076,
          0.0094462602255766,
          0.268108868957601,
          0.0047231301127883,
          0.0182867592433853,
          0.0182046981774821,
          0.0187173470032357,
          0.0374346940064715,
          0.1746834544744893,
          0.1673443240204473,
          0.080711878770758,
          0.034681504570372,
          0.0748639581510473,
          0.3070354290100504,
          0.6236312390529573,
          0.0084145335824035,
          0.0362426353832318,
          0.0371301201855577,
          0.0753781864950556,
          0.0805213759090108,
          0.0388880922231106,
          0.0012123416378735,
          0.275028093690039,
          0.0097220230557776,
          0.1504240076716243,
          0.0187162522576479,
          0.038517091959557,
          0.1343674024681612,
          0.0781591564673038,
          0.0755700818046135,
          0.1340544344788005,
          0.151140163609227,
          0.1462940739470826,
          0.0045511745443705,
          0.074869388012943,
          0.0187173470032357,
          0.3493669089489787,
          0.3346886480408946,
          0.3228475150830322,
          0.008670376142593,
          0.0374319790755236,
          0.0383794286262563,
          0.1559078097632393,
          0.0084145335824035,
          0.1449705415329275,
          0.0185650600927788,
          0.3015127459802225,
          0.1610427518180216,
          0.0097220230557776,
          0.0024246832757471,
          0.550056187380078,
          0.0097220230557776,
          0.018803000958953,
          0.0046790630644119,
          0.0096292729898892,
          0.0167959253085201,
          0.0097698945584129,
          0.6045606544369081,
          0.268108868957601,
          0.302280327218454,
          0.0022858449054231,
          0.5825503416794287,
          0.0187173470032357,
          0.0374346940064715,
          0.018,
          0.000028,
          0.000031,
          0.000029,
          0.000059999999999999995,
          0.000029,
          0.000026,
          0.000031,
          0.000035000000000000004,
          0.00006500000000000001,
          0.000067,
          0.000062,
          0.000029,
          0.000029,
          0.000034,
          0.000031,
          0.00006500000000000001,
          0.000059999999999999995,
          0.000056,
          0.000028,
          0.000031,
          0.000029,
          0.000059999999999999995,
          0.000029,
          0.000026,
          0.000013,
          0.1938753986078195,
          1.7836058088473985,
          2.954733483039829,
          2.954733483039829,
          3.3738305459869973,
          3.285658429520984,
          0.2115696436490178,
          0.2229507261059247,
          0.8434576364967493,
          0.000135,
          0.000252,
          0.000247,
          0.000131,
          0.000254,
          0.000127,
          0.000121,
          0.000059,
          0.000007,
          0.0002179999999999,
          0.000104,
          0.000015,
          0.000028,
          0.000031,
          0.000031,
          0.000247,
          0.00047,
          0.0002179999999999,
          0.000027,
          0.000053,
          0.000003,
          0.000013,
          0.000025,
          0.000219,
          0.000213,
          0.0002179999999999,
          0.000208,
          0.0002179999999999,
          0.0592031259250488,
          0.0569116980857181,
          0.1064375562788578,
          0.0592031259250488,
          0.0274284009022846,
          0.0266093890697144,
          0.0616036666502389,
          0.028455849042859,
          0.0129419950137081,
          0.0071139622607147,
          0.006470997506854,
          0.0137142004511423,
          0.012515544306028,
          0.0036423486774859,
          0.0035296401531863,
          0.0137142004511423,
          0.0074003907406311,
          0.0068571002255711,
          0.0133046945348572,
          0.0486944055971297,
          0.000684,
          0.00915,
          0.1768609307129617,
          1.247435691279158,
          0.7326887961579627,
          0.6782319341267231,
          0.7044094379858288,
          0.0766659878532325,
          0.0391751668617263,
          0.0817504822001098,
          0.7044094379858288,
          0.6539303513087542,
          0.0095344108806696,
          1.1439116864430814,
          0.5382210532733714,
          0.0317652547672698,
          0.1143259325155455,
          0.6818738746417494,
          0.3427775694927961,
          1.2033015586515494,
          0.5772448284726008,
          0.5772448284726008,
          0.5772448284726008,
          0.5565931282490577,
          1.1131862564981154,
          1.1131862564981154,
          0.1574423490398477,
          0.0383177547711591,
          0.3382270560505651,
          0.0792993898903189,
          0.1499,
          0.0678,
          0.0196,
          0.0779,
          0.0678,
          0.0807,
          0.0772,
          0.020809841334671,
          0.1863246640193658,
          0.1627994206945413,
          0.3438884150870724,
          0.3438884150870724,
          0.0365468864391754,
          0.0077433765589129,
          0.0338526900193806,
          0.1278236034272703,
          0.0105009491242477,
          0.0147095164687746,
          0.0073547582343873,
          0.0297282127874123,
          0.0071765335390989,
          0.0272659653133295,
          0.0166752933517606,
          0.0141176576885893,
          0.0183628559088732,
          0.0153087593046639,
          0.0154968619350639,
          0.0154968619350639,
          0.0089299866719948,
          0.009673893064786,
          0.0076331944728038,
          0.0073798423296686,
          0.0016,
          0.0891942901383224,
          0.0926835597901644,
          0.0722090480825609,
          0.070073352785696,
          0.0722090480825609,
          0.1853671195803288,
          0.178388580276645,
          0.2675828704149675,
          0.179624154419293,
          0.2539428865518618,
          0.140146705571392,
          0.1401467055713921,
          0.140908181410829,
          0.1344722234175308,
          0.0034027031073484,
          0.003046001939694,
          0.017842868562293,
          0.0169408830943539,
          0.0037926023016544,
          0.0237823439878234,
          0.0021451567508941,
          0.0160113232077725,
          0.0065055375135315,
          0.008862074221644,
          0.007897746299116,
          0.1333873996926753,
          0.1333873996926753,
          0.1333873996926753,
          0.1278176114262808,
          0.1363152568397543,
          0.1322686937990319,
          0.1322686937990319,
          0.1322686937990319,
          0.126790021523874,
          0.1229097960090697,
          0.1196103573000592,
          0.1196103573000592,
          0.1196103573000592,
          0.1151123127813344,
          0.0686027647463014,
          0.133106732432041,
          0.133106732432041,
          0.0021328272584029,
          0.1319927097786534,
          0.1319927097786534,
          0.1226714505261132,
          0.1193846247884504,
          0.1193846247884504,
          0.1372055294926029,
          0.1360221465818178,
          0.1226714505261132,
          0.001303947570876,
          0.0000417167484923306,
          0.01103,
          0.00319,
          0.00115,
          0.00032,
          0.00056,
          0.00439,
          0.00007000000000000001,
          0.00806,
          0.00063,
          0.00246,
          0.00447,
          0.00243,
          0.0022299999999999,
          0.00103,
          0.01011,
          0.00014,
          0.04233,
          0.0202049999999999,
          0.1482,
          0.03705,
          0.0798,
          0.0381899999999999,
          0.00457,
          0.07035,
          0.03517,
          0.0757999999999999,
          0.0363599999999999,
          0.0349,
          0.06723,
          0.03361,
          0.0091799999999999,
          0.01696,
          0.0339,
          0.03269,
          0.0326,
          0.03842,
          0.07367,
          0.03537,
          0.06804,
          0.06804,
          0.04218,
          0.02014,
          0.03854,
          0.03694,
          0.00461,
          0.03842,
          0.0733,
          0.009102,
          0.03478,
          0.03474,
          0.00415,
          0.03375,
          0.008087,
          0.01758,
          0.06731,
          0.0191499999999999,
          0.00455,
          0.000068,
          0.000504,
          0.000247,
          0.000016,
          0.000127,
          0.000008,
          0.000015,
          0.000029,
          0.000229,
          0.000055,
          0.000208,
          0.000029999999999999997,
          0.000056,
          0.000498,
          0.00025,
          0.000124,
          0.000235,
          0.0004359999999999,
          0.000055,
          0.000007,
          0.000214,
          0.000006,
          0.000025,
          0.000219,
          0.000213,
          0.0002179999999999,
          0.000208,
          0.0002179999999999,
          0.0035143841942823,
          2.494871382558316,
          0.7326887961579627,
          0.6782319341267231,
          0.0880511797482286,
          0.153331975706465,
          0.3134013348938106,
          0.1635009644002196,
          0.7044094379858288,
          0.6539303513087542,
          0.152550574090715,
          1.1439116864430814,
          0.5382210532733714,
          1.0164881525526346,
          0.4573037300621821,
          0.6818738746417494,
          0.3427775694927961,
          1.2033015586515494,
          0.2886224142363004,
          0.5772448284726008,
          0.0721556035590751,
          0.2782965641245288,
          0.1391482820622644,
          0.2782965641245288,
          2.519077584637564,
          0.1532710190846365,
          2.7058164484045206,
          0.1585987797806379,
          2.494871382558316,
          0.7326887961579627,
          0.3391159670633615,
          0.3522047189929144,
          0.30666395141293,
          0.1567006674469053,
          0.3270019288004392,
          0.7044094379858288,
          0.3269651756543771,
          1.22040459272572,
          0.5719558432215407,
          0.5382210532733714,
          1.0164881525526346,
          0.4573037300621821,
          0.3409369373208747,
          0.6855551389855923,
          0.6016507793257747,
          0.0360778017795375,
          0.0721556035590751,
          0.1443112071181502,
          0.2782965641245288,
          0.5565931282490577,
          0.5565931282490577,
          2.519077584637564,
          1.226168152677093,
          2.7058164484045206,
          1.2687902382451033,
          0.6112119186324132,
          0.5740502383653918,
          0.6140384541581915,
          0.6081843558828768,
          0.5781025590071088,
          0.5677168689527617,
          0.6111477163128693,
          0.5322743291991974,
          0.6402545011642127,
          0.6112119186324132,
          0.7186566869208075,
          0.339284841838978,
          0.2990385909301594,
          0.2774363769028667,
          0.1950820593174312,
          0.6503286761129072,
          0.1607344923361793,
          0.2685392805832672,
          0.6503286761129072,
          0.56434204771512,
          0.3264229592852642,
          0.4615835547011129,
          0.2362474455744946,
          0.2485577436922258,
          0.1584918674652966,
          1.7316557052860514e-8,
          5.071774055846e-7,
          0.0000158066391396973,
          0.0000155097539119045,
          0.0045928548956388,
          0.0022347866896104,
          0.0044495267928255,
          0.0342263560054419,
          0.004132820588059,
          0.1211244894792025,
          0.0323570274407815,
          0.0005417153307605,
          0.0083422491120718,
          0.0010081824084267,
          0.1184323261034099,
          0.0315897128100233,
          0.2680403735812705,
          0.5207835351030476,
          0.9853335411771263,
          0.4797169669894758,
          0.0569697099173582,
          0.054259727751816,
          0.207183438273903,
          0.3646869105890266,
          0.5229281525316052,
          0.0635452700475397,
          0.2407680500797543,
          0.4691574774721939,
          0.0278885087142874,
          0.1063534557395137,
          0.050808086742106,
          0.08963798857956,
          0.0139359226277575,
          0.1114873810220606,
          0.918219300180595,
          0.2295548250451487,
          0.0143471765653217,
          0.0065735306926364,
          0.0068421916908424,
          0.0273006328627955,
          0.0136503164313977,
          0.0280892958715757,
          0.4494287339452119,
          0.0280892958715757,
          0.0128925790315094,
          0.0067044462211226,
          0.1380759547197165,
          0.0084117731176554,
          0.0043056957896753,
          0.0020985830367335,
          0.1343093143509501,
          0.0655035689210129,
          0.0277429477982946,
          0.0000234,
          0.0000229,
          0.000022,
          0.0000191,
          0.000021,
          0.000021,
          0.000021,
          0.00001288,
          0.0000199526,
          0.000017378000000000002,
          0.0000251189,
          0.00006456539999999999,
          0.0000707946,
          0.000040738,
          0.000040738,
          0.0000691831,
          0.0000691831,
          0.000074131,
          0.0000812831,
          0.0000436516,
          0.0000707946,
          0.0000707946,
          0.0000660693,
          0.0000691831,
          0.0000660693,
          0.0000676083,
          0.0000691831,
          0.000040738,
          0.000042658,
          0.0000676083,
          0.0089299866719948,
          0.0085851832614681,
          0.0178599733439897,
          0.0193477861295721,
          0.0092705470086262,
          0.0314972410385427,
          0.0610097882579036,
          0.1016691210227913,
          0.1555618212400221,
          0.1395913898285861,
          0.1299809090539826,
          0.1234251243411701,
          0.1326771343397446,
          0.1035431160006471,
          0.1098397540962504,
          1.1948574455721424,
          0.2761310587037371,
          0.2725857527093532,
          0.2755437684054626,
          0.1299254958484743,
          0.2658011516665524,
          0.0383245466325897,
          0.0821707456738386,
          0.0823797448802275,
          0.0811206822249375,
          0.0787285341731043,
          0.3621958121109224,
          0.0505019252611428,
          0.0127125916101132,
          0.0090508590396586,
          0.0062973349678416,
          0.0085379233209106,
          0.0329030863094958,
          0.0085017928155599,
          0.0065509907281644,
          0.0156982350698571,
          0.0102777458025686,
          0.0084044913601828,
          0.0067881442797439,
          0.010495558279736,
          0.0057241967520907,
          0.0076066644522821,
          0.0234473307819163,
          0.0109334725528838,
          0.0219060183134313,
          0.0074944915487116,
          0.0144746707736132,
          0.0263243795343743,
          0.0194223784644667,
          0.0327872883682996,
          0.0445663780548023,
          0.0891327561096047,
          0.1114159451370059,
          0.0206470965226985,
          0.0412941930453971,
          0.9496387574166784,
          0.9216335032211088,
          0.1843267006442217,
          0.9216335032211088,
          0.183652705388003,
          0.4591317634700075,
          0.2312489478172873,
          0.1849991582538298,
          0.4624978956345746,
          0.1796809584901048,
          0.4492023962252622,
          0.4374353689242412,
          0.6112119186324132,
          0.5740502383653918,
          0.6140384541581915,
          0.6081843558828768,
          0.5781025590071088,
          0.2838584344763808,
          0.6111477163128693,
          0.5322743291991974,
          0.6402545011642127,
          0.6112119186324132,
          0.1963309668907457,
          0.0792266465198586,
          0.018210094594563,
          0.0189366386375318,
          0.1472445248595876,
          0.2914547790423028,
          0.0378732772750637,
          0.0338429272182067,
          0.0305345899040369,
          0.5794132166472368
         ],
         "yaxis": "y"
        }
       ],
       "layout": {
        "legend": {
         "tracegroupgap": 0
        },
        "template": {
         "data": {
          "bar": [
           {
            "error_x": {
             "color": "#2a3f5f"
            },
            "error_y": {
             "color": "#2a3f5f"
            },
            "marker": {
             "line": {
              "color": "#E5ECF6",
              "width": 0.5
             },
             "pattern": {
              "fillmode": "overlay",
              "size": 10,
              "solidity": 0.2
             }
            },
            "type": "bar"
           }
          ],
          "barpolar": [
           {
            "marker": {
             "line": {
              "color": "#E5ECF6",
              "width": 0.5
             },
             "pattern": {
              "fillmode": "overlay",
              "size": 10,
              "solidity": 0.2
             }
            },
            "type": "barpolar"
           }
          ],
          "carpet": [
           {
            "aaxis": {
             "endlinecolor": "#2a3f5f",
             "gridcolor": "white",
             "linecolor": "white",
             "minorgridcolor": "white",
             "startlinecolor": "#2a3f5f"
            },
            "baxis": {
             "endlinecolor": "#2a3f5f",
             "gridcolor": "white",
             "linecolor": "white",
             "minorgridcolor": "white",
             "startlinecolor": "#2a3f5f"
            },
            "type": "carpet"
           }
          ],
          "choropleth": [
           {
            "colorbar": {
             "outlinewidth": 0,
             "ticks": ""
            },
            "type": "choropleth"
           }
          ],
          "contour": [
           {
            "colorbar": {
             "outlinewidth": 0,
             "ticks": ""
            },
            "colorscale": [
             [
              0,
              "#0d0887"
             ],
             [
              0.1111111111111111,
              "#46039f"
             ],
             [
              0.2222222222222222,
              "#7201a8"
             ],
             [
              0.3333333333333333,
              "#9c179e"
             ],
             [
              0.4444444444444444,
              "#bd3786"
             ],
             [
              0.5555555555555556,
              "#d8576b"
             ],
             [
              0.6666666666666666,
              "#ed7953"
             ],
             [
              0.7777777777777778,
              "#fb9f3a"
             ],
             [
              0.8888888888888888,
              "#fdca26"
             ],
             [
              1,
              "#f0f921"
             ]
            ],
            "type": "contour"
           }
          ],
          "contourcarpet": [
           {
            "colorbar": {
             "outlinewidth": 0,
             "ticks": ""
            },
            "type": "contourcarpet"
           }
          ],
          "heatmap": [
           {
            "colorbar": {
             "outlinewidth": 0,
             "ticks": ""
            },
            "colorscale": [
             [
              0,
              "#0d0887"
             ],
             [
              0.1111111111111111,
              "#46039f"
             ],
             [
              0.2222222222222222,
              "#7201a8"
             ],
             [
              0.3333333333333333,
              "#9c179e"
             ],
             [
              0.4444444444444444,
              "#bd3786"
             ],
             [
              0.5555555555555556,
              "#d8576b"
             ],
             [
              0.6666666666666666,
              "#ed7953"
             ],
             [
              0.7777777777777778,
              "#fb9f3a"
             ],
             [
              0.8888888888888888,
              "#fdca26"
             ],
             [
              1,
              "#f0f921"
             ]
            ],
            "type": "heatmap"
           }
          ],
          "heatmapgl": [
           {
            "colorbar": {
             "outlinewidth": 0,
             "ticks": ""
            },
            "colorscale": [
             [
              0,
              "#0d0887"
             ],
             [
              0.1111111111111111,
              "#46039f"
             ],
             [
              0.2222222222222222,
              "#7201a8"
             ],
             [
              0.3333333333333333,
              "#9c179e"
             ],
             [
              0.4444444444444444,
              "#bd3786"
             ],
             [
              0.5555555555555556,
              "#d8576b"
             ],
             [
              0.6666666666666666,
              "#ed7953"
             ],
             [
              0.7777777777777778,
              "#fb9f3a"
             ],
             [
              0.8888888888888888,
              "#fdca26"
             ],
             [
              1,
              "#f0f921"
             ]
            ],
            "type": "heatmapgl"
           }
          ],
          "histogram": [
           {
            "marker": {
             "pattern": {
              "fillmode": "overlay",
              "size": 10,
              "solidity": 0.2
             }
            },
            "type": "histogram"
           }
          ],
          "histogram2d": [
           {
            "colorbar": {
             "outlinewidth": 0,
             "ticks": ""
            },
            "colorscale": [
             [
              0,
              "#0d0887"
             ],
             [
              0.1111111111111111,
              "#46039f"
             ],
             [
              0.2222222222222222,
              "#7201a8"
             ],
             [
              0.3333333333333333,
              "#9c179e"
             ],
             [
              0.4444444444444444,
              "#bd3786"
             ],
             [
              0.5555555555555556,
              "#d8576b"
             ],
             [
              0.6666666666666666,
              "#ed7953"
             ],
             [
              0.7777777777777778,
              "#fb9f3a"
             ],
             [
              0.8888888888888888,
              "#fdca26"
             ],
             [
              1,
              "#f0f921"
             ]
            ],
            "type": "histogram2d"
           }
          ],
          "histogram2dcontour": [
           {
            "colorbar": {
             "outlinewidth": 0,
             "ticks": ""
            },
            "colorscale": [
             [
              0,
              "#0d0887"
             ],
             [
              0.1111111111111111,
              "#46039f"
             ],
             [
              0.2222222222222222,
              "#7201a8"
             ],
             [
              0.3333333333333333,
              "#9c179e"
             ],
             [
              0.4444444444444444,
              "#bd3786"
             ],
             [
              0.5555555555555556,
              "#d8576b"
             ],
             [
              0.6666666666666666,
              "#ed7953"
             ],
             [
              0.7777777777777778,
              "#fb9f3a"
             ],
             [
              0.8888888888888888,
              "#fdca26"
             ],
             [
              1,
              "#f0f921"
             ]
            ],
            "type": "histogram2dcontour"
           }
          ],
          "mesh3d": [
           {
            "colorbar": {
             "outlinewidth": 0,
             "ticks": ""
            },
            "type": "mesh3d"
           }
          ],
          "parcoords": [
           {
            "line": {
             "colorbar": {
              "outlinewidth": 0,
              "ticks": ""
             }
            },
            "type": "parcoords"
           }
          ],
          "pie": [
           {
            "automargin": true,
            "type": "pie"
           }
          ],
          "scatter": [
           {
            "fillpattern": {
             "fillmode": "overlay",
             "size": 10,
             "solidity": 0.2
            },
            "type": "scatter"
           }
          ],
          "scatter3d": [
           {
            "line": {
             "colorbar": {
              "outlinewidth": 0,
              "ticks": ""
             }
            },
            "marker": {
             "colorbar": {
              "outlinewidth": 0,
              "ticks": ""
             }
            },
            "type": "scatter3d"
           }
          ],
          "scattercarpet": [
           {
            "marker": {
             "colorbar": {
              "outlinewidth": 0,
              "ticks": ""
             }
            },
            "type": "scattercarpet"
           }
          ],
          "scattergeo": [
           {
            "marker": {
             "colorbar": {
              "outlinewidth": 0,
              "ticks": ""
             }
            },
            "type": "scattergeo"
           }
          ],
          "scattergl": [
           {
            "marker": {
             "colorbar": {
              "outlinewidth": 0,
              "ticks": ""
             }
            },
            "type": "scattergl"
           }
          ],
          "scattermapbox": [
           {
            "marker": {
             "colorbar": {
              "outlinewidth": 0,
              "ticks": ""
             }
            },
            "type": "scattermapbox"
           }
          ],
          "scatterpolar": [
           {
            "marker": {
             "colorbar": {
              "outlinewidth": 0,
              "ticks": ""
             }
            },
            "type": "scatterpolar"
           }
          ],
          "scatterpolargl": [
           {
            "marker": {
             "colorbar": {
              "outlinewidth": 0,
              "ticks": ""
             }
            },
            "type": "scatterpolargl"
           }
          ],
          "scatterternary": [
           {
            "marker": {
             "colorbar": {
              "outlinewidth": 0,
              "ticks": ""
             }
            },
            "type": "scatterternary"
           }
          ],
          "surface": [
           {
            "colorbar": {
             "outlinewidth": 0,
             "ticks": ""
            },
            "colorscale": [
             [
              0,
              "#0d0887"
             ],
             [
              0.1111111111111111,
              "#46039f"
             ],
             [
              0.2222222222222222,
              "#7201a8"
             ],
             [
              0.3333333333333333,
              "#9c179e"
             ],
             [
              0.4444444444444444,
              "#bd3786"
             ],
             [
              0.5555555555555556,
              "#d8576b"
             ],
             [
              0.6666666666666666,
              "#ed7953"
             ],
             [
              0.7777777777777778,
              "#fb9f3a"
             ],
             [
              0.8888888888888888,
              "#fdca26"
             ],
             [
              1,
              "#f0f921"
             ]
            ],
            "type": "surface"
           }
          ],
          "table": [
           {
            "cells": {
             "fill": {
              "color": "#EBF0F8"
             },
             "line": {
              "color": "white"
             }
            },
            "header": {
             "fill": {
              "color": "#C8D4E3"
             },
             "line": {
              "color": "white"
             }
            },
            "type": "table"
           }
          ]
         },
         "layout": {
          "annotationdefaults": {
           "arrowcolor": "#2a3f5f",
           "arrowhead": 0,
           "arrowwidth": 1
          },
          "autotypenumbers": "strict",
          "coloraxis": {
           "colorbar": {
            "outlinewidth": 0,
            "ticks": ""
           }
          },
          "colorscale": {
           "diverging": [
            [
             0,
             "#8e0152"
            ],
            [
             0.1,
             "#c51b7d"
            ],
            [
             0.2,
             "#de77ae"
            ],
            [
             0.3,
             "#f1b6da"
            ],
            [
             0.4,
             "#fde0ef"
            ],
            [
             0.5,
             "#f7f7f7"
            ],
            [
             0.6,
             "#e6f5d0"
            ],
            [
             0.7,
             "#b8e186"
            ],
            [
             0.8,
             "#7fbc41"
            ],
            [
             0.9,
             "#4d9221"
            ],
            [
             1,
             "#276419"
            ]
           ],
           "sequential": [
            [
             0,
             "#0d0887"
            ],
            [
             0.1111111111111111,
             "#46039f"
            ],
            [
             0.2222222222222222,
             "#7201a8"
            ],
            [
             0.3333333333333333,
             "#9c179e"
            ],
            [
             0.4444444444444444,
             "#bd3786"
            ],
            [
             0.5555555555555556,
             "#d8576b"
            ],
            [
             0.6666666666666666,
             "#ed7953"
            ],
            [
             0.7777777777777778,
             "#fb9f3a"
            ],
            [
             0.8888888888888888,
             "#fdca26"
            ],
            [
             1,
             "#f0f921"
            ]
           ],
           "sequentialminus": [
            [
             0,
             "#0d0887"
            ],
            [
             0.1111111111111111,
             "#46039f"
            ],
            [
             0.2222222222222222,
             "#7201a8"
            ],
            [
             0.3333333333333333,
             "#9c179e"
            ],
            [
             0.4444444444444444,
             "#bd3786"
            ],
            [
             0.5555555555555556,
             "#d8576b"
            ],
            [
             0.6666666666666666,
             "#ed7953"
            ],
            [
             0.7777777777777778,
             "#fb9f3a"
            ],
            [
             0.8888888888888888,
             "#fdca26"
            ],
            [
             1,
             "#f0f921"
            ]
           ]
          },
          "colorway": [
           "#636efa",
           "#EF553B",
           "#00cc96",
           "#ab63fa",
           "#FFA15A",
           "#19d3f3",
           "#FF6692",
           "#B6E880",
           "#FF97FF",
           "#FECB52"
          ],
          "font": {
           "color": "#2a3f5f"
          },
          "geo": {
           "bgcolor": "white",
           "lakecolor": "white",
           "landcolor": "#E5ECF6",
           "showlakes": true,
           "showland": true,
           "subunitcolor": "white"
          },
          "hoverlabel": {
           "align": "left"
          },
          "hovermode": "closest",
          "mapbox": {
           "style": "light"
          },
          "paper_bgcolor": "white",
          "plot_bgcolor": "#E5ECF6",
          "polar": {
           "angularaxis": {
            "gridcolor": "white",
            "linecolor": "white",
            "ticks": ""
           },
           "bgcolor": "#E5ECF6",
           "radialaxis": {
            "gridcolor": "white",
            "linecolor": "white",
            "ticks": ""
           }
          },
          "scene": {
           "xaxis": {
            "backgroundcolor": "#E5ECF6",
            "gridcolor": "white",
            "gridwidth": 2,
            "linecolor": "white",
            "showbackground": true,
            "ticks": "",
            "zerolinecolor": "white"
           },
           "yaxis": {
            "backgroundcolor": "#E5ECF6",
            "gridcolor": "white",
            "gridwidth": 2,
            "linecolor": "white",
            "showbackground": true,
            "ticks": "",
            "zerolinecolor": "white"
           },
           "zaxis": {
            "backgroundcolor": "#E5ECF6",
            "gridcolor": "white",
            "gridwidth": 2,
            "linecolor": "white",
            "showbackground": true,
            "ticks": "",
            "zerolinecolor": "white"
           }
          },
          "shapedefaults": {
           "line": {
            "color": "#2a3f5f"
           }
          },
          "ternary": {
           "aaxis": {
            "gridcolor": "white",
            "linecolor": "white",
            "ticks": ""
           },
           "baxis": {
            "gridcolor": "white",
            "linecolor": "white",
            "ticks": ""
           },
           "bgcolor": "#E5ECF6",
           "caxis": {
            "gridcolor": "white",
            "linecolor": "white",
            "ticks": ""
           }
          },
          "title": {
           "x": 0.05
          },
          "xaxis": {
           "automargin": true,
           "gridcolor": "white",
           "linecolor": "white",
           "ticks": "",
           "title": {
            "standoff": 15
           },
           "zerolinecolor": "white",
           "zerolinewidth": 2
          },
          "yaxis": {
           "automargin": true,
           "gridcolor": "white",
           "linecolor": "white",
           "ticks": "",
           "title": {
            "standoff": 15
           },
           "zerolinecolor": "white",
           "zerolinewidth": 2
          }
         }
        },
        "title": {
         "text": "Scatter Plot: molar_mass vs MIC (µmol/mL)"
        },
        "xaxis": {
         "anchor": "y",
         "domain": [
          0,
          1
         ],
         "title": {
          "text": "Molar Mass"
         }
        },
        "yaxis": {
         "anchor": "x",
         "domain": [
          0,
          1
         ],
         "title": {
          "text": "MIC (µmol/mL)"
         }
        }
       }
      }
     },
     "metadata": {},
     "output_type": "display_data"
    }
   ],
   "source": [
    "fig = px.scatter(ds_cleaned, x='molar_mass', y='MIC (µmol/mL)',\n",
    "                 title='Scatter Plot: molar_mass vs MIC (µmol/mL)',\n",
    "                 labels={'molar_mass': 'Molar Mass', 'MIC (µmol/mL)': 'MIC (µmol/mL)'})\n",
    "\n",
    "fig.show()"
   ]
  },
  {
   "cell_type": "code",
   "execution_count": 123,
   "metadata": {},
   "outputs": [
    {
     "data": {
      "application/vnd.plotly.v1+json": {
       "config": {
        "plotlyServerURL": "https://plot.ly"
       },
       "data": [
        {
         "domain": {
          "x": [
           0,
           1
          ],
          "y": [
           0,
           1
          ]
         },
         "hole": 0.6,
         "hovertemplate": "bacteria=%{label}<extra></extra>",
         "labels": [
          "Methicillin-resistant S. aureus (ATCC 43300)",
          "Methicillin-resistant S. aureus (ATCC 43300)",
          "Methicillin-resistant S. aureus (ATCC 43300)",
          "methicillin-resistant S. aureus (MRSA)",
          "methicillin-resistant S. aureus (MRSA)",
          "methicillin-resistant S. aureus (MRSA)",
          "methicillin-resistant S. aureus (MRSA)",
          "methicillin-resistant S. aureus (MRSA)",
          "methicillin-resistant S. aureus (MRSA)",
          "MRSA",
          "MRSA",
          "MRSA",
          "MRSA",
          "MRSA",
          "MRSA",
          "MRSA",
          "MRSA",
          "MRSA",
          "MRSA",
          "MRSA",
          "MRSA",
          "MRSA",
          "MRSA",
          "MRSA",
          "MRSA",
          "MRSA",
          "MRSA",
          "MRSA",
          "MRSA",
          "MRSA",
          "MRSA",
          "MRSA",
          "MRSA",
          "MRSA",
          "MRSA",
          "MRSA",
          "MRSA",
          "MRSA",
          "MRSA",
          "MRSA",
          "MRSA",
          "MRSA",
          "MRSA",
          "MRSA",
          "MRSA",
          "MRSA",
          "MRSA",
          "MRSA",
          "MRSA",
          "MRSA",
          "MRSA",
          "MRSA",
          "MRSA",
          "MRSA",
          "MRSA",
          "MRSA",
          "MRSA",
          "MRSA",
          "MRSA",
          "MRSA N315",
          "MRSA N315",
          "MRSA N315",
          "MRSA N315",
          "MRSA N315",
          "MRSA N315",
          "MRSA N315",
          "MRSA N315",
          "MRSA N315",
          "MRSA N315",
          "MRSA N315",
          "MRSA N315",
          "MRSA N315",
          "MRSA N315",
          "MRSA N315",
          "MRSA N315",
          "MRSA N315",
          "MRSA N315",
          "MRSA N315",
          "MRSA N315",
          "MRSA N315",
          "MRSA N315",
          "MRSA N315",
          "MRSA N315",
          "MRSA N315",
          "MRSA N315",
          "MRSA N315",
          "MRSA N315",
          "MRSA, Methicillin-Resistant S. aureusN315",
          "MRSA, Methicillin-Resistant S. aureusN315",
          "MRSA, Methicillin-Resistant S. aureusN315",
          "MRSA, Methicillin-Resistant S. aureusN315",
          "MRSA, Methicillin-Resistant S. aureusN315",
          "MRSA, Methicillin-Resistant S. aureusN315",
          "MRSA, Methicillin-Resistant S. aureusN315",
          "MRSA, Methicillin-Resistant S. aureusN315",
          "MRSA, Methicillin-Resistant S. aureusN315",
          "MRSA, Methicillin-Resistant S. aureusN315",
          "MRSA, Methicillin-Resistant S. aureusN315",
          "MRSA, Methicillin-Resistant Staphylococcus aureus N315",
          "MRSA, Methicillin-Resistant Staphylococcus aureus N315",
          "MRSA, Methicillin-Resistant Staphylococcus aureus N315",
          "MRSA, Methicillin-Resistant Staphylococcus aureus N315",
          "MRSA, Methicillin-Resistant Staphylococcus aureus N315",
          "MRSA, Methicillin-Resistant Staphylococcus aureus N315",
          "MRSA, Methicillin-Resistant Staphylococcus aureus N315",
          "MRSA, Methicillin-Resistant Staphylococcus aureus N315",
          "MRSA, Methicillin-Resistant Staphylococcus aureus N315",
          "MRSA, Methicillin-Resistant Staphylococcus aureus N315",
          "MRSA, Methicillin-Resistant Staphylococcus aureus N315",
          "MRSA, Methicillin-Resistant Staphylococcus aureus N315",
          "MRSA, Methicillin-Resistant Staphylococcus aureus N315",
          "MRSA, Methicillin-Resistant Staphylococcus aureus N315",
          "MRSA, Methicillin-Resistant Staphylococcus aureus N315",
          "MRSA, Methicillin-Resistant Staphylococcus aureus N315",
          "MRSA, Methicillin-Resistant Staphylococcus aureus N315",
          "MRSA, Methicillin-Resistant Staphylococcus aureus N315",
          "MRSA, Methicillin-Resistant Staphylococcus aureus N315",
          "MRSA, Methicillin-Resistant Staphylococcus aureus N315",
          "MRSA, Methicillin-Resistant Staphylococcus aureus N315",
          "MRSA, Methicillin-Resistant Staphylococcus aureus N315",
          "MRSA, Methicillin-Resistant Staphylococcus aureus N315",
          "MRSA, Methicillin-Resistant Staphylococcus aureus N315",
          "MRSA, Methicillin-Resistant Staphylococcus aureus N315",
          "MRSA, Methicillin-Resistant Staphylococcus aureus N315",
          "MRSA, Methicillin-Resistant Staphylococcus aureus N315",
          "MRSA, Methicillin-Resistant Staphylococcus aureus N315",
          "MRSA, Methicillin-Resistant Staphylococcus aureus N315",
          "MRSA, Methicillin-Resistant Staphylococcus aureus N315",
          "MRSA, Methicillin-Resistant Staphylococcus aureus N315",
          "MRSA, Methicillin-Resistant Staphylococcus aureus N315",
          "MRSA, Methicillin-Resistant Staphylococcus aureus N315",
          "MRSA, Methicillin-Resistant Staphylococcus aureus N315",
          "MRSA, Methicillin-Resistant Staphylococcus aureus N315",
          "MRSA, Methicillin-Resistant Staphylococcus aureus N315",
          "MRSA, Methicillin-Resistant Staphylococcus aureus N315",
          "MRSA, Methicillin-Resistant Staphylococcus aureus N315",
          "MRSA, Methicillin-Resistant Staphylococcus aureus N315",
          "MRSA, Methicillin-Resistant Staphylococcus aureus N315",
          "MRSA, Methicillin-Resistant Staphylococcus aureus N315",
          "MRSA, Methicillin-Resistant Staphylococcus aureus N315",
          "MRSA, Methicillin-Resistant Staphylococcus aureus N315",
          "MRSA, Methicillin-Resistant Staphylococcus aureus N315",
          "MRSA, Methicillin-Resistant Staphylococcus aureus N315",
          "MRSA, Methicillin-Resistant Staphylococcus aureus N315",
          "MRSA, Methicillin-Resistant Staphylococcus aureus N315",
          "MRSA, Methicillin-Resistant Staphylococcus aureus N315",
          "MRSA, Methicillin-Resistant Staphylococcus aureus N315",
          "MRSA, Methicillin-Resistant Staphylococcus aureus N315",
          "MRSA, Methicillin-Resistant Staphylococcus aureus N315",
          "MRSA, Methicillin-Resistant Staphylococcus aureus N315",
          "MRSA, Methicillin-Resistant Staphylococcus aureus N315",
          "MRSA, Methicillin-Resistant Staphylococcus aureus N315",
          "MRSA, Methicillin-Resistant Staphylococcus aureus N315",
          "MRSA, Methicillin-Resistant Staphylococcus aureus N315",
          "MRSA, Methicillin-Resistant Staphylococcus aureus N315",
          "MRSA, Methicillin-Resistant Staphylococcus aureus N315",
          "MRSA, Methicillin-Resistant Staphylococcus aureus N315",
          "MRSA, Methicillin-Resistant Staphylococcus aureus N315",
          "MRSA, Methicillin-Resistant Staphylococcus aureus N315",
          "MRSA, Methicillin-Resistant Staphylococcus aureus N315",
          "MRSA, Methicillin-Resistant Staphylococcus aureus N315",
          "MRSA, Methicillin-Resistant Staphylococcus aureus N315",
          "MRSA, Methicillin-Resistant Staphylococcus aureus N315",
          "MRSA, methicillin-resistant Staphylococcus aureus N315",
          "MRSA, methicillin-resistant Staphylococcus aureus N315",
          "MRSA, methicillin-resistant Staphylococcus aureus N315",
          "MRSA, methicillin-resistant Staphylococcus aureus N315",
          "MRSA, methicillin-resistant Staphylococcus aureus N315",
          "MRSA, methicillin-resistant Staphylococcus aureus N315",
          "MRSA, methicillin-resistant Staphylococcus aureus N315",
          "MRSA, methicillin-resistant Staphylococcus aureus N315",
          "MRSA, methicillin-resistant Staphylococcus aureus N315",
          "MRSA, methicillin-resistant Staphylococcus aureus N315",
          "MRSA, methicillin-resistant Staphylococcus aureus N315",
          "MRSA, methicillin-resistant Staphylococcus aureus N315",
          "MRSA, methicillin-resistant Staphylococcus aureus N315",
          "MRSA, methicillin-resistant Staphylococcus aureus N315",
          "MRSA, methicillin-resistant Staphylococcus aureus N315",
          "MRSA, methicillin-resistant Staphylococcus aureus N315",
          "MRSA, methicillin-resistant Staphylococcus aureus N315",
          "MRSA, Methicillin-resistant strains of Staphylococcus aureus ATCC 43300",
          "MRSA, Methicillin-resistant strains of Staphylococcus aureus ATCC 43300",
          "MRSA, Methicillin-resistant strains of Staphylococcus aureus ATCC 43300",
          "MRSA, Methicillin-resistant strains of Staphylococcus aureus ATCC 43300",
          "MRSA, Methicillin-resistant strains of Staphylococcus aureus ATCC 43300",
          "MRSA, Methicillin-resistant strains of Staphylococcus aureus ATCC 43300",
          "MRSA, Methicillin-resistant strains of Staphylococcus aureus ATCC 43300",
          "MRSA, Methicillin-resistant strains of Staphylococcus aureus ATCC 43300",
          "MRSA, Methicillin-resistant strains of Staphylococcus aureus ATCC 43300",
          "MRSA, Methicillin-resistant strains of Staphylococcus aureus ATCC 43300",
          "MRSA, Methicillin-resistant strains of Staphylococcus aureus ATCC 43300",
          "MRSA, Methicillin-resistant strains of Staphylococcus aureus ATCC 43300",
          "MRSA, Methicillin-resistant strains of Staphylococcus aureus ATCC 43300",
          "MRSA, Methicillin-resistant strains of Staphylococcus aureus ATCC 43300",
          "MRSA, Methicillin-resistant strains of Staphylococcus aureus ATCC 43300",
          "MRSA, Methicillin-resistant strains of Staphylococcus aureus ATCC 43300",
          "MRSA, Methicillin-resistant strains of Staphylococcus aureus ATCC 43300",
          "MRSA, Methicillin-resistant strains of Staphylococcus aureus ATCC 43300",
          "MRSA, Methicillin-resistant strains of Staphylococcus aureus ATCC 43300",
          "MRSA, Methicillin-resistant strains of Staphylococcus aureus ATCC 43300",
          "MRSA, Methicillin-resistant strains of Staphylococcus aureus ATCC 43300",
          "MRSA, Methicillin-resistant strains of Staphylococcus aureus ATCC 43300",
          "MRSA, Methicillin-resistant strains of Staphylococcus aureus ATCC 43300",
          "MRSA, Methicillin-resistant strains of Staphylococcus aureus ATCC 43300",
          "MRSA, Methicillin-resistant strains of Staphylococcus aureus ATCC 43300",
          "MRSA, Methicillin-resistant strains of Staphylococcus aureus ATCC 43300",
          "MRSA, Methicillin-resistant strains of Staphylococcus aureus ATCC 43300",
          "MRSA, Methicillin-resistant strains of Staphylococcus aureus ATCC 43300",
          "MRSA, Methicillin-resistant strains of Staphylococcus aureus ATCC 43300",
          "MRSA, Methicillin-resistant strains of Staphylococcus aureus ATCC 43300",
          "MRSA, Methicillin-resistant strains of Staphylococcus aureus ATCC 43300",
          "MRSA, Methicillin-resistant strains of Staphylococcus aureus ATCC 43300",
          "MRSA, Methicillin-resistant strains of Staphylococcus aureus ATCC 43300",
          "MRSA, Methicillin-resistant strains of Staphylococcus aureus ATCC 43300",
          "MRSA, Methicillin-resistant strains of Staphylococcus aureus ATCC 43300",
          "MRSA, Methicillin-resistant strains of Staphylococcus aureus ATCC 43300",
          "MRSA, Methicillin-resistant strains of Staphylococcus aureus ATCC 43300",
          "MRSA, Methicillin-resistant strains of Staphylococcus aureus ATCC 43300",
          "MRSA, Methicillin-resistant strains of Staphylococcus aureus ATCC 43300",
          "MRSA, Methicillin-resistant strains of Staphylococcus aureus ATCC 43300",
          "MRSA, Methicillin-resistant strains of Staphylococcus aureus ATCC 43300",
          "MRSA, Methicillin-resistant strains of Staphylococcus aureus ATCC 43300",
          "MRSA, Methicillin-resistant strains of Staphylococcus aureus ATCC 43300",
          "MRSA, Methicillin-resistant strains of Staphylococcus aureus ATCC 43300",
          "MRSA, Methicillin-resistant strains of Staphylococcus aureus ATCC 43300",
          "MRSA, Methicillin-resistant strains of Staphylococcus aureus ATCC 43300",
          "MRSA, Methicillin-resistant strains of Staphylococcus aureus ATCC 43300",
          "MRSA, Methicillin-resistant strains of Staphylococcus aureus ATCC 43300",
          "MRSA, Methicillin-resistant strains of Staphylococcus aureus ATCC 43300",
          "MRSA, Methicillin-resistant strains of Staphylococcus aureus ATCC 43300",
          "MRSA, Methicillin-resistant strains of Staphylococcus aureus ATCC 43300",
          "MRSA, Methicillin-resistant strains of Staphylococcus aureus ATCC 43300",
          "MRSA, Methicillin-resistant strains of Staphylococcus aureus ATCC 43300",
          "MRSA, Methicillin-resistant strains of Staphylococcus aureus ATCC 43300",
          "MRSA, Methicillin-resistant strains of Staphylococcus aureus ATCC 43300",
          "MRSA, Methicillin-resistant strains of Staphylococcus aureus ATCC 43300",
          "MRSA, Methicillin-resistant strains of Staphylococcus aureus ATCC 43300",
          "MRSA, Methicillin-resistant strains of Staphylococcus aureus ATCC 43300",
          "MRSA, Methicillin-resistant strains of Staphylococcus aureus ATCC 43300",
          "MRSA, Methicillin-resistant strains of Staphylococcus aureus ATCC 43300",
          "MRSA, Methicillin-resistant strains of Staphylococcus aureus ATCC 43300",
          "MRSA, Methicillin-resistant strains of Staphylococcus aureus ATCC 43300",
          "MRSA, Methicillin-resistant strains of Staphylococcus aureus ATCC 43300",
          "MRSA, Methicillin-resistant strains of Staphylococcus aureus ATCC 43300",
          "MRSA, Methicillin-resistant strains of Staphylococcus aureus ATCC 43300",
          "MRSA, Methicillin-resistant strains of Staphylococcus aureus ATCC 43300",
          "MRSA, Methicillin-resistant strains of Staphylococcus aureus ATCC 43300",
          "MSSA, Methicillin-susceptible strains of Staphylococcus aureus ATCC 29213",
          "MSSA, Methicillin-susceptible strains of Staphylococcus aureus ATCC 29213",
          "MSSA, Methicillin-susceptible strains of Staphylococcus aureus ATCC 29213",
          "MSSA, Methicillin-susceptible strains of Staphylococcus aureus ATCC 29213",
          "MSSA, Methicillin-susceptible strains of Staphylococcus aureus ATCC 29213",
          "MSSA, Methicillin-susceptible strains of Staphylococcus aureus ATCC 29213",
          "MSSA, Methicillin-susceptible strains of Staphylococcus aureus ATCC 29213",
          "MSSA, Methicillin-susceptible strains of Staphylococcus aureus ATCC 29213",
          "MSSA, Methicillin-susceptible strains of Staphylococcus aureus ATCC 29213",
          "MSSA, Methicillin-susceptible strains of Staphylococcus aureus ATCC 29213",
          "MSSA, Methicillin-susceptible strains of Staphylococcus aureus ATCC 29213",
          "MSSA, Methicillin-susceptible strains of Staphylococcus aureus ATCC 29213",
          "MSSA, Methicillin-susceptible strains of Staphylococcus aureus ATCC 29213",
          "MSSA, Methicillin-susceptible strains of Staphylococcus aureus ATCC 29213",
          "MSSA, Methicillin-susceptible strains of Staphylococcus aureus ATCC 29213",
          "MSSA, Methicillin-susceptible strains of Staphylococcus aureus ATCC 29213",
          "MSSA, Methicillin-susceptible strains of Staphylococcus aureus ATCC 29213",
          "MSSA, Methicillin-susceptible strains of Staphylococcus aureus ATCC 29213",
          "MSSA, Methicillin-susceptible strains of Staphylococcus aureus ATCC 29213",
          "MSSA, Methicillin-susceptible strains of Staphylococcus aureus ATCC 29213",
          "MSSA, Methicillin-susceptible strains of Staphylococcus aureus ATCC 29213",
          "MSSA, Methicillin-susceptible strains of Staphylococcus aureus ATCC 29213",
          "MSSA, Methicillin-susceptible strains of Staphylococcus aureus ATCC 29213",
          "MSSA, Methicillin-susceptible strains of Staphylococcus aureus ATCC 29213",
          "MSSA, Methicillin-susceptible strains of Staphylococcus aureus ATCC 29213",
          "MSSA, Methicillin-susceptible strains of Staphylococcus aureus ATCC 29213",
          "MSSA, Methicillin-susceptible strains of Staphylococcus aureus ATCC 29213",
          "MSSA, Methicillin-susceptible strains of Staphylococcus aureus ATCC 29213",
          "MSSA, Methicillin-susceptible strains of Staphylococcus aureus ATCC 29213",
          "MSSA, Methicillin-susceptible strains of Staphylococcus aureus ATCC 29213",
          "MSSA, Methicillin-susceptible strains of Staphylococcus aureus ATCC 29213",
          "MSSA, Methicillin-susceptible strains of Staphylococcus aureus ATCC 29213",
          "MSSA, Methicillin-susceptible strains of Staphylococcus aureus ATCC 29213",
          "MSSA, Methicillin-susceptible strains of Staphylococcus aureus ATCC 29213",
          "MSSA, Methicillin-susceptible strains of Staphylococcus aureus ATCC 29213",
          "MSSA, Methicillin-susceptible strains of Staphylococcus aureus ATCC 29213",
          "MSSA, Methicillin-susceptible strains of Staphylococcus aureus ATCC 29213",
          "MSSA, Methicillin-susceptible strains of Staphylococcus aureus ATCC 29213",
          "MSSA, Methicillin-susceptible strains of Staphylococcus aureus ATCC 29213",
          "MSSA, Methicillin-susceptible strains of Staphylococcus aureus ATCC 29213",
          "MSSA, Methicillin-susceptible strains of Staphylococcus aureus ATCC 29213",
          "MSSA, Methicillin-susceptible strains of Staphylococcus aureus ATCC 29213",
          "MSSA, Methicillin-susceptible strains of Staphylococcus aureus ATCC 29213",
          "MSSA, Methicillin-susceptible strains of Staphylococcus aureus ATCC 29213",
          "MSSA, Methicillin-susceptible strains of Staphylococcus aureus ATCC 29213",
          "MSSA, Methicillin-susceptible strains of Staphylococcus aureus ATCC 29213",
          "MSSA, Methicillin-susceptible strains of Staphylococcus aureus ATCC 29213",
          "MSSA, Methicillin-susceptible strains of Staphylococcus aureus ATCC 29213",
          "MSSA, Methicillin-susceptible strains of Staphylococcus aureus ATCC 29213",
          "MSSA, Methicillin-susceptible strains of Staphylococcus aureus ATCC 29213",
          "MSSA, Methicillin-susceptible strains of Staphylococcus aureus ATCC 29213",
          "MSSA, Methicillin-susceptible strains of Staphylococcus aureus ATCC 29213",
          "MSSA, Methicillin-susceptible strains of Staphylococcus aureus ATCC 29213",
          "MSSA, Methicillin-susceptible strains of Staphylococcus aureus ATCC 29213",
          "MSSA, Methicillin-susceptible strains of Staphylococcus aureus ATCC 29213",
          "MSSA, Methicillin-susceptible strains of Staphylococcus aureus ATCC 29213",
          "MSSA, Methicillin-susceptible strains of Staphylococcus aureus ATCC 29213",
          "MSSA, Methicillin-susceptible strains of Staphylococcus aureus ATCC 29213",
          "MSSA, Methicillin-susceptible strains of Staphylococcus aureus ATCC 29213",
          "MSSA, Methicillin-susceptible strains of Staphylococcus aureus ATCC 29213",
          "MSSA, Methicillin-susceptible strains of Staphylococcus aureus ATCC 29213",
          "MSSA, Methicillin-susceptible strains of Staphylococcus aureus ATCC 29213",
          "MSSA, Methicillin-susceptible strains of Staphylococcus aureus ATCC 29213",
          "MSSA, Methicillin-susceptible strains of Staphylococcus aureus ATCC 29213",
          "MSSA, Methicillin-susceptible strains of Staphylococcus aureus ATCC 29213",
          "MSSA, Methicillin-susceptible strains of Staphylococcus aureus ATCC 29213",
          "MSSA, Methicillin-susceptible strains of Staphylococcus aureus ATCC 29213",
          "S. a. 25923, S. aureus25923",
          "S. a. 25923, S. aureus25923",
          "S. a. 25923, S. aureus25923",
          "S. a. 25923, S. aureus25923",
          "S. a. 25923, S. aureus25923",
          "S. a. 25923, S. aureus25923",
          "S. a. 25923, S. aureus25923",
          "S. a. 25923, S. aureus25923",
          "S. a. 25923, S. aureus25923",
          "S. a. 25923, S. aureus25923",
          "S. a. 25923, S. aureus25923",
          "S. A. 25923, Staphylococcus aureus ATCC 25923",
          "S. A. 25923, Staphylococcus aureus ATCC 25923",
          "S. A. 25923, Staphylococcus aureus ATCC 25923",
          "S. A. 25923, Staphylococcus aureus ATCC 25923",
          "S. A. 25923, Staphylococcus aureus ATCC 25923",
          "S. A. 25923, Staphylococcus aureus ATCC 25923",
          "S. A. 25923, Staphylococcus aureus ATCC 25923",
          "S. A. 25923, Staphylococcus aureus ATCC 25923",
          "S. A. 25923, Staphylococcus aureus ATCC 25923",
          "S. A. 25923, Staphylococcus aureus ATCC 25923",
          "S. A. 25923, Staphylococcus aureus ATCC 25923",
          "S. A. 25923, Staphylococcus aureus ATCC 25923",
          "S. A. 25923, Staphylococcus aureus ATCC 25923",
          "S. A. 25923, Staphylococcus aureus ATCC 25923",
          "S. A. 25923, Staphylococcus aureus ATCC 25923",
          "S. A. 25923, Staphylococcus aureus ATCC 25923",
          "S. A. 25923, Staphylococcus aureus ATCC 25923",
          "S. a. 29213, S. aureus29213",
          "S. a. 29213, S. aureus29213",
          "S. a. 29213, S. aureus29213",
          "S. a. 29213, S. aureus29213",
          "S. a. 29213, S. aureus29213",
          "S. a. 29213, S. aureus29213",
          "S. a. 29213, S. aureus29213",
          "S. a. 29213, S. aureus29213",
          "S. a. 29213, S. aureus29213",
          "S. a. 29213, S. aureus29213",
          "S. a. 29213, S. aureus29213",
          "S. A., 29213, Staphylococcus aureus ATCC 29213",
          "S. A., 29213, Staphylococcus aureus ATCC 29213",
          "S. A., 29213, Staphylococcus aureus ATCC 29213",
          "S. A., 29213, Staphylococcus aureus ATCC 29213",
          "S. A., 29213, Staphylococcus aureus ATCC 29213",
          "S. A., 29213, Staphylococcus aureus ATCC 29213",
          "S. A., 29213, Staphylococcus aureus ATCC 29213",
          "S. A., 29213, Staphylococcus aureus ATCC 29213",
          "S. A., 29213, Staphylococcus aureus ATCC 29213",
          "S. A., 29213, Staphylococcus aureus ATCC 29213",
          "S. A., 29213, Staphylococcus aureus ATCC 29213",
          "S. A., 29213, Staphylococcus aureus ATCC 29213",
          "S. A., 29213, Staphylococcus aureus ATCC 29213",
          "S. A., 29213, Staphylococcus aureus ATCC 29213",
          "S. A., 29213, Staphylococcus aureus ATCC 29213",
          "S. A., 29213, Staphylococcus aureus ATCC 29213",
          "S. A., 29213, Staphylococcus aureus ATCC 29213",
          "S. a., S. aureus",
          "S. a., S. aureus",
          "S. a., S. aureus",
          "S. a., S. aureus",
          "S. a., S. aureus",
          "S. a., S. aureus",
          "S. a., S. aureus",
          "S. a., S. aureus",
          "S. a., S. aureus",
          "S. a., S. aureus",
          "S. a., S. aureus",
          "S. A., Staphylococcus aureus",
          "S. A., Staphylococcus aureus",
          "S. A., Staphylococcus aureus",
          "S. A., Staphylococcus aureus",
          "S. A., Staphylococcus aureus",
          "S. A., Staphylococcus aureus",
          "S. A., Staphylococcus aureus",
          "S. A., Staphylococcus aureus",
          "S. A., Staphylococcus aureus",
          "S. A., Staphylococcus aureus",
          "S. A., Staphylococcus aureus",
          "S. A., Staphylococcus aureus",
          "S. A., Staphylococcus aureus",
          "S. A., Staphylococcus aureus",
          "S. A., Staphylococcus aureus",
          "S. A., Staphylococcus aureus",
          "S. A., Staphylococcus aureus",
          "S. aureus",
          "S. aureus",
          "S. aureus",
          "S. aureus",
          "S. aureus",
          "S. aureus",
          "S. aureus",
          "S. aureus",
          "S. aureus",
          "S. aureus",
          "S. aureus",
          "S. aureus",
          "S. aureus",
          "S. aureus",
          "S. aureus",
          "S. aureus",
          "S. aureus",
          "S. aureus",
          "S. aureus",
          "S. aureus",
          "S. aureus",
          "S. aureus",
          "S. aureus",
          "S. aureus",
          "S. aureus",
          "S. aureus",
          "S. aureus",
          "S. aureus",
          "S. aureus",
          "S. aureus",
          "S. aureus",
          "S. aureus",
          "S. aureus",
          "S. aureus",
          "S. aureus",
          "S. aureus",
          "S. aureus",
          "S. aureus",
          "S. aureus",
          "S. aureus",
          "S. aureus",
          "S. aureus",
          "S. aureus",
          "S. aureus",
          "S. aureus",
          "S. aureus",
          "S. aureus",
          "S. aureus",
          "S. aureus",
          "S. aureus",
          "S. aureus",
          "S. aureus",
          "S. aureus",
          "S. aureus",
          "S. aureus",
          "S. aureus",
          "S. aureus",
          "S. aureus",
          "S. aureus",
          "S. aureus",
          "S. aureus",
          "S. aureus",
          "S. aureus",
          "S. aureus",
          "S. aureus",
          "S. aureus",
          "S. aureus",
          "S. aureus",
          "S. aureus",
          "S. aureus",
          "S. aureus",
          "S. aureus",
          "S. aureus",
          "S. aureus",
          "S. aureus",
          "S. aureus",
          "S. aureus",
          "S. aureus",
          "S. aureus",
          "S. aureus",
          "S. aureus",
          "S. aureus",
          "S. aureus",
          "S. aureus",
          "S. aureus",
          "S. aureus",
          "S. aureus",
          "S. aureus",
          "S. aureus",
          "S. aureus",
          "S. aureus",
          "S. aureus",
          "S. aureus",
          "S. aureus",
          "S. aureus",
          "S. aureus",
          "S. aureus",
          "S. aureus",
          "S. aureus",
          "S. aureus",
          "S. aureus",
          "S. aureus",
          "S. aureus",
          "S. aureus",
          "S. aureus",
          "S. aureus",
          "S. aureus",
          "S. aureus",
          "S. aureus",
          "S. aureus",
          "S. aureus",
          "S. aureus",
          "S. aureus",
          "S. aureus",
          "S. aureus",
          "S. aureus",
          "S. aureus",
          "S. aureus",
          "S. aureus",
          "S. aureus",
          "S. aureus",
          "S. aureus",
          "S. aureus",
          "S. aureus",
          "S. aureus",
          "S. aureus",
          "S. aureus",
          "S. aureus",
          "S. aureus",
          "S. aureus",
          "S. aureus",
          "S. aureus",
          "S. aureus",
          "S. aureus",
          "S. aureus",
          "S. aureus",
          "S. aureus",
          "S. aureus",
          "S. aureus",
          "S. aureus",
          "S. aureus",
          "S. aureus",
          "S. aureus",
          "S. aureus",
          "S. aureus",
          "S. aureus",
          "S. aureus",
          "S. aureus",
          "S. aureus",
          "S. aureus",
          "S. aureus",
          "S. aureus",
          "S. aureus",
          "S. aureus",
          "S. aureus",
          "S. aureus",
          "S. aureus",
          "S. aureus",
          "S. aureus",
          "S. aureus",
          "S. aureus",
          "S. aureus",
          "S. aureus",
          "S. aureus",
          "S. aureus",
          "S. aureus",
          "S. aureus",
          "S. aureus",
          "S. aureus",
          "S. aureus",
          "S. aureus",
          "S. aureus",
          "S. aureus",
          "S. aureus",
          "S. aureus",
          "S. aureus",
          "S. aureus",
          "S. aureus",
          "S. aureus",
          "S. aureus",
          "S. aureus",
          "S. aureus",
          "S. aureus",
          "S. aureus",
          "S. aureus",
          "S. aureus",
          "S. aureus",
          "S. aureus",
          "S. aureus",
          "S. aureus",
          "S. aureus",
          "S. aureus",
          "S. aureus",
          "S. aureus",
          "S. aureus",
          "S. aureus",
          "S. aureus",
          "S. aureus",
          "S. aureus",
          "S. aureus (CIP 54127)",
          "S. aureus (CIP 54127)",
          "S. aureus (CIP 54127)",
          "S. aureus (CIP 54127)",
          "S. aureus (CIP 54127)",
          "S. aureus (CIP 54127)",
          "S. aureus (CIP 54127)",
          "S. aureus (CIP 54127)",
          "S. aureus (CIP 54127)",
          "S. aureus (CIP 54127)",
          "S. aureus (CIP 54127)",
          "S. aureus (CIP 54127)",
          "S. aureus (CIP 54127)",
          "S. aureus (CIP 54127)",
          "S. aureus (CIP 54127)",
          "S. aureus (CIP 54127)",
          "S. aureus (MTCC 3160)",
          "S. aureus (MTCC 3160)",
          "S. aureus (MTCC 3160)",
          "S. aureus (MTCC 3160)",
          "S. aureus (MTCC 3160)",
          "S. aureus (MTCC 3160)",
          "S. aureus (MTCC 3160)",
          "S. aureus (MTCC 3160)",
          "S. aureus (MTCC 3160)",
          "S. aureus (MTCC 3160)",
          "S. aureus (MTCC 3160)",
          "S. aureus (MTCC 3160)",
          "S. aureus (MTCC 3160)",
          "S. aureus (MTCC 3160)",
          "S. aureus (MTCC 3160)",
          "S. aureus (MTCC 3160)",
          "S. aureus (MTCC 3160)",
          "S. aureus (MTCC 3160)",
          "S. aureus (MTCC 3160)",
          "S. aureus (MTCC 3160)",
          "S. aureus (MTCC 3160)",
          "S. aureus (MTCC 3160)",
          "S. aureus (MTCC 3160)",
          "S. aureus (MTCC 3160)",
          "S. aureus (MTCC 3160)",
          "S. aureus (MTCC 3160)",
          "S. aureus (MTCC 3160)",
          "S. aureus (MTCC 3160)",
          "S. aureus (MTCC 3160)",
          "S. aureus (MTCC 3160)",
          "S. aureus (MTCC 3160)",
          "S. aureus (MTCC 3160)",
          "S. aureus (MTCC 3160)",
          "S. aureus (MTCC 3160)",
          "S. aureus (MTCC 3160)",
          "S. aureus (MTCC 3160)",
          "S. aureus (MTCC 3160)",
          "S. aureus (MTCC 3160)",
          "S. aureus (MTCC 3160)",
          "S. aureus (MTCC 3160)",
          "S. aureus (MTCC 3160)",
          "S. aureus ATCC 29213",
          "S. aureus ATCC 29213",
          "S. aureus ATCC 29213",
          "S. aureus ATCC 29213",
          "S. aureus ATCC 29213",
          "S. aureus ATCC 29213",
          "S. aureus ATCC 29213",
          "S. aureus ATCC 29213",
          "S. aureus ATCC 29213",
          "S. aureus ATCC 29213",
          "S. aureus ATCC 29213",
          "S. aureus ATCC 29213",
          "S. aureus ATCC 29213",
          "S. aureus ATCC 29213",
          "S. aureus ATCC 29213",
          "S. aureus ATCC 29213",
          "S. aureus ATCC 29213",
          "S. aureus ATCC 29213",
          "S. aureus ATCC 29213",
          "S. aureus ATCC 29213",
          "S. aureus ATCC 29213",
          "S. aureus ATCC 29213",
          "S. aureus ATCC 29213",
          "S. aureus ATCC 29213",
          "S. aureus ATCC 29213",
          "S. aureus ATCC 29213",
          "S. aureus ATCC 29213",
          "S. aureus ATCC 29213",
          "S. aureus ATCC 6538P",
          "S. aureus ATCC25923",
          "S. aureus ATCC25923",
          "S. aureus ATCC25923",
          "S. aureus ATCC25923",
          "S. aureus ATCC25923",
          "S. aureus ATCC25923",
          "S. aureus ATCC25923",
          "S. aureus ATCC25923",
          "S. aureus ATCC25923",
          "S. aureus ATCC25923",
          "S. aureus ATCC25923",
          "S. aureus ATCC25923",
          "S. aureus ATCC25923",
          "S. aureus ATCC25923",
          "S. aureus ATCC25923",
          "S. aureus ATCC25923",
          "S. aureus ATCC25923",
          "S. aureus ATCC25923",
          "S. aureus ATCC25923",
          "S. aureus ATCC25923",
          "S. aureus ATCC25923",
          "S. aureus ATCC25923",
          "S. aureus ATCC25923",
          "S. aureus ATCC25923",
          "S. aureus ATCC25923",
          "S. aureus ATCC25923",
          "S. aureus ATCC25923",
          "S. aureus ATCC29213",
          "S. aureus ATCC29213",
          "S. aureus ATCC29213",
          "S. aureus ATCC29213",
          "S. aureus ATCC29213",
          "S. aureus ATCC29213",
          "S. aureus ATCC29213",
          "S. aureus ATCC29213",
          "S. aureus ATCC29213",
          "S. aureus ATCC29213",
          "S. aureus ATCC29213",
          "S. aureus ATCC29213",
          "S. aureus ATCC29213",
          "S. aureus ATCC29213",
          "S. aureus ATCC29213",
          "S. aureus ATCC29213",
          "S. aureus ATCC29213",
          "S. aureus ATCC29213",
          "S. aureus ATCC29213",
          "S. aureus ATCC29213",
          "S. aureus ATCC29213",
          "S. aureus ATCC29213",
          "S. aureus ATCC29213",
          "S. aureus ATCC29213",
          "S. aureus ATCC29213",
          "S. aureus ATCC29213",
          "S. aureus ATCC29213",
          "S. aureus isolate (MRSA)",
          "S. aureus isolate (MRSA)",
          "S. aureus isolate (MRSA)",
          "S. aureus isolate (MRSA)",
          "S. aureus isolate (MRSA)",
          "S. aureus isolate (MRSA)",
          "S. aureus isolate (MRSA)",
          "S. aureus isolate (MRSA)",
          "S. aureus isolate (MRSA)",
          "S. aureus isolate (MRSA)",
          "S. aureus MTCC 96",
          "S. aureus MTCC 96",
          "S. aureus MTCC 96",
          "S. aureus MTCC 96",
          "S. aureus MTCC 96",
          "S. aureus MTCC 96",
          "S. aureus MTCC 96",
          "S. aureus MTCC 96",
          "S. aureus MTCC 96",
          "S. aureus MTCC 96",
          "S. aureus MTCC 96",
          "S. aureus MTCC 96",
          "S. aureus MTCC 96",
          "S. aureus MTCC 96",
          "S. aureus MTCC 96",
          "S. aureus Staphylococcus. aureus ATCC 25923",
          "S. aureus Staphylococcus. aureus ATCC 25924",
          "S. aureus Staphylococcus. aureus ATCC 25925",
          "S. aureus Staphylococcus. aureus ATCC 25926",
          "S. aureus, Staphylococcus aureus ATCC25923",
          "S. aureus, Staphylococcus aureus ATCC25923",
          "S. aureus, Staphylococcus aureus ATCC25923",
          "S. aureus, Staphylococcus aureus ATCC25923",
          "S. aureus, Staphylococcus aureus ATCC25923",
          "S. aureus, Staphylococcus aureus ATCC25923",
          "S. aureus, Staphylococcus aureus ATCC25923",
          "S. aureus, Staphylococcus aureus ATCC25923",
          "S. aureus, Staphylococcus aureus ATCC25923",
          "S. aureus, Staphylococcus aureus ATCC25923",
          "S. aureus, Staphylococcus aureus ATCC25923",
          "S. aureus, Staphylococcus aureus ATCC25923",
          "S. aureus, Staphylococcus aureus ATCC25923",
          "S. aureus, Staphylococcus aureus ATCC25923",
          "S. aureus, Staphylococcus aureus ATCC25923",
          "S. aureus, Staphylococcus aureus ATCC25923",
          "S. aureus, Staphylococcus aureus ATCC25923",
          "S. aureus, Staphylococcus aureus ATCC25923",
          "S. aureus, Staphylococcus aureus ATCC25923",
          "S. aureus, Staphylococcus aureus ATCC25923",
          "S. aureus, Staphylococcus aureus ATCC25923",
          "S. aureus, Staphylococcus aureus ATCC25923",
          "S. aureus, Staphylococcus aureus ATCC25923",
          "S. aureus, Staphylococcus aureus ATCC25923",
          "S. aureus, Staphylococcus aureus ATCC25923",
          "S. aureus, Staphylococcus aureus ATCC25923",
          "S. aureus, Staphylococcus aureus ATCC25923",
          "S. aureus, Staphylococcus aureus ATCC25923",
          "S. aureus, Staphylococcus aureus ATCC25923",
          "S. aureus, Staphylococcus aureus ATCC25923",
          "S. aureus, Staphylococcus aureus ATCC25923",
          "S. aureus, Staphylococcus aureus ATCC25923",
          "S. aureus, Staphylococcus aureus ATCC25923",
          "S. aureus, Staphylococcus aureus ATCC25923",
          "S. aureus, Staphylococcus aureus ATCC25923",
          "S. aureus, Staphylococcus aureus ATCC25923",
          "S. aureus, Staphylococcus aureus ATCC25923",
          "S. aureus, Staphylococcus aureus ATCC25923",
          "S. aureus, Staphylococcus aureus ATCC25923",
          "S. aureus, Staphylococcus aureus ATCC25923",
          "S. aureus, Staphylococcus aureus ATCC25923",
          "S. aureus, Staphylococcus aureus ATCC25923",
          "S. aureus, Staphylococcus aureus ATCC25923",
          "S. aureus, Staphylococcus aureus ATCC25923",
          "S. aureus, Staphylococcus aureus ATCC25923",
          "S. aureus, Staphylococcus aureus ATCC25923",
          "S. aureus, Staphylococcus aureus ATCC25923",
          "S. aureus, Staphylococcus aureus ATCC25923",
          "S. aureus(RCMB10010)",
          "Staphylococcus aureus",
          "Staphylococcus aureus",
          "Staphylococcus aureus",
          "Staphylococcus aureus",
          "Staphylococcus aureus",
          "Staphylococcus aureus",
          "Staphylococcus aureus",
          "Staphylococcus aureus",
          "Staphylococcus aureus",
          "Staphylococcus aureus",
          "Staphylococcus aureus",
          "Staphylococcus aureus",
          "Staphylococcus aureus",
          "Staphylococcus aureus",
          "Staphylococcus aureus",
          "Staphylococcus aureus",
          "Staphylococcus aureus",
          "Staphylococcus aureus",
          "Staphylococcus aureus",
          "Staphylococcus aureus",
          "Staphylococcus aureus",
          "Staphylococcus aureus",
          "Staphylococcus aureus",
          "Staphylococcus aureus",
          "Staphylococcus aureus",
          "Staphylococcus aureus",
          "Staphylococcus aureus",
          "Staphylococcus aureus",
          "Staphylococcus aureus",
          "Staphylococcus aureus",
          "Staphylococcus aureus",
          "Staphylococcus aureus",
          "Staphylococcus aureus",
          "Staphylococcus aureus",
          "Staphylococcus aureus",
          "Staphylococcus aureus",
          "Staphylococcus aureus",
          "Staphylococcus aureus",
          "Staphylococcus aureus",
          "Staphylococcus aureus",
          "Staphylococcus aureus",
          "Staphylococcus aureus",
          "Staphylococcus aureus",
          "Staphylococcus aureus",
          "Staphylococcus aureus",
          "Staphylococcus aureus",
          "Staphylococcus aureus",
          "Staphylococcus aureus",
          "Staphylococcus aureus",
          "Staphylococcus aureus",
          "Staphylococcus aureus",
          "Staphylococcus aureus",
          "Staphylococcus aureus",
          "Staphylococcus aureus",
          "Staphylococcus aureus",
          "Staphylococcus aureus",
          "Staphylococcus aureus",
          "Staphylococcus aureus",
          "Staphylococcus aureus",
          "Staphylococcus aureus",
          "Staphylococcus aureus",
          "Staphylococcus aureus",
          "Staphylococcus aureus",
          "Staphylococcus aureus",
          "Staphylococcus aureus",
          "Staphylococcus aureus",
          "Staphylococcus aureus",
          "Staphylococcus aureus",
          "Staphylococcus aureus",
          "Staphylococcus aureus",
          "Staphylococcus aureus",
          "Staphylococcus aureus",
          "Staphylococcus aureus",
          "Staphylococcus aureus",
          "Staphylococcus aureus",
          "Staphylococcus aureus",
          "Staphylococcus aureus",
          "Staphylococcus aureus",
          "Staphylococcus aureus (ATCC-29513)",
          "Staphylococcus aureus (ATCC-29513)",
          "Staphylococcus aureus (MTCC-96)",
          "Staphylococcus aureus (MTCC-96)",
          "Staphylococcus aureus (MTCC-96)",
          "Staphylococcus aureus (MTCC-96)",
          "Staphylococcus aureus (MTCC-96)",
          "Staphylococcus aureus (MTCC-96)",
          "Staphylococcus aureus (MTCC-96)",
          "Staphylococcus aureus (MTCC-96)",
          "Staphylococcus aureus (MTCC-96)",
          "Staphylococcus aureus (MTCC-96)",
          "Staphylococcus aureus (MTCC-96)",
          "Staphylococcus aureus (MTCC-96)",
          "Staphylococcus aureus (MTCC-96)",
          "Staphylococcus aureus (MTCC-96)",
          "Staphylococcus aureus (MTCC-96)",
          "Staphylococcus aureus (MTCC-96)",
          "Staphylococcus aureus (MTCC-96)",
          "Staphylococcus aureus ATCC 29213",
          "Staphylococcus aureus ATCC 29213",
          "Staphylococcus aureus ATCC 29213",
          "Staphylococcus aureus ATCC 29213",
          "Staphylococcus aureus ATCC 29213",
          "Staphylococcus aureus ATCC 29213",
          "Staphylococcus aureus ATCC 29213",
          "Staphylococcus aureus ATCC 29213",
          "Staphylococcus aureus ATCC 29213",
          "Staphylococcus aureus ATCC 29213",
          "Staphylococcus aureus ATCC 9144",
          "Staphylococcus aureus ATCC 9144",
          "Staphylococcus aureus ATCC 9144",
          "Staphylococcus aureus ATCC 9144",
          "Staphylococcus aureus ATCC 9144",
          "Staphylococcus aureus ATCC 9144",
          "Staphylococcus aureus ATCC 9144",
          "Staphylococcus aureus ATCC 9144",
          "Staphylococcus aureus ATCC 9144",
          "Staphylococcus aureus ATCC 9144"
         ],
         "legendgroup": "",
         "name": "",
         "showlegend": true,
         "type": "pie"
        }
       ],
       "layout": {
        "legend": {
         "tracegroupgap": 0
        },
        "template": {
         "data": {
          "bar": [
           {
            "error_x": {
             "color": "#2a3f5f"
            },
            "error_y": {
             "color": "#2a3f5f"
            },
            "marker": {
             "line": {
              "color": "#E5ECF6",
              "width": 0.5
             },
             "pattern": {
              "fillmode": "overlay",
              "size": 10,
              "solidity": 0.2
             }
            },
            "type": "bar"
           }
          ],
          "barpolar": [
           {
            "marker": {
             "line": {
              "color": "#E5ECF6",
              "width": 0.5
             },
             "pattern": {
              "fillmode": "overlay",
              "size": 10,
              "solidity": 0.2
             }
            },
            "type": "barpolar"
           }
          ],
          "carpet": [
           {
            "aaxis": {
             "endlinecolor": "#2a3f5f",
             "gridcolor": "white",
             "linecolor": "white",
             "minorgridcolor": "white",
             "startlinecolor": "#2a3f5f"
            },
            "baxis": {
             "endlinecolor": "#2a3f5f",
             "gridcolor": "white",
             "linecolor": "white",
             "minorgridcolor": "white",
             "startlinecolor": "#2a3f5f"
            },
            "type": "carpet"
           }
          ],
          "choropleth": [
           {
            "colorbar": {
             "outlinewidth": 0,
             "ticks": ""
            },
            "type": "choropleth"
           }
          ],
          "contour": [
           {
            "colorbar": {
             "outlinewidth": 0,
             "ticks": ""
            },
            "colorscale": [
             [
              0,
              "#0d0887"
             ],
             [
              0.1111111111111111,
              "#46039f"
             ],
             [
              0.2222222222222222,
              "#7201a8"
             ],
             [
              0.3333333333333333,
              "#9c179e"
             ],
             [
              0.4444444444444444,
              "#bd3786"
             ],
             [
              0.5555555555555556,
              "#d8576b"
             ],
             [
              0.6666666666666666,
              "#ed7953"
             ],
             [
              0.7777777777777778,
              "#fb9f3a"
             ],
             [
              0.8888888888888888,
              "#fdca26"
             ],
             [
              1,
              "#f0f921"
             ]
            ],
            "type": "contour"
           }
          ],
          "contourcarpet": [
           {
            "colorbar": {
             "outlinewidth": 0,
             "ticks": ""
            },
            "type": "contourcarpet"
           }
          ],
          "heatmap": [
           {
            "colorbar": {
             "outlinewidth": 0,
             "ticks": ""
            },
            "colorscale": [
             [
              0,
              "#0d0887"
             ],
             [
              0.1111111111111111,
              "#46039f"
             ],
             [
              0.2222222222222222,
              "#7201a8"
             ],
             [
              0.3333333333333333,
              "#9c179e"
             ],
             [
              0.4444444444444444,
              "#bd3786"
             ],
             [
              0.5555555555555556,
              "#d8576b"
             ],
             [
              0.6666666666666666,
              "#ed7953"
             ],
             [
              0.7777777777777778,
              "#fb9f3a"
             ],
             [
              0.8888888888888888,
              "#fdca26"
             ],
             [
              1,
              "#f0f921"
             ]
            ],
            "type": "heatmap"
           }
          ],
          "heatmapgl": [
           {
            "colorbar": {
             "outlinewidth": 0,
             "ticks": ""
            },
            "colorscale": [
             [
              0,
              "#0d0887"
             ],
             [
              0.1111111111111111,
              "#46039f"
             ],
             [
              0.2222222222222222,
              "#7201a8"
             ],
             [
              0.3333333333333333,
              "#9c179e"
             ],
             [
              0.4444444444444444,
              "#bd3786"
             ],
             [
              0.5555555555555556,
              "#d8576b"
             ],
             [
              0.6666666666666666,
              "#ed7953"
             ],
             [
              0.7777777777777778,
              "#fb9f3a"
             ],
             [
              0.8888888888888888,
              "#fdca26"
             ],
             [
              1,
              "#f0f921"
             ]
            ],
            "type": "heatmapgl"
           }
          ],
          "histogram": [
           {
            "marker": {
             "pattern": {
              "fillmode": "overlay",
              "size": 10,
              "solidity": 0.2
             }
            },
            "type": "histogram"
           }
          ],
          "histogram2d": [
           {
            "colorbar": {
             "outlinewidth": 0,
             "ticks": ""
            },
            "colorscale": [
             [
              0,
              "#0d0887"
             ],
             [
              0.1111111111111111,
              "#46039f"
             ],
             [
              0.2222222222222222,
              "#7201a8"
             ],
             [
              0.3333333333333333,
              "#9c179e"
             ],
             [
              0.4444444444444444,
              "#bd3786"
             ],
             [
              0.5555555555555556,
              "#d8576b"
             ],
             [
              0.6666666666666666,
              "#ed7953"
             ],
             [
              0.7777777777777778,
              "#fb9f3a"
             ],
             [
              0.8888888888888888,
              "#fdca26"
             ],
             [
              1,
              "#f0f921"
             ]
            ],
            "type": "histogram2d"
           }
          ],
          "histogram2dcontour": [
           {
            "colorbar": {
             "outlinewidth": 0,
             "ticks": ""
            },
            "colorscale": [
             [
              0,
              "#0d0887"
             ],
             [
              0.1111111111111111,
              "#46039f"
             ],
             [
              0.2222222222222222,
              "#7201a8"
             ],
             [
              0.3333333333333333,
              "#9c179e"
             ],
             [
              0.4444444444444444,
              "#bd3786"
             ],
             [
              0.5555555555555556,
              "#d8576b"
             ],
             [
              0.6666666666666666,
              "#ed7953"
             ],
             [
              0.7777777777777778,
              "#fb9f3a"
             ],
             [
              0.8888888888888888,
              "#fdca26"
             ],
             [
              1,
              "#f0f921"
             ]
            ],
            "type": "histogram2dcontour"
           }
          ],
          "mesh3d": [
           {
            "colorbar": {
             "outlinewidth": 0,
             "ticks": ""
            },
            "type": "mesh3d"
           }
          ],
          "parcoords": [
           {
            "line": {
             "colorbar": {
              "outlinewidth": 0,
              "ticks": ""
             }
            },
            "type": "parcoords"
           }
          ],
          "pie": [
           {
            "automargin": true,
            "type": "pie"
           }
          ],
          "scatter": [
           {
            "fillpattern": {
             "fillmode": "overlay",
             "size": 10,
             "solidity": 0.2
            },
            "type": "scatter"
           }
          ],
          "scatter3d": [
           {
            "line": {
             "colorbar": {
              "outlinewidth": 0,
              "ticks": ""
             }
            },
            "marker": {
             "colorbar": {
              "outlinewidth": 0,
              "ticks": ""
             }
            },
            "type": "scatter3d"
           }
          ],
          "scattercarpet": [
           {
            "marker": {
             "colorbar": {
              "outlinewidth": 0,
              "ticks": ""
             }
            },
            "type": "scattercarpet"
           }
          ],
          "scattergeo": [
           {
            "marker": {
             "colorbar": {
              "outlinewidth": 0,
              "ticks": ""
             }
            },
            "type": "scattergeo"
           }
          ],
          "scattergl": [
           {
            "marker": {
             "colorbar": {
              "outlinewidth": 0,
              "ticks": ""
             }
            },
            "type": "scattergl"
           }
          ],
          "scattermapbox": [
           {
            "marker": {
             "colorbar": {
              "outlinewidth": 0,
              "ticks": ""
             }
            },
            "type": "scattermapbox"
           }
          ],
          "scatterpolar": [
           {
            "marker": {
             "colorbar": {
              "outlinewidth": 0,
              "ticks": ""
             }
            },
            "type": "scatterpolar"
           }
          ],
          "scatterpolargl": [
           {
            "marker": {
             "colorbar": {
              "outlinewidth": 0,
              "ticks": ""
             }
            },
            "type": "scatterpolargl"
           }
          ],
          "scatterternary": [
           {
            "marker": {
             "colorbar": {
              "outlinewidth": 0,
              "ticks": ""
             }
            },
            "type": "scatterternary"
           }
          ],
          "surface": [
           {
            "colorbar": {
             "outlinewidth": 0,
             "ticks": ""
            },
            "colorscale": [
             [
              0,
              "#0d0887"
             ],
             [
              0.1111111111111111,
              "#46039f"
             ],
             [
              0.2222222222222222,
              "#7201a8"
             ],
             [
              0.3333333333333333,
              "#9c179e"
             ],
             [
              0.4444444444444444,
              "#bd3786"
             ],
             [
              0.5555555555555556,
              "#d8576b"
             ],
             [
              0.6666666666666666,
              "#ed7953"
             ],
             [
              0.7777777777777778,
              "#fb9f3a"
             ],
             [
              0.8888888888888888,
              "#fdca26"
             ],
             [
              1,
              "#f0f921"
             ]
            ],
            "type": "surface"
           }
          ],
          "table": [
           {
            "cells": {
             "fill": {
              "color": "#EBF0F8"
             },
             "line": {
              "color": "white"
             }
            },
            "header": {
             "fill": {
              "color": "#C8D4E3"
             },
             "line": {
              "color": "white"
             }
            },
            "type": "table"
           }
          ]
         },
         "layout": {
          "annotationdefaults": {
           "arrowcolor": "#2a3f5f",
           "arrowhead": 0,
           "arrowwidth": 1
          },
          "autotypenumbers": "strict",
          "coloraxis": {
           "colorbar": {
            "outlinewidth": 0,
            "ticks": ""
           }
          },
          "colorscale": {
           "diverging": [
            [
             0,
             "#8e0152"
            ],
            [
             0.1,
             "#c51b7d"
            ],
            [
             0.2,
             "#de77ae"
            ],
            [
             0.3,
             "#f1b6da"
            ],
            [
             0.4,
             "#fde0ef"
            ],
            [
             0.5,
             "#f7f7f7"
            ],
            [
             0.6,
             "#e6f5d0"
            ],
            [
             0.7,
             "#b8e186"
            ],
            [
             0.8,
             "#7fbc41"
            ],
            [
             0.9,
             "#4d9221"
            ],
            [
             1,
             "#276419"
            ]
           ],
           "sequential": [
            [
             0,
             "#0d0887"
            ],
            [
             0.1111111111111111,
             "#46039f"
            ],
            [
             0.2222222222222222,
             "#7201a8"
            ],
            [
             0.3333333333333333,
             "#9c179e"
            ],
            [
             0.4444444444444444,
             "#bd3786"
            ],
            [
             0.5555555555555556,
             "#d8576b"
            ],
            [
             0.6666666666666666,
             "#ed7953"
            ],
            [
             0.7777777777777778,
             "#fb9f3a"
            ],
            [
             0.8888888888888888,
             "#fdca26"
            ],
            [
             1,
             "#f0f921"
            ]
           ],
           "sequentialminus": [
            [
             0,
             "#0d0887"
            ],
            [
             0.1111111111111111,
             "#46039f"
            ],
            [
             0.2222222222222222,
             "#7201a8"
            ],
            [
             0.3333333333333333,
             "#9c179e"
            ],
            [
             0.4444444444444444,
             "#bd3786"
            ],
            [
             0.5555555555555556,
             "#d8576b"
            ],
            [
             0.6666666666666666,
             "#ed7953"
            ],
            [
             0.7777777777777778,
             "#fb9f3a"
            ],
            [
             0.8888888888888888,
             "#fdca26"
            ],
            [
             1,
             "#f0f921"
            ]
           ]
          },
          "colorway": [
           "#636efa",
           "#EF553B",
           "#00cc96",
           "#ab63fa",
           "#FFA15A",
           "#19d3f3",
           "#FF6692",
           "#B6E880",
           "#FF97FF",
           "#FECB52"
          ],
          "font": {
           "color": "#2a3f5f"
          },
          "geo": {
           "bgcolor": "white",
           "lakecolor": "white",
           "landcolor": "#E5ECF6",
           "showlakes": true,
           "showland": true,
           "subunitcolor": "white"
          },
          "hoverlabel": {
           "align": "left"
          },
          "hovermode": "closest",
          "mapbox": {
           "style": "light"
          },
          "paper_bgcolor": "white",
          "plot_bgcolor": "#E5ECF6",
          "polar": {
           "angularaxis": {
            "gridcolor": "white",
            "linecolor": "white",
            "ticks": ""
           },
           "bgcolor": "#E5ECF6",
           "radialaxis": {
            "gridcolor": "white",
            "linecolor": "white",
            "ticks": ""
           }
          },
          "scene": {
           "xaxis": {
            "backgroundcolor": "#E5ECF6",
            "gridcolor": "white",
            "gridwidth": 2,
            "linecolor": "white",
            "showbackground": true,
            "ticks": "",
            "zerolinecolor": "white"
           },
           "yaxis": {
            "backgroundcolor": "#E5ECF6",
            "gridcolor": "white",
            "gridwidth": 2,
            "linecolor": "white",
            "showbackground": true,
            "ticks": "",
            "zerolinecolor": "white"
           },
           "zaxis": {
            "backgroundcolor": "#E5ECF6",
            "gridcolor": "white",
            "gridwidth": 2,
            "linecolor": "white",
            "showbackground": true,
            "ticks": "",
            "zerolinecolor": "white"
           }
          },
          "shapedefaults": {
           "line": {
            "color": "#2a3f5f"
           }
          },
          "ternary": {
           "aaxis": {
            "gridcolor": "white",
            "linecolor": "white",
            "ticks": ""
           },
           "baxis": {
            "gridcolor": "white",
            "linecolor": "white",
            "ticks": ""
           },
           "bgcolor": "#E5ECF6",
           "caxis": {
            "gridcolor": "white",
            "linecolor": "white",
            "ticks": ""
           }
          },
          "title": {
           "x": 0.05
          },
          "xaxis": {
           "automargin": true,
           "gridcolor": "white",
           "linecolor": "white",
           "ticks": "",
           "title": {
            "standoff": 15
           },
           "zerolinecolor": "white",
           "zerolinewidth": 2
          },
          "yaxis": {
           "automargin": true,
           "gridcolor": "white",
           "linecolor": "white",
           "ticks": "",
           "title": {
            "standoff": 15
           },
           "zerolinecolor": "white",
           "zerolinewidth": 2
          }
         }
        },
        "title": {
         "text": "Распределение бактерий"
        }
       }
      }
     },
     "metadata": {},
     "output_type": "display_data"
    }
   ],
   "source": [
    "fig = px.pie(ds_cleaned, names='bacteria', \n",
    "             title='Распределение бактерий', \n",
    "             hole=0.6)\n",
    "\n",
    "fig.show()"
   ]
  }
 ],
 "metadata": {
  "kernelspec": {
   "display_name": "Python 3",
   "language": "python",
   "name": "python3"
  },
  "language_info": {
   "codemirror_mode": {
    "name": "ipython",
    "version": 3
   },
   "file_extension": ".py",
   "mimetype": "text/x-python",
   "name": "python",
   "nbconvert_exporter": "python",
   "pygments_lexer": "ipython3",
   "version": "3.12.4"
  }
 },
 "nbformat": 4,
 "nbformat_minor": 2
}
